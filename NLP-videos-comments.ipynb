{
 "cells": [
  {
   "cell_type": "markdown",
   "metadata": {},
   "source": [
    "## Classifying YouTube videos for mood by NLP on video comments--a challenging Data Science problem"
   ]
  },
  {
   "cell_type": "markdown",
   "metadata": {},
   "source": [
    "#### Our approach to this challenge was composed of multiple non-trivial steps: deciding on NLP method, preprocessing highly-varied real-world text data, applying the NLP method, and engineering additional data features, due to small video sample size.  "
   ]
  },
  {
   "cell_type": "markdown",
   "metadata": {},
   "source": [
    "First, two notes: we started with no video data and had to manually label mood for 200+ videos. And we realized that this might not lead to highly accurate classification. For the learning, it was worth seeing it through, however."
   ]
  },
  {
   "cell_type": "markdown",
   "metadata": {},
   "source": [
    "#### For the NLP method, we initially considered Doc2Vec. Given the success of Word2Vec for word embedding and discovering context in text, and that Doc2Vec is built on top of it, Doc2Vec seemed a potentially good choice. Ultimately, due to time constraints, we elected to use TextBlob. See our use of it further below. "
   ]
  },
  {
   "cell_type": "code",
   "execution_count": null,
   "metadata": {},
   "outputs": [],
   "source": [
    "!pip install -U gensim\n",
    "from gensim.models import doc2vec, Doc2Vec"
   ]
  },
  {
   "cell_type": "markdown",
   "metadata": {},
   "source": [
    "#### For Python-driven data science approaches, pandas usage is almost a given. And for text analysis specifically, regular expressions can be invaluable for searching out text patterns."
   ]
  },
  {
   "cell_type": "code",
   "execution_count": 1,
   "metadata": {},
   "outputs": [],
   "source": [
    "from collections import OrderedDict\n",
    "import pandas as pd\n",
    "import re"
   ]
  },
  {
   "cell_type": "markdown",
   "metadata": {},
   "source": [
    "Here, we look at 2 examples of csvs for our YouTube Data API v3-consumed data. Learning that consumption was a useful process in itself but is not described here. "
   ]
  },
  {
   "cell_type": "code",
   "execution_count": 11,
   "metadata": {},
   "outputs": [
    {
     "name": "stdout",
     "output_type": "stream",
     "text": [
      "(94, 3)\n"
     ]
    },
    {
     "data": {
      "text/html": [
       "<div>\n",
       "<style scoped>\n",
       "    .dataframe tbody tr th:only-of-type {\n",
       "        vertical-align: middle;\n",
       "    }\n",
       "\n",
       "    .dataframe tbody tr th {\n",
       "        vertical-align: top;\n",
       "    }\n",
       "\n",
       "    .dataframe thead th {\n",
       "        text-align: right;\n",
       "    }\n",
       "</style>\n",
       "<table border=\"1\" class=\"dataframe\">\n",
       "  <thead>\n",
       "    <tr style=\"text-align: right;\">\n",
       "      <th></th>\n",
       "      <th>video_title</th>\n",
       "      <th>video_id</th>\n",
       "      <th>moods</th>\n",
       "    </tr>\n",
       "  </thead>\n",
       "  <tbody>\n",
       "    <tr>\n",
       "      <th>0</th>\n",
       "      <td>[FREE DL] Dave East Type Beat \"Momma Workin\" (...</td>\n",
       "      <td>kQKLl6jXipQ</td>\n",
       "      <td>CHILL</td>\n",
       "    </tr>\n",
       "    <tr>\n",
       "      <th>1</th>\n",
       "      <td>Logic - Indica Badu ft. Wiz Khalifa [Instrumen...</td>\n",
       "      <td>-QQUaWtMW3w</td>\n",
       "      <td>HAPPY</td>\n",
       "    </tr>\n",
       "    <tr>\n",
       "      <th>2</th>\n",
       "      <td>【Off Vocal】Yasuha. - I Lost Your Love feat. Ha...</td>\n",
       "      <td>1QejWtVKE8s</td>\n",
       "      <td>CHILL</td>\n",
       "    </tr>\n",
       "    <tr>\n",
       "      <th>3</th>\n",
       "      <td>Shiva In Exile - Earth Tone (Instrumental)</td>\n",
       "      <td>4zrLieLZ_i8</td>\n",
       "      <td>CHILL</td>\n",
       "    </tr>\n",
       "    <tr>\n",
       "      <th>4</th>\n",
       "      <td>8 Remix - Almighty ft. Varios [INSTRUMENTAL + ...</td>\n",
       "      <td>kmLvR68_nLg</td>\n",
       "      <td>CONFIDENT-SASSY</td>\n",
       "    </tr>\n",
       "  </tbody>\n",
       "</table>\n",
       "</div>"
      ],
      "text/plain": [
       "                                         video_title     video_id  \\\n",
       "0  [FREE DL] Dave East Type Beat \"Momma Workin\" (...  kQKLl6jXipQ   \n",
       "1  Logic - Indica Badu ft. Wiz Khalifa [Instrumen...  -QQUaWtMW3w   \n",
       "2  【Off Vocal】Yasuha. - I Lost Your Love feat. Ha...  1QejWtVKE8s   \n",
       "3         Shiva In Exile - Earth Tone (Instrumental)  4zrLieLZ_i8   \n",
       "4  8 Remix - Almighty ft. Varios [INSTRUMENTAL + ...  kmLvR68_nLg   \n",
       "\n",
       "             moods  \n",
       "0            CHILL  \n",
       "1            HAPPY  \n",
       "2            CHILL  \n",
       "3            CHILL  \n",
       "4  CONFIDENT-SASSY  "
      ]
     },
     "execution_count": 11,
     "metadata": {},
     "output_type": "execute_result"
    }
   ],
   "source": [
    "videos_df = pd.read_csv('new_videos.csv')  # note that this csv data does not have comments column\n",
    "print(videos_df.shape)\n",
    "videos_df.head()"
   ]
  },
  {
   "cell_type": "code",
   "execution_count": 3,
   "metadata": {},
   "outputs": [
    {
     "name": "stdout",
     "output_type": "stream",
     "text": [
      "(93, 2)\n"
     ]
    },
    {
     "data": {
      "text/html": [
       "<div>\n",
       "<style scoped>\n",
       "    .dataframe tbody tr th:only-of-type {\n",
       "        vertical-align: middle;\n",
       "    }\n",
       "\n",
       "    .dataframe tbody tr th {\n",
       "        vertical-align: top;\n",
       "    }\n",
       "\n",
       "    .dataframe thead th {\n",
       "        text-align: right;\n",
       "    }\n",
       "</style>\n",
       "<table border=\"1\" class=\"dataframe\">\n",
       "  <thead>\n",
       "    <tr style=\"text-align: right;\">\n",
       "      <th></th>\n",
       "      <th>video_id</th>\n",
       "      <th>comments</th>\n",
       "    </tr>\n",
       "  </thead>\n",
       "  <tbody>\n",
       "    <tr>\n",
       "      <th>0</th>\n",
       "      <td>2raUmsKIG6U</td>\n",
       "      <td>['That is some cool grafiti song, sick!', 'Dam...</td>\n",
       "    </tr>\n",
       "    <tr>\n",
       "      <th>1</th>\n",
       "      <td>3XAkH0w3QLc</td>\n",
       "      <td>['the \"jake young\" at the begining scared me l...</td>\n",
       "    </tr>\n",
       "    <tr>\n",
       "      <th>2</th>\n",
       "      <td>hXe0Elz7WV8</td>\n",
       "      <td>['This is good. Definitely on favorite song li...</td>\n",
       "    </tr>\n",
       "    <tr>\n",
       "      <th>3</th>\n",
       "      <td>x1frIzjJv5E</td>\n",
       "      <td>['I think I would sound better at the original...</td>\n",
       "    </tr>\n",
       "    <tr>\n",
       "      <th>4</th>\n",
       "      <td>iPqaRRdb7eQ</td>\n",
       "      <td>[]</td>\n",
       "    </tr>\n",
       "  </tbody>\n",
       "</table>\n",
       "</div>"
      ],
      "text/plain": [
       "      video_id                                           comments\n",
       "0  2raUmsKIG6U  ['That is some cool grafiti song, sick!', 'Dam...\n",
       "1  3XAkH0w3QLc  ['the \"jake young\" at the begining scared me l...\n",
       "2  hXe0Elz7WV8  ['This is good. Definitely on favorite song li...\n",
       "3  x1frIzjJv5E  ['I think I would sound better at the original...\n",
       "4  iPqaRRdb7eQ                                                 []"
      ]
     },
     "execution_count": 3,
     "metadata": {},
     "output_type": "execute_result"
    }
   ],
   "source": [
    "comments_df = pd.read_csv('new_comments.csv', encoding=\"utf-8\")  # note no moods column\n",
    "print(comments_df.shape)\n",
    "comments_df.head()"
   ]
  },
  {
   "cell_type": "code",
   "execution_count": null,
   "metadata": {},
   "outputs": [],
   "source": [
    "# full_videos_df = pd.merge(videos_df, comments_df, on='video_id')\n",
    "# use above line as example, if need to merge new_comments and new_videos csv's"
   ]
  },
  {
   "cell_type": "markdown",
   "metadata": {},
   "source": [
    "### Preprocessing the comments data"
   ]
  },
  {
   "cell_type": "markdown",
   "metadata": {},
   "source": [
    "#### Nothing like working with text to learn (or re-learn) that computing involves symbols that are encoded in different sets, eg, Unicode and utf-8. Joel Spolsky has a classic post [here](https://www.joelonsoftware.com/2003/10/08/the-absolute-minimum-every-software-developer-absolutely-positively-must-know-about-unicode-and-character-sets-no-excuses/). And Wikipedia has a useful entry [here](https://en.wikipedia.org/wiki/Unicode_and_HTML)."
   ]
  },
  {
   "cell_type": "markdown",
   "metadata": {},
   "source": [
    "Here we can see comments data consumed from the YouTube API."
   ]
  },
  {
   "cell_type": "code",
   "execution_count": null,
   "metadata": {},
   "outputs": [],
   "source": [
    "# Examine the raw comments for the first video\n",
    "first_vid_comments = comments_df.comments.values[0]\n",
    "first_vid_comments  # NOTE: this whole object is a string; change it to a list with strings inside"
   ]
  },
  {
   "cell_type": "code",
   "execution_count": null,
   "metadata": {},
   "outputs": [],
   "source": [
    "# Tried various operations on first video comments\n",
    "# Create a list object of first video comments by splitting on \"\\', \" -- not successful"
   ]
  },
  {
   "cell_type": "code",
   "execution_count": null,
   "metadata": {},
   "outputs": [],
   "source": [
    "# Let's see the raw comments for the second video\n",
    "second_vid_comments = comments_df.comments.values[1]\n",
    "second_vid_comments"
   ]
  },
  {
   "cell_type": "markdown",
   "metadata": {},
   "source": [
    "This code did not ultimately get used for preprocessing."
   ]
  },
  {
   "cell_type": "code",
   "execution_count": null,
   "metadata": {},
   "outputs": [],
   "source": [
    "# Study all comments for all videos\n",
    "# Based on methods from aws-sagemaker-python-notebook [not yet updated on github]\n",
    "all_comments = []\n",
    "all_comments_dict = {}\n",
    "for comment_group in list(comments_df.comments):\n",
    "    comment_group = comment_group.replace('[', '')\n",
    "    comment_group = comment_group.replace(']', '')\n",
    "    comment_group = comment_group.replace(\"'\", '')\n",
    "    all_comments.append(comment_group)\n",
    "    \n",
    "print('length of all_comments is:', len(all_comments))\n",
    "print(all_comments[:2])"
   ]
  },
  {
   "cell_type": "markdown",
   "metadata": {},
   "source": [
    "But **this** function became the comments preprocessing workhorse for our workflow."
   ]
  },
  {
   "cell_type": "code",
   "execution_count": 4,
   "metadata": {},
   "outputs": [],
   "source": [
    "# Convert text to lower-case, do several char replacements, and create list by splitting comments string\n",
    "# Create a function to do this when applied to all values in df's comments column\n",
    "\n",
    "def normalize_text(comment_group):\n",
    "    norm_comment_group = comment_group.lower()\n",
    "    norm_comment_group = re.sub(r\"([\\.\\\",\\(\\)!\\?;:])\", \" \\\\1 \", norm_comment_group)\n",
    "    norm_comment_group = norm_comment_group.replace('\\\\n', ', ')\n",
    "    norm_comment_group = norm_comment_group.replace('\"', \"\\'\")\n",
    "    while \"\\'\" in norm_comment_group:\n",
    "        norm_comment_group = norm_comment_group.replace(\"\\'\", '')\n",
    "    norm_comment_group = norm_comment_group.replace('[', '')\n",
    "    norm_comment_group = norm_comment_group.replace(']', '')\n",
    "    return norm_comment_group\n",
    "\n",
    "# Apply normalize_text function to all comments column values\n",
    "\n",
    "comments_df.comments = comments_df.comments.apply(lambda x: normalize_text(x))"
   ]
  },
  {
   "cell_type": "markdown",
   "metadata": {},
   "source": [
    "Note how the words now appear more like typewritten text."
   ]
  },
  {
   "cell_type": "code",
   "execution_count": 5,
   "metadata": {},
   "outputs": [
    {
     "data": {
      "text/plain": [
       "array(['that is some cool grafiti song ,  sick !  ,  damn this is dope ,  i miss the 90s ,  nice beat and cuts man ,  unfortunately they faded so early .  ,  very nice beat bra ,  can you feel it can you feel it can you feeeeel itttt ,  this is super golden age hip hop ,  but still so atmospheric with that string sample !  !  i just dropped a new vid on my channel would love to hear the opinion of a true artist like you over there !  love this beat tho bro !  ,  gj /goodjob !  ,  se puede sacar una super improvisacion buen beat ,    hello .  i want to use ur music for a dance project but i cant find you on facebook ,  and also not on soundcloud .  how can i get your music ?  thank you   ,    whos down to start a rap group   ,  you bouta get the cred for some slick shit bro this beat is fucking absurd ,    its ok if not   ,  can i use this brother ?  ,  hola man queria saber si podia utilizar este  beat para un tema que tengo pensado  ( se llama   mientras suenan las sirenas  )  y es justo lo que me imagine para el tema queria saber si tenia tu okey y obiamente siguiendo lo q dice en la descripcion de todos modos gracias y muy buen beat ,  great ,  amazing beat🔥 ,  can i use this beat, i will give you credit also ,  brilliant ,    bro its the best ever beat i have ever heard   ,  nice work bro ,  check my new wc beat :  https : //goo . gl/87ueiw',\n",
       "       'the   jake young   at the begining scared me lolol ,  oml there are literally 4-5 comments with lyrics i cant- ,  nna nanana nanan nanannaannnaananananananananananannnnananananananananan*yuminoshii ? b0ai ,  chi è qui per klaus ?  🇮🇹🇮🇹🇮🇹 ,  great job ,  can i use it for a cover ?   :  )  thank you ,  shut your mouth ,  i don’t wanna fuckin breath now, all the people on my back i’m getting weighed down , my future’s falling to the floor ,  i’m getting worried now, will i make it in this game or will i fuckin drown, , i can’t fuckin sleep, i can’t fuckin breath , all these pills are on my mind ,  now i’m in this deep, finally passed out on the floor from all this codeine , she be screaming i want more until she fuck me, , life’s a bitter mess when you are depressed , all these demons in my head i’m feeling possessed, i got problems with these women ,  yeah i’m obsessed , every day i’m working hard creating progress , , when i wake up and i know you’re on my fucking mind , i can’t face it ,  you just take up all my fucking time, i’m taking chemicals to get me through this fuckin life , i say i’m good and she know it’s a fucking lie, , will they ever listen to me , you wanna lead and i wanna leave , wanna feel like you’re fuckin free, well here you go ,  baby take my sleep, , when i wake up and i know you’re on my fucking mind , i can’t face it ,  you just take up all my fucking time, i’m taking chemicals to get me through this fuckin life , i say i’m good and she know it’s a fucking lie ,  hi !  would also like to use your music for a cover .  is that cool ?  will credit you  :  )  ,  awesome work❤ also ,  thank you sooo much for putting the sheets available !  😊 ,  can i use this for a cover ?  😍🙋🏼\\\\u200d♂️ ,  this is so gorgeous .  thank you ,  gard bless you for this !  ,  can i use this for my video ?  ,  beautiful ! , the only thing you\\\\re missing is that one part with the   you caused it   ,  i can\\\\t describe it .  but it\\\\s accompanied by a guitar you can only hear in your right ear .  i hope you understand .  but it\\\\s beautiful regardless .  i\\\\d just love it even more if you include it .  ,  could you do already gone by sleeping at last ?  there are no instrumentals out for it it would be amazing  :  )  thanks x ,    would it be okay to use this for my cover ?  ill give credit  : d   ,  wonderful  .  .  .  and hopeful .  ,  thank the lord this exists .  ,  may i use this for a cover  ?  ?  ,  i would love to do a cover of this song .  i will give credit of course  : 3 ,  hey can i choreograph a dance to this for a show at the end of this semester ?  i’ll credit you'],\n",
       "      dtype=object)"
      ]
     },
     "execution_count": 5,
     "metadata": {},
     "output_type": "execute_result"
    }
   ],
   "source": [
    "comments_df.comments.values[:2]"
   ]
  },
  {
   "cell_type": "code",
   "execution_count": null,
   "metadata": {},
   "outputs": [],
   "source": [
    "# The fourth video, with id iPqaRRdb7eQ, has no comments. \n",
    "comments_df.comments.values[4]"
   ]
  },
  {
   "cell_type": "markdown",
   "metadata": {},
   "source": [
    "### Trying TextBlob for NLP"
   ]
  },
  {
   "cell_type": "code",
   "execution_count": 6,
   "metadata": {},
   "outputs": [
    {
     "name": "stdout",
     "output_type": "stream",
     "text": [
      "Requirement already satisfied: textblob in c:\\programdata\\anaconda3\\lib\\site-packages (0.15.3)\n",
      "Requirement already satisfied: nltk>=3.1 in c:\\programdata\\anaconda3\\lib\\site-packages (from textblob) (3.4)\n",
      "Requirement already satisfied: six in c:\\programdata\\anaconda3\\lib\\site-packages (from nltk>=3.1->textblob) (1.12.0)\n",
      "Requirement already satisfied: singledispatch in c:\\programdata\\anaconda3\\lib\\site-packages (from nltk>=3.1->textblob) (3.4.0.3)\n"
     ]
    }
   ],
   "source": [
    "!pip install textblob\n",
    "from textblob import TextBlob"
   ]
  },
  {
   "cell_type": "code",
   "execution_count": 17,
   "metadata": {},
   "outputs": [],
   "source": [
    "from collections import Counter\n",
    "from nltk.corpus import stopwords\n",
    "from sklearn.model_selection import train_test_split\n",
    "from statistics import mean\n",
    "import numpy as np"
   ]
  },
  {
   "cell_type": "code",
   "execution_count": 8,
   "metadata": {},
   "outputs": [],
   "source": [
    "# Tags can be removed if in nltk stopwords\n",
    "# To be able to iterate over stopwords, have to put them in an iterable\n",
    "\n",
    "def tags_filter_stopwords(tags):\n",
    "    stop_eng = set(stopwords.words('english'))\n",
    "    stop_esp = set(stopwords.words('spanish'))\n",
    "    stop_fr = set(stopwords.words('french'))\n",
    "    stop_de = set(stopwords.words('german'))\n",
    "    # no stopwords available for Chinese or Japanese\n",
    "    stop_four = stop_eng.union(stop_esp.union(stop_fr.union(stop_de)))\n",
    "    tags_list = []\n",
    "    for tag in tags:\n",
    "        if tag[0] not in stop_four:\n",
    "            tags_list.append(tag)\n",
    "    return tags_list\n",
    "\n",
    "\n",
    "# Also want to know which parts of speech TextBlob codes are most common among the tags\n",
    "def top_three_tag_codes(tags):\n",
    "    \"\"\"Receives list of tags; returns 3 most common TextBlob parts-of-speech codes\"\"\"\n",
    "    # Recall that each TextBlob tag is a tuple of a word and a TextBlob part-of-speech code\n",
    "    speech_parts_list = []\n",
    "    for tag in tags:\n",
    "        speech_parts_list.append(tag[1])\n",
    "    c = Counter(speech_parts_list)\n",
    "    print(c.most_common(3), 'len(c.most_common(3)) is:', len(c.most_common(3)))\n",
    "    # note that there may only be one most common tag\n",
    "    return c.most_common(3)  # returns a list of 2-item tuple[s] with code and count for code in tags"
   ]
  },
  {
   "cell_type": "code",
   "execution_count": 137,
   "metadata": {},
   "outputs": [],
   "source": [
    "# Add two new columns to comments_df: one each for TextBlob polarity mean and subjectivity mean\n",
    "# Want to add other new columns also based on tags:\n",
    "# one column for each of the top 3, and one column for the count in comments for each of the top 3 \n",
    "\n",
    "tags_columns = ['polarity_mean', 'subjectivity_mean', 'tags', 'tags_count', 'top_tag', 'top_tag_count',\n",
    "                'second_tag', 'second_tag_count', 'third_tag', 'third_tag_count']\n",
    "analysis_df = pd.concat([comments_df, pd.DataFrame(columns=tags_columns)], axis=1)\n",
    "\n",
    "analysis_df = pd.merge(analysis_df, videos_df, on='video_id')\n",
    "cols = analysis_df.columns.to_list()\n",
    "cols = [cols[0]] + [cols[11]] + [cols[1]] + cols[2:11] + [cols[-1]]\n",
    "analysis_df = analysis_df[cols]"
   ]
  },
  {
   "cell_type": "code",
   "execution_count": 138,
   "metadata": {},
   "outputs": [
    {
     "data": {
      "text/html": [
       "<div>\n",
       "<style scoped>\n",
       "    .dataframe tbody tr th:only-of-type {\n",
       "        vertical-align: middle;\n",
       "    }\n",
       "\n",
       "    .dataframe tbody tr th {\n",
       "        vertical-align: top;\n",
       "    }\n",
       "\n",
       "    .dataframe thead th {\n",
       "        text-align: right;\n",
       "    }\n",
       "</style>\n",
       "<table border=\"1\" class=\"dataframe\">\n",
       "  <thead>\n",
       "    <tr style=\"text-align: right;\">\n",
       "      <th></th>\n",
       "      <th>video_id</th>\n",
       "      <th>third_tag_count</th>\n",
       "      <th>comments</th>\n",
       "      <th>polarity_mean</th>\n",
       "      <th>subjectivity_mean</th>\n",
       "      <th>tags</th>\n",
       "      <th>tags_count</th>\n",
       "      <th>top_tag</th>\n",
       "      <th>top_tag_count</th>\n",
       "      <th>second_tag</th>\n",
       "      <th>second_tag_count</th>\n",
       "      <th>third_tag</th>\n",
       "      <th>moods</th>\n",
       "    </tr>\n",
       "  </thead>\n",
       "  <tbody>\n",
       "    <tr>\n",
       "      <th>0</th>\n",
       "      <td>2raUmsKIG6U</td>\n",
       "      <td>NaN</td>\n",
       "      <td>that is some cool grafiti song ,  sick !  ,  d...</td>\n",
       "      <td>NaN</td>\n",
       "      <td>NaN</td>\n",
       "      <td>NaN</td>\n",
       "      <td>NaN</td>\n",
       "      <td>NaN</td>\n",
       "      <td>NaN</td>\n",
       "      <td>NaN</td>\n",
       "      <td>NaN</td>\n",
       "      <td>NaN</td>\n",
       "      <td>CHILL</td>\n",
       "    </tr>\n",
       "    <tr>\n",
       "      <th>1</th>\n",
       "      <td>3XAkH0w3QLc</td>\n",
       "      <td>NaN</td>\n",
       "      <td>the   jake young   at the begining scared me l...</td>\n",
       "      <td>NaN</td>\n",
       "      <td>NaN</td>\n",
       "      <td>NaN</td>\n",
       "      <td>NaN</td>\n",
       "      <td>NaN</td>\n",
       "      <td>NaN</td>\n",
       "      <td>NaN</td>\n",
       "      <td>NaN</td>\n",
       "      <td>NaN</td>\n",
       "      <td>CHILL</td>\n",
       "    </tr>\n",
       "    <tr>\n",
       "      <th>2</th>\n",
       "      <td>hXe0Elz7WV8</td>\n",
       "      <td>NaN</td>\n",
       "      <td>this is good .  definitely on favorite song li...</td>\n",
       "      <td>NaN</td>\n",
       "      <td>NaN</td>\n",
       "      <td>NaN</td>\n",
       "      <td>NaN</td>\n",
       "      <td>NaN</td>\n",
       "      <td>NaN</td>\n",
       "      <td>NaN</td>\n",
       "      <td>NaN</td>\n",
       "      <td>NaN</td>\n",
       "      <td>CONFIDENT-SASSY</td>\n",
       "    </tr>\n",
       "    <tr>\n",
       "      <th>3</th>\n",
       "      <td>x1frIzjJv5E</td>\n",
       "      <td>NaN</td>\n",
       "      <td>i think i would sound better at the original s...</td>\n",
       "      <td>NaN</td>\n",
       "      <td>NaN</td>\n",
       "      <td>NaN</td>\n",
       "      <td>NaN</td>\n",
       "      <td>NaN</td>\n",
       "      <td>NaN</td>\n",
       "      <td>NaN</td>\n",
       "      <td>NaN</td>\n",
       "      <td>NaN</td>\n",
       "      <td>CHILL</td>\n",
       "    </tr>\n",
       "    <tr>\n",
       "      <th>4</th>\n",
       "      <td>iPqaRRdb7eQ</td>\n",
       "      <td>NaN</td>\n",
       "      <td></td>\n",
       "      <td>NaN</td>\n",
       "      <td>NaN</td>\n",
       "      <td>NaN</td>\n",
       "      <td>NaN</td>\n",
       "      <td>NaN</td>\n",
       "      <td>NaN</td>\n",
       "      <td>NaN</td>\n",
       "      <td>NaN</td>\n",
       "      <td>NaN</td>\n",
       "      <td>CHILL</td>\n",
       "    </tr>\n",
       "  </tbody>\n",
       "</table>\n",
       "</div>"
      ],
      "text/plain": [
       "      video_id third_tag_count  \\\n",
       "0  2raUmsKIG6U             NaN   \n",
       "1  3XAkH0w3QLc             NaN   \n",
       "2  hXe0Elz7WV8             NaN   \n",
       "3  x1frIzjJv5E             NaN   \n",
       "4  iPqaRRdb7eQ             NaN   \n",
       "\n",
       "                                            comments polarity_mean  \\\n",
       "0  that is some cool grafiti song ,  sick !  ,  d...           NaN   \n",
       "1  the   jake young   at the begining scared me l...           NaN   \n",
       "2  this is good .  definitely on favorite song li...           NaN   \n",
       "3  i think i would sound better at the original s...           NaN   \n",
       "4                                                              NaN   \n",
       "\n",
       "  subjectivity_mean tags tags_count top_tag top_tag_count second_tag  \\\n",
       "0               NaN  NaN        NaN     NaN           NaN        NaN   \n",
       "1               NaN  NaN        NaN     NaN           NaN        NaN   \n",
       "2               NaN  NaN        NaN     NaN           NaN        NaN   \n",
       "3               NaN  NaN        NaN     NaN           NaN        NaN   \n",
       "4               NaN  NaN        NaN     NaN           NaN        NaN   \n",
       "\n",
       "  second_tag_count third_tag            moods  \n",
       "0              NaN       NaN            CHILL  \n",
       "1              NaN       NaN            CHILL  \n",
       "2              NaN       NaN  CONFIDENT-SASSY  \n",
       "3              NaN       NaN            CHILL  \n",
       "4              NaN       NaN            CHILL  "
      ]
     },
     "execution_count": 138,
     "metadata": {},
     "output_type": "execute_result"
    }
   ],
   "source": [
    "analysis_df.head()"
   ]
  },
  {
   "cell_type": "code",
   "execution_count": 139,
   "metadata": {},
   "outputs": [
    {
     "data": {
      "text/plain": [
       "(86, 13)"
      ]
     },
     "execution_count": 139,
     "metadata": {},
     "output_type": "execute_result"
    }
   ],
   "source": [
    "# Drop rows where there are no comments\n",
    "analysis_df = analysis_df[analysis_df.comments != '']\n",
    "analysis_df.shape"
   ]
  },
  {
   "cell_type": "code",
   "execution_count": 140,
   "metadata": {},
   "outputs": [
    {
     "name": "stdout",
     "output_type": "stream",
     "text": [
      "[('NN', 81), ('JJ', 32), ('DT', 18)] len(c.most_common(3)) is: 3\n",
      "[('NN', 107), ('JJ', 50), ('DT', 43)] len(c.most_common(3)) is: 3\n",
      "[('NN', 23), ('JJ', 11), ('IN', 6)] len(c.most_common(3)) is: 3\n",
      "[('NN', 19), ('DT', 16), ('JJ', 9)] len(c.most_common(3)) is: 3\n",
      "[('NN', 8)] len(c.most_common(3)) is: 1\n",
      "[('NN', 9), ('JJ', 4), ('IN', 2)] len(c.most_common(3)) is: 3\n",
      "[('NN', 5), ('VBD', 1), ('PRP', 1)] len(c.most_common(3)) is: 3\n",
      "[('NN', 25), ('DT', 11), ('RB', 8)] len(c.most_common(3)) is: 3\n",
      "[('NN', 245), ('IN', 118), ('DT', 96)] len(c.most_common(3)) is: 3\n",
      "[('NN', 168), ('IN', 83), ('VB', 83)] len(c.most_common(3)) is: 3\n",
      "[('NN', 82), ('DT', 37), ('IN', 36)] len(c.most_common(3)) is: 3\n",
      "[('NN', 149), ('PRP', 122), ('JJ', 94)] len(c.most_common(3)) is: 3\n",
      "[('NN', 304), ('DT', 120), ('JJ', 106)] len(c.most_common(3)) is: 3\n",
      "[('NN', 11), ('FW', 6), ('NNS', 4)] len(c.most_common(3)) is: 3\n",
      "[('NN', 6), ('VBP', 3), ('DT', 3)] len(c.most_common(3)) is: 3\n",
      "[('NN', 208), ('IN', 87), ('JJ', 66)] len(c.most_common(3)) is: 3\n",
      "[('NN', 75), ('JJ', 27), ('DT', 23)] len(c.most_common(3)) is: 3\n",
      "[('NN', 60), ('JJ', 13), ('IN', 11)] len(c.most_common(3)) is: 3\n",
      "[('NN', 58), ('IN', 12), ('DT', 12)] len(c.most_common(3)) is: 3\n",
      "[('VBP', 2), ('PDT', 1), ('DT', 1)] len(c.most_common(3)) is: 3\n",
      "[('NN', 35), ('JJ', 15), ('VB', 15)] len(c.most_common(3)) is: 3\n",
      "[('NN', 144), ('JJ', 73), ('IN', 53)] len(c.most_common(3)) is: 3\n",
      "[('VB', 5), ('NN', 1), ('MD', 1)] len(c.most_common(3)) is: 3\n",
      "[('NN', 179), ('RB', 63), ('VB', 63)] len(c.most_common(3)) is: 3\n",
      "[('NN', 491), ('DT', 207), ('IN', 174)] len(c.most_common(3)) is: 3\n",
      "[('NN', 11), ('JJ', 6), ('IN', 5)] len(c.most_common(3)) is: 3\n",
      "[('NN', 57), ('JJ', 25), ('DT', 16)] len(c.most_common(3)) is: 3\n",
      "[('NN', 36), ('NNP', 21), ('JJ', 12)] len(c.most_common(3)) is: 3\n",
      "[('VB', 88), ('NN', 78), ('JJ', 44)] len(c.most_common(3)) is: 3\n",
      "[('NN', 106), ('PRP', 42), ('DT', 35)] len(c.most_common(3)) is: 3\n",
      "[('NN', 65), ('JJ', 31), ('DT', 20)] len(c.most_common(3)) is: 3\n",
      "[('NN', 157), ('JJ', 31), ('DT', 9)] len(c.most_common(3)) is: 3\n",
      "[('NN', 833), ('JJ', 235), ('FW', 83)] len(c.most_common(3)) is: 3\n",
      "[('NN', 9), ('DT', 6), ('MD', 3)] len(c.most_common(3)) is: 3\n",
      "[('NN', 184), ('VB', 81), ('JJ', 76)] len(c.most_common(3)) is: 3\n",
      "[('JJ', 16), ('NN', 16), ('VB', 7)] len(c.most_common(3)) is: 3\n",
      "[('NN', 12)] len(c.most_common(3)) is: 1\n",
      "[('NN', 43), ('JJ', 23), ('IN', 21)] len(c.most_common(3)) is: 3\n",
      "[('NN', 4), ('JJ', 2), ('JJS', 1)] len(c.most_common(3)) is: 3\n",
      "[('NN', 49), ('NNP', 32), ('JJ', 16)] len(c.most_common(3)) is: 3\n",
      "[('NN', 25), ('IN', 8), ('JJ', 8)] len(c.most_common(3)) is: 3\n",
      "[('NN', 158), ('PRP', 130), ('RB', 100)] len(c.most_common(3)) is: 3\n",
      "[('NN', 8), ('NNS', 1), ('JJ', 1)] len(c.most_common(3)) is: 3\n",
      "[('NN', 41), ('JJ', 20), ('IN', 17)] len(c.most_common(3)) is: 3\n",
      "[('NN', 40), ('JJ', 16), ('DT', 12)] len(c.most_common(3)) is: 3\n",
      "[('NN', 48), ('IN', 17), ('DT', 12)] len(c.most_common(3)) is: 3\n",
      "[('JJ', 4), ('NN', 4), ('DT', 3)] len(c.most_common(3)) is: 3\n",
      "[('NN', 347), ('JJ', 73), ('IN', 63)] len(c.most_common(3)) is: 3\n",
      "[('NN', 84), ('JJ', 46), ('IN', 29)] len(c.most_common(3)) is: 3\n",
      "[('NN', 102), ('DT', 77), ('VB', 41)] len(c.most_common(3)) is: 3\n",
      "[('NN', 78), ('JJ', 24), ('DT', 13)] len(c.most_common(3)) is: 3\n",
      "[('NN', 72), ('IN', 40), ('JJ', 35)] len(c.most_common(3)) is: 3\n",
      "[('NN', 11), ('NNS', 5), ('VBP', 4)] len(c.most_common(3)) is: 3\n",
      "[('NN', 165), ('JJ', 52), ('FW', 49)] len(c.most_common(3)) is: 3\n",
      "[('NN', 83), ('DT', 47), ('IN', 33)] len(c.most_common(3)) is: 3\n",
      "[('NN', 4)] len(c.most_common(3)) is: 1\n",
      "[('NN', 27), ('FW', 6), ('JJ', 5)] len(c.most_common(3)) is: 3\n",
      "[('NN', 100), ('IN', 72), ('PRP', 59)] len(c.most_common(3)) is: 3\n",
      "[('NN', 84), ('FW', 20), ('JJ', 15)] len(c.most_common(3)) is: 3\n",
      "[('NN', 12), ('JJ', 9), ('RB', 4)] len(c.most_common(3)) is: 3\n",
      "[('NN', 121), ('IN', 55), ('DT', 39)] len(c.most_common(3)) is: 3\n",
      "[('NN', 9), ('JJ', 6), ('IN', 4)] len(c.most_common(3)) is: 3\n",
      "[('NN', 2), ('JJ', 2), ('NNS', 1)] len(c.most_common(3)) is: 3\n",
      "[('NN', 33), ('DT', 6), ('JJ', 5)] len(c.most_common(3)) is: 3\n",
      "[('NN', 229), ('PRP', 178), ('IN', 146)] len(c.most_common(3)) is: 3\n",
      "[('NN', 214), ('IN', 100), ('DT', 80)] len(c.most_common(3)) is: 3\n",
      "[('NN', 53), ('DT', 16), ('JJ', 10)] len(c.most_common(3)) is: 3\n",
      "[('NN', 11), ('PRP', 7), ('VB', 5)] len(c.most_common(3)) is: 3\n",
      "[('NN', 12), ('VBG', 3), ('JJ', 3)] len(c.most_common(3)) is: 3\n",
      "[('NN', 51), ('JJ', 23), ('VB', 21)] len(c.most_common(3)) is: 3\n",
      "[('NN', 187), ('JJ', 43), ('FW', 39)] len(c.most_common(3)) is: 3\n",
      "[('NN', 183), ('JJ', 83), ('FW', 44)] len(c.most_common(3)) is: 3\n",
      "[('NN', 5), ('JJ', 2)] len(c.most_common(3)) is: 2\n",
      "[('NN', 5), ('JJ', 4), ('NNS', 1)] len(c.most_common(3)) is: 3\n",
      "[('NN', 2), ('VB', 2), ('CD', 1)] len(c.most_common(3)) is: 3\n",
      "[('NN', 85), ('NNP', 38), ('JJ', 16)] len(c.most_common(3)) is: 3\n",
      "[('NN', 35), ('JJ', 9), ('VB', 6)] len(c.most_common(3)) is: 3\n",
      "[('NN', 347), ('JJ', 100), ('FW', 58)] len(c.most_common(3)) is: 3\n",
      "[('NN', 43), ('JJ', 16), ('DT', 9)] len(c.most_common(3)) is: 3\n",
      "[('NNP', 19), ('NN', 10), ('CD', 5)] len(c.most_common(3)) is: 3\n",
      "[('NN', 153), ('NNP', 100), ('JJ', 51)] len(c.most_common(3)) is: 3\n",
      "[('NN', 337), ('JJ', 275), ('PRP', 17)] len(c.most_common(3)) is: 3\n",
      "[('NN', 7), ('JJ', 3), ('FW', 3)] len(c.most_common(3)) is: 3\n",
      "[('NN', 13), ('JJ', 2), ('PRP', 2)] len(c.most_common(3)) is: 3\n",
      "[('NN', 117), ('IN', 61), ('DT', 54)] len(c.most_common(3)) is: 3\n",
      "[('NN', 62), ('JJ', 24), ('DT', 22)] len(c.most_common(3)) is: 3\n"
     ]
    }
   ],
   "source": [
    "# Add TextBlob mean polarity, mean subjectivity, and tags features for all comments for each video\n",
    "# Write functions to do each of the following:\n",
    "# 1) run TextBlob on comments; 2) populate polarity_mean, subjectivity_mean, and tags values\n",
    "\n",
    "def get_blob(comments):\n",
    "    \"\"\"Use with one video's comments at a time.\"\"\"\n",
    "    comments = normalize_text(comments)\n",
    "    blob = TextBlob(comments)\n",
    "    # tags = tags_filter_stopwords(blob.tags)  # this is functional code but may decrease ML classif. accuracy\n",
    "    tags = blob.tags\n",
    "    tags_count = len(tags)\n",
    "    top_tags = top_three_tag_codes(tags)  # this is a list of 2-item tuple[s]\n",
    "    top_tag = top_tags[0][0]\n",
    "    top_tag_count = top_tags[0][1]\n",
    "    if len(top_tags) < 2:\n",
    "        second_tag = np.nan\n",
    "        second_tag_count = 0\n",
    "        third_tag = np.nan\n",
    "        third_tag_count = 0\n",
    "    elif len(top_tags) == 2:\n",
    "        second_tag = top_tags[1][0]\n",
    "        second_tag_count = top_tags[1][1]\n",
    "        third_tag = np.nan\n",
    "        third_tag_count = 0\n",
    "    elif len(top_tags) > 2:\n",
    "        # 3-item list of tuples with each top code and its count\n",
    "        second_tag = top_tags[1][0]\n",
    "        second_tag_count = top_tags[1][1]\n",
    "        third_tag = top_tags[2][0]\n",
    "        third_tag_count = top_tags[2][1]\n",
    "    polarity_list = []\n",
    "    subjectivity_list = []\n",
    "    for sentence in blob.sentences:\n",
    "        polarity = sentence.sentiment.polarity\n",
    "        subjectivity = sentence.sentiment.subjectivity\n",
    "        if polarity !=0 :\n",
    "            polarity_list.append(polarity)\n",
    "        if subjectivity !=0 :\n",
    "            subjectivity_list.append(subjectivity)\n",
    "    if len(polarity_list) == 0:\n",
    "        polarity_list.append(0)\n",
    "    if len(subjectivity_list) == 0:\n",
    "        subjectivity_list.append(0)\n",
    "    # print(top_tag, second_tag)\n",
    "    return (mean(polarity_list), mean(subjectivity_list), tags, tags_count, top_tag, top_tag_count,\n",
    "            second_tag, second_tag_count, third_tag, third_tag_count)\n",
    "\n",
    "def populate_blob_columns(df, comms):\n",
    "    \"\"\"Use to fill the polarity_mean, subjectivity_mean, and tags columns.\"\"\"\n",
    "    \"\"\"This was first used successfully on analysis_df.\"\"\"\n",
    "    (polarity_mean, subjectivity_mean, tags, tags_count, top_tag, top_tag_count,\n",
    "            second_tag, second_tag_count, third_tag, third_tag_count) = get_blob(comms)\n",
    "    df.loc[(df.comments == comms), 'polarity_mean'] = polarity_mean\n",
    "    df.loc[(df.comments == comms), 'subjectivity_mean'] = subjectivity_mean\n",
    "    df.loc[(df.comments == comms), 'tags'] = [tags]\n",
    "    df.loc[(df.comments == comms), 'tags_count'] = tags_count\n",
    "    df.loc[(df.comments == comms), 'top_tag'] = top_tag\n",
    "    df.loc[(df.comments == comms), 'top_tag_count'] = top_tag_count\n",
    "    df.loc[(df.comments == comms), 'second_tag'] = second_tag\n",
    "    df.loc[(df.comments == comms), 'second_tag_count'] = second_tag_count\n",
    "    df.loc[(df.comments == comms), 'third_tag'] = third_tag\n",
    "    df.loc[(df.comments == comms), 'third_tag_count'] = third_tag_count\n",
    "    \n",
    "    \n",
    "for comments in analysis_df.comments.values:\n",
    "    populate_blob_columns(analysis_df, comments)"
   ]
  },
  {
   "cell_type": "code",
   "execution_count": 141,
   "metadata": {},
   "outputs": [
    {
     "name": "stdout",
     "output_type": "stream",
     "text": [
      "(86, 13)\n",
      "7\n"
     ]
    },
    {
     "data": {
      "text/html": [
       "<div>\n",
       "<style scoped>\n",
       "    .dataframe tbody tr th:only-of-type {\n",
       "        vertical-align: middle;\n",
       "    }\n",
       "\n",
       "    .dataframe tbody tr th {\n",
       "        vertical-align: top;\n",
       "    }\n",
       "\n",
       "    .dataframe thead th {\n",
       "        text-align: right;\n",
       "    }\n",
       "</style>\n",
       "<table border=\"1\" class=\"dataframe\">\n",
       "  <thead>\n",
       "    <tr style=\"text-align: right;\">\n",
       "      <th></th>\n",
       "      <th>video_id</th>\n",
       "      <th>third_tag_count</th>\n",
       "      <th>comments</th>\n",
       "      <th>polarity_mean</th>\n",
       "      <th>subjectivity_mean</th>\n",
       "      <th>tags</th>\n",
       "      <th>tags_count</th>\n",
       "      <th>top_tag</th>\n",
       "      <th>top_tag_count</th>\n",
       "      <th>second_tag</th>\n",
       "      <th>second_tag_count</th>\n",
       "      <th>third_tag</th>\n",
       "      <th>moods</th>\n",
       "    </tr>\n",
       "  </thead>\n",
       "  <tbody>\n",
       "    <tr>\n",
       "      <th>0</th>\n",
       "      <td>2raUmsKIG6U</td>\n",
       "      <td>18</td>\n",
       "      <td>that is some cool grafiti song ,  sick !  ,  d...</td>\n",
       "      <td>0.252059</td>\n",
       "      <td>0.652953</td>\n",
       "      <td>[(that, DT), (is, VBZ), (some, DT), (cool, JJ)...</td>\n",
       "      <td>246</td>\n",
       "      <td>NN</td>\n",
       "      <td>81</td>\n",
       "      <td>JJ</td>\n",
       "      <td>32</td>\n",
       "      <td>DT</td>\n",
       "      <td>CHILL</td>\n",
       "    </tr>\n",
       "    <tr>\n",
       "      <th>1</th>\n",
       "      <td>3XAkH0w3QLc</td>\n",
       "      <td>43</td>\n",
       "      <td>the   jake young   at the begining scared me l...</td>\n",
       "      <td>0.45385</td>\n",
       "      <td>0.707216</td>\n",
       "      <td>[(the, DT), (jake, NN), (young, JJ), (at, IN),...</td>\n",
       "      <td>517</td>\n",
       "      <td>NN</td>\n",
       "      <td>107</td>\n",
       "      <td>JJ</td>\n",
       "      <td>50</td>\n",
       "      <td>DT</td>\n",
       "      <td>CHILL</td>\n",
       "    </tr>\n",
       "    <tr>\n",
       "      <th>2</th>\n",
       "      <td>hXe0Elz7WV8</td>\n",
       "      <td>6</td>\n",
       "      <td>this is good .  definitely on favorite song li...</td>\n",
       "      <td>0.625</td>\n",
       "      <td>0.733333</td>\n",
       "      <td>[(this, DT), (is, VBZ), (good, JJ), (definitel...</td>\n",
       "      <td>72</td>\n",
       "      <td>NN</td>\n",
       "      <td>23</td>\n",
       "      <td>JJ</td>\n",
       "      <td>11</td>\n",
       "      <td>IN</td>\n",
       "      <td>CONFIDENT-SASSY</td>\n",
       "    </tr>\n",
       "    <tr>\n",
       "      <th>3</th>\n",
       "      <td>x1frIzjJv5E</td>\n",
       "      <td>9</td>\n",
       "      <td>i think i would sound better at the original s...</td>\n",
       "      <td>0.2875</td>\n",
       "      <td>0.811389</td>\n",
       "      <td>[(i, JJ), (think, VBP), (i, NNS), (would, MD),...</td>\n",
       "      <td>80</td>\n",
       "      <td>NN</td>\n",
       "      <td>19</td>\n",
       "      <td>DT</td>\n",
       "      <td>16</td>\n",
       "      <td>JJ</td>\n",
       "      <td>CHILL</td>\n",
       "    </tr>\n",
       "    <tr>\n",
       "      <th>5</th>\n",
       "      <td>qL034NgzGxY</td>\n",
       "      <td>0</td>\n",
       "      <td>zoo heev li kho siab heev zoo mloog</td>\n",
       "      <td>0</td>\n",
       "      <td>0</td>\n",
       "      <td>[(zoo, NN), (heev, NN), (li, NN), (kho, NN), (...</td>\n",
       "      <td>8</td>\n",
       "      <td>NN</td>\n",
       "      <td>8</td>\n",
       "      <td>NaN</td>\n",
       "      <td>0</td>\n",
       "      <td>NaN</td>\n",
       "      <td>SAD</td>\n",
       "    </tr>\n",
       "  </tbody>\n",
       "</table>\n",
       "</div>"
      ],
      "text/plain": [
       "      video_id third_tag_count  \\\n",
       "0  2raUmsKIG6U              18   \n",
       "1  3XAkH0w3QLc              43   \n",
       "2  hXe0Elz7WV8               6   \n",
       "3  x1frIzjJv5E               9   \n",
       "5  qL034NgzGxY               0   \n",
       "\n",
       "                                            comments polarity_mean  \\\n",
       "0  that is some cool grafiti song ,  sick !  ,  d...      0.252059   \n",
       "1  the   jake young   at the begining scared me l...       0.45385   \n",
       "2  this is good .  definitely on favorite song li...         0.625   \n",
       "3  i think i would sound better at the original s...        0.2875   \n",
       "5                zoo heev li kho siab heev zoo mloog             0   \n",
       "\n",
       "  subjectivity_mean                                               tags  \\\n",
       "0          0.652953  [(that, DT), (is, VBZ), (some, DT), (cool, JJ)...   \n",
       "1          0.707216  [(the, DT), (jake, NN), (young, JJ), (at, IN),...   \n",
       "2          0.733333  [(this, DT), (is, VBZ), (good, JJ), (definitel...   \n",
       "3          0.811389  [(i, JJ), (think, VBP), (i, NNS), (would, MD),...   \n",
       "5                 0  [(zoo, NN), (heev, NN), (li, NN), (kho, NN), (...   \n",
       "\n",
       "  tags_count top_tag top_tag_count second_tag second_tag_count third_tag  \\\n",
       "0        246      NN            81         JJ               32        DT   \n",
       "1        517      NN           107         JJ               50        DT   \n",
       "2         72      NN            23         JJ               11        IN   \n",
       "3         80      NN            19         DT               16        JJ   \n",
       "5          8      NN             8        NaN                0       NaN   \n",
       "\n",
       "             moods  \n",
       "0            CHILL  \n",
       "1            CHILL  \n",
       "2  CONFIDENT-SASSY  \n",
       "3            CHILL  \n",
       "5              SAD  "
      ]
     },
     "execution_count": 141,
     "metadata": {},
     "output_type": "execute_result"
    }
   ],
   "source": [
    "# Check how df looks\n",
    "print(analysis_df.shape)\n",
    "print(analysis_df.isna().sum().sum())\n",
    "analysis_df.head()"
   ]
  },
  {
   "cell_type": "markdown",
   "metadata": {},
   "source": [
    "#### Apply ML"
   ]
  },
  {
   "cell_type": "code",
   "execution_count": 142,
   "metadata": {},
   "outputs": [
    {
     "data": {
      "text/plain": [
       "array([25.205943362193363, 45.38504088504089], dtype=object)"
      ]
     },
     "execution_count": 142,
     "metadata": {},
     "output_type": "execute_result"
    }
   ],
   "source": [
    "# First normalize the data by multiplying polarity_mean and subjectivity_mean each by 100\n",
    "analysis_df.polarity_mean *= 100\n",
    "analysis_df.subjectivity_mean *= 100\n",
    "\n",
    "# Verify that the values have been scaled by 100\n",
    "analysis_df.polarity_mean.values[:2]"
   ]
  },
  {
   "cell_type": "code",
   "execution_count": 129,
   "metadata": {},
   "outputs": [],
   "source": [
    "# What if, instead of 0's for polarity_mean and subjectivity_mean,\n",
    "# the 0's were replaced by 50? Every song has some polarity and subjectivity, right?\n",
    "\n",
    "analysis_df.polarity_mean = analysis_df.polarity_mean.replace(0, 50)\n",
    "analysis_df.subjectivity_mean = analysis_df.subjectivity_mean.replace(0, 50)"
   ]
  },
  {
   "cell_type": "code",
   "execution_count": 143,
   "metadata": {},
   "outputs": [
    {
     "data": {
      "text/html": [
       "<div>\n",
       "<style scoped>\n",
       "    .dataframe tbody tr th:only-of-type {\n",
       "        vertical-align: middle;\n",
       "    }\n",
       "\n",
       "    .dataframe tbody tr th {\n",
       "        vertical-align: top;\n",
       "    }\n",
       "\n",
       "    .dataframe thead th {\n",
       "        text-align: right;\n",
       "    }\n",
       "</style>\n",
       "<table border=\"1\" class=\"dataframe\">\n",
       "  <thead>\n",
       "    <tr style=\"text-align: right;\">\n",
       "      <th></th>\n",
       "      <th>video_id</th>\n",
       "      <th>third_tag_count</th>\n",
       "      <th>comments</th>\n",
       "      <th>polarity_mean</th>\n",
       "      <th>subjectivity_mean</th>\n",
       "      <th>tags</th>\n",
       "      <th>tags_count</th>\n",
       "      <th>top_tag</th>\n",
       "      <th>top_tag_count</th>\n",
       "      <th>second_tag</th>\n",
       "      <th>second_tag_count</th>\n",
       "      <th>third_tag</th>\n",
       "      <th>moods</th>\n",
       "    </tr>\n",
       "  </thead>\n",
       "  <tbody>\n",
       "    <tr>\n",
       "      <th>87</th>\n",
       "      <td>E5SWz3suC2o</td>\n",
       "      <td>17</td>\n",
       "      <td>its yung charc ,  this beat is pure comethazin...</td>\n",
       "      <td>26.36</td>\n",
       "      <td>47.4698</td>\n",
       "      <td>[(its, PRP$), (yung, NN), (charc, NN), (this, ...</td>\n",
       "      <td>687</td>\n",
       "      <td>NN</td>\n",
       "      <td>337</td>\n",
       "      <td>JJ</td>\n",
       "      <td>275</td>\n",
       "      <td>PRP</td>\n",
       "      <td>CHILL</td>\n",
       "    </tr>\n",
       "    <tr>\n",
       "      <th>88</th>\n",
       "      <td>Vt6adjjww9g</td>\n",
       "      <td>3</td>\n",
       "      <td>https : //www . youtube . com/watch ? v=rak5d-...</td>\n",
       "      <td>0</td>\n",
       "      <td>0</td>\n",
       "      <td>[(https, NN), (//www, NN), (youtube, NN), (com...</td>\n",
       "      <td>19</td>\n",
       "      <td>NN</td>\n",
       "      <td>7</td>\n",
       "      <td>JJ</td>\n",
       "      <td>3</td>\n",
       "      <td>FW</td>\n",
       "      <td>CONFIDENT-SASSY</td>\n",
       "    </tr>\n",
       "    <tr>\n",
       "      <th>89</th>\n",
       "      <td>E6dqEdx3Org</td>\n",
       "      <td>2</td>\n",
       "      <td>oh my god dude thank you bro thank god bro ,  ...</td>\n",
       "      <td>0</td>\n",
       "      <td>0</td>\n",
       "      <td>[(oh, UH), (my, PRP$), (god, JJ), (dude, NN), ...</td>\n",
       "      <td>24</td>\n",
       "      <td>NN</td>\n",
       "      <td>13</td>\n",
       "      <td>JJ</td>\n",
       "      <td>2</td>\n",
       "      <td>PRP</td>\n",
       "      <td>CONFIDENT-SASSY</td>\n",
       "    </tr>\n",
       "    <tr>\n",
       "      <th>90</th>\n",
       "      <td>-SzIFcsrFTk</td>\n",
       "      <td>54</td>\n",
       "      <td>this, is, a, beautiful, heavenly , epic, m a s...</td>\n",
       "      <td>37.2667</td>\n",
       "      <td>72.9611</td>\n",
       "      <td>[(this, DT), (is, VBZ), (a, DT), (beautiful, N...</td>\n",
       "      <td>552</td>\n",
       "      <td>NN</td>\n",
       "      <td>117</td>\n",
       "      <td>IN</td>\n",
       "      <td>61</td>\n",
       "      <td>DT</td>\n",
       "      <td>HAPPY</td>\n",
       "    </tr>\n",
       "    <tr>\n",
       "      <th>91</th>\n",
       "      <td>ZgO2pN2xmVU</td>\n",
       "      <td>22</td>\n",
       "      <td>how wiz not gonna give bobby the laugh !  ? , ...</td>\n",
       "      <td>26.4432</td>\n",
       "      <td>47.553</td>\n",
       "      <td>[(how, WRB), (wiz, JJ), (not, RB), (gon, VBG),...</td>\n",
       "      <td>217</td>\n",
       "      <td>NN</td>\n",
       "      <td>62</td>\n",
       "      <td>JJ</td>\n",
       "      <td>24</td>\n",
       "      <td>DT</td>\n",
       "      <td>CONFIDENT-SASSY</td>\n",
       "    </tr>\n",
       "  </tbody>\n",
       "</table>\n",
       "</div>"
      ],
      "text/plain": [
       "       video_id third_tag_count  \\\n",
       "87  E5SWz3suC2o              17   \n",
       "88  Vt6adjjww9g               3   \n",
       "89  E6dqEdx3Org               2   \n",
       "90  -SzIFcsrFTk              54   \n",
       "91  ZgO2pN2xmVU              22   \n",
       "\n",
       "                                             comments polarity_mean  \\\n",
       "87  its yung charc ,  this beat is pure comethazin...         26.36   \n",
       "88  https : //www . youtube . com/watch ? v=rak5d-...             0   \n",
       "89  oh my god dude thank you bro thank god bro ,  ...             0   \n",
       "90  this, is, a, beautiful, heavenly , epic, m a s...       37.2667   \n",
       "91  how wiz not gonna give bobby the laugh !  ? , ...       26.4432   \n",
       "\n",
       "   subjectivity_mean                                               tags  \\\n",
       "87           47.4698  [(its, PRP$), (yung, NN), (charc, NN), (this, ...   \n",
       "88                 0  [(https, NN), (//www, NN), (youtube, NN), (com...   \n",
       "89                 0  [(oh, UH), (my, PRP$), (god, JJ), (dude, NN), ...   \n",
       "90           72.9611  [(this, DT), (is, VBZ), (a, DT), (beautiful, N...   \n",
       "91            47.553  [(how, WRB), (wiz, JJ), (not, RB), (gon, VBG),...   \n",
       "\n",
       "   tags_count top_tag top_tag_count second_tag second_tag_count third_tag  \\\n",
       "87        687      NN           337         JJ              275       PRP   \n",
       "88         19      NN             7         JJ                3        FW   \n",
       "89         24      NN            13         JJ                2       PRP   \n",
       "90        552      NN           117         IN               61        DT   \n",
       "91        217      NN            62         JJ               24        DT   \n",
       "\n",
       "              moods  \n",
       "87            CHILL  \n",
       "88  CONFIDENT-SASSY  \n",
       "89  CONFIDENT-SASSY  \n",
       "90            HAPPY  \n",
       "91  CONFIDENT-SASSY  "
      ]
     },
     "execution_count": 143,
     "metadata": {},
     "output_type": "execute_result"
    }
   ],
   "source": [
    "analysis_df.tail()"
   ]
  },
  {
   "cell_type": "code",
   "execution_count": 144,
   "metadata": {},
   "outputs": [],
   "source": [
    "# Next, define features for X, and target for y\n",
    "# And split data into training and test sets\n",
    "\n",
    "X = analysis_df[['polarity_mean', 'subjectivity_mean', 'tags_count', 'top_tag_count',\n",
    "                 'second_tag_count', 'third_tag_count']]\n",
    "y = analysis_df.moods\n",
    "\n",
    "X_train, X_test, y_train, y_test = train_test_split(X, y, test_size=0.25, random_state=7)"
   ]
  },
  {
   "cell_type": "code",
   "execution_count": 118,
   "metadata": {},
   "outputs": [],
   "source": [
    "# Fit a model - this is a multiclass classification, supervised machine learning problem\n",
    "# because there are 6 moods in the df moods column\n",
    "\n",
    "# Try a simple model first - KNN classifier\n",
    "from sklearn.neighbors import KNeighborsClassifier"
   ]
  },
  {
   "cell_type": "code",
   "execution_count": 145,
   "metadata": {},
   "outputs": [],
   "source": [
    "knn = KNeighborsClassifier(n_neighbors=7).fit(X_train, y_train)"
   ]
  },
  {
   "cell_type": "code",
   "execution_count": 146,
   "metadata": {},
   "outputs": [
    {
     "name": "stdout",
     "output_type": "stream",
     "text": [
      "accuracy is: 0.0\n"
     ]
    }
   ],
   "source": [
    "# Check accuracy of the model, using X_test and y_test\n",
    "accuracy = knn.score(X_test, y_test)\n",
    "print('accuracy is:', accuracy)"
   ]
  },
  {
   "cell_type": "code",
   "execution_count": 26,
   "metadata": {},
   "outputs": [],
   "source": [
    "# Now will try a more complex model - Random Forest classification\n",
    "from sklearn.ensemble import RandomForestClassifier"
   ]
  },
  {
   "cell_type": "code",
   "execution_count": 27,
   "metadata": {},
   "outputs": [],
   "source": [
    "RFC = RandomForestClassifier(n_estimators=25, max_depth=2, random_state=7)"
   ]
  },
  {
   "cell_type": "code",
   "execution_count": 147,
   "metadata": {},
   "outputs": [
    {
     "data": {
      "text/plain": [
       "RandomForestClassifier(bootstrap=True, class_weight=None, criterion='gini',\n",
       "            max_depth=2, max_features='auto', max_leaf_nodes=None,\n",
       "            min_impurity_decrease=0.0, min_impurity_split=None,\n",
       "            min_samples_leaf=1, min_samples_split=2,\n",
       "            min_weight_fraction_leaf=0.0, n_estimators=25, n_jobs=None,\n",
       "            oob_score=False, random_state=7, verbose=0, warm_start=False)"
      ]
     },
     "execution_count": 147,
     "metadata": {},
     "output_type": "execute_result"
    }
   ],
   "source": [
    "RFC.fit(X_train, y_train)"
   ]
  },
  {
   "cell_type": "code",
   "execution_count": 148,
   "metadata": {},
   "outputs": [
    {
     "name": "stdout",
     "output_type": "stream",
     "text": [
      "[0.2584825  0.16334598 0.12495001 0.19138555 0.11437989 0.14745607]\n"
     ]
    }
   ],
   "source": [
    "# See the respective importance for each of the features in X\n",
    "print(RFC.feature_importances_)"
   ]
  },
  {
   "cell_type": "code",
   "execution_count": 149,
   "metadata": {},
   "outputs": [
    {
     "name": "stdout",
     "output_type": "stream",
     "text": [
      "accuracy is: 0.13636363636363635\n"
     ]
    }
   ],
   "source": [
    "# Check accuracy of the model\n",
    "accuracy = RFC.score(X_test, y_test)\n",
    "print('accuracy is:', accuracy)"
   ]
  },
  {
   "cell_type": "code",
   "execution_count": null,
   "metadata": {},
   "outputs": [],
   "source": [
    "# Send a csv\n",
    "analysis_df.to_csv('model_training.csv')"
   ]
  },
  {
   "cell_type": "markdown",
   "metadata": {},
   "source": [
    "#### Sandbox for working with new comments, TextBlob, other"
   ]
  },
  {
   "cell_type": "code",
   "execution_count": null,
   "metadata": {},
   "outputs": [],
   "source": [
    "# Let's work with the first video's comments, to start\n",
    "\n",
    "blob = TextBlob(comments_df.comments.values[0])"
   ]
  },
  {
   "cell_type": "code",
   "execution_count": null,
   "metadata": {},
   "outputs": [],
   "source": [
    "# See if tags can be gotten for the first video's comments\n",
    "print(len(blob.tags))\n",
    "blob.tags[:3]"
   ]
  },
  {
   "cell_type": "code",
   "execution_count": null,
   "metadata": {},
   "outputs": [],
   "source": [
    "tags_filter_stopwords(blob.tags)"
   ]
  },
  {
   "cell_type": "code",
   "execution_count": null,
   "metadata": {},
   "outputs": [],
   "source": [
    "# Verify correct functioning of top_three_tag_codes\n",
    "top_three_tag_codes(blob.tags)"
   ]
  },
  {
   "cell_type": "code",
   "execution_count": null,
   "metadata": {},
   "outputs": [],
   "source": [
    "# Exploring sentiment delivered by TextBlob, on 15 May 2019\n",
    "\n",
    "polarity_list = []\n",
    "subjectivity_list = []\n",
    "for sentence in blob.sentences:\n",
    "    print('polarity and subjectivity for this sentence are:', sentence.sentiment)\n",
    "    polarity = sentence.sentiment.polarity\n",
    "    subjectivity = sentence.sentiment.subjectivity\n",
    "    if polarity !=0 :\n",
    "        polarity_list.append(polarity)\n",
    "    if subjectivity !=0 :\n",
    "        subjectivity_list.append(subjectivity)\n",
    "print('polarity_list is:', polarity_list, '\\n', 'subjectivity_list is:', subjectivity_list)"
   ]
  },
  {
   "cell_type": "code",
   "execution_count": null,
   "metadata": {},
   "outputs": [],
   "source": [
    "# Looking at a new comments csv from 16 May 2019\n",
    "\n",
    "comments1_df = pd.read_csv('new_comments1.csv')\n",
    "comments1_df.head()\n",
    "len(comments1_df.loc[comments1_df.comments == '[]'])"
   ]
  },
  {
   "cell_type": "code",
   "execution_count": null,
   "metadata": {},
   "outputs": [],
   "source": [
    "get_blob(comments_df.comments.values[0])"
   ]
  },
  {
   "cell_type": "code",
   "execution_count": null,
   "metadata": {},
   "outputs": [],
   "source": [
    "type(comments_df.comments[4])\n",
    "# get_blob(comments_df.comments[4])"
   ]
  },
  {
   "cell_type": "code",
   "execution_count": null,
   "metadata": {},
   "outputs": [],
   "source": [
    "get_blob(comments_df.comments[5])"
   ]
  },
  {
   "cell_type": "code",
   "execution_count": null,
   "metadata": {},
   "outputs": [],
   "source": [
    "'not' in stop_eng"
   ]
  },
  {
   "cell_type": "code",
   "execution_count": 31,
   "metadata": {},
   "outputs": [],
   "source": [
    "# Want to try an unsupervised approach to grouping the videos\n",
    "# Given: videos are in df with their associated comments, which have been processed,\n",
    "# and polarity, subjectivity, and tags features are also available\n",
    "\n",
    "import matplotlib.pyplot as plt\n",
    "from sklearn.cluster import KMeans"
   ]
  },
  {
   "cell_type": "code",
   "execution_count": 39,
   "metadata": {},
   "outputs": [],
   "source": [
    "kmc_df = analysis_df[['subjectivity_mean', 'top_tag_count']]"
   ]
  },
  {
   "cell_type": "code",
   "execution_count": 40,
   "metadata": {},
   "outputs": [],
   "source": [
    "kmeans = KMeans(n_clusters=6).fit(kmc_df)"
   ]
  },
  {
   "cell_type": "code",
   "execution_count": 41,
   "metadata": {},
   "outputs": [
    {
     "name": "stdout",
     "output_type": "stream",
     "text": [
      "centroids are:\n",
      " [[ 14.22828283  10.46666667]\n",
      " [ 59.86435437 181.53333333]\n",
      " [ 57.         833.        ]\n",
      " [ 73.23741848  23.82758621]\n",
      " [ 62.01157974  84.14285714]\n",
      " [ 41.59534043 365.2       ]]\n"
     ]
    }
   ],
   "source": [
    "centroids = kmeans.cluster_centers_\n",
    "print('centroids are:\\n', centroids)"
   ]
  },
  {
   "cell_type": "code",
   "execution_count": 43,
   "metadata": {},
   "outputs": [
    {
     "data": {
      "image/png": "[encoded data removed]",
      "text/plain": [
       "<Figure size 432x288 with 1 Axes>"
      ]
     },
     "metadata": {
      "needs_background": "light"
     },
     "output_type": "display_data"
    }
   ],
   "source": [
    "plt.scatter(kmc_df['subjectivity_mean'], kmc_df['top_tag_count'], c=kmeans.labels_.astype(float),\n",
    "            s=50, alpha=0.5)\n",
    "plt.scatter(centroids[:, 0], centroids[:, 1], c='red', s=50);"
   ]
  },
  {
   "cell_type": "code",
   "execution_count": 150,
   "metadata": {},
   "outputs": [],
   "source": [
    "# New data in - 20 May 2019, 1:40PM PST\n",
    "\n",
    "large_videos_df = pd.read_csv('new_videos_2.csv')\n",
    "lg_videos_comments_df = pd.read_csv('video_comments_2.csv')\n",
    "lg_videos_descrips_df = pd.read_csv('video_descriptions_2.csv')"
   ]
  },
  {
   "cell_type": "code",
   "execution_count": 152,
   "metadata": {},
   "outputs": [
    {
     "name": "stdout",
     "output_type": "stream",
     "text": [
      "(578, 4)\n",
      "(586, 3)\n"
     ]
    },
    {
     "data": {
      "text/plain": [
       "(595, 5)"
      ]
     },
     "execution_count": 152,
     "metadata": {},
     "output_type": "execute_result"
    }
   ],
   "source": [
    "print(large_videos_df.shape)\n",
    "print(lg_videos_comments_df.shape)\n",
    "lg_videos_descrips_df.shape"
   ]
  },
  {
   "cell_type": "code",
   "execution_count": 155,
   "metadata": {},
   "outputs": [],
   "source": [
    "comments_descrips_df = pd.merge(lg_videos_comments_df, lg_videos_descrips_df,\n",
    "                                how='inner', on=['video_id'])"
   ]
  },
  {
   "cell_type": "code",
   "execution_count": 156,
   "metadata": {},
   "outputs": [],
   "source": [
    "videos_all_df = pd.merge(large_videos_df, comments_descrips_df,\n",
    "                         how='inner', on=['video_id'])"
   ]
  },
  {
   "cell_type": "code",
   "execution_count": 159,
   "metadata": {},
   "outputs": [],
   "source": [
    "videos_all_df = videos_all_df.drop(['id_y', 'video_title_y'], axis=1)"
   ]
  },
  {
   "cell_type": "code",
   "execution_count": 161,
   "metadata": {},
   "outputs": [
    {
     "data": {
      "text/html": [
       "<div>\n",
       "<style scoped>\n",
       "    .dataframe tbody tr th:only-of-type {\n",
       "        vertical-align: middle;\n",
       "    }\n",
       "\n",
       "    .dataframe tbody tr th {\n",
       "        vertical-align: top;\n",
       "    }\n",
       "\n",
       "    .dataframe thead th {\n",
       "        text-align: right;\n",
       "    }\n",
       "</style>\n",
       "<table border=\"1\" class=\"dataframe\">\n",
       "  <thead>\n",
       "    <tr style=\"text-align: right;\">\n",
       "      <th></th>\n",
       "      <th>video_title</th>\n",
       "      <th>video_id</th>\n",
       "      <th>moods</th>\n",
       "      <th>labeled</th>\n",
       "      <th>id</th>\n",
       "      <th>comments</th>\n",
       "      <th>video_description</th>\n",
       "      <th>predicted_moods</th>\n",
       "    </tr>\n",
       "  </thead>\n",
       "  <tbody>\n",
       "    <tr>\n",
       "      <th>0</th>\n",
       "      <td>Disfigure - Hollah! FREE DUBSTEP Creative Comm...</td>\n",
       "      <td>ZzsWXK-MKME</td>\n",
       "      <td>HAPPY</td>\n",
       "      <td>t</td>\n",
       "      <td>524</td>\n",
       "      <td>[]</td>\n",
       "      <td>♫ Please Subscribe to Creative Commons Music F...</td>\n",
       "      <td>NaN</td>\n",
       "    </tr>\n",
       "    <tr>\n",
       "      <th>1</th>\n",
       "      <td>♩♫ Dramatic Apocalyptic Music ♪♬ - The Wastela...</td>\n",
       "      <td>5eAalHA1bAc</td>\n",
       "      <td>CHILL</td>\n",
       "      <td>t</td>\n",
       "      <td>56</td>\n",
       "      <td>['Linda composição!!!', 'Who is here from real...</td>\n",
       "      <td>INSTAGRAM! : https://instagram.com/rossbugden/...</td>\n",
       "      <td>NaN</td>\n",
       "    </tr>\n",
       "    <tr>\n",
       "      <th>2</th>\n",
       "      <td>Zend Music | Mendum - Elysium [NCS Release] | ...</td>\n",
       "      <td>sCfVL8mULEA</td>\n",
       "      <td>ANGRY</td>\n",
       "      <td>t</td>\n",
       "      <td>497</td>\n",
       "      <td>['Zend Music | Mendum - Elysium [NCS Release] ...</td>\n",
       "      <td>Zend Music | Mendum - Elysium [NCS Release] | ...</td>\n",
       "      <td>NaN</td>\n",
       "    </tr>\n",
       "    <tr>\n",
       "      <th>3</th>\n",
       "      <td>Zend Music | JPB - High [NCS Release] | Free M...</td>\n",
       "      <td>sCcGq9g5iA4</td>\n",
       "      <td>HAPPY</td>\n",
       "      <td>t</td>\n",
       "      <td>501</td>\n",
       "      <td>['Zend Music | JPB - High [NCS Release] | Free...</td>\n",
       "      <td>Zend Music | JPB - High [NCS Release] | Free M...</td>\n",
       "      <td>NaN</td>\n",
       "    </tr>\n",
       "    <tr>\n",
       "      <th>4</th>\n",
       "      <td>Nostalgy - (No Copyright Music) Sad Cinematic ...</td>\n",
       "      <td>zViXwVZpWqY</td>\n",
       "      <td>SAD</td>\n",
       "      <td>t</td>\n",
       "      <td>442</td>\n",
       "      <td>['Download this music track: http://bit.ly/2QC...</td>\n",
       "      <td>Download Music: http://bit.ly/2QC9e3K (No Copy...</td>\n",
       "      <td>NaN</td>\n",
       "    </tr>\n",
       "  </tbody>\n",
       "</table>\n",
       "</div>"
      ],
      "text/plain": [
       "                                         video_title     video_id  moods  \\\n",
       "0  Disfigure - Hollah! FREE DUBSTEP Creative Comm...  ZzsWXK-MKME  HAPPY   \n",
       "1  ♩♫ Dramatic Apocalyptic Music ♪♬ - The Wastela...  5eAalHA1bAc  CHILL   \n",
       "2  Zend Music | Mendum - Elysium [NCS Release] | ...  sCfVL8mULEA  ANGRY   \n",
       "3  Zend Music | JPB - High [NCS Release] | Free M...  sCcGq9g5iA4  HAPPY   \n",
       "4  Nostalgy - (No Copyright Music) Sad Cinematic ...  zViXwVZpWqY    SAD   \n",
       "\n",
       "  labeled   id                                           comments  \\\n",
       "0       t  524                                                 []   \n",
       "1       t   56  ['Linda composição!!!', 'Who is here from real...   \n",
       "2       t  497  ['Zend Music | Mendum - Elysium [NCS Release] ...   \n",
       "3       t  501  ['Zend Music | JPB - High [NCS Release] | Free...   \n",
       "4       t  442  ['Download this music track: http://bit.ly/2QC...   \n",
       "\n",
       "                                   video_description  predicted_moods  \n",
       "0  ♫ Please Subscribe to Creative Commons Music F...              NaN  \n",
       "1  INSTAGRAM! : https://instagram.com/rossbugden/...              NaN  \n",
       "2  Zend Music | Mendum - Elysium [NCS Release] | ...              NaN  \n",
       "3  Zend Music | JPB - High [NCS Release] | Free M...              NaN  \n",
       "4  Download Music: http://bit.ly/2QC9e3K (No Copy...              NaN  "
      ]
     },
     "execution_count": 161,
     "metadata": {},
     "output_type": "execute_result"
    }
   ],
   "source": [
    "videos_all_df = videos_all_df.rename(columns={'video_title_x': 'video_title',\n",
    "                                              'id_x': 'id'})\n",
    "videos_all_df.head()"
   ]
  },
  {
   "cell_type": "code",
   "execution_count": 162,
   "metadata": {},
   "outputs": [
    {
     "data": {
      "text/plain": [
       "(578, 8)"
      ]
     },
     "execution_count": 162,
     "metadata": {},
     "output_type": "execute_result"
    }
   ],
   "source": [
    "videos_all_df.shape"
   ]
  },
  {
   "cell_type": "code",
   "execution_count": 176,
   "metadata": {},
   "outputs": [
    {
     "data": {
      "text/plain": [
       "211"
      ]
     },
     "execution_count": 176,
     "metadata": {},
     "output_type": "execute_result"
    }
   ],
   "source": [
    "len(videos_all_df[videos_all_df.comments=='[]'])"
   ]
  },
  {
   "cell_type": "code",
   "execution_count": 170,
   "metadata": {},
   "outputs": [],
   "source": [
    "labeled_videos_df = videos_all_df[videos_all_df.labeled=='t']"
   ]
  },
  {
   "cell_type": "code",
   "execution_count": 177,
   "metadata": {},
   "outputs": [],
   "source": [
    "labeled_videos_df.to_csv('labeled_videos.csv')"
   ]
  },
  {
   "cell_type": "code",
   "execution_count": 171,
   "metadata": {},
   "outputs": [],
   "source": [
    "unlabeled_videos_df = videos_all_df[videos_all_df.labeled !='t']"
   ]
  },
  {
   "cell_type": "code",
   "execution_count": 175,
   "metadata": {},
   "outputs": [
    {
     "data": {
      "text/html": [
       "<div>\n",
       "<style scoped>\n",
       "    .dataframe tbody tr th:only-of-type {\n",
       "        vertical-align: middle;\n",
       "    }\n",
       "\n",
       "    .dataframe tbody tr th {\n",
       "        vertical-align: top;\n",
       "    }\n",
       "\n",
       "    .dataframe thead th {\n",
       "        text-align: right;\n",
       "    }\n",
       "</style>\n",
       "<table border=\"1\" class=\"dataframe\">\n",
       "  <thead>\n",
       "    <tr style=\"text-align: right;\">\n",
       "      <th></th>\n",
       "      <th>video_title</th>\n",
       "      <th>video_id</th>\n",
       "      <th>moods</th>\n",
       "      <th>labeled</th>\n",
       "      <th>id</th>\n",
       "      <th>comments</th>\n",
       "      <th>video_description</th>\n",
       "      <th>predicted_moods</th>\n",
       "    </tr>\n",
       "  </thead>\n",
       "  <tbody>\n",
       "    <tr>\n",
       "      <th>573</th>\n",
       "      <td>Jordan Schor  Marvin Divine - Want It All (Bas...</td>\n",
       "      <td>w2XlLDlge2c</td>\n",
       "      <td>HAPPY</td>\n",
       "      <td>NaN</td>\n",
       "      <td>1113</td>\n",
       "      <td>['Mantap gan music nya']</td>\n",
       "      <td>Jangan Lupa LIKE, SHARE &amp; SUBSCRIBE ^_^\\n\\n\\nN...</td>\n",
       "      <td>NaN</td>\n",
       "    </tr>\n",
       "    <tr>\n",
       "      <th>574</th>\n",
       "      <td>Cinematic Motivational - Telifsiz Müzik -  No ...</td>\n",
       "      <td>RpGcUrP6Qzs</td>\n",
       "      <td>HAPPY</td>\n",
       "      <td>NaN</td>\n",
       "      <td>1114</td>\n",
       "      <td>[]</td>\n",
       "      <td>Download Music: http://bit.ly/2Gsq6H3 (No Copy...</td>\n",
       "      <td>NaN</td>\n",
       "    </tr>\n",
       "    <tr>\n",
       "      <th>575</th>\n",
       "      <td>Snow Falling Animation | 4K |With Royalty Free...</td>\n",
       "      <td>2d3vBG8VfiM</td>\n",
       "      <td>HAPPY</td>\n",
       "      <td>NaN</td>\n",
       "      <td>1115</td>\n",
       "      <td>[]</td>\n",
       "      <td>Snow Falling Animation | 4K | With Royalty Fre...</td>\n",
       "      <td>NaN</td>\n",
       "    </tr>\n",
       "    <tr>\n",
       "      <th>576</th>\n",
       "      <td>DRW – Programmer [House] from Royalty Free Pla...</td>\n",
       "      <td>l3vEtwBRGPE</td>\n",
       "      <td>HAPPY</td>\n",
       "      <td>NaN</td>\n",
       "      <td>1116</td>\n",
       "      <td>['Fleeting tune, jams!!!', 'I am glad that I f...</td>\n",
       "      <td>Royalty Free Planet is home to the best qualit...</td>\n",
       "      <td>NaN</td>\n",
       "    </tr>\n",
       "    <tr>\n",
       "      <th>577</th>\n",
       "      <td>FUTURE SHOCK - No Copyright Music - Elelectro ...</td>\n",
       "      <td>RNd5JYLL-z0</td>\n",
       "      <td>HAPPY</td>\n",
       "      <td>NaN</td>\n",
       "      <td>1117</td>\n",
       "      <td>['Bella Brother!', 'Inquietantemente, ipnotica...</td>\n",
       "      <td>Elelectro dance music FREE DOWNLOAD\\nno copyri...</td>\n",
       "      <td>NaN</td>\n",
       "    </tr>\n",
       "  </tbody>\n",
       "</table>\n",
       "</div>"
      ],
      "text/plain": [
       "                                           video_title     video_id  moods  \\\n",
       "573  Jordan Schor  Marvin Divine - Want It All (Bas...  w2XlLDlge2c  HAPPY   \n",
       "574  Cinematic Motivational - Telifsiz Müzik -  No ...  RpGcUrP6Qzs  HAPPY   \n",
       "575  Snow Falling Animation | 4K |With Royalty Free...  2d3vBG8VfiM  HAPPY   \n",
       "576  DRW – Programmer [House] from Royalty Free Pla...  l3vEtwBRGPE  HAPPY   \n",
       "577  FUTURE SHOCK - No Copyright Music - Elelectro ...  RNd5JYLL-z0  HAPPY   \n",
       "\n",
       "    labeled    id                                           comments  \\\n",
       "573     NaN  1113                           ['Mantap gan music nya']   \n",
       "574     NaN  1114                                                 []   \n",
       "575     NaN  1115                                                 []   \n",
       "576     NaN  1116  ['Fleeting tune, jams!!!', 'I am glad that I f...   \n",
       "577     NaN  1117  ['Bella Brother!', 'Inquietantemente, ipnotica...   \n",
       "\n",
       "                                     video_description  predicted_moods  \n",
       "573  Jangan Lupa LIKE, SHARE & SUBSCRIBE ^_^\\n\\n\\nN...              NaN  \n",
       "574  Download Music: http://bit.ly/2Gsq6H3 (No Copy...              NaN  \n",
       "575  Snow Falling Animation | 4K | With Royalty Fre...              NaN  \n",
       "576  Royalty Free Planet is home to the best qualit...              NaN  \n",
       "577  Elelectro dance music FREE DOWNLOAD\\nno copyri...              NaN  "
      ]
     },
     "execution_count": 175,
     "metadata": {},
     "output_type": "execute_result"
    }
   ],
   "source": [
    "unlabeled_videos_df.tail()"
   ]
  },
  {
   "cell_type": "code",
   "execution_count": 178,
   "metadata": {},
   "outputs": [],
   "source": [
    "unlabeled_videos_df.to_csv('unlabeled_videos.csv')"
   ]
  },
  {
   "cell_type": "code",
   "execution_count": 103,
   "metadata": {},
   "outputs": [],
   "source": [
    "tags_columns = ['polarity_mean', 'subjectivity_mean', 'tags', 'tags_count', 'top_tag', 'top_tag_count',\n",
    "                'second_tag', 'second_tag_count', 'third_tag', 'third_tag_count']\n",
    "lg_videos_comments_df = pd.concat([lg_videos_comments_df, pd.DataFrame(columns=tags_columns)], axis=1)"
   ]
  },
  {
   "cell_type": "code",
   "execution_count": 104,
   "metadata": {},
   "outputs": [
    {
     "data": {
      "text/plain": [
       "(539, 14)"
      ]
     },
     "execution_count": 104,
     "metadata": {},
     "output_type": "execute_result"
    }
   ],
   "source": [
    "lg_videos_comments_df.shape"
   ]
  },
  {
   "cell_type": "code",
   "execution_count": 105,
   "metadata": {},
   "outputs": [],
   "source": [
    "lg_videos_comments_df = lg_videos_comments_df[lg_videos_comments_df.comments != '[]']"
   ]
  },
  {
   "cell_type": "code",
   "execution_count": 106,
   "metadata": {},
   "outputs": [
    {
     "data": {
      "text/plain": [
       "(337, 14)"
      ]
     },
     "execution_count": 106,
     "metadata": {},
     "output_type": "execute_result"
    }
   ],
   "source": [
    "lg_videos_comments_df.shape"
   ]
  },
  {
   "cell_type": "code",
   "execution_count": 107,
   "metadata": {},
   "outputs": [
    {
     "name": "stdout",
     "output_type": "stream",
     "text": [
      "[('NN', 43), ('JJ', 19), ('IN', 14)] len(c.most_common(3)) is: 3\n",
      "[('NN', 40), ('JJ', 10), ('FW', 5)] len(c.most_common(3)) is: 3\n",
      "[('NN', 180), ('JJ', 51), ('FW', 38)] len(c.most_common(3)) is: 3\n",
      "[('NN', 43), ('JJ', 16), ('DT', 9)] len(c.most_common(3)) is: 3\n",
      "[('NN', 65), ('JJ', 31), ('DT', 20)] len(c.most_common(3)) is: 3\n",
      "[('NN', 117), ('IN', 61), ('DT', 54)] len(c.most_common(3)) is: 3\n",
      "[('NN', 35), ('JJ', 9), ('VB', 6)] len(c.most_common(3)) is: 3\n",
      "[('NNP', 19), ('NN', 10), ('CD', 5)] len(c.most_common(3)) is: 3\n",
      "[('NN', 120), ('NNP', 37), ('IN', 27)] len(c.most_common(3)) is: 3\n",
      "[('NN', 168), ('IN', 83), ('VB', 83)] len(c.most_common(3)) is: 3\n",
      "[('NN', 187), ('JJ', 43), ('FW', 39)] len(c.most_common(3)) is: 3\n",
      "[('NN', 616), ('JJ', 177), ('FW', 109)] len(c.most_common(3)) is: 3\n",
      "[('NN', 11), ('PRP', 7), ('VB', 5)] len(c.most_common(3)) is: 3\n",
      "[('NN', 165), ('JJ', 52), ('FW', 49)] len(c.most_common(3)) is: 3\n",
      "[('NN', 84), ('FW', 20), ('JJ', 15)] len(c.most_common(3)) is: 3\n",
      "[('NN', 43), ('JJ', 23), ('IN', 21)] len(c.most_common(3)) is: 3\n",
      "[('NN', 452), ('JJ', 103), ('FW', 89)] len(c.most_common(3)) is: 3\n",
      "[('NN', 6), ('VBP', 3), ('DT', 3)] len(c.most_common(3)) is: 3\n",
      "[('NN', 208), ('IN', 87), ('JJ', 66)] len(c.most_common(3)) is: 3\n",
      "[('NN', 121), ('IN', 55), ('DT', 39)] len(c.most_common(3)) is: 3\n",
      "[('NN', 230), ('FW', 70), ('JJ', 63)] len(c.most_common(3)) is: 3\n",
      "[('NN', 11), ('NNS', 5), ('VBP', 4)] len(c.most_common(3)) is: 3\n",
      "[('NN', 80), ('JJ', 17), ('FW', 6)] len(c.most_common(3)) is: 3\n",
      "[('VBP', 2), ('NN', 1), ('PRP', 1)] len(c.most_common(3)) is: 3\n",
      "[('NN', 12), ('JJ', 5), ('IN', 3)] len(c.most_common(3)) is: 3\n",
      "[('NN', 4)] len(c.most_common(3)) is: 1\n",
      "[('NN', 53), ('DT', 16), ('JJ', 10)] len(c.most_common(3)) is: 3\n",
      "[('NN', 2), ('VB', 2), ('CD', 1)] len(c.most_common(3)) is: 3\n",
      "[('NN', 12), ('VBG', 3), ('JJ', 3)] len(c.most_common(3)) is: 3\n",
      "[('NN', 183), ('JJ', 83), ('FW', 44)] len(c.most_common(3)) is: 3\n",
      "[('NN', 12), ('JJ', 9), ('RB', 4)] len(c.most_common(3)) is: 3\n",
      "[('NN', 71), ('IN', 40), ('RB', 35)] len(c.most_common(3)) is: 3\n",
      "[('NN', 9), ('JJ', 6), ('IN', 4)] len(c.most_common(3)) is: 3\n",
      "[('NN', 5), ('JJ', 4), ('NNS', 1)] len(c.most_common(3)) is: 3\n",
      "[('NN', 27), ('FW', 6), ('JJ', 5)] len(c.most_common(3)) is: 3\n",
      "[('NN', 5), ('JJ', 2)] len(c.most_common(3)) is: 2\n",
      "[('NN', 7), ('JJ', 3), ('FW', 3)] len(c.most_common(3)) is: 3\n",
      "[('NN', 2), ('JJ', 2), ('NNS', 1)] len(c.most_common(3)) is: 3\n",
      "[('NN', 23), ('JJ', 6), ('VBP', 2)] len(c.most_common(3)) is: 3\n",
      "[('NN', 11), ('VB', 3), ('PRP$', 3)] len(c.most_common(3)) is: 3\n",
      "[('NN', 4), ('JJ', 2), ('UH', 1)] len(c.most_common(3)) is: 3\n",
      "[('NN', 337), ('JJ', 275), ('PRP', 17)] len(c.most_common(3)) is: 3\n",
      "[('NN', 51), ('JJ', 23), ('VB', 21)] len(c.most_common(3)) is: 3\n",
      "[('NN', 40), ('IN', 18), ('JJ', 18)] len(c.most_common(3)) is: 3\n",
      "[('NN', 92), ('IN', 70), ('PRP', 59)] len(c.most_common(3)) is: 3\n",
      "[('NN', 8), ('NNS', 1), ('JJ', 1)] len(c.most_common(3)) is: 3\n",
      "[('NN', 11), ('FW', 6), ('NNS', 4)] len(c.most_common(3)) is: 3\n",
      "[('NN', 75), ('JJ', 32), ('DT', 27)] len(c.most_common(3)) is: 3\n",
      "[('NN', 4), ('JJ', 2), ('JJS', 1)] len(c.most_common(3)) is: 3\n",
      "[('NN', 5), ('VBD', 1), ('PRP', 1)] len(c.most_common(3)) is: 3\n",
      "[('NN', 75), ('JJ', 27), ('DT', 23)] len(c.most_common(3)) is: 3\n",
      "[('NN', 81), ('JJ', 32), ('DT', 18)] len(c.most_common(3)) is: 3\n",
      "[('NN', 84), ('JJ', 46), ('IN', 29)] len(c.most_common(3)) is: 3\n",
      "[('VBP', 2), ('PDT', 1), ('DT', 1)] len(c.most_common(3)) is: 3\n",
      "[('NN', 179), ('RB', 63), ('VB', 63)] len(c.most_common(3)) is: 3\n",
      "[('NN', 11), ('RB', 4), ('DT', 3)] len(c.most_common(3)) is: 3\n",
      "[('JJ', 7), ('NN', 6), ('VB', 2)] len(c.most_common(3)) is: 3\n",
      "[('NN', 7), ('JJ', 5), ('DT', 3)] len(c.most_common(3)) is: 3\n",
      "[('DT', 2), ('PRP', 1), ('VBP', 1)] len(c.most_common(3)) is: 3\n",
      "[('NN', 9), ('RB', 4), ('IN', 3)] len(c.most_common(3)) is: 3\n",
      "[('JJ', 4), ('RB', 2), ('VBP', 1)] len(c.most_common(3)) is: 3\n",
      "[('NN', 1)] len(c.most_common(3)) is: 1\n",
      "[('NN', 57), ('JJ', 25), ('DT', 16)] len(c.most_common(3)) is: 3\n",
      "[('NN', 49), ('NNP', 32), ('JJ', 16)] len(c.most_common(3)) is: 3\n",
      "[('NN', 85), ('DT', 48), ('IN', 34)] len(c.most_common(3)) is: 3\n",
      "[('VB', 88), ('NN', 78), ('JJ', 44)] len(c.most_common(3)) is: 3\n",
      "[('NN', 82), ('DT', 37), ('IN', 36)] len(c.most_common(3)) is: 3\n",
      "[('NN', 240), ('JJ', 60), ('FW', 25)] len(c.most_common(3)) is: 3\n",
      "[('NN', 25), ('IN', 8), ('JJ', 8)] len(c.most_common(3)) is: 3\n",
      "[('NN', 109), ('JJ', 45), ('IN', 43)] len(c.most_common(3)) is: 3\n",
      "[('NN', 9), ('JJ', 3), ('VBP', 2)] len(c.most_common(3)) is: 3\n",
      "[('NN', 149), ('PRP', 122), ('JJ', 94)] len(c.most_common(3)) is: 3\n",
      "[('NN', 9), ('JJ', 4), ('IN', 2)] len(c.most_common(3)) is: 3\n",
      "[('NN', 40), ('JJ', 16), ('DT', 12)] len(c.most_common(3)) is: 3\n",
      "[('NN', 35), ('JJ', 15), ('VB', 15)] len(c.most_common(3)) is: 3\n",
      "[('NN', 152), ('IN', 61), ('DT', 55)] len(c.most_common(3)) is: 3\n",
      "[('VB', 5), ('NN', 1), ('MD', 1)] len(c.most_common(3)) is: 3\n",
      "[('NN', 19), ('DT', 16), ('JJ', 9)] len(c.most_common(3)) is: 3\n",
      "[('JJ', 4), ('NN', 4), ('DT', 3)] len(c.most_common(3)) is: 3\n",
      "[('NN', 58), ('IN', 12), ('DT', 12)] len(c.most_common(3)) is: 3\n",
      "[('NN', 8)] len(c.most_common(3)) is: 1\n",
      "[('NN', 36), ('NNP', 21), ('JJ', 12)] len(c.most_common(3)) is: 3\n",
      "[('NN', 347), ('JJ', 73), ('IN', 63)] len(c.most_common(3)) is: 3\n",
      "[('NN', 23), ('JJ', 9), ('PRP', 9)] len(c.most_common(3)) is: 3\n",
      "[('NN', 29), ('JJ', 21), ('IN', 21)] len(c.most_common(3)) is: 3\n",
      "[('JJ', 16), ('NN', 16), ('VB', 7)] len(c.most_common(3)) is: 3\n",
      "[('NN', 10), ('VBP', 6), ('JJ', 6)] len(c.most_common(3)) is: 3\n",
      "[('NN', 25), ('DT', 11), ('RB', 8)] len(c.most_common(3)) is: 3\n",
      "[('NN', 245), ('IN', 118), ('DT', 96)] len(c.most_common(3)) is: 3\n",
      "[('NN', 23), ('JJ', 11), ('IN', 6)] len(c.most_common(3)) is: 3\n",
      "[('NN', 57), ('JJ', 10), ('DT', 8)] len(c.most_common(3)) is: 3\n",
      "[('NN', 57), ('RB', 20), ('JJ', 17)] len(c.most_common(3)) is: 3\n",
      "[('NN', 55), ('FW', 11), ('NNP', 11)] len(c.most_common(3)) is: 3\n",
      "[('NN', 153), ('NNP', 100), ('JJ', 51)] len(c.most_common(3)) is: 3\n",
      "[('NN', 83), ('IN', 43), ('DT', 36)] len(c.most_common(3)) is: 3\n",
      "[('NN', 78), ('JJ', 24), ('DT', 13)] len(c.most_common(3)) is: 3\n",
      "[('IN', 18), ('NN', 18), ('DT', 9)] len(c.most_common(3)) is: 3\n",
      "[('NN', 9), ('DT', 6), ('MD', 3)] len(c.most_common(3)) is: 3\n",
      "[('NN', 304), ('DT', 120), ('JJ', 106)] len(c.most_common(3)) is: 3\n",
      "[('NN', 144), ('JJ', 73), ('IN', 53)] len(c.most_common(3)) is: 3\n",
      "[('NN', 106), ('PRP', 42), ('DT', 35)] len(c.most_common(3)) is: 3\n",
      "[('NN', 102), ('DT', 77), ('VB', 41)] len(c.most_common(3)) is: 3\n",
      "[('NN', 44), ('DT', 13), ('VB', 11)] len(c.most_common(3)) is: 3\n",
      "[('NN', 2), ('JJ', 1), ('CC', 1)] len(c.most_common(3)) is: 3\n",
      "[('NN', 93), ('IN', 26), ('JJ', 21)] len(c.most_common(3)) is: 3\n",
      "[('NN', 158), ('PRP', 130), ('RB', 100)] len(c.most_common(3)) is: 3\n",
      "[('NN', 186), ('VB', 81), ('JJ', 76)] len(c.most_common(3)) is: 3\n",
      "[('NN', 63), ('JJ', 14), ('IN', 12)] len(c.most_common(3)) is: 3\n",
      "[('NN', 491), ('DT', 207), ('IN', 174)] len(c.most_common(3)) is: 3\n",
      "[('NN', 157), ('JJ', 31), ('DT', 9)] len(c.most_common(3)) is: 3\n",
      "[('NN', 15), ('JJ', 6), ('PRP', 5)] len(c.most_common(3)) is: 3\n",
      "[('NN', 7), ('JJ', 3), ('PRP$', 2)] len(c.most_common(3)) is: 3\n",
      "[('NN', 23), ('JJ', 11), ('DT', 7)] len(c.most_common(3)) is: 3\n",
      "[('NN', 19), ('JJ', 11), ('VB', 2)] len(c.most_common(3)) is: 3\n",
      "[('NN', 21), ('JJ', 9), ('IN', 4)] len(c.most_common(3)) is: 3\n",
      "[('NN', 6), ('VBP', 2), ('DT', 2)] len(c.most_common(3)) is: 3\n",
      "[('NN', 27), ('JJ', 13), ('FW', 8)] len(c.most_common(3)) is: 3\n",
      "[('NN', 5), ('JJ', 4), ('DT', 1)] len(c.most_common(3)) is: 3\n",
      "[('NN', 35), ('JJ', 15), ('IN', 11)] len(c.most_common(3)) is: 3\n",
      "[('NN', 44), ('JJ', 15), ('PRP', 13)] len(c.most_common(3)) is: 3\n",
      "[('NN', 15), ('JJ', 7), ('DT', 2)] len(c.most_common(3)) is: 3\n",
      "[('JJ', 1), ('NNP', 1), ('NN', 1)] len(c.most_common(3)) is: 3\n",
      "[('JJ', 25), ('NN', 22), ('RB', 13)] len(c.most_common(3)) is: 3\n",
      "[('NN', 3), ('VBP', 1), ('DT', 1)] len(c.most_common(3)) is: 3\n",
      "[('NN', 69), ('JJ', 22), ('NNS', 14)] len(c.most_common(3)) is: 3\n",
      "[('NN', 26), ('NNP', 11), ('DT', 10)] len(c.most_common(3)) is: 3\n",
      "[('NN', 42), ('JJ', 3), ('RB', 2)] len(c.most_common(3)) is: 3\n",
      "[('NN', 15), ('JJ', 10), ('RB', 9)] len(c.most_common(3)) is: 3\n",
      "[('NN', 2), ('JJ', 2), ('DT', 1)] len(c.most_common(3)) is: 3\n",
      "[('NN', 16), ('JJ', 12), ('RB', 4)] len(c.most_common(3)) is: 3\n",
      "[('NN', 3), ('JJ', 2), ('UH', 1)] len(c.most_common(3)) is: 3\n"
     ]
    },
    {
     "name": "stdout",
     "output_type": "stream",
     "text": [
      "[('NN', 54), ('JJ', 17), ('DT', 7)] len(c.most_common(3)) is: 3\n",
      "[('NN', 5), ('JJ', 3), ('DT', 2)] len(c.most_common(3)) is: 3\n",
      "[('NN', 47), ('IN', 29), ('DT', 22)] len(c.most_common(3)) is: 3\n",
      "[('NN', 63), ('DT', 27), ('JJ', 26)] len(c.most_common(3)) is: 3\n",
      "[('NN', 7), ('JJ', 4), ('IN', 3)] len(c.most_common(3)) is: 3\n",
      "[('NN', 7), ('NNS', 3), ('IN', 3)] len(c.most_common(3)) is: 3\n",
      "[('NN', 11), ('JJ', 9), ('RB', 8)] len(c.most_common(3)) is: 3\n",
      "[('NN', 105), ('JJ', 50), ('IN', 42)] len(c.most_common(3)) is: 3\n",
      "[('JJ', 3), ('NN', 2), ('VB', 2)] len(c.most_common(3)) is: 3\n",
      "[('NN', 78), ('JJ', 25), ('NNS', 10)] len(c.most_common(3)) is: 3\n",
      "[('NN', 9), ('PRP$', 3), ('NNS', 2)] len(c.most_common(3)) is: 3\n",
      "[('NN', 5), ('VB', 3), ('JJ', 3)] len(c.most_common(3)) is: 3\n",
      "[('NN', 12)] len(c.most_common(3)) is: 1\n",
      "[('NN', 3), ('VB', 3), ('NNS', 2)] len(c.most_common(3)) is: 3\n",
      "[('NN', 217), ('JJ', 47), ('NNP', 41)] len(c.most_common(3)) is: 3\n",
      "[('NN', 16), ('JJ', 6), ('DT', 5)] len(c.most_common(3)) is: 3\n",
      "[('NN', 32), ('JJ', 22), ('DT', 7)] len(c.most_common(3)) is: 3\n",
      "[('NN', 15), ('DT', 4), ('IN', 4)] len(c.most_common(3)) is: 3\n",
      "[('NN', 2), ('VB', 1), ('PRP$', 1)] len(c.most_common(3)) is: 3\n",
      "[('NN', 20), ('JJ', 11), ('IN', 10)] len(c.most_common(3)) is: 3\n",
      "[('NN', 8), ('JJ', 3), ('IN', 3)] len(c.most_common(3)) is: 3\n",
      "[('NN', 73), ('IN', 25), ('DT', 25)] len(c.most_common(3)) is: 3\n",
      "[('NN', 25), ('JJ', 13), ('RB', 5)] len(c.most_common(3)) is: 3\n",
      "[('NN', 48), ('JJ', 22), ('RB', 9)] len(c.most_common(3)) is: 3\n",
      "[('NN', 2), ('JJ', 1)] len(c.most_common(3)) is: 2\n",
      "[('NN', 8), ('DT', 4), ('VBP', 3)] len(c.most_common(3)) is: 3\n",
      "[('NN', 78), ('JJ', 30), ('VB', 24)] len(c.most_common(3)) is: 3\n",
      "[('NN', 31), ('JJ', 21), ('FW', 8)] len(c.most_common(3)) is: 3\n",
      "[('NN', 85), ('IN', 34), ('JJ', 22)] len(c.most_common(3)) is: 3\n",
      "[('NN', 1), ('NNS', 1), ('VBP', 1)] len(c.most_common(3)) is: 3\n",
      "[('RB', 1)] len(c.most_common(3)) is: 1\n",
      "[('NN', 32), ('DT', 12), ('JJ', 11)] len(c.most_common(3)) is: 3\n",
      "[('NN', 5), ('IN', 3), ('JJ', 2)] len(c.most_common(3)) is: 3\n",
      "[('NN', 8), ('DT', 5), ('JJ', 5)] len(c.most_common(3)) is: 3\n",
      "[('NN', 8), ('NNS', 3), ('VBP', 2)] len(c.most_common(3)) is: 3\n",
      "[('PRP$', 1), ('RB', 1), ('JJ', 1)] len(c.most_common(3)) is: 3\n",
      "[('NN', 91), ('CD', 38), ('JJ', 36)] len(c.most_common(3)) is: 3\n",
      "[('NN', 20), ('JJ', 10), ('IN', 5)] len(c.most_common(3)) is: 3\n",
      "[('NN', 31), ('IN', 8), ('VB', 8)] len(c.most_common(3)) is: 3\n",
      "[('NN', 77), ('JJ', 37), ('IN', 31)] len(c.most_common(3)) is: 3\n",
      "[('NN', 2), ('NNP', 1)] len(c.most_common(3)) is: 2\n",
      "[('NN', 7), ('JJ', 3), ('FW', 1)] len(c.most_common(3)) is: 3\n",
      "[('NN', 66), ('JJ', 22), ('IN', 19)] len(c.most_common(3)) is: 3\n",
      "[('JJ', 1), ('VB', 1), ('PRP$', 1)] len(c.most_common(3)) is: 3\n",
      "[('NN', 146), ('PRP', 108), ('IN', 91)] len(c.most_common(3)) is: 3\n",
      "[('NN', 41), ('JJ', 21), ('IN', 6)] len(c.most_common(3)) is: 3\n",
      "[('NN', 3), ('DT', 1), ('JJS', 1)] len(c.most_common(3)) is: 3\n",
      "[('NN', 5), ('DT', 1), ('JJS', 1)] len(c.most_common(3)) is: 3\n",
      "[('NN', 4), ('VBP', 2), ('DT', 2)] len(c.most_common(3)) is: 3\n",
      "[('NN', 98), ('VB', 35), ('DT', 29)] len(c.most_common(3)) is: 3\n",
      "[('JJ', 1), ('NN', 1)] len(c.most_common(3)) is: 2\n",
      "[('NN', 833), ('JJ', 235), ('FW', 83)] len(c.most_common(3)) is: 3\n",
      "[('NN', 18), ('PRP', 6), ('IN', 5)] len(c.most_common(3)) is: 3\n",
      "[('NN', 125), ('IN', 71), ('DT', 59)] len(c.most_common(3)) is: 3\n",
      "[('NN', 23), ('IN', 7), ('RB', 6)] len(c.most_common(3)) is: 3\n",
      "[('IN', 1)] len(c.most_common(3)) is: 1\n",
      "[('NN', 18), ('VB', 11), ('JJ', 10)] len(c.most_common(3)) is: 3\n",
      "[('NN', 4), ('RB', 3), ('JJ', 3)] len(c.most_common(3)) is: 3\n",
      "[('NN', 8), ('PRP', 3), ('VBN', 3)] len(c.most_common(3)) is: 3\n",
      "[('NN', 2), ('JJ', 1)] len(c.most_common(3)) is: 2\n",
      "[('NN', 52), ('JJ', 19), ('IN', 16)] len(c.most_common(3)) is: 3\n",
      "[('NNP', 4), ('NN', 2), ('JJ', 1)] len(c.most_common(3)) is: 3\n",
      "[('NN', 10), ('JJ', 9), ('RB', 7)] len(c.most_common(3)) is: 3\n",
      "[('NN', 137), ('IN', 76), ('JJ', 67)] len(c.most_common(3)) is: 3\n",
      "[('NN', 62), ('JJ', 33), ('VB', 22)] len(c.most_common(3)) is: 3\n",
      "[('NN', 119), ('JJ', 64), ('IN', 48)] len(c.most_common(3)) is: 3\n",
      "[('NN', 107), ('JJ', 50), ('DT', 43)] len(c.most_common(3)) is: 3\n",
      "[('NN', 4), ('IN', 2), ('VBG', 2)] len(c.most_common(3)) is: 3\n",
      "[('NNP', 124), ('NN', 44), ('JJ', 6)] len(c.most_common(3)) is: 3\n",
      "[('NN', 14), ('DT', 4), ('IN', 4)] len(c.most_common(3)) is: 3\n",
      "[('NN', 164), ('IN', 74), ('DT', 60)] len(c.most_common(3)) is: 3\n",
      "[('JJ', 4), ('NN', 4), ('RB', 2)] len(c.most_common(3)) is: 3\n",
      "[('NN', 3)] len(c.most_common(3)) is: 1\n",
      "[('NN', 27), ('VB', 11), ('PRP', 8)] len(c.most_common(3)) is: 3\n",
      "[('RB', 1), ('JJ', 1), ('NNS', 1)] len(c.most_common(3)) is: 3\n",
      "[('NN', 1)] len(c.most_common(3)) is: 1\n",
      "[('NN', 1)] len(c.most_common(3)) is: 1\n",
      "[('NN', 3), ('PRP$', 2), ('CD', 1)] len(c.most_common(3)) is: 3\n",
      "[('NN', 30), ('JJ', 8), ('RB', 3)] len(c.most_common(3)) is: 3\n",
      "[('NN', 21), ('DT', 8), ('VB', 6)] len(c.most_common(3)) is: 3\n",
      "[('NN', 42), ('IN', 17), ('DT', 12)] len(c.most_common(3)) is: 3\n",
      "[('NN', 4), ('VB', 2), ('RP', 2)] len(c.most_common(3)) is: 3\n",
      "[('NN', 2), ('PRP', 1), ('JJ', 1)] len(c.most_common(3)) is: 3\n",
      "[('VB', 1), ('RP', 1), ('IN', 1)] len(c.most_common(3)) is: 3\n",
      "[('NN', 25), ('IN', 12), ('JJ', 10)] len(c.most_common(3)) is: 3\n",
      "[('NN', 49), ('JJ', 23), ('RB', 15)] len(c.most_common(3)) is: 3\n",
      "[('NN', 60), ('DT', 21), ('JJ', 21)] len(c.most_common(3)) is: 3\n",
      "[('NNP', 9), ('JJ', 2)] len(c.most_common(3)) is: 2\n",
      "[('NN', 57), ('JJ', 26), ('IN', 24)] len(c.most_common(3)) is: 3\n",
      "[('JJ', 1)] len(c.most_common(3)) is: 1\n",
      "[('NN', 150), ('FW', 64), ('JJ', 45)] len(c.most_common(3)) is: 3\n",
      "[('NN', 126), ('JJ', 43), ('CD', 16)] len(c.most_common(3)) is: 3\n",
      "[('NN', 7), ('JJ', 2), ('FW', 1)] len(c.most_common(3)) is: 3\n",
      "[('NN', 6), ('JJ', 5), ('VBP', 2)] len(c.most_common(3)) is: 3\n",
      "[('NN', 4), ('RB', 3), ('PRP', 2)] len(c.most_common(3)) is: 3\n",
      "[('RB', 5), ('IN', 4), ('DT', 3)] len(c.most_common(3)) is: 3\n",
      "[('NN', 4), ('JJ', 3), ('CD', 2)] len(c.most_common(3)) is: 3\n",
      "[('NN', 1)] len(c.most_common(3)) is: 1\n",
      "[('JJ', 1), ('NN', 1)] len(c.most_common(3)) is: 2\n",
      "[('PRP', 2), ('NN', 2), ('MD', 1)] len(c.most_common(3)) is: 3\n",
      "[('NN', 11), ('JJ', 5), ('IN', 3)] len(c.most_common(3)) is: 3\n",
      "[('NN', 29), ('IN', 9), ('JJ', 9)] len(c.most_common(3)) is: 3\n",
      "[('NN', 2), ('IN', 1), ('RBR', 1)] len(c.most_common(3)) is: 3\n",
      "[('NN', 13), ('PRP', 4), ('IN', 3)] len(c.most_common(3)) is: 3\n",
      "[('NN', 1)] len(c.most_common(3)) is: 1\n",
      "[('NN', 9), ('NNS', 1), ('IN', 1)] len(c.most_common(3)) is: 3\n",
      "[('NN', 17), ('VB', 5), ('IN', 4)] len(c.most_common(3)) is: 3\n",
      "[('IN', 4), ('NN', 2), ('PRP', 2)] len(c.most_common(3)) is: 3\n",
      "[('NN', 2), ('UH', 1), ('PRP$', 1)] len(c.most_common(3)) is: 3\n",
      "[('NN', 45), ('JJ', 23), ('VB', 11)] len(c.most_common(3)) is: 3\n",
      "[('NN', 50), ('IN', 18), ('JJ', 17)] len(c.most_common(3)) is: 3\n",
      "[('NNP', 25), ('NN', 8), ('JJ', 7)] len(c.most_common(3)) is: 3\n",
      "[('NN', 15), ('PRP', 4), ('IN', 3)] len(c.most_common(3)) is: 3\n",
      "[('NN', 9), ('JJ', 5), ('VBG', 3)] len(c.most_common(3)) is: 3\n",
      "[('NN', 196), ('CD', 101), ('JJ', 80)] len(c.most_common(3)) is: 3\n",
      "[('NN', 26), ('DT', 12), ('IN', 9)] len(c.most_common(3)) is: 3\n",
      "[('NN', 48), ('VB', 18), ('IN', 17)] len(c.most_common(3)) is: 3\n",
      "[('NN', 7), ('NNP', 7), ('JJ', 2)] len(c.most_common(3)) is: 3\n",
      "[('NN', 26), ('NNP', 12), ('PRP', 8)] len(c.most_common(3)) is: 3\n",
      "[('NN', 4), ('JJ', 2), ('IN', 2)] len(c.most_common(3)) is: 3\n",
      "[('NN', 58), ('JJ', 17), ('IN', 17)] len(c.most_common(3)) is: 3\n",
      "[('NN', 3), ('JJ', 1), ('CD', 1)] len(c.most_common(3)) is: 3\n",
      "[('NN', 43), ('JJ', 14), ('DT', 11)] len(c.most_common(3)) is: 3\n",
      "[('NN', 15), ('JJ', 8), ('VB', 5)] len(c.most_common(3)) is: 3\n",
      "[('NN', 15), ('IN', 10), ('JJ', 8)] len(c.most_common(3)) is: 3\n",
      "[('NN', 4), ('JJ', 4), ('NNS', 3)] len(c.most_common(3)) is: 3\n",
      "[('NN', 42), ('JJ', 13), ('PRP', 10)] len(c.most_common(3)) is: 3\n",
      "[('NN', 84), ('JJ', 29), ('IN', 25)] len(c.most_common(3)) is: 3\n",
      "[('VB', 9), ('VBP', 6), ('NN', 6)] len(c.most_common(3)) is: 3\n",
      "[('NN', 2), ('JJ', 1)] len(c.most_common(3)) is: 2\n",
      "[('NN', 18), ('NNP', 10), ('PRP', 6)] len(c.most_common(3)) is: 3\n",
      "[('NN', 99), ('IN', 31), ('DT', 28)] len(c.most_common(3)) is: 3\n",
      "[('NN', 60), ('IN', 18), ('JJ', 16)] len(c.most_common(3)) is: 3\n",
      "[('NN', 167), ('CD', 102), ('JJ', 59)] len(c.most_common(3)) is: 3\n",
      "[('NN', 15), ('IN', 8), ('JJ', 6)] len(c.most_common(3)) is: 3\n",
      "[('NN', 22), ('IN', 11), ('DT', 10)] len(c.most_common(3)) is: 3\n"
     ]
    },
    {
     "name": "stdout",
     "output_type": "stream",
     "text": [
      "[('NN', 47), ('DT', 20), ('IN', 17)] len(c.most_common(3)) is: 3\n",
      "[('NN', 42), ('JJ', 15), ('IN', 10)] len(c.most_common(3)) is: 3\n",
      "[('NN', 5), ('JJ', 4), ('DT', 2)] len(c.most_common(3)) is: 3\n",
      "[('NN', 4), ('PRP$', 2), ('JJ', 2)] len(c.most_common(3)) is: 3\n",
      "[('NN', 43), ('RB', 9), ('VB', 9)] len(c.most_common(3)) is: 3\n",
      "[('NN', 6), ('NNS', 2), ('VB', 2)] len(c.most_common(3)) is: 3\n",
      "[('NN', 7), ('VB', 3), ('MD', 2)] len(c.most_common(3)) is: 3\n",
      "[('JJ', 1)] len(c.most_common(3)) is: 1\n",
      "[('NN', 77), ('JJ', 20), ('VB', 20)] len(c.most_common(3)) is: 3\n",
      "[('NN', 7), ('IN', 4), ('DT', 2)] len(c.most_common(3)) is: 3\n",
      "[('NN', 9), ('NNP', 6), ('JJ', 4)] len(c.most_common(3)) is: 3\n",
      "[('NN', 117), ('IN', 33), ('VB', 27)] len(c.most_common(3)) is: 3\n",
      "[('NN', 60), ('DT', 14), ('IN', 13)] len(c.most_common(3)) is: 3\n",
      "[('NN', 61), ('DT', 27), ('IN', 22)] len(c.most_common(3)) is: 3\n",
      "[('NN', 79), ('IN', 18), ('VB', 15)] len(c.most_common(3)) is: 3\n",
      "[('NN', 81), ('IN', 25), ('PRP', 23)] len(c.most_common(3)) is: 3\n",
      "[('NN', 2), ('DT', 1), ('VBZ', 1)] len(c.most_common(3)) is: 3\n",
      "[('NN', 7), ('RB', 2), ('VB', 2)] len(c.most_common(3)) is: 3\n",
      "[('NN', 2)] len(c.most_common(3)) is: 1\n",
      "[('DT', 1), ('VBZ', 1), ('JJ', 1)] len(c.most_common(3)) is: 3\n",
      "[('NN', 4), ('JJ', 1)] len(c.most_common(3)) is: 2\n",
      "[('NN', 9), ('JJ', 7), ('RB', 3)] len(c.most_common(3)) is: 3\n",
      "[('JJ', 2), ('NN', 1)] len(c.most_common(3)) is: 2\n",
      "[('NN', 4), ('JJ', 2), ('RB', 1)] len(c.most_common(3)) is: 3\n",
      "[('NN', 2), ('JJS', 1)] len(c.most_common(3)) is: 2\n",
      "[('NN', 7), ('SYM', 1)] len(c.most_common(3)) is: 2\n",
      "[('NN', 3), ('NNS', 1), ('RB', 1)] len(c.most_common(3)) is: 3\n",
      "[('NN', 48), ('CD', 34), ('SYM', 11)] len(c.most_common(3)) is: 3\n",
      "[('NN', 24), ('FW', 13), ('CD', 11)] len(c.most_common(3)) is: 3\n",
      "[('VB', 2), ('NN', 2), ('MD', 1)] len(c.most_common(3)) is: 3\n",
      "[('NN', 4)] len(c.most_common(3)) is: 1\n",
      "[('NN', 6), ('VBD', 1)] len(c.most_common(3)) is: 2\n",
      "[('NN', 6), ('JJ', 3), ('NNP', 1)] len(c.most_common(3)) is: 3\n",
      "[('RB', 1), ('JJ', 1), ('NN', 1)] len(c.most_common(3)) is: 3\n",
      "[('NN', 6), ('JJ', 2), ('NNP', 2)] len(c.most_common(3)) is: 3\n",
      "[('NN', 3)] len(c.most_common(3)) is: 1\n",
      "[('NN', 9), ('JJ', 3), ('NNP', 2)] len(c.most_common(3)) is: 3\n",
      "[('NN', 9), ('IN', 3), ('JJ', 2)] len(c.most_common(3)) is: 3\n",
      "[('NN', 3)] len(c.most_common(3)) is: 1\n",
      "[('NN', 5), ('RB', 2), ('JJ', 2)] len(c.most_common(3)) is: 3\n",
      "[('NN', 8), ('JJ', 6), ('VBD', 2)] len(c.most_common(3)) is: 3\n",
      "[('NN', 7), ('NNP', 3), ('JJ', 2)] len(c.most_common(3)) is: 3\n",
      "[('NN', 7), ('NNP', 2), ('JJ', 2)] len(c.most_common(3)) is: 3\n",
      "[('NN', 7), ('NNP', 2), ('JJ', 2)] len(c.most_common(3)) is: 3\n",
      "[('NN', 6), ('NNP', 2), ('VBZ', 2)] len(c.most_common(3)) is: 3\n",
      "[('NN', 7), ('NNP', 2), ('VBZ', 2)] len(c.most_common(3)) is: 3\n",
      "[('NN', 7), ('NNP', 3), ('JJ', 2)] len(c.most_common(3)) is: 3\n",
      "[('NN', 7), ('NNP', 2), ('JJ', 2)] len(c.most_common(3)) is: 3\n",
      "[('NN', 7), ('JJ', 3), ('VBZ', 2)] len(c.most_common(3)) is: 3\n",
      "[('NN', 41), ('JJ', 28), ('NNP', 9)] len(c.most_common(3)) is: 3\n",
      "[('NN', 1)] len(c.most_common(3)) is: 1\n",
      "[('NN', 7), ('JJ', 3), ('NNP', 2)] len(c.most_common(3)) is: 3\n",
      "[('NN', 6), ('JJ', 3), ('NNP', 2)] len(c.most_common(3)) is: 3\n",
      "[('NN', 8), ('JJ', 2), ('JJS', 1)] len(c.most_common(3)) is: 3\n",
      "[('NN', 8), ('NNP', 2), ('JJ', 2)] len(c.most_common(3)) is: 3\n",
      "[('NN', 8), ('NNP', 2), ('VBZ', 2)] len(c.most_common(3)) is: 3\n",
      "[('NN', 8), ('NNP', 2), ('JJ', 2)] len(c.most_common(3)) is: 3\n",
      "[('NN', 8), ('NNP', 2), ('JJ', 2)] len(c.most_common(3)) is: 3\n",
      "[('NN', 8), ('NNP', 2), ('VBZ', 2)] len(c.most_common(3)) is: 3\n",
      "[('NN', 8), ('JJ', 3), ('NNP', 2)] len(c.most_common(3)) is: 3\n",
      "[('NN', 8), ('NNS', 2), ('JJ', 2)] len(c.most_common(3)) is: 3\n",
      "[('NN', 5), ('VB', 3), ('NNP', 2)] len(c.most_common(3)) is: 3\n",
      "[('NN', 8), ('NNP', 2), ('DT', 2)] len(c.most_common(3)) is: 3\n",
      "[('NN', 12), ('NNP', 2), ('JJ', 1)] len(c.most_common(3)) is: 3\n",
      "[('NN', 8), ('NNP', 3), ('SYM', 1)] len(c.most_common(3)) is: 3\n",
      "[('NN', 1)] len(c.most_common(3)) is: 1\n",
      "[('IN', 1)] len(c.most_common(3)) is: 1\n",
      "[('NN', 3), ('FW', 2), ('VBP', 1)] len(c.most_common(3)) is: 3\n",
      "[('NN', 16), ('JJ', 4), ('NNS', 3)] len(c.most_common(3)) is: 3\n",
      "[('NN', 6), ('SYM', 1), ('NNS', 1)] len(c.most_common(3)) is: 3\n"
     ]
    }
   ],
   "source": [
    "for comments in lg_videos_comments_df.comments.values:\n",
    "    populate_blob_columns(lg_videos_comments_df, comments)"
   ]
  },
  {
   "cell_type": "code",
   "execution_count": 125,
   "metadata": {},
   "outputs": [
    {
     "name": "stdout",
     "output_type": "stream",
     "text": [
      "(337, 14)\n"
     ]
    },
    {
     "data": {
      "text/plain": [
       "count     337\n",
       "unique    182\n",
       "top        14\n",
       "freq       13\n",
       "Name: tags_count, dtype: int64"
      ]
     },
     "execution_count": 125,
     "metadata": {},
     "output_type": "execute_result"
    }
   ],
   "source": [
    "print(lg_videos_comments_df.shape)\n",
    "lg_videos_comments_df.head()\n",
    "lg_videos_comments_df.tags_count.describe()"
   ]
  },
  {
   "cell_type": "markdown",
   "metadata": {},
   "source": [
    "#### End Sandbox"
   ]
  },
  {
   "cell_type": "markdown",
   "metadata": {},
   "source": [
    "### Creating a Doc2Vec NLP model"
   ]
  },
  {
   "cell_type": "code",
   "execution_count": null,
   "metadata": {},
   "outputs": [],
   "source": [
    "# make a Doc2Vec TaggedDocument for each video's comments;\n",
    "# append each of those Doc2Vec TaggedDocuments to a \"sentences\" list;\n",
    "# create: model = models.Doc2Vec(alpha=.025, min_alpha=.025, min_count=1);\n",
    "# call: model.build_vocab(sentences);\n",
    "# train model: for epoch in range(int):... model.train, model.alpha, model.min_alpha"
   ]
  },
  {
   "cell_type": "code",
   "execution_count": null,
   "metadata": {},
   "outputs": [],
   "source": [
    "sentences = []\n",
    "sentences_ordered_dict = OrderedDict()\n",
    "sent_count = 0\n",
    "raw_comments = list(comments_df.comments.values)  # this is all of the comments for all videos\n",
    "for comment_group in raw_comments:\n",
    "    sent_key = 'sentence' + str(sent_count)\n",
    "    sentences_ordered_dict[sent_key] = doc2vec.TaggedDocument(\n",
    "        words=comment_group, tags=[\"SENT_\" + str(sent_count)])\n",
    "    sentences.append(sentences_ordered_dict[sent_key])\n",
    "    sent_count += 1\n",
    "print('TaggedDocument count in sentences is:', len(sentences), '\\n')\n",
    "print(sentences[0])"
   ]
  },
  {
   "cell_type": "code",
   "execution_count": null,
   "metadata": {},
   "outputs": [],
   "source": [
    "# Create doc2vec model and build its vocabulary\n",
    "model = Doc2Vec(alpha=.025, min_alpha=.025, min_count=2)\n",
    "model.build_vocab(sentences)"
   ]
  },
  {
   "cell_type": "code",
   "execution_count": null,
   "metadata": {},
   "outputs": [],
   "source": [
    "# Get more info about the model\n",
    "print(model)"
   ]
  },
  {
   "cell_type": "code",
   "execution_count": null,
   "metadata": {},
   "outputs": [],
   "source": [
    "# Find out which objects related to vocabulary are available in the Doc2Vec namespace\n",
    "[x for x in dir(model) if 'vocab' in x]"
   ]
  },
  {
   "cell_type": "code",
   "execution_count": null,
   "metadata": {},
   "outputs": [],
   "source": [
    "# Look closer at 'vocabulary'\n",
    "help(model.vocabulary)"
   ]
  },
  {
   "cell_type": "code",
   "execution_count": null,
   "metadata": {},
   "outputs": [],
   "source": [
    "# infer new tokens on new comments documents"
   ]
  }
 ],
 "metadata": {
  "kernelspec": {
   "display_name": "Python 3",
   "language": "python",
   "name": "python3"
  },
  "language_info": {
   "codemirror_mode": {
    "name": "ipython",
    "version": 3
   },
   "file_extension": ".py",
   "mimetype": "text/x-python",
   "name": "python",
   "nbconvert_exporter": "python",
   "pygments_lexer": "ipython3",
   "version": "3.7.3"
  }
 },
 "nbformat": 4,
 "nbformat_minor": 2
}
