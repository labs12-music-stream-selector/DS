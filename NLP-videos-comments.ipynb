{
 "cells": [
  {
   "cell_type": "markdown",
   "metadata": {},
   "source": [
    "## Classifying YouTube videos for mood by NLP on video comments--a challenging Data Science problem"
   ]
  },
  {
   "cell_type": "markdown",
   "metadata": {},
   "source": [
    "#### My approach to this challenge was composed of multiple non-trivial steps: deciding on NLP method, preprocessing highly-varied real-world text data, applying the NLP method, and engineering additional data features, due to small video sample size.  "
   ]
  },
  {
   "cell_type": "markdown",
   "metadata": {},
   "source": [
    "First, three notes: my teammate and I started with no video data and had to manually label mood for 200+ videos. We realized that this might not lead to highly accurate classification. We each created an NLP pipeline for multiclass classification of 6 different moods."
   ]
  },
  {
   "cell_type": "markdown",
   "metadata": {},
   "source": [
    "#### For the NLP method, I initially considered Doc2Vec. Given the success of Word2Vec for word embedding and discovering context in text, and that Doc2Vec is built on top of it, Doc2Vec seemed a potentially good choice. Ultimately, due to time constraints, I elected to use TextBlob. See my use of TextBlob further below."
   ]
  },
  {
   "cell_type": "code",
   "execution_count": null,
   "metadata": {},
   "outputs": [],
   "source": [
    "!pip install -U gensim\n",
    "from gensim.models import doc2vec, Doc2Vec"
   ]
  },
  {
   "cell_type": "markdown",
   "metadata": {},
   "source": [
    "#### For Python-driven data science approaches, pandas usage is almost a given. And for text analysis specifically, regular expressions can be invaluable for searching out text patterns."
   ]
  },
  {
   "cell_type": "code",
   "execution_count": 2,
   "metadata": {},
   "outputs": [],
   "source": [
    "from collections import OrderedDict\n",
    "import pandas as pd\n",
    "import re"
   ]
  },
  {
   "cell_type": "markdown",
   "metadata": {},
   "source": [
    "Here, we look at an example of a video csv for our YouTube Data API v3-consumed data. Note that values in the \"moods\" and \"labeled\" column were manually-labeled (ie, not from YouTube API). "
   ]
  },
  {
   "cell_type": "code",
   "execution_count": 3,
   "metadata": {},
   "outputs": [
    {
     "name": "stdout",
     "output_type": "stream",
     "text": [
      "(1044, 4)\n"
     ]
    },
    {
     "data": {
      "text/html": [
       "<div>\n",
       "<style scoped>\n",
       "    .dataframe tbody tr th:only-of-type {\n",
       "        vertical-align: middle;\n",
       "    }\n",
       "\n",
       "    .dataframe tbody tr th {\n",
       "        vertical-align: top;\n",
       "    }\n",
       "\n",
       "    .dataframe thead th {\n",
       "        text-align: right;\n",
       "    }\n",
       "</style>\n",
       "<table border=\"1\" class=\"dataframe\">\n",
       "  <thead>\n",
       "    <tr style=\"text-align: right;\">\n",
       "      <th></th>\n",
       "      <th>video_title</th>\n",
       "      <th>video_id</th>\n",
       "      <th>moods</th>\n",
       "      <th>labeled</th>\n",
       "    </tr>\n",
       "  </thead>\n",
       "  <tbody>\n",
       "    <tr>\n",
       "      <th>0</th>\n",
       "      <td>♩♫ Dramatic Apocalyptic Music ♪♬ - The Wastela...</td>\n",
       "      <td>5eAalHA1bAc</td>\n",
       "      <td>CHILL</td>\n",
       "      <td>t</td>\n",
       "    </tr>\n",
       "    <tr>\n",
       "      <th>1</th>\n",
       "      <td>Nostalgy - (No Copyright Music) Sad Cinematic ...</td>\n",
       "      <td>zViXwVZpWqY</td>\n",
       "      <td>SAD</td>\n",
       "      <td>t</td>\n",
       "    </tr>\n",
       "    <tr>\n",
       "      <th>2</th>\n",
       "      <td>Under The Radar Copyright Free music for youtu...</td>\n",
       "      <td>ZTgvcaVdw5I</td>\n",
       "      <td>CHILL</td>\n",
       "      <td>t</td>\n",
       "    </tr>\n",
       "    <tr>\n",
       "      <th>3</th>\n",
       "      <td>🔥Best of NCS 2017 Mix ♫ Gaming Music Mix ♫ No ...</td>\n",
       "      <td>8ZbrPz_fnXs</td>\n",
       "      <td>CONFIDENT-SASSY</td>\n",
       "      <td>t</td>\n",
       "    </tr>\n",
       "    <tr>\n",
       "      <th>4</th>\n",
       "      <td>[FREE] Lil Baby x Gunna Type Beat 2018 \"Situat...</td>\n",
       "      <td>5vSJTGpG5YM</td>\n",
       "      <td>CHILL</td>\n",
       "      <td>t</td>\n",
       "    </tr>\n",
       "  </tbody>\n",
       "</table>\n",
       "</div>"
      ],
      "text/plain": [
       "                                         video_title     video_id  \\\n",
       "0  ♩♫ Dramatic Apocalyptic Music ♪♬ - The Wastela...  5eAalHA1bAc   \n",
       "1  Nostalgy - (No Copyright Music) Sad Cinematic ...  zViXwVZpWqY   \n",
       "2  Under The Radar Copyright Free music for youtu...  ZTgvcaVdw5I   \n",
       "3  🔥Best of NCS 2017 Mix ♫ Gaming Music Mix ♫ No ...  8ZbrPz_fnXs   \n",
       "4  [FREE] Lil Baby x Gunna Type Beat 2018 \"Situat...  5vSJTGpG5YM   \n",
       "\n",
       "             moods labeled  \n",
       "0            CHILL       t  \n",
       "1              SAD       t  \n",
       "2            CHILL       t  \n",
       "3  CONFIDENT-SASSY       t  \n",
       "4            CHILL       t  "
      ]
     },
     "execution_count": 3,
     "metadata": {},
     "output_type": "execute_result"
    }
   ],
   "source": [
    "videos_df = pd.read_csv('new_videos.csv')  # note that this csv data does not have comments column\n",
    "print(videos_df.shape)\n",
    "videos_df.head()"
   ]
  },
  {
   "cell_type": "markdown",
   "metadata": {},
   "source": [
    "I wrote the initial Python code, for this work, to obtain video data above from the YouTube API \"search.list\" resource. This is the key snippet."
   ]
  },
  {
   "cell_type": "code",
   "execution_count": null,
   "metadata": {},
   "outputs": [],
   "source": [
    "from googleapiclient.discovery import build\n",
    "\n",
    "def search_api():\n",
    "    '''Searches YouTube Data API v3 for videos based on project-specified parameters; returns list of videos.'''\n",
    "    api_service_name = 'youtube'\n",
    "    api_version = 'v3'\n",
    "    DEVELOPER_KEY = 'DEVELOPER_KEY'\n",
    "\n",
    "    youtube = build(api_service_name, api_version,\n",
    "                    developerKey = DEVELOPER_KEY)\n",
    "\n",
    "    request = youtube.search().list(\n",
    "        part='id,snippet',\n",
    "        maxResults=50,\n",
    "        q='instrumental',\n",
    "        relevanceLanguage='en',\n",
    "        type='video',\n",
    "        videoDuration='medium',\n",
    "        videoLicense='creativeCommon',\n",
    "    ).execute()\n",
    "\n",
    "    videos = []\n",
    "\n",
    "    for search_result in request['items']:\n",
    "        video_title = search_result['snippet']['title']\n",
    "        video_id = search_result['id']['videoId']\n",
    "        videos.append({'video_title': video_title, 'video_id': video_id})\n",
    "\n",
    "    return videos"
   ]
  },
  {
   "cell_type": "markdown",
   "metadata": {},
   "source": [
    "My teammate adapted this code to access the YouTube \"commentsThread\" metadata resource. Speaking of comments, or preprocessing them, actually, is up next."
   ]
  },
  {
   "cell_type": "markdown",
   "metadata": {},
   "source": [
    "### Preprocessing the comments data"
   ]
  },
  {
   "cell_type": "markdown",
   "metadata": {},
   "source": [
    "#### Nothing like working with electronic text to learn (or re-learn) that computing involves symbols that are encoded in different sets, eg, ISO-8859-1, Unicode, and the utf-8 subset of Unicode. Joel Spolsky has a classic [post](https://www.joelonsoftware.com/2003/10/08/the-absolute-minimum-every-software-developer-absolutely-positively-must-know-about-unicode-and-character-sets-no-excuses/). I also found this [Green Notes](https://greeennotebook.wordpress.com/2014/05/24/character-sets-and-unicode-in-python/) post useful."
   ]
  },
  {
   "cell_type": "markdown",
   "metadata": {},
   "source": [
    "Here we can see comments data consumed from the YouTube API via \"commentsThread\"."
   ]
  },
  {
   "cell_type": "code",
   "execution_count": 7,
   "metadata": {},
   "outputs": [
    {
     "name": "stdout",
     "output_type": "stream",
     "text": [
      "(1102, 3)\n"
     ]
    },
    {
     "data": {
      "text/html": [
       "<div>\n",
       "<style scoped>\n",
       "    .dataframe tbody tr th:only-of-type {\n",
       "        vertical-align: middle;\n",
       "    }\n",
       "\n",
       "    .dataframe tbody tr th {\n",
       "        vertical-align: top;\n",
       "    }\n",
       "\n",
       "    .dataframe thead th {\n",
       "        text-align: right;\n",
       "    }\n",
       "</style>\n",
       "<table border=\"1\" class=\"dataframe\">\n",
       "  <thead>\n",
       "    <tr style=\"text-align: right;\">\n",
       "      <th></th>\n",
       "      <th>id</th>\n",
       "      <th>video_id</th>\n",
       "      <th>comments</th>\n",
       "    </tr>\n",
       "  </thead>\n",
       "  <tbody>\n",
       "    <tr>\n",
       "      <th>1097</th>\n",
       "      <td>5003</td>\n",
       "      <td>7RBDcoSxcgc</td>\n",
       "      <td>['진격의 방탄 \\nwe  on, \\ntomorrow\\n꼭 들어보세요. 안무영상도요...</td>\n",
       "    </tr>\n",
       "    <tr>\n",
       "      <th>1098</th>\n",
       "      <td>5004</td>\n",
       "      <td>1ml_dJ3_A2Q</td>\n",
       "      <td>[]</td>\n",
       "    </tr>\n",
       "    <tr>\n",
       "      <th>1099</th>\n",
       "      <td>5005</td>\n",
       "      <td>ThEQZ68sGmw</td>\n",
       "      <td>['😂']</td>\n",
       "    </tr>\n",
       "    <tr>\n",
       "      <th>1100</th>\n",
       "      <td>5006</td>\n",
       "      <td>zsR_Yr-wPkM</td>\n",
       "      <td>['Want a Sub? Drop a like and comment. I subsc...</td>\n",
       "    </tr>\n",
       "    <tr>\n",
       "      <th>1101</th>\n",
       "      <td>5007</td>\n",
       "      <td>zNWsBvzFstk</td>\n",
       "      <td>['Awesome bro!', 'Super! Very nice! Thank you ...</td>\n",
       "    </tr>\n",
       "  </tbody>\n",
       "</table>\n",
       "</div>"
      ],
      "text/plain": [
       "        id     video_id                                           comments\n",
       "1097  5003  7RBDcoSxcgc  ['진격의 방탄 \\nwe  on, \\ntomorrow\\n꼭 들어보세요. 안무영상도요...\n",
       "1098  5004  1ml_dJ3_A2Q                                                 []\n",
       "1099  5005  ThEQZ68sGmw                                              ['😂']\n",
       "1100  5006  zsR_Yr-wPkM  ['Want a Sub? Drop a like and comment. I subsc...\n",
       "1101  5007  zNWsBvzFstk  ['Awesome bro!', 'Super! Very nice! Thank you ..."
      ]
     },
     "execution_count": 7,
     "metadata": {},
     "output_type": "execute_result"
    }
   ],
   "source": [
    "comments_df = pd.read_csv('video_comments.csv', encoding=\"utf-8\")  # note no moods column\n",
    "print(comments_df.shape)\n",
    "comments_df.tail()"
   ]
  },
  {
   "cell_type": "code",
   "execution_count": 10,
   "metadata": {},
   "outputs": [
    {
     "data": {
      "text/plain": [
       "'[\\'Awesome bro!\\', \\'Super! Very nice! Thank you my friend!\\', \\'Christmas feeling. So beautiful.\\', \\'Amazingly good vibes 😍 😍\\', \"let\\'s fun\", \\'Wouu Happy Christmas\\', \\'Awesome Great stuff my friend\\\\nBig Like\\', \\'Saludos \\\\nEspero que pases a ver mi último video\\\\nl https://youtu.be/ei1agzsHFI0\\', \\'Nice xmas music. Love it.\\', \\'*Good To Listen, Friend. Regards You.*\\', \\'Wonderful music video! liked! Have a nice week friend! liked!\\', \\'Hello, congratulations on your channel. I just registered and I left a like, spare the registration? 😘\\', \\'Love This!🔥\\', \\'Christmas time buddy! Boom!\\\\n🔥🎄🔥💥💪🍒👊🔥\\', \\'Great one Fantastic al dn pl bk me\\', \\'yeah beautiful music my bro\\', \\'Beautiful video...very good music my friend...loveit it <3\\', \\'Awesome music bro\\', \\'👌👌 cool Christmas spirit , making jolly music ♪ ♫ ♬ ♫ 🎶 my support.\\', \\'Nice mate❤\\']'"
      ]
     },
     "execution_count": 10,
     "metadata": {},
     "output_type": "execute_result"
    }
   ],
   "source": [
    "# Examine the raw comments for video 1101\n",
    "first_vid_comments = comments_df.comments.values[1101]\n",
    "first_vid_comments  # NOTE: this whole object is a string; change it to a list with strings inside"
   ]
  },
  {
   "cell_type": "markdown",
   "metadata": {},
   "source": [
    "Several features show up in the raw comments above. One is that the entire comments thread is inside single quotes and thus is a string. Another is that \" \\\\' \" precedes and follows each full comment in the YouTube commentsThread. New lines are present as \"\\\\n\". It's good to know that utf-8 supports emojis (joking). A function will be needed to preprocess each comments thread for each video."
   ]
  },
  {
   "cell_type": "markdown",
   "metadata": {},
   "source": [
    "First, I tried this."
   ]
  },
  {
   "cell_type": "code",
   "execution_count": null,
   "metadata": {},
   "outputs": [],
   "source": [
    "# Study all comments for all videos\n",
    "# Based on methods from aws-sagemaker-python-notebook [not yet updated on github]\n",
    "all_comments = []\n",
    "all_comments_dict = {}\n",
    "for comment_group in list(comments_df.comments):\n",
    "    comment_group = comment_group.replace('[', '')\n",
    "    comment_group = comment_group.replace(']', '')\n",
    "    comment_group = comment_group.replace(\"'\", '')\n",
    "    all_comments.append(comment_group)\n",
    "    \n",
    "print('length of all_comments is:', len(all_comments))\n",
    "print(all_comments[:2])"
   ]
  },
  {
   "cell_type": "markdown",
   "metadata": {},
   "source": [
    "**This** function became the comments preprocessing workhorse for my pipeline, however."
   ]
  },
  {
   "cell_type": "code",
   "execution_count": 12,
   "metadata": {},
   "outputs": [],
   "source": [
    "# Convert text to lower-case, do several char replacements, and create list by splitting comments string\n",
    "# Create a function to do this when applied to all values in df's comments column\n",
    "\n",
    "def normalize_text(comment_group):\n",
    "    norm_comment_group = comment_group.lower()\n",
    "    norm_comment_group = re.sub(r\"([\\.\\\",\\(\\)!\\?;:])\", \" \\\\1 \", norm_comment_group)\n",
    "    norm_comment_group = norm_comment_group.replace('\\\\n', ', ')\n",
    "    norm_comment_group = norm_comment_group.replace('\"', \"\\'\")\n",
    "    while \"\\'\" in norm_comment_group:\n",
    "        norm_comment_group = norm_comment_group.replace(\"\\'\", '')\n",
    "    norm_comment_group = norm_comment_group.replace('[', '')\n",
    "    norm_comment_group = norm_comment_group.replace(']', '')\n",
    "    return norm_comment_group\n",
    "\n",
    "# Apply normalize_text function to all comments column values\n",
    "\n",
    "comments_df.comments = comments_df.comments.apply(lambda x: normalize_text(x))"
   ]
  },
  {
   "cell_type": "markdown",
   "metadata": {},
   "source": [
    "Note how the words now appear more like natural language text."
   ]
  },
  {
   "cell_type": "code",
   "execution_count": 13,
   "metadata": {},
   "outputs": [
    {
     "data": {
      "text/plain": [
       "'awesome bro !  ,  super !  very nice !  thank you my friend !  ,  christmas feeling .  so beautiful .  ,  amazingly good vibes 😍 😍 ,    lets fun   ,  wouu happy christmas ,  awesome great stuff my friend, big like ,  saludos , espero que pases a ver mi último video, l https : //youtu . be/ei1agzshfi0 ,  nice xmas music .  love it .  ,  *good to listen ,  friend .  regards you . * ,  wonderful music video !  liked !  have a nice week friend !  liked !  ,  hello ,  congratulations on your channel .  i just registered and i left a like ,  spare the registration ?  😘 ,  love this ! 🔥 ,  christmas time buddy !  boom ! , 🔥🎄🔥💥💪🍒👊🔥 ,  great one fantastic al dn pl bk me ,  yeah beautiful music my bro ,  beautiful video .  .  . very good music my friend .  .  . loveit it <3 ,  awesome music bro ,  👌👌 cool christmas spirit  ,  making jolly music ♪ ♫ ♬ ♫ 🎶 my support .  ,  nice mate❤'"
      ]
     },
     "execution_count": 13,
     "metadata": {},
     "output_type": "execute_result"
    }
   ],
   "source": [
    "comments_df.comments.values[1101]"
   ]
  },
  {
   "cell_type": "markdown",
   "metadata": {},
   "source": [
    "With preprocessing of the comments metadata for each video now done, time to do some Natural Language Processing to see how informative the comments are about the mood of a given video."
   ]
  },
  {
   "cell_type": "markdown",
   "metadata": {},
   "source": [
    "### Trying TextBlob for NLP"
   ]
  },
  {
   "cell_type": "markdown",
   "metadata": {},
   "source": [
    "#### Traditional approaches to NLP have involved creating a vocabulary of all the unique words in all of the sentences in a given text--here, all the comments for a given video--and then creating a vector (array) of the same length as the vocabulary for each of the sentences. This process is also known as creating a Bag of Words (BoW). It's crucial to know that BoW delivers no information about meaning of a given text nor about the ordering of words in that text. But BoW does give term (word) frequencies, which can be informative. See Rodrigo Stecanella's post [here](https://monkeylearn.com/blog/beginners-guide-text-vectorization/)."
   ]
  },
  {
   "cell_type": "markdown",
   "metadata": {},
   "source": [
    "Now for [TextBlob](https://textblob.readthedocs.io/en/dev/). Built on the Natural Language Toolkit (nltk) suite and CLiPS pattern module, TextBlob is useful for initial studies in NLP. TextBlob very seamlessly delivers polarity and subjectivity sentiment analysis, part-of-speech tagging of words, tokenization of words or sentences, and many more features.\n",
    "\n",
    "My use of TextBlob here was specifically for the sentiment analysis and tagging of video comments."
   ]
  },
  {
   "cell_type": "code",
   "execution_count": 14,
   "metadata": {},
   "outputs": [
    {
     "name": "stdout",
     "output_type": "stream",
     "text": [
      "Requirement already satisfied: textblob in c:\\programdata\\anaconda3\\lib\\site-packages (0.15.3)\n",
      "Requirement already satisfied: nltk>=3.1 in c:\\programdata\\anaconda3\\lib\\site-packages (from textblob) (3.4)\n",
      "Requirement already satisfied: six in c:\\programdata\\anaconda3\\lib\\site-packages (from nltk>=3.1->textblob) (1.12.0)\n",
      "Requirement already satisfied: singledispatch in c:\\programdata\\anaconda3\\lib\\site-packages (from nltk>=3.1->textblob) (3.4.0.3)\n"
     ]
    }
   ],
   "source": [
    "!pip install textblob\n",
    "from textblob import TextBlob"
   ]
  },
  {
   "cell_type": "markdown",
   "metadata": {},
   "source": [
    "Initially, I thought to remove stopwords (eg, \"the\", \"a\", \"this\", \"that\") from tags, to capture more meaningful words."
   ]
  },
  {
   "cell_type": "code",
   "execution_count": 16,
   "metadata": {},
   "outputs": [],
   "source": [
    "from collections import Counter\n",
    "from nltk.corpus import stopwords\n",
    "from sklearn.model_selection import train_test_split\n",
    "from statistics import mean\n",
    "import numpy as np"
   ]
  },
  {
   "cell_type": "markdown",
   "metadata": {},
   "source": [
    "While I did not use this stopword filter function, I did use the \"top_three_tag_codes\" function below to add six features (aka columns) to \"comments_df\" above."
   ]
  },
  {
   "cell_type": "code",
   "execution_count": 15,
   "metadata": {},
   "outputs": [],
   "source": [
    "# Tags can be removed if in nltk stopwords\n",
    "# To be able to iterate over stopwords, have to put them in an iterable\n",
    "\n",
    "def tags_filter_stopwords(tags):\n",
    "    stop_eng = set(stopwords.words('english'))\n",
    "    stop_esp = set(stopwords.words('spanish'))\n",
    "    stop_fr = set(stopwords.words('french'))\n",
    "    stop_de = set(stopwords.words('german'))\n",
    "    # no stopwords available for Chinese or Japanese\n",
    "    stop_four = stop_eng.union(stop_esp.union(stop_fr.union(stop_de)))\n",
    "    tags_list = []\n",
    "    for tag in tags:\n",
    "        if tag[0] not in stop_four:\n",
    "            tags_list.append(tag)\n",
    "    return tags_list\n",
    "\n",
    "\n",
    "# Also want to know which parts of speech TextBlob codes are most common among the tags\n",
    "def top_three_tag_codes(tags):\n",
    "    \"\"\"Receives list of tags; returns 3 most common TextBlob parts-of-speech codes\"\"\"\n",
    "    # Recall that each TextBlob tag is a tuple of a word and a TextBlob part-of-speech code\n",
    "    speech_parts_list = []\n",
    "    for tag in tags:\n",
    "        speech_parts_list.append(tag[1])\n",
    "    c = Counter(speech_parts_list)\n",
    "    print(c.most_common(3), 'len(c.most_common(3)) is:', len(c.most_common(3)))\n",
    "    # note that there may only be one most common tag\n",
    "    return c.most_common(3)  # returns a list of 2-item tuple[s] with code and count for code in tags"
   ]
  },
  {
   "cell_type": "markdown",
   "metadata": {},
   "source": [
    "Important: **\"tags_columns\"** here shows *all* of the new columns that I will add to \"comments_df\" to make the dataframe that I will use to capture data from NLP on the comments data for videos: \"analysis_df\". "
   ]
  },
  {
   "cell_type": "code",
   "execution_count": 23,
   "metadata": {},
   "outputs": [],
   "source": [
    "# Add two new columns to comments_df: one each for TextBlob polarity mean and subjectivity mean\n",
    "# Want to add other new columns also based on tags:\n",
    "# one column for each of the top 3, and one column for the count in comments for each of the top 3 \n",
    "\n",
    "tags_columns = ['polarity_mean', 'subjectivity_mean', 'tags', 'tags_count', 'top_tag', 'top_tag_count',\n",
    "                'second_tag', 'second_tag_count', 'third_tag', 'third_tag_count']\n",
    "analysis_df = pd.concat([comments_df, pd.DataFrame(columns=tags_columns)], axis=1)\n",
    "\n",
    "analysis_df = pd.merge(analysis_df, videos_df, on='video_id')"
   ]
  },
  {
   "cell_type": "markdown",
   "metadata": {},
   "source": [
    "\"analysis_df\" is created, but still needs re-ordering of its columns as well as population of values in the columns."
   ]
  },
  {
   "cell_type": "code",
   "execution_count": 25,
   "metadata": {},
   "outputs": [
    {
     "data": {
      "text/html": [
       "<div>\n",
       "<style scoped>\n",
       "    .dataframe tbody tr th:only-of-type {\n",
       "        vertical-align: middle;\n",
       "    }\n",
       "\n",
       "    .dataframe tbody tr th {\n",
       "        vertical-align: top;\n",
       "    }\n",
       "\n",
       "    .dataframe thead th {\n",
       "        text-align: right;\n",
       "    }\n",
       "</style>\n",
       "<table border=\"1\" class=\"dataframe\">\n",
       "  <thead>\n",
       "    <tr style=\"text-align: right;\">\n",
       "      <th></th>\n",
       "      <th>id</th>\n",
       "      <th>video_id</th>\n",
       "      <th>comments</th>\n",
       "      <th>polarity_mean</th>\n",
       "      <th>subjectivity_mean</th>\n",
       "      <th>tags</th>\n",
       "      <th>tags_count</th>\n",
       "      <th>top_tag</th>\n",
       "      <th>top_tag_count</th>\n",
       "      <th>second_tag</th>\n",
       "      <th>second_tag_count</th>\n",
       "      <th>third_tag</th>\n",
       "      <th>third_tag_count</th>\n",
       "      <th>video_title</th>\n",
       "      <th>moods</th>\n",
       "      <th>labeled</th>\n",
       "    </tr>\n",
       "  </thead>\n",
       "  <tbody>\n",
       "    <tr>\n",
       "      <th>1039</th>\n",
       "      <td>2904</td>\n",
       "      <td>l8o-DYWmMTg</td>\n",
       "      <td>dope beat  !  subbed and liked !  do the same ...</td>\n",
       "      <td>NaN</td>\n",
       "      <td>NaN</td>\n",
       "      <td>NaN</td>\n",
       "      <td>NaN</td>\n",
       "      <td>NaN</td>\n",
       "      <td>NaN</td>\n",
       "      <td>NaN</td>\n",
       "      <td>NaN</td>\n",
       "      <td>NaN</td>\n",
       "      <td>NaN</td>\n",
       "      <td>٭HARD٭ DARKEST TRAP TYPE BEAT EVER    “WARRIOR...</td>\n",
       "      <td>CHILL</td>\n",
       "      <td>t</td>\n",
       "    </tr>\n",
       "    <tr>\n",
       "      <th>1040</th>\n",
       "      <td>4994</td>\n",
       "      <td>_JgUF1RrVqY</td>\n",
       "      <td>hettt itu yg jd jk kondisikan mukanya😂 ngakak ...</td>\n",
       "      <td>NaN</td>\n",
       "      <td>NaN</td>\n",
       "      <td>NaN</td>\n",
       "      <td>NaN</td>\n",
       "      <td>NaN</td>\n",
       "      <td>NaN</td>\n",
       "      <td>NaN</td>\n",
       "      <td>NaN</td>\n",
       "      <td>NaN</td>\n",
       "      <td>NaN</td>\n",
       "      <td>(HD) 160828 WTF @ KPOP MAKES ONE</td>\n",
       "      <td>HAPPY</td>\n",
       "      <td>NaN</td>\n",
       "    </tr>\n",
       "    <tr>\n",
       "      <th>1041</th>\n",
       "      <td>4997</td>\n",
       "      <td>zsFjU-WN4Ww</td>\n",
       "      <td>yesssss grizzly  !  !  !  ,  fire broo  !  🔥 ,...</td>\n",
       "      <td>NaN</td>\n",
       "      <td>NaN</td>\n",
       "      <td>NaN</td>\n",
       "      <td>NaN</td>\n",
       "      <td>NaN</td>\n",
       "      <td>NaN</td>\n",
       "      <td>NaN</td>\n",
       "      <td>NaN</td>\n",
       "      <td>NaN</td>\n",
       "      <td>NaN</td>\n",
       "      <td>[TYPE BEATS] \"I'm Back\" 🐻 (SMOOTH) Drake Frees...</td>\n",
       "      <td>CHILL</td>\n",
       "      <td>t</td>\n",
       "    </tr>\n",
       "    <tr>\n",
       "      <th>1042</th>\n",
       "      <td>5006</td>\n",
       "      <td>zsR_Yr-wPkM</td>\n",
       "      <td>want a sub ?  drop a like and comment .  i sub...</td>\n",
       "      <td>NaN</td>\n",
       "      <td>NaN</td>\n",
       "      <td>NaN</td>\n",
       "      <td>NaN</td>\n",
       "      <td>NaN</td>\n",
       "      <td>NaN</td>\n",
       "      <td>NaN</td>\n",
       "      <td>NaN</td>\n",
       "      <td>NaN</td>\n",
       "      <td>NaN</td>\n",
       "      <td>Free Smooth Soulful Jay Z x NAS Type Beat \"Jus...</td>\n",
       "      <td>CONFIDENT-SASSY</td>\n",
       "      <td>t</td>\n",
       "    </tr>\n",
       "    <tr>\n",
       "      <th>1043</th>\n",
       "      <td>5007</td>\n",
       "      <td>zNWsBvzFstk</td>\n",
       "      <td>awesome bro !  ,  super !  very nice !  thank ...</td>\n",
       "      <td>NaN</td>\n",
       "      <td>NaN</td>\n",
       "      <td>NaN</td>\n",
       "      <td>NaN</td>\n",
       "      <td>NaN</td>\n",
       "      <td>NaN</td>\n",
       "      <td>NaN</td>\n",
       "      <td>NaN</td>\n",
       "      <td>NaN</td>\n",
       "      <td>NaN</td>\n",
       "      <td>[Christmas Music Background] Silvermansound - ...</td>\n",
       "      <td>HAPPY</td>\n",
       "      <td>t</td>\n",
       "    </tr>\n",
       "  </tbody>\n",
       "</table>\n",
       "</div>"
      ],
      "text/plain": [
       "        id     video_id                                           comments  \\\n",
       "1039  2904  l8o-DYWmMTg  dope beat  !  subbed and liked !  do the same ...   \n",
       "1040  4994  _JgUF1RrVqY  hettt itu yg jd jk kondisikan mukanya😂 ngakak ...   \n",
       "1041  4997  zsFjU-WN4Ww  yesssss grizzly  !  !  !  ,  fire broo  !  🔥 ,...   \n",
       "1042  5006  zsR_Yr-wPkM  want a sub ?  drop a like and comment .  i sub...   \n",
       "1043  5007  zNWsBvzFstk  awesome bro !  ,  super !  very nice !  thank ...   \n",
       "\n",
       "     polarity_mean subjectivity_mean tags tags_count top_tag top_tag_count  \\\n",
       "1039           NaN               NaN  NaN        NaN     NaN           NaN   \n",
       "1040           NaN               NaN  NaN        NaN     NaN           NaN   \n",
       "1041           NaN               NaN  NaN        NaN     NaN           NaN   \n",
       "1042           NaN               NaN  NaN        NaN     NaN           NaN   \n",
       "1043           NaN               NaN  NaN        NaN     NaN           NaN   \n",
       "\n",
       "     second_tag second_tag_count third_tag third_tag_count  \\\n",
       "1039        NaN              NaN       NaN             NaN   \n",
       "1040        NaN              NaN       NaN             NaN   \n",
       "1041        NaN              NaN       NaN             NaN   \n",
       "1042        NaN              NaN       NaN             NaN   \n",
       "1043        NaN              NaN       NaN             NaN   \n",
       "\n",
       "                                            video_title            moods  \\\n",
       "1039  ٭HARD٭ DARKEST TRAP TYPE BEAT EVER    “WARRIOR...            CHILL   \n",
       "1040                   (HD) 160828 WTF @ KPOP MAKES ONE            HAPPY   \n",
       "1041  [TYPE BEATS] \"I'm Back\" 🐻 (SMOOTH) Drake Frees...            CHILL   \n",
       "1042  Free Smooth Soulful Jay Z x NAS Type Beat \"Jus...  CONFIDENT-SASSY   \n",
       "1043  [Christmas Music Background] Silvermansound - ...            HAPPY   \n",
       "\n",
       "     labeled  \n",
       "1039       t  \n",
       "1040     NaN  \n",
       "1041       t  \n",
       "1042       t  \n",
       "1043       t  "
      ]
     },
     "execution_count": 25,
     "metadata": {},
     "output_type": "execute_result"
    }
   ],
   "source": [
    "analysis_df.tail()"
   ]
  },
  {
   "cell_type": "code",
   "execution_count": 26,
   "metadata": {},
   "outputs": [],
   "source": [
    "analysis_df = analysis_df.drop(['id', 'labeled'], axis=1)"
   ]
  },
  {
   "cell_type": "code",
   "execution_count": 27,
   "metadata": {},
   "outputs": [],
   "source": [
    "cols = ['video_id', 'video_title', 'comments', 'polarity_mean', 'subjectivity_mean',\n",
    "        'tags', 'tags_count', 'top_tag', 'top_tag_count', 'second_tag', 'second_tag_count',\n",
    "        'third_tag', 'third_tag_count', 'moods']\n",
    "\n",
    "analysis_df = analysis_df[cols]"
   ]
  },
  {
   "cell_type": "code",
   "execution_count": 28,
   "metadata": {},
   "outputs": [
    {
     "data": {
      "text/html": [
       "<div>\n",
       "<style scoped>\n",
       "    .dataframe tbody tr th:only-of-type {\n",
       "        vertical-align: middle;\n",
       "    }\n",
       "\n",
       "    .dataframe tbody tr th {\n",
       "        vertical-align: top;\n",
       "    }\n",
       "\n",
       "    .dataframe thead th {\n",
       "        text-align: right;\n",
       "    }\n",
       "</style>\n",
       "<table border=\"1\" class=\"dataframe\">\n",
       "  <thead>\n",
       "    <tr style=\"text-align: right;\">\n",
       "      <th></th>\n",
       "      <th>video_id</th>\n",
       "      <th>video_title</th>\n",
       "      <th>comments</th>\n",
       "      <th>polarity_mean</th>\n",
       "      <th>subjectivity_mean</th>\n",
       "      <th>tags</th>\n",
       "      <th>tags_count</th>\n",
       "      <th>top_tag</th>\n",
       "      <th>top_tag_count</th>\n",
       "      <th>second_tag</th>\n",
       "      <th>second_tag_count</th>\n",
       "      <th>third_tag</th>\n",
       "      <th>third_tag_count</th>\n",
       "      <th>moods</th>\n",
       "    </tr>\n",
       "  </thead>\n",
       "  <tbody>\n",
       "    <tr>\n",
       "      <th>1039</th>\n",
       "      <td>l8o-DYWmMTg</td>\n",
       "      <td>٭HARD٭ DARKEST TRAP TYPE BEAT EVER    “WARRIOR...</td>\n",
       "      <td>dope beat  !  subbed and liked !  do the same ...</td>\n",
       "      <td>NaN</td>\n",
       "      <td>NaN</td>\n",
       "      <td>NaN</td>\n",
       "      <td>NaN</td>\n",
       "      <td>NaN</td>\n",
       "      <td>NaN</td>\n",
       "      <td>NaN</td>\n",
       "      <td>NaN</td>\n",
       "      <td>NaN</td>\n",
       "      <td>NaN</td>\n",
       "      <td>CHILL</td>\n",
       "    </tr>\n",
       "    <tr>\n",
       "      <th>1040</th>\n",
       "      <td>_JgUF1RrVqY</td>\n",
       "      <td>(HD) 160828 WTF @ KPOP MAKES ONE</td>\n",
       "      <td>hettt itu yg jd jk kondisikan mukanya😂 ngakak ...</td>\n",
       "      <td>NaN</td>\n",
       "      <td>NaN</td>\n",
       "      <td>NaN</td>\n",
       "      <td>NaN</td>\n",
       "      <td>NaN</td>\n",
       "      <td>NaN</td>\n",
       "      <td>NaN</td>\n",
       "      <td>NaN</td>\n",
       "      <td>NaN</td>\n",
       "      <td>NaN</td>\n",
       "      <td>HAPPY</td>\n",
       "    </tr>\n",
       "    <tr>\n",
       "      <th>1041</th>\n",
       "      <td>zsFjU-WN4Ww</td>\n",
       "      <td>[TYPE BEATS] \"I'm Back\" 🐻 (SMOOTH) Drake Frees...</td>\n",
       "      <td>yesssss grizzly  !  !  !  ,  fire broo  !  🔥 ,...</td>\n",
       "      <td>NaN</td>\n",
       "      <td>NaN</td>\n",
       "      <td>NaN</td>\n",
       "      <td>NaN</td>\n",
       "      <td>NaN</td>\n",
       "      <td>NaN</td>\n",
       "      <td>NaN</td>\n",
       "      <td>NaN</td>\n",
       "      <td>NaN</td>\n",
       "      <td>NaN</td>\n",
       "      <td>CHILL</td>\n",
       "    </tr>\n",
       "    <tr>\n",
       "      <th>1042</th>\n",
       "      <td>zsR_Yr-wPkM</td>\n",
       "      <td>Free Smooth Soulful Jay Z x NAS Type Beat \"Jus...</td>\n",
       "      <td>want a sub ?  drop a like and comment .  i sub...</td>\n",
       "      <td>NaN</td>\n",
       "      <td>NaN</td>\n",
       "      <td>NaN</td>\n",
       "      <td>NaN</td>\n",
       "      <td>NaN</td>\n",
       "      <td>NaN</td>\n",
       "      <td>NaN</td>\n",
       "      <td>NaN</td>\n",
       "      <td>NaN</td>\n",
       "      <td>NaN</td>\n",
       "      <td>CONFIDENT-SASSY</td>\n",
       "    </tr>\n",
       "    <tr>\n",
       "      <th>1043</th>\n",
       "      <td>zNWsBvzFstk</td>\n",
       "      <td>[Christmas Music Background] Silvermansound - ...</td>\n",
       "      <td>awesome bro !  ,  super !  very nice !  thank ...</td>\n",
       "      <td>NaN</td>\n",
       "      <td>NaN</td>\n",
       "      <td>NaN</td>\n",
       "      <td>NaN</td>\n",
       "      <td>NaN</td>\n",
       "      <td>NaN</td>\n",
       "      <td>NaN</td>\n",
       "      <td>NaN</td>\n",
       "      <td>NaN</td>\n",
       "      <td>NaN</td>\n",
       "      <td>HAPPY</td>\n",
       "    </tr>\n",
       "  </tbody>\n",
       "</table>\n",
       "</div>"
      ],
      "text/plain": [
       "         video_id                                        video_title  \\\n",
       "1039  l8o-DYWmMTg  ٭HARD٭ DARKEST TRAP TYPE BEAT EVER    “WARRIOR...   \n",
       "1040  _JgUF1RrVqY                   (HD) 160828 WTF @ KPOP MAKES ONE   \n",
       "1041  zsFjU-WN4Ww  [TYPE BEATS] \"I'm Back\" 🐻 (SMOOTH) Drake Frees...   \n",
       "1042  zsR_Yr-wPkM  Free Smooth Soulful Jay Z x NAS Type Beat \"Jus...   \n",
       "1043  zNWsBvzFstk  [Christmas Music Background] Silvermansound - ...   \n",
       "\n",
       "                                               comments polarity_mean  \\\n",
       "1039  dope beat  !  subbed and liked !  do the same ...           NaN   \n",
       "1040  hettt itu yg jd jk kondisikan mukanya😂 ngakak ...           NaN   \n",
       "1041  yesssss grizzly  !  !  !  ,  fire broo  !  🔥 ,...           NaN   \n",
       "1042  want a sub ?  drop a like and comment .  i sub...           NaN   \n",
       "1043  awesome bro !  ,  super !  very nice !  thank ...           NaN   \n",
       "\n",
       "     subjectivity_mean tags tags_count top_tag top_tag_count second_tag  \\\n",
       "1039               NaN  NaN        NaN     NaN           NaN        NaN   \n",
       "1040               NaN  NaN        NaN     NaN           NaN        NaN   \n",
       "1041               NaN  NaN        NaN     NaN           NaN        NaN   \n",
       "1042               NaN  NaN        NaN     NaN           NaN        NaN   \n",
       "1043               NaN  NaN        NaN     NaN           NaN        NaN   \n",
       "\n",
       "     second_tag_count third_tag third_tag_count            moods  \n",
       "1039              NaN       NaN             NaN            CHILL  \n",
       "1040              NaN       NaN             NaN            HAPPY  \n",
       "1041              NaN       NaN             NaN            CHILL  \n",
       "1042              NaN       NaN             NaN  CONFIDENT-SASSY  \n",
       "1043              NaN       NaN             NaN            HAPPY  "
      ]
     },
     "execution_count": 28,
     "metadata": {},
     "output_type": "execute_result"
    }
   ],
   "source": [
    "analysis_df.tail()"
   ]
  },
  {
   "cell_type": "markdown",
   "metadata": {},
   "source": [
    "I dropped the videos from the dataframe if they had no comments."
   ]
  },
  {
   "cell_type": "code",
   "execution_count": 29,
   "metadata": {},
   "outputs": [
    {
     "data": {
      "text/plain": [
       "(746, 14)"
      ]
     },
     "execution_count": 29,
     "metadata": {},
     "output_type": "execute_result"
    }
   ],
   "source": [
    "# Drop rows where there are no comments\n",
    "analysis_df = analysis_df[analysis_df.comments != '']\n",
    "analysis_df.shape"
   ]
  },
  {
   "cell_type": "markdown",
   "metadata": {},
   "source": [
    "These two functions, \"get_blob\" and \"populate_blob_columns\", are the **core** of my pipeline. For each video's comments, they process the comments, feed them to TextBlob, and put TextBlob's output data and my feature-engineered tags data into the \"analysis_df\" dataframe. Getting closer to using \"analysis_df\" data to train 2 different machine learning classifiers for mood. "
   ]
  },
  {
   "cell_type": "code",
   "execution_count": 30,
   "metadata": {},
   "outputs": [
    {
     "name": "stdout",
     "output_type": "stream",
     "text": [
      "[('NN', 43), ('JJ', 19), ('IN', 14)] len(c.most_common(3)) is: 3\n",
      "[('NN', 40), ('JJ', 10), ('FW', 5)] len(c.most_common(3)) is: 3\n",
      "[('NN', 180), ('JJ', 51), ('FW', 38)] len(c.most_common(3)) is: 3\n",
      "[('NN', 43), ('JJ', 16), ('DT', 9)] len(c.most_common(3)) is: 3\n",
      "[('NN', 65), ('JJ', 31), ('DT', 20)] len(c.most_common(3)) is: 3\n",
      "[('NN', 117), ('IN', 61), ('DT', 54)] len(c.most_common(3)) is: 3\n",
      "[('NN', 35), ('JJ', 9), ('VB', 6)] len(c.most_common(3)) is: 3\n",
      "[('NN', 80), ('JJ', 17), ('FW', 6)] len(c.most_common(3)) is: 3\n",
      "[('VBP', 2), ('NN', 1), ('PRP', 1)] len(c.most_common(3)) is: 3\n",
      "[('NN', 12), ('JJ', 5), ('IN', 3)] len(c.most_common(3)) is: 3\n",
      "[('NN', 4)] len(c.most_common(3)) is: 1\n",
      "[('NNP', 19), ('NN', 10), ('CD', 5)] len(c.most_common(3)) is: 3\n",
      "[('NN', 120), ('NNP', 37), ('IN', 27)] len(c.most_common(3)) is: 3\n",
      "[('NN', 168), ('IN', 83), ('VB', 83)] len(c.most_common(3)) is: 3\n",
      "[('NN', 187), ('JJ', 43), ('FW', 39)] len(c.most_common(3)) is: 3\n",
      "[('NN', 616), ('JJ', 177), ('FW', 109)] len(c.most_common(3)) is: 3\n",
      "[('NN', 11), ('PRP', 7), ('VB', 5)] len(c.most_common(3)) is: 3\n",
      "[('NN', 165), ('JJ', 52), ('FW', 49)] len(c.most_common(3)) is: 3\n",
      "[('NN', 84), ('FW', 20), ('JJ', 15)] len(c.most_common(3)) is: 3\n",
      "[('NN', 43), ('JJ', 23), ('IN', 21)] len(c.most_common(3)) is: 3\n",
      "[('NN', 452), ('JJ', 103), ('FW', 89)] len(c.most_common(3)) is: 3\n",
      "[('NN', 6), ('VBP', 3), ('DT', 3)] len(c.most_common(3)) is: 3\n",
      "[('NN', 208), ('IN', 87), ('JJ', 66)] len(c.most_common(3)) is: 3\n",
      "[('NN', 121), ('IN', 55), ('DT', 39)] len(c.most_common(3)) is: 3\n",
      "[('NN', 230), ('FW', 70), ('JJ', 63)] len(c.most_common(3)) is: 3\n",
      "[('NN', 11), ('NNS', 5), ('VBP', 4)] len(c.most_common(3)) is: 3\n",
      "[('NN', 19), ('JJ', 11), ('VB', 2)] len(c.most_common(3)) is: 3\n",
      "[('VB', 2), ('NN', 2), ('MD', 1)] len(c.most_common(3)) is: 3\n",
      "[('NN', 4)] len(c.most_common(3)) is: 1\n",
      "[('NN', 6), ('VBD', 1)] len(c.most_common(3)) is: 2\n",
      "[('NN', 53), ('DT', 16), ('JJ', 10)] len(c.most_common(3)) is: 3\n",
      "[('NN', 2), ('VB', 2), ('CD', 1)] len(c.most_common(3)) is: 3\n",
      "[('NN', 12), ('VBG', 3), ('JJ', 3)] len(c.most_common(3)) is: 3\n",
      "[('NN', 183), ('JJ', 83), ('FW', 44)] len(c.most_common(3)) is: 3\n",
      "[('NN', 12), ('JJ', 9), ('RB', 4)] len(c.most_common(3)) is: 3\n",
      "[('NN', 71), ('IN', 40), ('RB', 35)] len(c.most_common(3)) is: 3\n",
      "[('NN', 9), ('JJ', 6), ('IN', 4)] len(c.most_common(3)) is: 3\n",
      "[('NN', 5), ('JJ', 4), ('NNS', 1)] len(c.most_common(3)) is: 3\n",
      "[('NN', 27), ('FW', 6), ('JJ', 5)] len(c.most_common(3)) is: 3\n",
      "[('NN', 5), ('JJ', 2)] len(c.most_common(3)) is: 2\n",
      "[('NN', 7), ('JJ', 3), ('FW', 3)] len(c.most_common(3)) is: 3\n",
      "[('NN', 2), ('JJ', 2), ('NNS', 1)] len(c.most_common(3)) is: 3\n",
      "[('NN', 23), ('JJ', 6), ('VBP', 2)] len(c.most_common(3)) is: 3\n",
      "[('NN', 11), ('VB', 3), ('PRP$', 3)] len(c.most_common(3)) is: 3\n",
      "[('NN', 4), ('JJ', 2), ('UH', 1)] len(c.most_common(3)) is: 3\n",
      "[('NN', 337), ('JJ', 275), ('PRP', 17)] len(c.most_common(3)) is: 3\n",
      "[('NN', 35), ('JJ', 15), ('VB', 15)] len(c.most_common(3)) is: 3\n",
      "[('NN', 51), ('JJ', 23), ('VB', 21)] len(c.most_common(3)) is: 3\n",
      "[('NN', 40), ('IN', 18), ('JJ', 18)] len(c.most_common(3)) is: 3\n",
      "[('NN', 92), ('IN', 70), ('PRP', 59)] len(c.most_common(3)) is: 3\n",
      "[('NN', 8), ('NNS', 1), ('JJ', 1)] len(c.most_common(3)) is: 3\n",
      "[('NN', 11), ('FW', 6), ('NNS', 4)] len(c.most_common(3)) is: 3\n",
      "[('NN', 75), ('JJ', 32), ('DT', 27)] len(c.most_common(3)) is: 3\n",
      "[('NN', 4), ('JJ', 2), ('JJS', 1)] len(c.most_common(3)) is: 3\n",
      "[('NN', 5), ('VBD', 1), ('PRP', 1)] len(c.most_common(3)) is: 3\n",
      "[('NN', 152), ('IN', 61), ('DT', 55)] len(c.most_common(3)) is: 3\n",
      "[('VB', 5), ('NN', 1), ('MD', 1)] len(c.most_common(3)) is: 3\n",
      "[('NN', 19), ('DT', 16), ('JJ', 9)] len(c.most_common(3)) is: 3\n",
      "[('JJ', 4), ('NN', 4), ('DT', 3)] len(c.most_common(3)) is: 3\n",
      "[('NN', 21), ('JJ', 9), ('IN', 4)] len(c.most_common(3)) is: 3\n",
      "[('NN', 6), ('JJ', 3), ('NNP', 1)] len(c.most_common(3)) is: 3\n",
      "[('NN', 75), ('JJ', 27), ('DT', 23)] len(c.most_common(3)) is: 3\n",
      "[('NN', 81), ('JJ', 32), ('DT', 18)] len(c.most_common(3)) is: 3\n",
      "[('NN', 84), ('JJ', 46), ('IN', 29)] len(c.most_common(3)) is: 3\n",
      "[('VBP', 2), ('PDT', 1), ('DT', 1)] len(c.most_common(3)) is: 3\n",
      "[('NN', 179), ('RB', 63), ('VB', 63)] len(c.most_common(3)) is: 3\n",
      "[('NN', 11), ('RB', 4), ('DT', 3)] len(c.most_common(3)) is: 3\n",
      "[('JJ', 7), ('NN', 6), ('VB', 2)] len(c.most_common(3)) is: 3\n",
      "[('NN', 7), ('JJ', 5), ('DT', 3)] len(c.most_common(3)) is: 3\n",
      "[('DT', 2), ('PRP', 1), ('VBP', 1)] len(c.most_common(3)) is: 3\n",
      "[('NN', 9), ('RB', 4), ('IN', 3)] len(c.most_common(3)) is: 3\n",
      "[('JJ', 4), ('RB', 2), ('VBP', 1)] len(c.most_common(3)) is: 3\n",
      "[('NN', 1)] len(c.most_common(3)) is: 1\n",
      "[('NN', 57), ('JJ', 25), ('DT', 16)] len(c.most_common(3)) is: 3\n",
      "[('NN', 49), ('NNP', 32), ('JJ', 16)] len(c.most_common(3)) is: 3\n",
      "[('NN', 85), ('DT', 48), ('IN', 34)] len(c.most_common(3)) is: 3\n",
      "[('VB', 88), ('NN', 78), ('JJ', 44)] len(c.most_common(3)) is: 3\n",
      "[('NN', 82), ('DT', 37), ('IN', 36)] len(c.most_common(3)) is: 3\n",
      "[('NN', 240), ('JJ', 60), ('FW', 25)] len(c.most_common(3)) is: 3\n",
      "[('NN', 25), ('IN', 8), ('JJ', 8)] len(c.most_common(3)) is: 3\n",
      "[('NN', 109), ('JJ', 45), ('IN', 43)] len(c.most_common(3)) is: 3\n",
      "[('NN', 9), ('JJ', 3), ('VBP', 2)] len(c.most_common(3)) is: 3\n",
      "[('NN', 149), ('PRP', 122), ('JJ', 94)] len(c.most_common(3)) is: 3\n",
      "[('NN', 9), ('JJ', 4), ('IN', 2)] len(c.most_common(3)) is: 3\n",
      "[('NN', 40), ('JJ', 16), ('DT', 12)] len(c.most_common(3)) is: 3\n",
      "[('NN', 6), ('VBP', 2), ('DT', 2)] len(c.most_common(3)) is: 3\n",
      "[('RB', 1), ('JJ', 1), ('NN', 1)] len(c.most_common(3)) is: 3\n",
      "[('NN', 6), ('JJ', 2), ('NNP', 2)] len(c.most_common(3)) is: 3\n",
      "[('NN', 58), ('IN', 12), ('DT', 12)] len(c.most_common(3)) is: 3\n",
      "[('NN', 8)] len(c.most_common(3)) is: 1\n",
      "[('NN', 36), ('NNP', 21), ('JJ', 12)] len(c.most_common(3)) is: 3\n",
      "[('NN', 347), ('JJ', 73), ('IN', 63)] len(c.most_common(3)) is: 3\n",
      "[('NN', 23), ('JJ', 9), ('PRP', 9)] len(c.most_common(3)) is: 3\n",
      "[('NN', 29), ('JJ', 21), ('IN', 21)] len(c.most_common(3)) is: 3\n",
      "[('JJ', 16), ('NN', 16), ('VB', 7)] len(c.most_common(3)) is: 3\n",
      "[('NN', 10), ('VBP', 6), ('JJ', 6)] len(c.most_common(3)) is: 3\n",
      "[('NN', 25), ('DT', 11), ('RB', 8)] len(c.most_common(3)) is: 3\n",
      "[('NN', 245), ('IN', 118), ('DT', 96)] len(c.most_common(3)) is: 3\n",
      "[('NN', 23), ('JJ', 11), ('IN', 6)] len(c.most_common(3)) is: 3\n",
      "[('NN', 57), ('JJ', 10), ('DT', 8)] len(c.most_common(3)) is: 3\n",
      "[('NN', 23), ('JJ', 11), ('DT', 7)] len(c.most_common(3)) is: 3\n",
      "[('NN', 57), ('RB', 20), ('JJ', 17)] len(c.most_common(3)) is: 3\n",
      "[('NN', 55), ('FW', 11), ('NNP', 11)] len(c.most_common(3)) is: 3\n",
      "[('NN', 153), ('NNP', 100), ('JJ', 51)] len(c.most_common(3)) is: 3\n",
      "[('NN', 83), ('IN', 43), ('DT', 36)] len(c.most_common(3)) is: 3\n",
      "[('NN', 78), ('JJ', 24), ('DT', 13)] len(c.most_common(3)) is: 3\n",
      "[('IN', 18), ('NN', 18), ('DT', 9)] len(c.most_common(3)) is: 3\n",
      "[('NN', 9), ('DT', 6), ('MD', 3)] len(c.most_common(3)) is: 3\n",
      "[('NN', 304), ('DT', 120), ('JJ', 106)] len(c.most_common(3)) is: 3\n",
      "[('NN', 144), ('JJ', 73), ('IN', 53)] len(c.most_common(3)) is: 3\n",
      "[('NN', 106), ('PRP', 42), ('DT', 35)] len(c.most_common(3)) is: 3\n",
      "[('NN', 3)] len(c.most_common(3)) is: 1\n",
      "[('NN', 102), ('DT', 77), ('VB', 41)] len(c.most_common(3)) is: 3\n",
      "[('NN', 44), ('DT', 13), ('VB', 11)] len(c.most_common(3)) is: 3\n",
      "[('NN', 2), ('JJ', 1), ('CC', 1)] len(c.most_common(3)) is: 3\n",
      "[('NN', 93), ('IN', 26), ('JJ', 21)] len(c.most_common(3)) is: 3\n",
      "[('NN', 158), ('PRP', 130), ('RB', 100)] len(c.most_common(3)) is: 3\n",
      "[('NN', 186), ('VB', 81), ('JJ', 76)] len(c.most_common(3)) is: 3\n",
      "[('NN', 63), ('JJ', 14), ('IN', 12)] len(c.most_common(3)) is: 3\n",
      "[('NN', 491), ('DT', 207), ('IN', 174)] len(c.most_common(3)) is: 3\n",
      "[('NN', 157), ('JJ', 31), ('DT', 9)] len(c.most_common(3)) is: 3\n",
      "[('NN', 15), ('JJ', 6), ('PRP', 5)] len(c.most_common(3)) is: 3\n",
      "[('NN', 7), ('JJ', 3), ('PRP$', 2)] len(c.most_common(3)) is: 3\n",
      "[('NN', 5), ('JJ', 3), ('DT', 2)] len(c.most_common(3)) is: 3\n",
      "[('NN', 5), ('JJ', 4), ('DT', 1)] len(c.most_common(3)) is: 3\n",
      "[('NN', 35), ('JJ', 15), ('IN', 11)] len(c.most_common(3)) is: 3\n",
      "[('NN', 44), ('JJ', 15), ('PRP', 13)] len(c.most_common(3)) is: 3\n",
      "[('NN', 15), ('JJ', 7), ('DT', 2)] len(c.most_common(3)) is: 3\n",
      "[('JJ', 1), ('NNP', 1), ('NN', 1)] len(c.most_common(3)) is: 3\n",
      "[('JJ', 25), ('NN', 22), ('RB', 13)] len(c.most_common(3)) is: 3\n"
     ]
    },
    {
     "name": "stdout",
     "output_type": "stream",
     "text": [
      "[('NN', 3), ('VBP', 1), ('DT', 1)] len(c.most_common(3)) is: 3\n",
      "[('NN', 69), ('JJ', 22), ('NNS', 14)] len(c.most_common(3)) is: 3\n",
      "[('NN', 26), ('NNP', 11), ('DT', 10)] len(c.most_common(3)) is: 3\n",
      "[('NN', 42), ('JJ', 3), ('RB', 2)] len(c.most_common(3)) is: 3\n",
      "[('NN', 15), ('JJ', 10), ('RB', 9)] len(c.most_common(3)) is: 3\n",
      "[('NN', 2), ('JJ', 2), ('DT', 1)] len(c.most_common(3)) is: 3\n",
      "[('NN', 16), ('JJ', 12), ('RB', 4)] len(c.most_common(3)) is: 3\n",
      "[('NN', 3), ('JJ', 2), ('UH', 1)] len(c.most_common(3)) is: 3\n",
      "[('NN', 54), ('JJ', 17), ('DT', 7)] len(c.most_common(3)) is: 3\n",
      "[('NN', 47), ('IN', 29), ('DT', 22)] len(c.most_common(3)) is: 3\n",
      "[('NN', 63), ('DT', 27), ('JJ', 26)] len(c.most_common(3)) is: 3\n",
      "[('NN', 7), ('JJ', 4), ('IN', 3)] len(c.most_common(3)) is: 3\n",
      "[('NN', 7), ('NNS', 3), ('IN', 3)] len(c.most_common(3)) is: 3\n",
      "[('NN', 11), ('JJ', 9), ('RB', 8)] len(c.most_common(3)) is: 3\n",
      "[('NN', 105), ('JJ', 50), ('IN', 42)] len(c.most_common(3)) is: 3\n",
      "[('JJ', 3), ('NN', 2), ('VB', 2)] len(c.most_common(3)) is: 3\n",
      "[('NN', 78), ('JJ', 25), ('NNS', 10)] len(c.most_common(3)) is: 3\n",
      "[('NN', 9), ('PRP$', 3), ('NNS', 2)] len(c.most_common(3)) is: 3\n",
      "[('NN', 5), ('VB', 3), ('JJ', 3)] len(c.most_common(3)) is: 3\n",
      "[('NN', 12)] len(c.most_common(3)) is: 1\n",
      "[('NN', 3), ('VB', 3), ('NNS', 2)] len(c.most_common(3)) is: 3\n",
      "[('NN', 217), ('JJ', 47), ('NNP', 41)] len(c.most_common(3)) is: 3\n",
      "[('NN', 16), ('JJ', 6), ('DT', 5)] len(c.most_common(3)) is: 3\n",
      "[('NN', 9), ('JJ', 3), ('NNP', 2)] len(c.most_common(3)) is: 3\n",
      "[('NN', 32), ('JJ', 22), ('DT', 7)] len(c.most_common(3)) is: 3\n",
      "[('NN', 15), ('DT', 4), ('IN', 4)] len(c.most_common(3)) is: 3\n",
      "[('NN', 2), ('VB', 1), ('PRP$', 1)] len(c.most_common(3)) is: 3\n",
      "[('NN', 20), ('JJ', 11), ('IN', 10)] len(c.most_common(3)) is: 3\n",
      "[('NN', 8), ('JJ', 3), ('IN', 3)] len(c.most_common(3)) is: 3\n",
      "[('NN', 73), ('IN', 25), ('DT', 25)] len(c.most_common(3)) is: 3\n",
      "[('NN', 25), ('JJ', 13), ('RB', 5)] len(c.most_common(3)) is: 3\n",
      "[('NN', 48), ('JJ', 22), ('RB', 9)] len(c.most_common(3)) is: 3\n",
      "[('NN', 2), ('JJ', 1)] len(c.most_common(3)) is: 2\n",
      "[('NN', 8), ('DT', 4), ('VBP', 3)] len(c.most_common(3)) is: 3\n",
      "[('NN', 78), ('JJ', 30), ('VB', 24)] len(c.most_common(3)) is: 3\n",
      "[('NN', 31), ('JJ', 21), ('FW', 8)] len(c.most_common(3)) is: 3\n",
      "[('NN', 85), ('IN', 34), ('JJ', 22)] len(c.most_common(3)) is: 3\n",
      "[('NN', 1), ('NNS', 1), ('VBP', 1)] len(c.most_common(3)) is: 3\n",
      "[('RB', 1)] len(c.most_common(3)) is: 1\n",
      "[('NN', 32), ('DT', 12), ('JJ', 11)] len(c.most_common(3)) is: 3\n",
      "[('NN', 5), ('IN', 3), ('JJ', 2)] len(c.most_common(3)) is: 3\n",
      "[('NN', 8), ('DT', 5), ('JJ', 5)] len(c.most_common(3)) is: 3\n",
      "[('NN', 8), ('NNS', 3), ('VBP', 2)] len(c.most_common(3)) is: 3\n",
      "[('PRP$', 1), ('RB', 1), ('JJ', 1)] len(c.most_common(3)) is: 3\n",
      "[('NN', 91), ('CD', 38), ('JJ', 36)] len(c.most_common(3)) is: 3\n",
      "[('NN', 20), ('JJ', 10), ('IN', 5)] len(c.most_common(3)) is: 3\n",
      "[('NN', 31), ('IN', 8), ('VB', 8)] len(c.most_common(3)) is: 3\n",
      "[('NN', 77), ('JJ', 37), ('IN', 31)] len(c.most_common(3)) is: 3\n",
      "[('NN', 2), ('NNP', 1)] len(c.most_common(3)) is: 2\n",
      "[('NN', 7), ('JJ', 3), ('FW', 1)] len(c.most_common(3)) is: 3\n",
      "[('NN', 66), ('JJ', 22), ('IN', 19)] len(c.most_common(3)) is: 3\n",
      "[('JJ', 1), ('VB', 1), ('PRP$', 1)] len(c.most_common(3)) is: 3\n",
      "[('NN', 146), ('PRP', 108), ('IN', 91)] len(c.most_common(3)) is: 3\n",
      "[('NN', 41), ('JJ', 21), ('IN', 6)] len(c.most_common(3)) is: 3\n",
      "[('NN', 3), ('DT', 1), ('JJS', 1)] len(c.most_common(3)) is: 3\n",
      "[('NN', 5), ('DT', 1), ('JJS', 1)] len(c.most_common(3)) is: 3\n",
      "[('NN', 4), ('VBP', 2), ('DT', 2)] len(c.most_common(3)) is: 3\n",
      "[('NN', 98), ('VB', 35), ('DT', 29)] len(c.most_common(3)) is: 3\n",
      "[('JJ', 1), ('NN', 1)] len(c.most_common(3)) is: 2\n",
      "[('NN', 833), ('JJ', 235), ('FW', 83)] len(c.most_common(3)) is: 3\n",
      "[('NN', 18), ('PRP', 6), ('IN', 5)] len(c.most_common(3)) is: 3\n",
      "[('NN', 125), ('IN', 71), ('DT', 59)] len(c.most_common(3)) is: 3\n",
      "[('NN', 23), ('IN', 7), ('RB', 6)] len(c.most_common(3)) is: 3\n",
      "[('IN', 1)] len(c.most_common(3)) is: 1\n",
      "[('NN', 18), ('VB', 11), ('JJ', 10)] len(c.most_common(3)) is: 3\n",
      "[('NN', 4), ('RB', 3), ('JJ', 3)] len(c.most_common(3)) is: 3\n",
      "[('NN', 8), ('PRP', 3), ('VBN', 3)] len(c.most_common(3)) is: 3\n",
      "[('NN', 2), ('JJ', 1)] len(c.most_common(3)) is: 2\n",
      "[('NN', 52), ('JJ', 19), ('IN', 16)] len(c.most_common(3)) is: 3\n",
      "[('NN', 10), ('JJ', 9), ('RB', 7)] len(c.most_common(3)) is: 3\n",
      "[('NN', 2), ('UH', 1), ('PRP$', 1)] len(c.most_common(3)) is: 3\n",
      "[('NN', 9), ('IN', 3), ('JJ', 2)] len(c.most_common(3)) is: 3\n",
      "[('NN', 3)] len(c.most_common(3)) is: 1\n",
      "[('NN', 107), ('JJ', 50), ('DT', 43)] len(c.most_common(3)) is: 3\n",
      "[('NN', 4), ('IN', 2), ('VBG', 2)] len(c.most_common(3)) is: 3\n",
      "[('NNP', 124), ('NN', 44), ('JJ', 6)] len(c.most_common(3)) is: 3\n",
      "[('NN', 14), ('DT', 4), ('IN', 4)] len(c.most_common(3)) is: 3\n",
      "[('NN', 164), ('IN', 74), ('DT', 60)] len(c.most_common(3)) is: 3\n",
      "[('JJ', 4), ('NN', 4), ('RB', 2)] len(c.most_common(3)) is: 3\n",
      "[('NN', 3)] len(c.most_common(3)) is: 1\n",
      "[('NN', 27), ('VB', 11), ('PRP', 8)] len(c.most_common(3)) is: 3\n",
      "[('RB', 1), ('JJ', 1), ('NNS', 1)] len(c.most_common(3)) is: 3\n",
      "[('NN', 1)] len(c.most_common(3)) is: 1\n",
      "[('NN', 1)] len(c.most_common(3)) is: 1\n",
      "[('NN', 3), ('PRP$', 2), ('CD', 1)] len(c.most_common(3)) is: 3\n",
      "[('NN', 30), ('JJ', 8), ('RB', 3)] len(c.most_common(3)) is: 3\n",
      "[('NN', 21), ('DT', 8), ('VB', 6)] len(c.most_common(3)) is: 3\n",
      "[('NN', 42), ('IN', 17), ('DT', 12)] len(c.most_common(3)) is: 3\n",
      "[('NN', 4), ('VB', 2), ('RP', 2)] len(c.most_common(3)) is: 3\n",
      "[('NN', 2), ('PRP', 1), ('JJ', 1)] len(c.most_common(3)) is: 3\n",
      "[('VB', 1), ('RP', 1), ('IN', 1)] len(c.most_common(3)) is: 3\n",
      "[('NN', 25), ('IN', 12), ('JJ', 10)] len(c.most_common(3)) is: 3\n",
      "[('NN', 49), ('JJ', 23), ('RB', 15)] len(c.most_common(3)) is: 3\n",
      "[('NN', 60), ('DT', 21), ('JJ', 21)] len(c.most_common(3)) is: 3\n",
      "[('NNP', 9), ('JJ', 2)] len(c.most_common(3)) is: 2\n",
      "[('NN', 45), ('JJ', 23), ('VB', 11)] len(c.most_common(3)) is: 3\n",
      "[('NN', 57), ('JJ', 26), ('IN', 24)] len(c.most_common(3)) is: 3\n",
      "[('JJ', 1)] len(c.most_common(3)) is: 1\n",
      "[('NN', 126), ('JJ', 43), ('CD', 16)] len(c.most_common(3)) is: 3\n",
      "[('NN', 7), ('JJ', 2), ('FW', 1)] len(c.most_common(3)) is: 3\n",
      "[('NN', 6), ('JJ', 5), ('VBP', 2)] len(c.most_common(3)) is: 3\n",
      "[('NN', 4), ('RB', 3), ('PRP', 2)] len(c.most_common(3)) is: 3\n",
      "[('RB', 5), ('IN', 4), ('DT', 3)] len(c.most_common(3)) is: 3\n",
      "[('NN', 4), ('JJ', 3), ('CD', 2)] len(c.most_common(3)) is: 3\n",
      "[('NN', 1)] len(c.most_common(3)) is: 1\n",
      "[('JJ', 1), ('NN', 1)] len(c.most_common(3)) is: 2\n",
      "[('PRP', 2), ('NN', 2), ('MD', 1)] len(c.most_common(3)) is: 3\n",
      "[('NN', 11), ('JJ', 5), ('IN', 3)] len(c.most_common(3)) is: 3\n",
      "[('NN', 29), ('IN', 9), ('JJ', 9)] len(c.most_common(3)) is: 3\n",
      "[('NN', 2), ('IN', 1), ('RBR', 1)] len(c.most_common(3)) is: 3\n",
      "[('NN', 13), ('PRP', 4), ('IN', 3)] len(c.most_common(3)) is: 3\n",
      "[('NN', 1)] len(c.most_common(3)) is: 1\n",
      "[('NN', 9), ('NNS', 1), ('IN', 1)] len(c.most_common(3)) is: 3\n",
      "[('NN', 17), ('VB', 5), ('IN', 4)] len(c.most_common(3)) is: 3\n",
      "[('IN', 4), ('NN', 2), ('PRP', 2)] len(c.most_common(3)) is: 3\n",
      "[('NN', 50), ('IN', 18), ('JJ', 17)] len(c.most_common(3)) is: 3\n",
      "[('NNP', 25), ('NN', 8), ('JJ', 7)] len(c.most_common(3)) is: 3\n",
      "[('NN', 15), ('PRP', 4), ('IN', 3)] len(c.most_common(3)) is: 3\n",
      "[('NN', 9), ('JJ', 5), ('VBG', 3)] len(c.most_common(3)) is: 3\n",
      "[('NN', 196), ('CD', 101), ('JJ', 80)] len(c.most_common(3)) is: 3\n",
      "[('NN', 26), ('DT', 12), ('IN', 9)] len(c.most_common(3)) is: 3\n",
      "[('NN', 48), ('VB', 18), ('IN', 17)] len(c.most_common(3)) is: 3\n",
      "[('NN', 7), ('NNP', 7), ('JJ', 2)] len(c.most_common(3)) is: 3\n",
      "[('NN', 26), ('NNP', 12), ('PRP', 8)] len(c.most_common(3)) is: 3\n",
      "[('NN', 4), ('JJ', 2), ('IN', 2)] len(c.most_common(3)) is: 3\n",
      "[('NN', 58), ('JJ', 17), ('IN', 17)] len(c.most_common(3)) is: 3\n",
      "[('NN', 3), ('JJ', 1), ('CD', 1)] len(c.most_common(3)) is: 3\n",
      "[('NN', 43), ('JJ', 14), ('DT', 11)] len(c.most_common(3)) is: 3\n",
      "[('NN', 15), ('JJ', 8), ('VB', 5)] len(c.most_common(3)) is: 3\n",
      "[('NN', 15), ('IN', 10), ('JJ', 8)] len(c.most_common(3)) is: 3\n",
      "[('NN', 4), ('JJ', 4), ('NNS', 3)] len(c.most_common(3)) is: 3\n",
      "[('NN', 42), ('JJ', 13), ('PRP', 10)] len(c.most_common(3)) is: 3\n",
      "[('NN', 84), ('JJ', 29), ('IN', 25)] len(c.most_common(3)) is: 3\n",
      "[('VB', 9), ('VBP', 6), ('NN', 6)] len(c.most_common(3)) is: 3\n"
     ]
    },
    {
     "name": "stdout",
     "output_type": "stream",
     "text": [
      "[('NN', 2), ('JJ', 1)] len(c.most_common(3)) is: 2\n",
      "[('NN', 18), ('NNP', 10), ('PRP', 6)] len(c.most_common(3)) is: 3\n",
      "[('NN', 99), ('IN', 31), ('DT', 28)] len(c.most_common(3)) is: 3\n",
      "[('NN', 60), ('IN', 18), ('JJ', 16)] len(c.most_common(3)) is: 3\n",
      "[('NN', 167), ('CD', 102), ('JJ', 59)] len(c.most_common(3)) is: 3\n",
      "[('NN', 15), ('IN', 8), ('JJ', 6)] len(c.most_common(3)) is: 3\n",
      "[('NN', 22), ('IN', 11), ('DT', 10)] len(c.most_common(3)) is: 3\n",
      "[('NN', 47), ('DT', 20), ('IN', 17)] len(c.most_common(3)) is: 3\n",
      "[('NN', 42), ('JJ', 15), ('IN', 10)] len(c.most_common(3)) is: 3\n",
      "[('NN', 5), ('JJ', 4), ('DT', 2)] len(c.most_common(3)) is: 3\n",
      "[('NN', 4), ('PRP$', 2), ('JJ', 2)] len(c.most_common(3)) is: 3\n",
      "[('NN', 43), ('RB', 9), ('VB', 9)] len(c.most_common(3)) is: 3\n",
      "[('NN', 6), ('NNS', 2), ('VB', 2)] len(c.most_common(3)) is: 3\n",
      "[('NN', 7), ('VB', 3), ('MD', 2)] len(c.most_common(3)) is: 3\n",
      "[('JJ', 1)] len(c.most_common(3)) is: 1\n",
      "[('NN', 77), ('JJ', 20), ('VB', 20)] len(c.most_common(3)) is: 3\n",
      "[('NN', 7), ('IN', 4), ('DT', 2)] len(c.most_common(3)) is: 3\n",
      "[('NN', 9), ('NNP', 6), ('JJ', 4)] len(c.most_common(3)) is: 3\n",
      "[('NN', 117), ('IN', 33), ('VB', 27)] len(c.most_common(3)) is: 3\n",
      "[('NN', 5), ('RB', 2), ('JJ', 2)] len(c.most_common(3)) is: 3\n",
      "[('NN', 60), ('DT', 14), ('IN', 13)] len(c.most_common(3)) is: 3\n",
      "[('NN', 61), ('DT', 27), ('IN', 22)] len(c.most_common(3)) is: 3\n",
      "[('NN', 79), ('IN', 18), ('VB', 15)] len(c.most_common(3)) is: 3\n",
      "[('NN', 81), ('IN', 25), ('PRP', 23)] len(c.most_common(3)) is: 3\n",
      "[('NN', 2), ('DT', 1), ('VBZ', 1)] len(c.most_common(3)) is: 3\n",
      "[('NN', 7), ('RB', 2), ('VB', 2)] len(c.most_common(3)) is: 3\n",
      "[('NN', 2)] len(c.most_common(3)) is: 1\n",
      "[('DT', 1), ('VBZ', 1), ('JJ', 1)] len(c.most_common(3)) is: 3\n",
      "[('NN', 4), ('JJ', 1)] len(c.most_common(3)) is: 2\n",
      "[('NN', 9), ('JJ', 7), ('RB', 3)] len(c.most_common(3)) is: 3\n",
      "[('JJ', 2), ('NN', 1)] len(c.most_common(3)) is: 2\n",
      "[('NN', 4), ('JJ', 2), ('RB', 1)] len(c.most_common(3)) is: 3\n",
      "[('NN', 2), ('JJS', 1)] len(c.most_common(3)) is: 2\n",
      "[('NN', 7), ('SYM', 1)] len(c.most_common(3)) is: 2\n",
      "[('NN', 3), ('NNS', 1), ('RB', 1)] len(c.most_common(3)) is: 3\n",
      "[('NN', 48), ('CD', 34), ('SYM', 11)] len(c.most_common(3)) is: 3\n",
      "[('NN', 24), ('FW', 13), ('CD', 11)] len(c.most_common(3)) is: 3\n",
      "[('NN', 8), ('JJ', 6), ('VBD', 2)] len(c.most_common(3)) is: 3\n",
      "[('NN', 7), ('NNP', 3), ('JJ', 2)] len(c.most_common(3)) is: 3\n",
      "[('NN', 7), ('NNP', 2), ('JJ', 2)] len(c.most_common(3)) is: 3\n",
      "[('NN', 7), ('NNP', 2), ('JJ', 2)] len(c.most_common(3)) is: 3\n",
      "[('NN', 6), ('NNP', 2), ('VBZ', 2)] len(c.most_common(3)) is: 3\n",
      "[('NN', 7), ('NNP', 2), ('VBZ', 2)] len(c.most_common(3)) is: 3\n",
      "[('NN', 7), ('NNP', 3), ('JJ', 2)] len(c.most_common(3)) is: 3\n",
      "[('NN', 7), ('NNP', 2), ('JJ', 2)] len(c.most_common(3)) is: 3\n",
      "[('NN', 7), ('JJ', 3), ('VBZ', 2)] len(c.most_common(3)) is: 3\n",
      "[('NN', 41), ('JJ', 28), ('NNP', 9)] len(c.most_common(3)) is: 3\n",
      "[('NN', 1)] len(c.most_common(3)) is: 1\n",
      "[('NN', 7), ('JJ', 3), ('NNP', 2)] len(c.most_common(3)) is: 3\n",
      "[('NN', 6), ('JJ', 3), ('NNP', 2)] len(c.most_common(3)) is: 3\n",
      "[('NN', 8), ('JJ', 2), ('JJS', 1)] len(c.most_common(3)) is: 3\n",
      "[('NN', 8), ('NNP', 2), ('JJ', 2)] len(c.most_common(3)) is: 3\n",
      "[('NN', 8), ('NNP', 2), ('VBZ', 2)] len(c.most_common(3)) is: 3\n",
      "[('NN', 8), ('NNP', 2), ('JJ', 2)] len(c.most_common(3)) is: 3\n",
      "[('NN', 8), ('NNP', 2), ('JJ', 2)] len(c.most_common(3)) is: 3\n",
      "[('NN', 8), ('NNP', 2), ('VBZ', 2)] len(c.most_common(3)) is: 3\n",
      "[('NN', 8), ('JJ', 3), ('NNP', 2)] len(c.most_common(3)) is: 3\n",
      "[('NN', 8), ('NNS', 2), ('JJ', 2)] len(c.most_common(3)) is: 3\n",
      "[('NN', 5), ('VB', 3), ('NNP', 2)] len(c.most_common(3)) is: 3\n",
      "[('NN', 8), ('NNP', 2), ('DT', 2)] len(c.most_common(3)) is: 3\n",
      "[('NN', 12), ('NNP', 2), ('JJ', 1)] len(c.most_common(3)) is: 3\n",
      "[('NN', 8), ('NNP', 3), ('SYM', 1)] len(c.most_common(3)) is: 3\n",
      "[('NN', 1)] len(c.most_common(3)) is: 1\n",
      "[('IN', 1)] len(c.most_common(3)) is: 1\n",
      "[('NN', 3), ('FW', 2), ('VBP', 1)] len(c.most_common(3)) is: 3\n",
      "[('NN', 16), ('JJ', 4), ('NNS', 3)] len(c.most_common(3)) is: 3\n",
      "[('NN', 6), ('SYM', 1), ('NNS', 1)] len(c.most_common(3)) is: 3\n",
      "[('NN', 37), ('JJ', 19), ('IN', 7)] len(c.most_common(3)) is: 3\n",
      "[('NN', 77), ('PRP', 22), ('IN', 21)] len(c.most_common(3)) is: 3\n",
      "[('NN', 4), ('NNP', 3), ('DT', 2)] len(c.most_common(3)) is: 3\n",
      "[('NN', 4), ('JJ', 2), ('VBD', 1)] len(c.most_common(3)) is: 3\n",
      "[('JJ', 3), ('NNS', 2), ('PRP', 2)] len(c.most_common(3)) is: 3\n",
      "[('NN', 37), ('JJ', 11), ('PRP', 10)] len(c.most_common(3)) is: 3\n",
      "[('NN', 43), ('JJ', 16), ('DT', 15)] len(c.most_common(3)) is: 3\n",
      "[('NN', 24), ('JJ', 20), ('PRP', 10)] len(c.most_common(3)) is: 3\n",
      "[('JJ', 3), ('NN', 2), ('CD', 1)] len(c.most_common(3)) is: 3\n",
      "[('NN', 14), ('JJ', 5), ('DT', 5)] len(c.most_common(3)) is: 3\n",
      "[('NN', 15), ('DT', 5), ('PRP', 5)] len(c.most_common(3)) is: 3\n",
      "[('NN', 8), ('DT', 4), ('VBZ', 3)] len(c.most_common(3)) is: 3\n",
      "[('NN', 10), ('JJ', 6), ('RB', 4)] len(c.most_common(3)) is: 3\n",
      "[('NN', 47), ('JJ', 9), ('PRP', 8)] len(c.most_common(3)) is: 3\n",
      "[('JJ', 8), ('NN', 6), ('VBP', 3)] len(c.most_common(3)) is: 3\n",
      "[('NN', 31), ('DT', 23), ('IN', 18)] len(c.most_common(3)) is: 3\n",
      "[('NN', 74), ('DT', 26), ('JJ', 24)] len(c.most_common(3)) is: 3\n",
      "[('NN', 9), ('JJ', 5), ('DT', 4)] len(c.most_common(3)) is: 3\n",
      "[('NN', 6), ('JJ', 5), ('IN', 2)] len(c.most_common(3)) is: 3\n",
      "[('NN', 35), ('DT', 18), ('RB', 17)] len(c.most_common(3)) is: 3\n",
      "[('JJ', 13), ('NN', 12), ('VBP', 6)] len(c.most_common(3)) is: 3\n",
      "[('NN', 6), ('JJ', 2)] len(c.most_common(3)) is: 2\n",
      "[('DT', 2), ('NN', 2), ('PRP', 1)] len(c.most_common(3)) is: 3\n",
      "[('NN', 8), ('DT', 6), ('JJ', 5)] len(c.most_common(3)) is: 3\n",
      "[('JJ', 14), ('NN', 13), ('RB', 7)] len(c.most_common(3)) is: 3\n",
      "[('RB', 1), ('NN', 1)] len(c.most_common(3)) is: 2\n",
      "[('NN', 21), ('CD', 16), ('DT', 7)] len(c.most_common(3)) is: 3\n",
      "[('NN', 4), ('VBP', 2), ('DT', 1)] len(c.most_common(3)) is: 3\n",
      "[('NN', 6), ('JJ', 1), ('NNP', 1)] len(c.most_common(3)) is: 3\n",
      "[('NN', 5), ('JJ', 3), ('DT', 2)] len(c.most_common(3)) is: 3\n",
      "[('NN', 6), ('JJ', 5), ('VBZ', 3)] len(c.most_common(3)) is: 3\n",
      "[('JJ', 3), ('IN', 2), ('RB', 2)] len(c.most_common(3)) is: 3\n",
      "[('NN', 2), ('JJ', 1), ('TO', 1)] len(c.most_common(3)) is: 3\n",
      "[('NN', 5), ('RB', 3), ('DT', 1)] len(c.most_common(3)) is: 3\n",
      "[('NN', 573), ('JJ', 550), ('IN', 12)] len(c.most_common(3)) is: 3\n",
      "[('NN', 13), ('DT', 7), ('NNS', 6)] len(c.most_common(3)) is: 3\n",
      "[('NN', 3), ('JJ', 1)] len(c.most_common(3)) is: 2\n",
      "[('NN', 7), ('NNS', 3), ('IN', 2)] len(c.most_common(3)) is: 3\n",
      "[('NN', 4), ('JJ', 1)] len(c.most_common(3)) is: 2\n",
      "[('RB', 1), ('NN', 1)] len(c.most_common(3)) is: 2\n",
      "[('NN', 39), ('JJ', 20), ('IN', 13)] len(c.most_common(3)) is: 3\n",
      "[('NN', 36), ('JJ', 26), ('RB', 12)] len(c.most_common(3)) is: 3\n",
      "[('NN', 39), ('JJ', 16), ('IN', 9)] len(c.most_common(3)) is: 3\n",
      "[('NN', 6), ('JJ', 1)] len(c.most_common(3)) is: 2\n",
      "[('NN', 42), ('JJ', 21), ('IN', 18)] len(c.most_common(3)) is: 3\n",
      "[('NN', 23), ('JJ', 20), ('VBP', 6)] len(c.most_common(3)) is: 3\n",
      "[('NN', 2), ('NNS', 1), ('IN', 1)] len(c.most_common(3)) is: 3\n",
      "[('NN', 45), ('JJ', 15), ('IN', 12)] len(c.most_common(3)) is: 3\n",
      "[('NN', 4), ('VBD', 1)] len(c.most_common(3)) is: 2\n",
      "[('JJ', 6), ('NN', 4), ('DT', 3)] len(c.most_common(3)) is: 3\n",
      "[('NN', 5), ('IN', 4), ('DT', 4)] len(c.most_common(3)) is: 3\n",
      "[('JJ', 3), ('NN', 3), ('VB', 2)] len(c.most_common(3)) is: 3\n",
      "[('NN', 2)] len(c.most_common(3)) is: 1\n",
      "[('NN', 53), ('JJ', 27), ('IN', 16)] len(c.most_common(3)) is: 3\n",
      "[('NN', 22), ('JJ', 14), ('IN', 4)] len(c.most_common(3)) is: 3\n",
      "[('RB', 1), ('NN', 1)] len(c.most_common(3)) is: 2\n",
      "[('JJ', 3), ('NN', 3), ('RB', 1)] len(c.most_common(3)) is: 3\n",
      "[('NN', 1)] len(c.most_common(3)) is: 1\n",
      "[('NN', 13), ('JJ', 4), ('VB', 2)] len(c.most_common(3)) is: 3\n",
      "[('NN', 42), ('JJ', 16), ('IN', 11)] len(c.most_common(3)) is: 3\n",
      "[('NN', 9), ('JJ', 5), ('NNS', 4)] len(c.most_common(3)) is: 3\n",
      "[('NN', 34), ('JJ', 27), ('RB', 12)] len(c.most_common(3)) is: 3\n",
      "[('NN', 4), ('JJ', 2), ('IN', 1)] len(c.most_common(3)) is: 3\n",
      "[('NN', 61), ('JJ', 29), ('PRP', 10)] len(c.most_common(3)) is: 3\n",
      "[('NN', 49), ('JJ', 12), ('NNP', 8)] len(c.most_common(3)) is: 3\n",
      "[('NN', 2), ('VBP', 1), ('PRP', 1)] len(c.most_common(3)) is: 3\n",
      "[('NN', 89), ('JJ', 23), ('IN', 23)] len(c.most_common(3)) is: 3\n",
      "[('NN', 2), ('PRP', 2), ('JJ', 2)] len(c.most_common(3)) is: 3\n"
     ]
    },
    {
     "name": "stdout",
     "output_type": "stream",
     "text": [
      "[('NN', 65), ('VB', 26), ('IN', 23)] len(c.most_common(3)) is: 3\n",
      "[('NN', 248), ('VB', 77), ('JJ', 55)] len(c.most_common(3)) is: 3\n",
      "[('NN', 5), ('RB', 1), ('TO', 1)] len(c.most_common(3)) is: 3\n",
      "[('NN', 85), ('JJ', 21), ('DT', 14)] len(c.most_common(3)) is: 3\n",
      "[('NN', 4), ('JJ', 3), ('NNS', 1)] len(c.most_common(3)) is: 3\n",
      "[('NN', 10), ('IN', 7), ('NNS', 5)] len(c.most_common(3)) is: 3\n",
      "[('NN', 58), ('IN', 23), ('JJ', 20)] len(c.most_common(3)) is: 3\n",
      "[('NN', 28), ('JJ', 25), ('VB', 15)] len(c.most_common(3)) is: 3\n",
      "[('NN', 65), ('DT', 20), ('IN', 19)] len(c.most_common(3)) is: 3\n",
      "[('NN', 20), ('IN', 15), ('DT', 15)] len(c.most_common(3)) is: 3\n",
      "[('NN', 95), ('IN', 39), ('DT', 33)] len(c.most_common(3)) is: 3\n",
      "[('NN', 66), ('JJ', 14), ('FW', 10)] len(c.most_common(3)) is: 3\n",
      "[('NN', 2), ('JJ', 2)] len(c.most_common(3)) is: 2\n",
      "[('NN', 6), ('JJ', 4), ('RB', 3)] len(c.most_common(3)) is: 3\n",
      "[('NN', 33), ('JJ', 6), ('NNS', 4)] len(c.most_common(3)) is: 3\n",
      "[('NN', 4), ('VBZ', 2), ('PRP', 2)] len(c.most_common(3)) is: 3\n",
      "[('NN', 90), ('IN', 47), ('DT', 44)] len(c.most_common(3)) is: 3\n",
      "[('NN', 53), ('VB', 16), ('IN', 15)] len(c.most_common(3)) is: 3\n",
      "[('NN', 80), ('JJ', 26), ('IN', 23)] len(c.most_common(3)) is: 3\n",
      "[('NN', 66), ('IN', 31), ('VB', 25)] len(c.most_common(3)) is: 3\n",
      "[('NN', 3), ('VB', 3), ('IN', 2)] len(c.most_common(3)) is: 3\n",
      "[('NN', 3), ('JJ', 2), ('NNP', 1)] len(c.most_common(3)) is: 3\n",
      "[('NN', 13), ('JJ', 4), ('PRP', 4)] len(c.most_common(3)) is: 3\n",
      "[('IN', 2), ('DT', 2), ('NN', 2)] len(c.most_common(3)) is: 3\n",
      "[('VBP', 3), ('DT', 2), ('NNS', 2)] len(c.most_common(3)) is: 3\n",
      "[('NN', 2), ('VBG', 1), ('DT', 1)] len(c.most_common(3)) is: 3\n",
      "[('DT', 1), ('VBZ', 1), ('RB', 1)] len(c.most_common(3)) is: 3\n",
      "[('NN', 23), ('JJ', 8), ('DT', 4)] len(c.most_common(3)) is: 3\n",
      "[('NN', 31), ('JJ', 21), ('RB', 7)] len(c.most_common(3)) is: 3\n",
      "[('NN', 72), ('IN', 23), ('JJ', 23)] len(c.most_common(3)) is: 3\n",
      "[('NN', 12), ('VB', 5), ('JJ', 4)] len(c.most_common(3)) is: 3\n",
      "[('NN', 8), ('DT', 4), ('VB', 3)] len(c.most_common(3)) is: 3\n",
      "[('NN', 6), ('JJ', 2), ('NNS', 2)] len(c.most_common(3)) is: 3\n",
      "[('NN', 40), ('JJ', 13), ('IN', 12)] len(c.most_common(3)) is: 3\n",
      "[('NN', 445), ('PRP', 241), ('JJ', 153)] len(c.most_common(3)) is: 3\n",
      "[('NN', 12), ('JJ', 5), ('DT', 5)] len(c.most_common(3)) is: 3\n",
      "[('NN', 12), ('PRP', 3), ('DT', 3)] len(c.most_common(3)) is: 3\n",
      "[('NN', 16), ('DT', 7), ('IN', 7)] len(c.most_common(3)) is: 3\n",
      "[('NN', 5), ('DT', 2), ('RB', 1)] len(c.most_common(3)) is: 3\n",
      "[('NN', 10), ('DT', 5), ('NNS', 2)] len(c.most_common(3)) is: 3\n",
      "[('JJ', 47), ('NN', 37), ('VB', 35)] len(c.most_common(3)) is: 3\n",
      "[('NN', 212), ('IN', 95), ('PRP', 83)] len(c.most_common(3)) is: 3\n",
      "[('NN', 11), ('JJ', 6), ('DT', 4)] len(c.most_common(3)) is: 3\n",
      "[('NN', 1)] len(c.most_common(3)) is: 1\n",
      "[('NN', 46), ('JJ', 19), ('NNP', 17)] len(c.most_common(3)) is: 3\n",
      "[('NN', 15), ('JJ', 8), ('DT', 3)] len(c.most_common(3)) is: 3\n",
      "[('NN', 5), ('RB', 1)] len(c.most_common(3)) is: 2\n",
      "[('NN', 21), ('JJ', 7), ('VB', 5)] len(c.most_common(3)) is: 3\n",
      "[('NN', 26), ('IN', 5), ('MD', 4)] len(c.most_common(3)) is: 3\n",
      "[('NNP', 145), ('NN', 24), ('JJ', 8)] len(c.most_common(3)) is: 3\n",
      "[('NN', 34), ('JJ', 14), ('DT', 12)] len(c.most_common(3)) is: 3\n",
      "[('NN', 247), ('DT', 116), ('JJ', 112)] len(c.most_common(3)) is: 3\n",
      "[('NN', 35), ('JJ', 20), ('RB', 9)] len(c.most_common(3)) is: 3\n",
      "[('NN', 34), ('JJ', 12), ('VBP', 5)] len(c.most_common(3)) is: 3\n",
      "[('NN', 65), ('DT', 20), ('JJ', 17)] len(c.most_common(3)) is: 3\n",
      "[('NN', 35), ('IN', 17), ('JJ', 14)] len(c.most_common(3)) is: 3\n",
      "[('NN', 43), ('JJ', 8), ('VBD', 3)] len(c.most_common(3)) is: 3\n",
      "[('NN', 8), ('NNS', 5), ('IN', 5)] len(c.most_common(3)) is: 3\n",
      "[('NN', 6), ('JJ', 4), ('RB', 1)] len(c.most_common(3)) is: 3\n",
      "[('NN', 8), ('VB', 6), ('DT', 5)] len(c.most_common(3)) is: 3\n",
      "[('NN', 8), ('IN', 5), ('JJ', 5)] len(c.most_common(3)) is: 3\n",
      "[('NN', 30), ('JJ', 5), ('NNP', 4)] len(c.most_common(3)) is: 3\n",
      "[('NN', 20), ('JJ', 17), ('DT', 8)] len(c.most_common(3)) is: 3\n",
      "[('NN', 5), ('NNS', 3), ('RB', 2)] len(c.most_common(3)) is: 3\n",
      "[('NN', 14), ('DT', 10), ('JJ', 8)] len(c.most_common(3)) is: 3\n",
      "[('NN', 18), ('JJ', 3), ('PRP', 2)] len(c.most_common(3)) is: 3\n",
      "[('NN', 6), ('NNS', 6), ('IN', 5)] len(c.most_common(3)) is: 3\n",
      "[('NN', 23), ('JJ', 6), ('VB', 3)] len(c.most_common(3)) is: 3\n",
      "[('NN', 5), ('JJ', 2), ('VB', 2)] len(c.most_common(3)) is: 3\n",
      "[('JJ', 3), ('VB', 1), ('PRP', 1)] len(c.most_common(3)) is: 3\n",
      "[('NN', 14), ('JJ', 3), ('NNP', 1)] len(c.most_common(3)) is: 3\n",
      "[('NN', 9), ('VBD', 6), ('PRP', 5)] len(c.most_common(3)) is: 3\n",
      "[('NN', 4), ('TO', 1), ('IN', 1)] len(c.most_common(3)) is: 3\n",
      "[('NN', 4), ('IN', 2), ('DT', 2)] len(c.most_common(3)) is: 3\n",
      "[('NN', 49), ('JJ', 26), ('VB', 15)] len(c.most_common(3)) is: 3\n",
      "[('NN', 9), ('PRP', 7), ('DT', 5)] len(c.most_common(3)) is: 3\n",
      "[('NNP', 69), ('NN', 25), ('JJ', 10)] len(c.most_common(3)) is: 3\n",
      "[('NN', 195), ('JJ', 80), ('DT', 73)] len(c.most_common(3)) is: 3\n",
      "[('NN', 17), ('DT', 6), ('RB', 5)] len(c.most_common(3)) is: 3\n",
      "[('NN', 47), ('JJ', 13), ('IN', 9)] len(c.most_common(3)) is: 3\n",
      "[('NN', 5), ('RB', 1), ('JJ', 1)] len(c.most_common(3)) is: 3\n",
      "[('NN', 5), ('JJ', 2)] len(c.most_common(3)) is: 2\n",
      "[('NN', 2), ('RB', 1), ('JJ', 1)] len(c.most_common(3)) is: 3\n",
      "[('NN', 41), ('JJ', 15), ('NNS', 4)] len(c.most_common(3)) is: 3\n",
      "[('NN', 25), ('JJ', 11), ('FW', 5)] len(c.most_common(3)) is: 3\n",
      "[('NN', 50), ('JJ', 16), ('DT', 16)] len(c.most_common(3)) is: 3\n",
      "[('JJ', 3), ('VBP', 2), ('NN', 2)] len(c.most_common(3)) is: 3\n",
      "[('NN', 96), ('DT', 35), ('JJ', 34)] len(c.most_common(3)) is: 3\n",
      "[('NN', 49), ('JJ', 21), ('DT', 14)] len(c.most_common(3)) is: 3\n",
      "[('NN', 32), ('DT', 12), ('IN', 9)] len(c.most_common(3)) is: 3\n",
      "[('NN', 37), ('JJ', 14), ('PRP', 12)] len(c.most_common(3)) is: 3\n",
      "[('NN', 62), ('JJ', 20), ('IN', 19)] len(c.most_common(3)) is: 3\n",
      "[('NN', 25), ('JJ', 4), ('DT', 3)] len(c.most_common(3)) is: 3\n",
      "[('NN', 61), ('JJ', 23), ('DT', 18)] len(c.most_common(3)) is: 3\n",
      "[('NN', 51), ('JJ', 23), ('IN', 17)] len(c.most_common(3)) is: 3\n",
      "[('NN', 27), ('DT', 11), ('JJ', 10)] len(c.most_common(3)) is: 3\n",
      "[('NN', 37), ('JJ', 16), ('DT', 15)] len(c.most_common(3)) is: 3\n",
      "[('NN', 29), ('DT', 9), ('JJ', 8)] len(c.most_common(3)) is: 3\n",
      "[('NN', 38), ('JJ', 16), ('DT', 11)] len(c.most_common(3)) is: 3\n",
      "[('NN', 23), ('JJ', 8), ('DT', 5)] len(c.most_common(3)) is: 3\n",
      "[('NN', 91), ('VB', 33), ('JJ', 30)] len(c.most_common(3)) is: 3\n",
      "[('NN', 29), ('JJ', 11), ('DT', 8)] len(c.most_common(3)) is: 3\n",
      "[('NN', 9), ('VB', 4), ('JJ', 3)] len(c.most_common(3)) is: 3\n",
      "[('NN', 15), ('JJ', 4), ('IN', 4)] len(c.most_common(3)) is: 3\n",
      "[('NN', 58), ('NNP', 14), ('JJ', 12)] len(c.most_common(3)) is: 3\n",
      "[('NN', 15), ('PRP', 7), ('DT', 6)] len(c.most_common(3)) is: 3\n",
      "[('NN', 1)] len(c.most_common(3)) is: 1\n",
      "[('NN', 4), ('VB', 2), ('PRP', 2)] len(c.most_common(3)) is: 3\n",
      "[('NN', 3), ('VB', 3), ('PRP', 3)] len(c.most_common(3)) is: 3\n",
      "[('NN', 8), ('JJ', 4), ('DT', 2)] len(c.most_common(3)) is: 3\n",
      "[('NN', 8), ('JJ', 4), ('RP', 2)] len(c.most_common(3)) is: 3\n",
      "[('NN', 1)] len(c.most_common(3)) is: 1\n",
      "[('NN', 5), ('NNP', 1)] len(c.most_common(3)) is: 2\n",
      "[('NN', 1)] len(c.most_common(3)) is: 1\n",
      "[('NN', 2), ('JJ', 1)] len(c.most_common(3)) is: 2\n",
      "[('NN', 17), ('PRP', 5), ('JJ', 4)] len(c.most_common(3)) is: 3\n",
      "[('NN', 1)] len(c.most_common(3)) is: 1\n",
      "[('NN', 5), ('PRP', 1), ('JJR', 1)] len(c.most_common(3)) is: 3\n",
      "[('NN', 46), ('FW', 18), ('JJ', 9)] len(c.most_common(3)) is: 3\n",
      "[('NN', 4), ('JJ', 1), ('IN', 1)] len(c.most_common(3)) is: 3\n",
      "[('NN', 5), ('RB', 4), ('DT', 2)] len(c.most_common(3)) is: 3\n",
      "[('RB', 1), ('JJ', 1), ('VBP', 1)] len(c.most_common(3)) is: 3\n",
      "[('NN', 31), ('JJ', 19), ('DT', 11)] len(c.most_common(3)) is: 3\n",
      "[('NN', 11), ('DT', 4), ('JJ', 4)] len(c.most_common(3)) is: 3\n",
      "[('NN', 8), ('VBP', 3), ('IN', 3)] len(c.most_common(3)) is: 3\n",
      "[('NN', 9), ('RB', 8), ('JJ', 7)] len(c.most_common(3)) is: 3\n",
      "[('NN', 18), ('JJ', 9), ('VBP', 5)] len(c.most_common(3)) is: 3\n",
      "[('NN', 1)] len(c.most_common(3)) is: 1\n",
      "[('NN', 6), ('DT', 2), ('PRP', 2)] len(c.most_common(3)) is: 3\n",
      "[('NN', 2), ('WRB', 1), ('MD', 1)] len(c.most_common(3)) is: 3\n",
      "[('DT', 2), ('IN', 1), ('NNS', 1)] len(c.most_common(3)) is: 3\n",
      "[('JJ', 3), ('NN', 2), ('NNS', 2)] len(c.most_common(3)) is: 3\n",
      "[('NN', 15), ('DT', 8), ('VB', 8)] len(c.most_common(3)) is: 3\n",
      "[('NN', 13), ('MD', 2), ('PRP', 2)] len(c.most_common(3)) is: 3\n",
      "[('NN', 40), ('DT', 17), ('JJ', 14)] len(c.most_common(3)) is: 3\n",
      "[('NN', 4), ('PRP', 3), ('CD', 3)] len(c.most_common(3)) is: 3\n"
     ]
    },
    {
     "name": "stdout",
     "output_type": "stream",
     "text": [
      "[('NN', 3), ('CD', 3), ('DT', 2)] len(c.most_common(3)) is: 3\n",
      "[('NN', 14), ('IN', 7), ('NNS', 6)] len(c.most_common(3)) is: 3\n",
      "[('NN', 19), ('JJ', 8), ('IN', 7)] len(c.most_common(3)) is: 3\n",
      "[('NN', 2), ('DT', 1), ('RB', 1)] len(c.most_common(3)) is: 3\n",
      "[('NN', 5), ('JJ', 4), ('DT', 1)] len(c.most_common(3)) is: 3\n",
      "[('NN', 8), ('PRP$', 2), ('VB', 2)] len(c.most_common(3)) is: 3\n",
      "[('NN', 1), ('VBZ', 1), ('CD', 1)] len(c.most_common(3)) is: 3\n",
      "[('RB', 1), ('NN', 1)] len(c.most_common(3)) is: 2\n",
      "[('NN', 7), ('JJ', 2), ('RB', 1)] len(c.most_common(3)) is: 3\n",
      "[('NN', 4), ('RB', 3), ('JJ', 2)] len(c.most_common(3)) is: 3\n",
      "[('NN', 2), ('VBP', 2), ('PRP', 2)] len(c.most_common(3)) is: 3\n",
      "[('JJ', 2), ('NN', 2), ('DT', 1)] len(c.most_common(3)) is: 3\n",
      "[('JJ', 2)] len(c.most_common(3)) is: 1\n",
      "[('NNP', 39), ('JJ', 1), ('NN', 1)] len(c.most_common(3)) is: 3\n",
      "[('NN', 3), ('IN', 3), ('PRP', 3)] len(c.most_common(3)) is: 3\n",
      "[('NN', 65), ('JJ', 18), ('FW', 15)] len(c.most_common(3)) is: 3\n",
      "[('NN', 15), ('JJ', 5), ('IN', 4)] len(c.most_common(3)) is: 3\n",
      "[('NN', 5), ('JJ', 2), ('RB', 1)] len(c.most_common(3)) is: 3\n",
      "[('NN', 73), ('JJ', 33), ('VB', 11)] len(c.most_common(3)) is: 3\n",
      "[('NN', 22), ('JJ', 10), ('IN', 6)] len(c.most_common(3)) is: 3\n",
      "[('NN', 58), ('JJ', 17), ('IN', 16)] len(c.most_common(3)) is: 3\n",
      "[('NN', 14), ('DT', 5), ('VB', 4)] len(c.most_common(3)) is: 3\n",
      "[('NN', 539), ('VB', 153), ('IN', 143)] len(c.most_common(3)) is: 3\n",
      "[('NN', 7), ('IN', 4), ('DT', 2)] len(c.most_common(3)) is: 3\n",
      "[('NN', 28), ('JJ', 10), ('CD', 6)] len(c.most_common(3)) is: 3\n",
      "[('NN', 111), ('JJ', 83), ('IN', 51)] len(c.most_common(3)) is: 3\n",
      "[('JJ', 1), ('NN', 1)] len(c.most_common(3)) is: 2\n",
      "[('NN', 2), ('RBR', 1), ('IN', 1)] len(c.most_common(3)) is: 3\n",
      "[('NN', 21), ('JJ', 10), ('NNP', 5)] len(c.most_common(3)) is: 3\n",
      "[('NN', 25), ('JJ', 8), ('RB', 7)] len(c.most_common(3)) is: 3\n",
      "[('NN', 1)] len(c.most_common(3)) is: 1\n",
      "[('NN', 4), ('JJ', 2), ('VBP', 1)] len(c.most_common(3)) is: 3\n",
      "[('NN', 1), ('VBZ', 1), ('CD', 1)] len(c.most_common(3)) is: 3\n",
      "[('NN', 2), ('JJ', 1)] len(c.most_common(3)) is: 2\n",
      "[('NN', 7), ('JJ', 4), ('VBP', 2)] len(c.most_common(3)) is: 3\n",
      "[('NN', 13), ('VB', 8), ('IN', 7)] len(c.most_common(3)) is: 3\n",
      "[('NN', 5), ('JJ', 3), ('DT', 2)] len(c.most_common(3)) is: 3\n",
      "[('NN', 7), ('DT', 4), ('VBP', 2)] len(c.most_common(3)) is: 3\n",
      "[('NN', 7), ('VBP', 3), ('WRB', 1)] len(c.most_common(3)) is: 3\n",
      "[('NN', 3), ('RB', 1), ('IN', 1)] len(c.most_common(3)) is: 3\n",
      "[('NN', 5), ('VBP', 2), ('NNS', 2)] len(c.most_common(3)) is: 3\n",
      "[('JJ', 3), ('NN', 2), ('IN', 1)] len(c.most_common(3)) is: 3\n",
      "[('DT', 1), ('NN', 1), ('VBZ', 1)] len(c.most_common(3)) is: 3\n",
      "[('DT', 1), ('VBZ', 1), ('JJ', 1)] len(c.most_common(3)) is: 3\n",
      "[('MD', 1), ('VB', 1), ('VBP', 1)] len(c.most_common(3)) is: 3\n",
      "[('NN', 14), ('DT', 9), ('JJ', 9)] len(c.most_common(3)) is: 3\n",
      "[('RB', 2), ('VBD', 1), ('TO', 1)] len(c.most_common(3)) is: 3\n",
      "[('NN', 2), ('MD', 1), ('VB', 1)] len(c.most_common(3)) is: 3\n",
      "[('NN', 74), ('JJ', 22), ('IN', 20)] len(c.most_common(3)) is: 3\n",
      "[('NN', 45), ('JJ', 28), ('DT', 24)] len(c.most_common(3)) is: 3\n",
      "[('NN', 56), ('DT', 26), ('IN', 25)] len(c.most_common(3)) is: 3\n",
      "[('NN', 5), ('JJ', 3), ('NNS', 2)] len(c.most_common(3)) is: 3\n",
      "[('NN', 3), ('JJ', 1)] len(c.most_common(3)) is: 2\n",
      "[('NN', 16), ('NNP', 8), ('JJ', 4)] len(c.most_common(3)) is: 3\n",
      "[('NN', 5), ('JJ', 3), ('RB', 1)] len(c.most_common(3)) is: 3\n",
      "[('NN', 57), ('JJ', 31), ('VB', 19)] len(c.most_common(3)) is: 3\n",
      "[('NN', 49), ('JJ', 26), ('IN', 11)] len(c.most_common(3)) is: 3\n",
      "[('NN', 34), ('JJ', 18), ('PRP', 7)] len(c.most_common(3)) is: 3\n",
      "[('NN', 41), ('JJ', 23), ('DT', 10)] len(c.most_common(3)) is: 3\n",
      "[('NN', 8), ('DT', 5), ('IN', 5)] len(c.most_common(3)) is: 3\n",
      "[('NN', 42), ('JJ', 21), ('DT', 13)] len(c.most_common(3)) is: 3\n",
      "[('NN', 45), ('JJ', 18), ('IN', 8)] len(c.most_common(3)) is: 3\n",
      "[('NN', 38), ('JJ', 31), ('NNP', 12)] len(c.most_common(3)) is: 3\n",
      "[('NN', 42), ('JJ', 25), ('IN', 11)] len(c.most_common(3)) is: 3\n",
      "[('NN', 30), ('JJ', 15), ('NNP', 7)] len(c.most_common(3)) is: 3\n",
      "[('NN', 33), ('JJ', 20), ('NNP', 7)] len(c.most_common(3)) is: 3\n",
      "[('NN', 40), ('JJ', 24), ('IN', 9)] len(c.most_common(3)) is: 3\n",
      "[('NN', 65), ('JJ', 32), ('IN', 18)] len(c.most_common(3)) is: 3\n",
      "[('NN', 35), ('JJ', 21), ('NNP', 10)] len(c.most_common(3)) is: 3\n",
      "[('NN', 31), ('JJ', 19), ('RB', 11)] len(c.most_common(3)) is: 3\n",
      "[('NN', 32), ('JJ', 22), ('IN', 6)] len(c.most_common(3)) is: 3\n",
      "[('NN', 35), ('JJ', 23), ('PRP', 9)] len(c.most_common(3)) is: 3\n",
      "[('NN', 56), ('JJ', 21), ('IN', 16)] len(c.most_common(3)) is: 3\n",
      "[('NN', 47), ('JJ', 22), ('VB', 7)] len(c.most_common(3)) is: 3\n",
      "[('NN', 38), ('JJ', 18), ('IN', 10)] len(c.most_common(3)) is: 3\n",
      "[('NN', 33), ('JJ', 19), ('NNP', 18)] len(c.most_common(3)) is: 3\n",
      "[('NN', 43), ('JJ', 25), ('IN', 15)] len(c.most_common(3)) is: 3\n",
      "[('NN', 52), ('JJ', 24), ('RB', 17)] len(c.most_common(3)) is: 3\n",
      "[('NN', 35), ('JJ', 19), ('VB', 6)] len(c.most_common(3)) is: 3\n",
      "[('NN', 41), ('JJ', 21), ('IN', 7)] len(c.most_common(3)) is: 3\n",
      "[('NN', 34), ('JJ', 20), ('RB', 7)] len(c.most_common(3)) is: 3\n",
      "[('NN', 48), ('JJ', 19), ('RB', 7)] len(c.most_common(3)) is: 3\n",
      "[('NN', 48), ('JJ', 18), ('IN', 11)] len(c.most_common(3)) is: 3\n",
      "[('NN', 43), ('JJ', 23), ('IN', 14)] len(c.most_common(3)) is: 3\n",
      "[('NN', 41), ('JJ', 22), ('IN', 9)] len(c.most_common(3)) is: 3\n",
      "[('NN', 34), ('JJ', 16), ('NNP', 15)] len(c.most_common(3)) is: 3\n",
      "[('NN', 42), ('JJ', 16), ('IN', 8)] len(c.most_common(3)) is: 3\n",
      "[('NN', 39), ('JJ', 23), ('RB', 8)] len(c.most_common(3)) is: 3\n",
      "[('NN', 35), ('JJ', 12), ('NNP', 11)] len(c.most_common(3)) is: 3\n",
      "[('NN', 35), ('JJ', 19), ('DT', 9)] len(c.most_common(3)) is: 3\n",
      "[('NN', 43), ('JJ', 20), ('RB', 10)] len(c.most_common(3)) is: 3\n",
      "[('NN', 15), ('JJ', 6), ('DT', 5)] len(c.most_common(3)) is: 3\n",
      "[('NN', 32), ('JJ', 20), ('VB', 9)] len(c.most_common(3)) is: 3\n",
      "[('NN', 41), ('JJ', 25), ('VB', 8)] len(c.most_common(3)) is: 3\n",
      "[('NN', 39), ('JJ', 17), ('RB', 9)] len(c.most_common(3)) is: 3\n",
      "[('NN', 46), ('JJ', 28), ('RB', 11)] len(c.most_common(3)) is: 3\n",
      "[('NN', 47), ('JJ', 21), ('IN', 13)] len(c.most_common(3)) is: 3\n",
      "[('NN', 35), ('JJ', 20), ('RB', 13)] len(c.most_common(3)) is: 3\n",
      "[('NN', 38), ('JJ', 20), ('RB', 10)] len(c.most_common(3)) is: 3\n",
      "[('NN', 35), ('JJ', 19), ('IN', 8)] len(c.most_common(3)) is: 3\n",
      "[('NN', 34), ('JJ', 21), ('CD', 12)] len(c.most_common(3)) is: 3\n",
      "[('NN', 8), ('DT', 3), ('IN', 2)] len(c.most_common(3)) is: 3\n",
      "[('NN', 89), ('JJ', 22), ('NNP', 5)] len(c.most_common(3)) is: 3\n",
      "[('NN', 4), ('JJ', 2), ('VB', 2)] len(c.most_common(3)) is: 3\n",
      "[('NN', 1)] len(c.most_common(3)) is: 1\n",
      "[('NN', 8), ('JJ', 3), ('RB', 1)] len(c.most_common(3)) is: 3\n",
      "[('NN', 47), ('JJ', 13), ('DT', 3)] len(c.most_common(3)) is: 3\n",
      "[('JJ', 7), ('NN', 3), ('FW', 3)] len(c.most_common(3)) is: 3\n",
      "[('NN', 35), ('JJ', 18), ('IN', 12)] len(c.most_common(3)) is: 3\n",
      "[('NN', 5), ('IN', 3), ('CD', 2)] len(c.most_common(3)) is: 3\n",
      "[('NN', 35), ('JJ', 19), ('NNP', 17)] len(c.most_common(3)) is: 3\n",
      "[('NN', 8), ('JJ', 3), ('PRP$', 3)] len(c.most_common(3)) is: 3\n",
      "[('NN', 43), ('JJ', 19), ('IN', 12)] len(c.most_common(3)) is: 3\n",
      "[('DT', 1), ('JJ', 1), ('NN', 1)] len(c.most_common(3)) is: 3\n",
      "[('NN', 35), ('JJ', 18), ('RB', 7)] len(c.most_common(3)) is: 3\n",
      "[('NN', 33), ('VB', 8), ('JJ', 7)] len(c.most_common(3)) is: 3\n",
      "[('NN', 9), ('JJ', 5), ('PRP', 2)] len(c.most_common(3)) is: 3\n",
      "[('NN', 4), ('DT', 3), ('PRP', 3)] len(c.most_common(3)) is: 3\n",
      "[('NN', 25), ('JJ', 6), ('CD', 5)] len(c.most_common(3)) is: 3\n",
      "[('NN', 40), ('JJ', 22), ('IN', 9)] len(c.most_common(3)) is: 3\n",
      "[('VB', 6), ('TO', 3), ('RB', 2)] len(c.most_common(3)) is: 3\n",
      "[('NN', 4), ('JJ', 2), ('NNP', 1)] len(c.most_common(3)) is: 3\n",
      "[('NN', 9), ('PRP', 5), ('VBP', 4)] len(c.most_common(3)) is: 3\n",
      "[('NN', 38), ('JJ', 18), ('NNS', 5)] len(c.most_common(3)) is: 3\n",
      "[('NN', 3), ('DT', 3), ('PRP', 2)] len(c.most_common(3)) is: 3\n",
      "[('JJ', 6), ('NNS', 5), ('RB', 4)] len(c.most_common(3)) is: 3\n",
      "[('JJ', 4), ('RB', 3), ('NN', 3)] len(c.most_common(3)) is: 3\n",
      "[('NN', 60), ('JJ', 25), ('IN', 10)] len(c.most_common(3)) is: 3\n",
      "[('NN', 15), ('NNP', 14), ('JJ', 13)] len(c.most_common(3)) is: 3\n",
      "[('NN', 29), ('JJ', 12), ('DT', 5)] len(c.most_common(3)) is: 3\n",
      "[('NN', 12), ('VB', 4), ('JJ', 2)] len(c.most_common(3)) is: 3\n",
      "[('NN', 5), ('JJ', 4), ('VB', 3)] len(c.most_common(3)) is: 3\n"
     ]
    },
    {
     "name": "stdout",
     "output_type": "stream",
     "text": [
      "[('NN', 81), ('JJ', 21), ('DT', 18)] len(c.most_common(3)) is: 3\n",
      "[('NN', 35), ('JJ', 12), ('DT', 7)] len(c.most_common(3)) is: 3\n",
      "[('NN', 90), ('IN', 19), ('DT', 19)] len(c.most_common(3)) is: 3\n",
      "[('DT', 3), ('VBN', 3), ('RB', 2)] len(c.most_common(3)) is: 3\n",
      "[('NN', 21), ('NNP', 14), ('VB', 8)] len(c.most_common(3)) is: 3\n",
      "[('NN', 35), ('JJ', 21), ('VB', 9)] len(c.most_common(3)) is: 3\n",
      "[('NN', 5), ('VB', 3), ('PRP', 2)] len(c.most_common(3)) is: 3\n",
      "[('NN', 14), ('JJ', 6), ('NNS', 5)] len(c.most_common(3)) is: 3\n",
      "[('NN', 10), ('VBZ', 2), ('DT', 2)] len(c.most_common(3)) is: 3\n",
      "[('NN', 24), ('JJ', 18), ('IN', 10)] len(c.most_common(3)) is: 3\n",
      "[('NN', 35), ('JJ', 16), ('DT', 10)] len(c.most_common(3)) is: 3\n",
      "[('NN', 8), ('DT', 5), ('IN', 3)] len(c.most_common(3)) is: 3\n",
      "[('JJ', 6), ('NN', 6), ('VB', 2)] len(c.most_common(3)) is: 3\n",
      "[('NN', 44), ('JJ', 13), ('NNP', 9)] len(c.most_common(3)) is: 3\n",
      "[('NN', 11), ('DT', 7), ('RB', 6)] len(c.most_common(3)) is: 3\n",
      "[('NN', 13), ('DT', 7), ('IN', 5)] len(c.most_common(3)) is: 3\n",
      "[('NN', 63), ('JJ', 21), ('IN', 17)] len(c.most_common(3)) is: 3\n",
      "[('NN', 6), ('VB', 3), ('PRP', 2)] len(c.most_common(3)) is: 3\n",
      "[('NN', 16), ('JJ', 5), ('NNP', 1)] len(c.most_common(3)) is: 3\n",
      "[('NN', 20), ('JJ', 9), ('DT', 7)] len(c.most_common(3)) is: 3\n",
      "[('NN', 50), ('IN', 14), ('VBP', 14)] len(c.most_common(3)) is: 3\n",
      "[('NN', 67), ('JJ', 24), ('PRP', 16)] len(c.most_common(3)) is: 3\n",
      "[('RB', 2), ('NN', 2), ('IN', 2)] len(c.most_common(3)) is: 3\n",
      "[('NN', 13), ('JJ', 7), ('DT', 3)] len(c.most_common(3)) is: 3\n",
      "[('NN', 76), ('JJ', 18), ('FW', 16)] len(c.most_common(3)) is: 3\n",
      "[('NN', 4), ('JJ', 1)] len(c.most_common(3)) is: 2\n",
      "[('NN', 25), ('JJ', 15), ('DT', 10)] len(c.most_common(3)) is: 3\n",
      "[('NN', 9), ('JJ', 5), ('DT', 3)] len(c.most_common(3)) is: 3\n",
      "[('NN', 55), ('JJ', 15), ('IN', 8)] len(c.most_common(3)) is: 3\n",
      "[('NN', 106), ('JJ', 22), ('VB', 12)] len(c.most_common(3)) is: 3\n",
      "[('NN', 10), ('DT', 3), ('IN', 3)] len(c.most_common(3)) is: 3\n",
      "[('NN', 16), ('NNP', 6), ('JJ', 4)] len(c.most_common(3)) is: 3\n",
      "[('NN', 40), ('JJ', 20), ('DT', 11)] len(c.most_common(3)) is: 3\n",
      "[('NN', 64), ('JJ', 15), ('VB', 10)] len(c.most_common(3)) is: 3\n",
      "[('NN', 61), ('JJ', 18), ('VB', 13)] len(c.most_common(3)) is: 3\n",
      "[('NN', 9), ('VBG', 1), ('JJ', 1)] len(c.most_common(3)) is: 3\n",
      "[('NN', 54), ('JJ', 16), ('VB', 12)] len(c.most_common(3)) is: 3\n",
      "[('NN', 78), ('JJ', 16), ('VB', 14)] len(c.most_common(3)) is: 3\n",
      "[('NN', 45), ('JJ', 25), ('DT', 16)] len(c.most_common(3)) is: 3\n",
      "[('NN', 93), ('JJ', 28), ('DT', 17)] len(c.most_common(3)) is: 3\n",
      "[('NN', 35), ('VB', 9), ('DT', 7)] len(c.most_common(3)) is: 3\n",
      "[('NN', 73), ('JJ', 27), ('IN', 16)] len(c.most_common(3)) is: 3\n",
      "[('NN', 28), ('DT', 8), ('IN', 7)] len(c.most_common(3)) is: 3\n",
      "[('NN', 43), ('JJ', 17), ('VB', 12)] len(c.most_common(3)) is: 3\n",
      "[('NN', 63), ('JJ', 23), ('IN', 15)] len(c.most_common(3)) is: 3\n",
      "[('NN', 9), ('NNP', 4), ('JJ', 3)] len(c.most_common(3)) is: 3\n",
      "[('NN', 35), ('JJ', 13), ('DT', 12)] len(c.most_common(3)) is: 3\n",
      "[('NN', 55), ('JJ', 21), ('DT', 17)] len(c.most_common(3)) is: 3\n",
      "[('NN', 84), ('JJ', 25), ('DT', 20)] len(c.most_common(3)) is: 3\n",
      "[('NN', 52), ('JJ', 26), ('DT', 26)] len(c.most_common(3)) is: 3\n",
      "[('NN', 6), ('IN', 5), ('VB', 4)] len(c.most_common(3)) is: 3\n",
      "[('NN', 29), ('JJ', 13), ('DT', 11)] len(c.most_common(3)) is: 3\n",
      "[('NN', 28), ('RB', 9), ('DT', 8)] len(c.most_common(3)) is: 3\n",
      "[('NN', 25), ('JJ', 9), ('DT', 7)] len(c.most_common(3)) is: 3\n",
      "[('NN', 30), ('DT', 17), ('JJ', 12)] len(c.most_common(3)) is: 3\n",
      "[('NN', 81), ('JJ', 31), ('DT', 11)] len(c.most_common(3)) is: 3\n",
      "[('NN', 27), ('JJ', 9), ('NNP', 7)] len(c.most_common(3)) is: 3\n",
      "[('NN', 35), ('DT', 14), ('VB', 10)] len(c.most_common(3)) is: 3\n",
      "[('NN', 23), ('PRP', 8), ('DT', 7)] len(c.most_common(3)) is: 3\n",
      "[('NN', 43), ('DT', 12), ('JJ', 10)] len(c.most_common(3)) is: 3\n",
      "[('NN', 45), ('DT', 22), ('JJ', 16)] len(c.most_common(3)) is: 3\n",
      "[('NN', 27), ('DT', 9), ('RB', 6)] len(c.most_common(3)) is: 3\n",
      "[('NN', 100), ('IN', 40), ('JJ', 37)] len(c.most_common(3)) is: 3\n",
      "[('NN', 19), ('JJ', 5), ('IN', 4)] len(c.most_common(3)) is: 3\n",
      "[('NN', 90), ('JJ', 37), ('DT', 21)] len(c.most_common(3)) is: 3\n",
      "[('NN', 14), ('PRP', 6), ('IN', 4)] len(c.most_common(3)) is: 3\n",
      "[('NN', 55), ('DT', 18), ('JJ', 17)] len(c.most_common(3)) is: 3\n",
      "[('NN', 46), ('JJ', 17), ('VB', 8)] len(c.most_common(3)) is: 3\n",
      "[('NN', 46), ('JJ', 17), ('IN', 12)] len(c.most_common(3)) is: 3\n",
      "[('NN', 30), ('DT', 17), ('JJ', 10)] len(c.most_common(3)) is: 3\n",
      "[('NN', 27), ('JJ', 9), ('DT', 7)] len(c.most_common(3)) is: 3\n",
      "[('NN', 3), ('DT', 3), ('MD', 1)] len(c.most_common(3)) is: 3\n",
      "[('NN', 31), ('DT', 11), ('JJ', 10)] len(c.most_common(3)) is: 3\n",
      "[('NN', 24), ('DT', 9), ('IN', 6)] len(c.most_common(3)) is: 3\n",
      "[('NN', 2), ('VBN', 2), ('IN', 2)] len(c.most_common(3)) is: 3\n",
      "[('NN', 13), ('JJ', 2), ('VB', 1)] len(c.most_common(3)) is: 3\n",
      "[('NN', 25), ('JJ', 10), ('DT', 8)] len(c.most_common(3)) is: 3\n",
      "[('NN', 34), ('JJ', 12), ('DT', 8)] len(c.most_common(3)) is: 3\n",
      "[('NN', 56), ('JJ', 23), ('RB', 7)] len(c.most_common(3)) is: 3\n"
     ]
    }
   ],
   "source": [
    "# Add TextBlob mean polarity, mean subjectivity, and tags features for all comments for each video\n",
    "# Write functions to do each of the following:\n",
    "# 1) run TextBlob on comments; 2) populate polarity_mean, subjectivity_mean, and tags values\n",
    "\n",
    "def get_blob(comments):\n",
    "    \"\"\"Use with one video's comments at a time.\"\"\"\n",
    "    comments = normalize_text(comments)\n",
    "    blob = TextBlob(comments)\n",
    "    # tags = tags_filter_stopwords(blob.tags)  # this is functional code but may decrease ML classif. accuracy\n",
    "    tags = blob.tags\n",
    "    tags_count = len(tags)\n",
    "    top_tags = top_three_tag_codes(tags)  # this is a list of 2-item tuple[s]\n",
    "    top_tag = top_tags[0][0]\n",
    "    top_tag_count = top_tags[0][1]\n",
    "    if len(top_tags) < 2:\n",
    "        second_tag = np.nan\n",
    "        second_tag_count = 0\n",
    "        third_tag = np.nan\n",
    "        third_tag_count = 0\n",
    "    elif len(top_tags) == 2:\n",
    "        second_tag = top_tags[1][0]\n",
    "        second_tag_count = top_tags[1][1]\n",
    "        third_tag = np.nan\n",
    "        third_tag_count = 0\n",
    "    elif len(top_tags) > 2:\n",
    "        # 3-item list of tuples with each top code and its count\n",
    "        second_tag = top_tags[1][0]\n",
    "        second_tag_count = top_tags[1][1]\n",
    "        third_tag = top_tags[2][0]\n",
    "        third_tag_count = top_tags[2][1]\n",
    "    polarity_list = []\n",
    "    subjectivity_list = []\n",
    "    for sentence in blob.sentences:\n",
    "        polarity = sentence.sentiment.polarity\n",
    "        subjectivity = sentence.sentiment.subjectivity\n",
    "        if polarity !=0 :\n",
    "            polarity_list.append(polarity)\n",
    "        if subjectivity !=0 :\n",
    "            subjectivity_list.append(subjectivity)\n",
    "    if len(polarity_list) == 0:\n",
    "        polarity_list.append(0)\n",
    "    if len(subjectivity_list) == 0:\n",
    "        subjectivity_list.append(0)\n",
    "    # print(top_tag, second_tag)\n",
    "    return (mean(polarity_list), mean(subjectivity_list), tags, tags_count, top_tag, top_tag_count,\n",
    "            second_tag, second_tag_count, third_tag, third_tag_count)\n",
    "\n",
    "def populate_blob_columns(df, comms):\n",
    "    \"\"\"Use to fill the polarity_mean, subjectivity_mean, and tags columns.\"\"\"\n",
    "    \"\"\"This was first used successfully on analysis_df.\"\"\"\n",
    "    (polarity_mean, subjectivity_mean, tags, tags_count, top_tag, top_tag_count,\n",
    "            second_tag, second_tag_count, third_tag, third_tag_count) = get_blob(comms)\n",
    "    df.loc[(df.comments == comms), 'polarity_mean'] = polarity_mean\n",
    "    df.loc[(df.comments == comms), 'subjectivity_mean'] = subjectivity_mean\n",
    "    df.loc[(df.comments == comms), 'tags'] = [tags]\n",
    "    df.loc[(df.comments == comms), 'tags_count'] = tags_count\n",
    "    df.loc[(df.comments == comms), 'top_tag'] = top_tag\n",
    "    df.loc[(df.comments == comms), 'top_tag_count'] = top_tag_count\n",
    "    df.loc[(df.comments == comms), 'second_tag'] = second_tag\n",
    "    df.loc[(df.comments == comms), 'second_tag_count'] = second_tag_count\n",
    "    df.loc[(df.comments == comms), 'third_tag'] = third_tag\n",
    "    df.loc[(df.comments == comms), 'third_tag_count'] = third_tag_count\n",
    "    \n",
    "    \n",
    "for comments in analysis_df.comments.values:\n",
    "    populate_blob_columns(analysis_df, comments)"
   ]
  },
  {
   "cell_type": "code",
   "execution_count": 31,
   "metadata": {},
   "outputs": [
    {
     "name": "stdout",
     "output_type": "stream",
     "text": [
      "(746, 14)\n",
      "93\n"
     ]
    },
    {
     "data": {
      "text/html": [
       "<div>\n",
       "<style scoped>\n",
       "    .dataframe tbody tr th:only-of-type {\n",
       "        vertical-align: middle;\n",
       "    }\n",
       "\n",
       "    .dataframe tbody tr th {\n",
       "        vertical-align: top;\n",
       "    }\n",
       "\n",
       "    .dataframe thead th {\n",
       "        text-align: right;\n",
       "    }\n",
       "</style>\n",
       "<table border=\"1\" class=\"dataframe\">\n",
       "  <thead>\n",
       "    <tr style=\"text-align: right;\">\n",
       "      <th></th>\n",
       "      <th>video_id</th>\n",
       "      <th>video_title</th>\n",
       "      <th>comments</th>\n",
       "      <th>polarity_mean</th>\n",
       "      <th>subjectivity_mean</th>\n",
       "      <th>tags</th>\n",
       "      <th>tags_count</th>\n",
       "      <th>top_tag</th>\n",
       "      <th>top_tag_count</th>\n",
       "      <th>second_tag</th>\n",
       "      <th>second_tag_count</th>\n",
       "      <th>third_tag</th>\n",
       "      <th>third_tag_count</th>\n",
       "      <th>moods</th>\n",
       "    </tr>\n",
       "  </thead>\n",
       "  <tbody>\n",
       "    <tr>\n",
       "      <th>1039</th>\n",
       "      <td>l8o-DYWmMTg</td>\n",
       "      <td>٭HARD٭ DARKEST TRAP TYPE BEAT EVER    “WARRIOR...</td>\n",
       "      <td>dope beat  !  subbed and liked !  do the same ...</td>\n",
       "      <td>0.4375</td>\n",
       "      <td>0.68125</td>\n",
       "      <td>[(dope, NN), (beat, NN), (subbed, VBN), (and, ...</td>\n",
       "      <td>12</td>\n",
       "      <td>NN</td>\n",
       "      <td>2</td>\n",
       "      <td>VBN</td>\n",
       "      <td>2</td>\n",
       "      <td>IN</td>\n",
       "      <td>2</td>\n",
       "      <td>CHILL</td>\n",
       "    </tr>\n",
       "    <tr>\n",
       "      <th>1040</th>\n",
       "      <td>_JgUF1RrVqY</td>\n",
       "      <td>(HD) 160828 WTF @ KPOP MAKES ONE</td>\n",
       "      <td>hettt itu yg jd jk kondisikan mukanya😂 ngakak ...</td>\n",
       "      <td>0</td>\n",
       "      <td>0</td>\n",
       "      <td>[(hettt, NN), (itu, NN), (yg, NN), (jd, NN), (...</td>\n",
       "      <td>19</td>\n",
       "      <td>NN</td>\n",
       "      <td>13</td>\n",
       "      <td>JJ</td>\n",
       "      <td>2</td>\n",
       "      <td>VB</td>\n",
       "      <td>1</td>\n",
       "      <td>HAPPY</td>\n",
       "    </tr>\n",
       "    <tr>\n",
       "      <th>1041</th>\n",
       "      <td>zsFjU-WN4Ww</td>\n",
       "      <td>[TYPE BEATS] \"I'm Back\" 🐻 (SMOOTH) Drake Frees...</td>\n",
       "      <td>yesssss grizzly  !  !  !  ,  fire broo  !  🔥 ,...</td>\n",
       "      <td>0.288151</td>\n",
       "      <td>0.681771</td>\n",
       "      <td>[(yesssss, NN), (grizzly, NN), (fire, NN), (br...</td>\n",
       "      <td>83</td>\n",
       "      <td>NN</td>\n",
       "      <td>25</td>\n",
       "      <td>JJ</td>\n",
       "      <td>10</td>\n",
       "      <td>DT</td>\n",
       "      <td>8</td>\n",
       "      <td>CHILL</td>\n",
       "    </tr>\n",
       "    <tr>\n",
       "      <th>1042</th>\n",
       "      <td>zsR_Yr-wPkM</td>\n",
       "      <td>Free Smooth Soulful Jay Z x NAS Type Beat \"Jus...</td>\n",
       "      <td>want a sub ?  drop a like and comment .  i sub...</td>\n",
       "      <td>0.116418</td>\n",
       "      <td>0.470758</td>\n",
       "      <td>[(want, VB), (a, DT), (sub, NN), (drop, NN), (...</td>\n",
       "      <td>92</td>\n",
       "      <td>NN</td>\n",
       "      <td>34</td>\n",
       "      <td>JJ</td>\n",
       "      <td>12</td>\n",
       "      <td>DT</td>\n",
       "      <td>8</td>\n",
       "      <td>CONFIDENT-SASSY</td>\n",
       "    </tr>\n",
       "    <tr>\n",
       "      <th>1043</th>\n",
       "      <td>zNWsBvzFstk</td>\n",
       "      <td>[Christmas Music Background] Silvermansound - ...</td>\n",
       "      <td>awesome bro !  ,  super !  very nice !  thank ...</td>\n",
       "      <td>0.737353</td>\n",
       "      <td>0.838284</td>\n",
       "      <td>[(awesome, JJ), (bro, NN), (super, NN), (very,...</td>\n",
       "      <td>133</td>\n",
       "      <td>NN</td>\n",
       "      <td>56</td>\n",
       "      <td>JJ</td>\n",
       "      <td>23</td>\n",
       "      <td>RB</td>\n",
       "      <td>7</td>\n",
       "      <td>HAPPY</td>\n",
       "    </tr>\n",
       "  </tbody>\n",
       "</table>\n",
       "</div>"
      ],
      "text/plain": [
       "         video_id                                        video_title  \\\n",
       "1039  l8o-DYWmMTg  ٭HARD٭ DARKEST TRAP TYPE BEAT EVER    “WARRIOR...   \n",
       "1040  _JgUF1RrVqY                   (HD) 160828 WTF @ KPOP MAKES ONE   \n",
       "1041  zsFjU-WN4Ww  [TYPE BEATS] \"I'm Back\" 🐻 (SMOOTH) Drake Frees...   \n",
       "1042  zsR_Yr-wPkM  Free Smooth Soulful Jay Z x NAS Type Beat \"Jus...   \n",
       "1043  zNWsBvzFstk  [Christmas Music Background] Silvermansound - ...   \n",
       "\n",
       "                                               comments polarity_mean  \\\n",
       "1039  dope beat  !  subbed and liked !  do the same ...        0.4375   \n",
       "1040  hettt itu yg jd jk kondisikan mukanya😂 ngakak ...             0   \n",
       "1041  yesssss grizzly  !  !  !  ,  fire broo  !  🔥 ,...      0.288151   \n",
       "1042  want a sub ?  drop a like and comment .  i sub...      0.116418   \n",
       "1043  awesome bro !  ,  super !  very nice !  thank ...      0.737353   \n",
       "\n",
       "     subjectivity_mean                                               tags  \\\n",
       "1039           0.68125  [(dope, NN), (beat, NN), (subbed, VBN), (and, ...   \n",
       "1040                 0  [(hettt, NN), (itu, NN), (yg, NN), (jd, NN), (...   \n",
       "1041          0.681771  [(yesssss, NN), (grizzly, NN), (fire, NN), (br...   \n",
       "1042          0.470758  [(want, VB), (a, DT), (sub, NN), (drop, NN), (...   \n",
       "1043          0.838284  [(awesome, JJ), (bro, NN), (super, NN), (very,...   \n",
       "\n",
       "     tags_count top_tag top_tag_count second_tag second_tag_count third_tag  \\\n",
       "1039         12      NN             2        VBN                2        IN   \n",
       "1040         19      NN            13         JJ                2        VB   \n",
       "1041         83      NN            25         JJ               10        DT   \n",
       "1042         92      NN            34         JJ               12        DT   \n",
       "1043        133      NN            56         JJ               23        RB   \n",
       "\n",
       "     third_tag_count            moods  \n",
       "1039               2            CHILL  \n",
       "1040               1            HAPPY  \n",
       "1041               8            CHILL  \n",
       "1042               8  CONFIDENT-SASSY  \n",
       "1043               7            HAPPY  "
      ]
     },
     "execution_count": 31,
     "metadata": {},
     "output_type": "execute_result"
    }
   ],
   "source": [
    "# Check how df looks\n",
    "print(analysis_df.shape)\n",
    "print(analysis_df.isna().sum().sum())\n",
    "analysis_df.tail()"
   ]
  },
  {
   "cell_type": "markdown",
   "metadata": {},
   "source": [
    "Now I'll use \"analysis_df\" to train 2 machine learning classifiers."
   ]
  },
  {
   "cell_type": "markdown",
   "metadata": {},
   "source": [
    "#### Apply ML"
   ]
  },
  {
   "cell_type": "markdown",
   "metadata": {},
   "source": [
    "The steps here will be to 1) scale the values for polarity_mean and subjectivity_mean; 2) label encode all the mood column values into values of 0 to 5 in a new \"mood_encoded\" column; 3) split the data in \"analysis_df\" into training and test sets; 4) and fit two different classifiers to the both of the split data sets to see how accurate the classifiers are in assigning a given video the correct mood by TextBlob NLP on the video's comments. "
   ]
  },
  {
   "cell_type": "code",
   "execution_count": 32,
   "metadata": {},
   "outputs": [
    {
     "data": {
      "text/plain": [
       "array([26.7962962962963, 45.83333333333333], dtype=object)"
      ]
     },
     "execution_count": 32,
     "metadata": {},
     "output_type": "execute_result"
    }
   ],
   "source": [
    "# First normalize the data by multiplying polarity_mean and subjectivity_mean each by 100\n",
    "analysis_df.polarity_mean *= 100\n",
    "analysis_df.subjectivity_mean *= 100\n",
    "\n",
    "# Verify that the values have been scaled by 100\n",
    "analysis_df.polarity_mean.values[:2]"
   ]
  },
  {
   "cell_type": "code",
   "execution_count": 129,
   "metadata": {},
   "outputs": [],
   "source": [
    "# What if, instead of 0's for polarity_mean and subjectivity_mean,\n",
    "# the 0's were replaced by 50? Every song has some polarity and subjectivity, right?\n",
    "\n",
    "analysis_df.polarity_mean = analysis_df.polarity_mean.replace(0, 50)\n",
    "analysis_df.subjectivity_mean = analysis_df.subjectivity_mean.replace(0, 50)"
   ]
  },
  {
   "cell_type": "code",
   "execution_count": 33,
   "metadata": {},
   "outputs": [
    {
     "data": {
      "text/html": [
       "<div>\n",
       "<style scoped>\n",
       "    .dataframe tbody tr th:only-of-type {\n",
       "        vertical-align: middle;\n",
       "    }\n",
       "\n",
       "    .dataframe tbody tr th {\n",
       "        vertical-align: top;\n",
       "    }\n",
       "\n",
       "    .dataframe thead th {\n",
       "        text-align: right;\n",
       "    }\n",
       "</style>\n",
       "<table border=\"1\" class=\"dataframe\">\n",
       "  <thead>\n",
       "    <tr style=\"text-align: right;\">\n",
       "      <th></th>\n",
       "      <th>video_id</th>\n",
       "      <th>video_title</th>\n",
       "      <th>comments</th>\n",
       "      <th>polarity_mean</th>\n",
       "      <th>subjectivity_mean</th>\n",
       "      <th>tags</th>\n",
       "      <th>tags_count</th>\n",
       "      <th>top_tag</th>\n",
       "      <th>top_tag_count</th>\n",
       "      <th>second_tag</th>\n",
       "      <th>second_tag_count</th>\n",
       "      <th>third_tag</th>\n",
       "      <th>third_tag_count</th>\n",
       "      <th>moods</th>\n",
       "    </tr>\n",
       "  </thead>\n",
       "  <tbody>\n",
       "    <tr>\n",
       "      <th>1039</th>\n",
       "      <td>l8o-DYWmMTg</td>\n",
       "      <td>٭HARD٭ DARKEST TRAP TYPE BEAT EVER    “WARRIOR...</td>\n",
       "      <td>dope beat  !  subbed and liked !  do the same ...</td>\n",
       "      <td>43.75</td>\n",
       "      <td>68.125</td>\n",
       "      <td>[(dope, NN), (beat, NN), (subbed, VBN), (and, ...</td>\n",
       "      <td>12</td>\n",
       "      <td>NN</td>\n",
       "      <td>2</td>\n",
       "      <td>VBN</td>\n",
       "      <td>2</td>\n",
       "      <td>IN</td>\n",
       "      <td>2</td>\n",
       "      <td>CHILL</td>\n",
       "    </tr>\n",
       "    <tr>\n",
       "      <th>1040</th>\n",
       "      <td>_JgUF1RrVqY</td>\n",
       "      <td>(HD) 160828 WTF @ KPOP MAKES ONE</td>\n",
       "      <td>hettt itu yg jd jk kondisikan mukanya😂 ngakak ...</td>\n",
       "      <td>0</td>\n",
       "      <td>0</td>\n",
       "      <td>[(hettt, NN), (itu, NN), (yg, NN), (jd, NN), (...</td>\n",
       "      <td>19</td>\n",
       "      <td>NN</td>\n",
       "      <td>13</td>\n",
       "      <td>JJ</td>\n",
       "      <td>2</td>\n",
       "      <td>VB</td>\n",
       "      <td>1</td>\n",
       "      <td>HAPPY</td>\n",
       "    </tr>\n",
       "    <tr>\n",
       "      <th>1041</th>\n",
       "      <td>zsFjU-WN4Ww</td>\n",
       "      <td>[TYPE BEATS] \"I'm Back\" 🐻 (SMOOTH) Drake Frees...</td>\n",
       "      <td>yesssss grizzly  !  !  !  ,  fire broo  !  🔥 ,...</td>\n",
       "      <td>28.8151</td>\n",
       "      <td>68.1771</td>\n",
       "      <td>[(yesssss, NN), (grizzly, NN), (fire, NN), (br...</td>\n",
       "      <td>83</td>\n",
       "      <td>NN</td>\n",
       "      <td>25</td>\n",
       "      <td>JJ</td>\n",
       "      <td>10</td>\n",
       "      <td>DT</td>\n",
       "      <td>8</td>\n",
       "      <td>CHILL</td>\n",
       "    </tr>\n",
       "    <tr>\n",
       "      <th>1042</th>\n",
       "      <td>zsR_Yr-wPkM</td>\n",
       "      <td>Free Smooth Soulful Jay Z x NAS Type Beat \"Jus...</td>\n",
       "      <td>want a sub ?  drop a like and comment .  i sub...</td>\n",
       "      <td>11.6418</td>\n",
       "      <td>47.0758</td>\n",
       "      <td>[(want, VB), (a, DT), (sub, NN), (drop, NN), (...</td>\n",
       "      <td>92</td>\n",
       "      <td>NN</td>\n",
       "      <td>34</td>\n",
       "      <td>JJ</td>\n",
       "      <td>12</td>\n",
       "      <td>DT</td>\n",
       "      <td>8</td>\n",
       "      <td>CONFIDENT-SASSY</td>\n",
       "    </tr>\n",
       "    <tr>\n",
       "      <th>1043</th>\n",
       "      <td>zNWsBvzFstk</td>\n",
       "      <td>[Christmas Music Background] Silvermansound - ...</td>\n",
       "      <td>awesome bro !  ,  super !  very nice !  thank ...</td>\n",
       "      <td>73.7353</td>\n",
       "      <td>83.8284</td>\n",
       "      <td>[(awesome, JJ), (bro, NN), (super, NN), (very,...</td>\n",
       "      <td>133</td>\n",
       "      <td>NN</td>\n",
       "      <td>56</td>\n",
       "      <td>JJ</td>\n",
       "      <td>23</td>\n",
       "      <td>RB</td>\n",
       "      <td>7</td>\n",
       "      <td>HAPPY</td>\n",
       "    </tr>\n",
       "  </tbody>\n",
       "</table>\n",
       "</div>"
      ],
      "text/plain": [
       "         video_id                                        video_title  \\\n",
       "1039  l8o-DYWmMTg  ٭HARD٭ DARKEST TRAP TYPE BEAT EVER    “WARRIOR...   \n",
       "1040  _JgUF1RrVqY                   (HD) 160828 WTF @ KPOP MAKES ONE   \n",
       "1041  zsFjU-WN4Ww  [TYPE BEATS] \"I'm Back\" 🐻 (SMOOTH) Drake Frees...   \n",
       "1042  zsR_Yr-wPkM  Free Smooth Soulful Jay Z x NAS Type Beat \"Jus...   \n",
       "1043  zNWsBvzFstk  [Christmas Music Background] Silvermansound - ...   \n",
       "\n",
       "                                               comments polarity_mean  \\\n",
       "1039  dope beat  !  subbed and liked !  do the same ...         43.75   \n",
       "1040  hettt itu yg jd jk kondisikan mukanya😂 ngakak ...             0   \n",
       "1041  yesssss grizzly  !  !  !  ,  fire broo  !  🔥 ,...       28.8151   \n",
       "1042  want a sub ?  drop a like and comment .  i sub...       11.6418   \n",
       "1043  awesome bro !  ,  super !  very nice !  thank ...       73.7353   \n",
       "\n",
       "     subjectivity_mean                                               tags  \\\n",
       "1039            68.125  [(dope, NN), (beat, NN), (subbed, VBN), (and, ...   \n",
       "1040                 0  [(hettt, NN), (itu, NN), (yg, NN), (jd, NN), (...   \n",
       "1041           68.1771  [(yesssss, NN), (grizzly, NN), (fire, NN), (br...   \n",
       "1042           47.0758  [(want, VB), (a, DT), (sub, NN), (drop, NN), (...   \n",
       "1043           83.8284  [(awesome, JJ), (bro, NN), (super, NN), (very,...   \n",
       "\n",
       "     tags_count top_tag top_tag_count second_tag second_tag_count third_tag  \\\n",
       "1039         12      NN             2        VBN                2        IN   \n",
       "1040         19      NN            13         JJ                2        VB   \n",
       "1041         83      NN            25         JJ               10        DT   \n",
       "1042         92      NN            34         JJ               12        DT   \n",
       "1043        133      NN            56         JJ               23        RB   \n",
       "\n",
       "     third_tag_count            moods  \n",
       "1039               2            CHILL  \n",
       "1040               1            HAPPY  \n",
       "1041               8            CHILL  \n",
       "1042               8  CONFIDENT-SASSY  \n",
       "1043               7            HAPPY  "
      ]
     },
     "execution_count": 33,
     "metadata": {},
     "output_type": "execute_result"
    }
   ],
   "source": [
    "analysis_df.tail()"
   ]
  },
  {
   "cell_type": "code",
   "execution_count": 34,
   "metadata": {},
   "outputs": [],
   "source": [
    "# Create new \"mood_encoded\" column to be target of classification rather than \"moods\"\n",
    "\n",
    "analysis_df['mood_encoded'] = analysis_df.moods.map({'ANGRY': 0, 'CHILL': 1, 'CONFIDENT-SASSY': 2,\n",
    "                                                     'HAPPY': 3, 'IN-LOVE': 4, 'SAD': 5})"
   ]
  },
  {
   "cell_type": "code",
   "execution_count": 35,
   "metadata": {},
   "outputs": [],
   "source": [
    "# Next, define features for X, and target for y\n",
    "# And split data into training and test sets\n",
    "\n",
    "X = analysis_df[['polarity_mean', 'subjectivity_mean', 'tags_count', 'top_tag_count',\n",
    "                 'second_tag_count', 'third_tag_count']]\n",
    "y = analysis_df.mood_encoded\n",
    "\n",
    "X_train, X_test, y_train, y_test = train_test_split(X, y, test_size=0.25, random_state=7)"
   ]
  },
  {
   "cell_type": "code",
   "execution_count": 36,
   "metadata": {},
   "outputs": [],
   "source": [
    "# Fit a model - this is a multiclass classification, supervised machine learning problem\n",
    "# because there are 6 moods in the df moods column\n",
    "\n",
    "# Try a simple model first - KNN classifier\n",
    "from sklearn.neighbors import KNeighborsClassifier"
   ]
  },
  {
   "cell_type": "code",
   "execution_count": 37,
   "metadata": {},
   "outputs": [],
   "source": [
    "knn = KNeighborsClassifier(n_neighbors=7).fit(X_train, y_train)"
   ]
  },
  {
   "cell_type": "code",
   "execution_count": 38,
   "metadata": {},
   "outputs": [
    {
     "name": "stdout",
     "output_type": "stream",
     "text": [
      "accuracy is: 0.5294117647058824\n"
     ]
    }
   ],
   "source": [
    "# Check accuracy of the model, using X_test and y_test\n",
    "accuracy = knn.score(X_test, y_test)\n",
    "print('accuracy is:', accuracy)"
   ]
  },
  {
   "cell_type": "code",
   "execution_count": 39,
   "metadata": {},
   "outputs": [],
   "source": [
    "# Now will try a more complex model - Random Forest classification\n",
    "from sklearn.ensemble import RandomForestClassifier"
   ]
  },
  {
   "cell_type": "code",
   "execution_count": 40,
   "metadata": {},
   "outputs": [],
   "source": [
    "RFC = RandomForestClassifier(n_estimators=25, max_depth=2, random_state=7)"
   ]
  },
  {
   "cell_type": "code",
   "execution_count": 41,
   "metadata": {},
   "outputs": [
    {
     "data": {
      "text/plain": [
       "RandomForestClassifier(bootstrap=True, class_weight=None, criterion='gini',\n",
       "            max_depth=2, max_features='auto', max_leaf_nodes=None,\n",
       "            min_impurity_decrease=0.0, min_impurity_split=None,\n",
       "            min_samples_leaf=1, min_samples_split=2,\n",
       "            min_weight_fraction_leaf=0.0, n_estimators=25, n_jobs=None,\n",
       "            oob_score=False, random_state=7, verbose=0, warm_start=False)"
      ]
     },
     "execution_count": 41,
     "metadata": {},
     "output_type": "execute_result"
    }
   ],
   "source": [
    "RFC.fit(X_train, y_train)"
   ]
  },
  {
   "cell_type": "code",
   "execution_count": 42,
   "metadata": {},
   "outputs": [
    {
     "name": "stdout",
     "output_type": "stream",
     "text": [
      "[0.12589491 0.05325693 0.17892342 0.25657899 0.12138909 0.26395665]\n"
     ]
    }
   ],
   "source": [
    "# See the respective importance for each of the features in X\n",
    "print(RFC.feature_importances_)"
   ]
  },
  {
   "cell_type": "code",
   "execution_count": 43,
   "metadata": {},
   "outputs": [
    {
     "name": "stdout",
     "output_type": "stream",
     "text": [
      "accuracy is: 0.6042780748663101\n"
     ]
    }
   ],
   "source": [
    "# Check accuracy of the model\n",
    "accuracy = RFC.score(X_test, y_test)\n",
    "print('accuracy is:', accuracy)"
   ]
  },
  {
   "cell_type": "code",
   "execution_count": 44,
   "metadata": {},
   "outputs": [],
   "source": [
    "# Send a csv\n",
    "analysis_df.to_csv('model_training.csv')"
   ]
  },
  {
   "cell_type": "code",
   "execution_count": 45,
   "metadata": {},
   "outputs": [
    {
     "data": {
      "text/plain": [
       "(746, 15)"
      ]
     },
     "execution_count": 45,
     "metadata": {},
     "output_type": "execute_result"
    }
   ],
   "source": [
    "analysis_df.shape"
   ]
  },
  {
   "cell_type": "code",
   "execution_count": 46,
   "metadata": {},
   "outputs": [
    {
     "data": {
      "text/plain": [
       "video_id              0\n",
       "video_title           0\n",
       "comments              0\n",
       "polarity_mean         0\n",
       "subjectivity_mean     0\n",
       "tags                  0\n",
       "tags_count            0\n",
       "top_tag               0\n",
       "top_tag_count         0\n",
       "second_tag           31\n",
       "second_tag_count      0\n",
       "third_tag            62\n",
       "third_tag_count       0\n",
       "moods                 0\n",
       "mood_encoded          0\n",
       "dtype: int64"
      ]
     },
     "execution_count": 46,
     "metadata": {},
     "output_type": "execute_result"
    }
   ],
   "source": [
    "analysis_df.isna().sum()"
   ]
  },
  {
   "cell_type": "code",
   "execution_count": 47,
   "metadata": {},
   "outputs": [
    {
     "data": {
      "text/plain": [
       "HAPPY              422\n",
       "CHILL              120\n",
       "CONFIDENT-SASSY     91\n",
       "IN-LOVE             41\n",
       "ANGRY               36\n",
       "SAD                 36\n",
       "Name: moods, dtype: int64"
      ]
     },
     "execution_count": 47,
     "metadata": {},
     "output_type": "execute_result"
    }
   ],
   "source": [
    "analysis_df.moods.value_counts()"
   ]
  },
  {
   "cell_type": "markdown",
   "metadata": {},
   "source": [
    "### In conclusion, it must be noted that the accuracies attained above were based on many videos being given a default mood of \"happy\" when those videos were consumed into our data. In other words, for all the other moods, the mood was manually labeled for each video. Thus, the classification accuracies are artificially elevated. Nonetheless, this notebook has demonstrated a path toward a multiclass classification of YouTube music videos for mood."
   ]
  },
  {
   "cell_type": "markdown",
   "metadata": {},
   "source": [
    "#### Sandbox for working with new comments, TextBlob, other"
   ]
  },
  {
   "cell_type": "code",
   "execution_count": null,
   "metadata": {},
   "outputs": [],
   "source": [
    "# Let's work with the first video's comments, to start\n",
    "\n",
    "blob = TextBlob(comments_df.comments.values[0])"
   ]
  },
  {
   "cell_type": "code",
   "execution_count": null,
   "metadata": {},
   "outputs": [],
   "source": [
    "# See if tags can be gotten for the first video's comments\n",
    "print(len(blob.tags))\n",
    "blob.tags[:3]"
   ]
  },
  {
   "cell_type": "code",
   "execution_count": null,
   "metadata": {},
   "outputs": [],
   "source": [
    "tags_filter_stopwords(blob.tags)"
   ]
  },
  {
   "cell_type": "code",
   "execution_count": null,
   "metadata": {},
   "outputs": [],
   "source": [
    "# Verify correct functioning of top_three_tag_codes\n",
    "top_three_tag_codes(blob.tags)"
   ]
  },
  {
   "cell_type": "code",
   "execution_count": null,
   "metadata": {},
   "outputs": [],
   "source": [
    "# Exploring sentiment delivered by TextBlob, on 15 May 2019\n",
    "\n",
    "polarity_list = []\n",
    "subjectivity_list = []\n",
    "for sentence in blob.sentences:\n",
    "    print('polarity and subjectivity for this sentence are:', sentence.sentiment)\n",
    "    polarity = sentence.sentiment.polarity\n",
    "    subjectivity = sentence.sentiment.subjectivity\n",
    "    if polarity !=0 :\n",
    "        polarity_list.append(polarity)\n",
    "    if subjectivity !=0 :\n",
    "        subjectivity_list.append(subjectivity)\n",
    "print('polarity_list is:', polarity_list, '\\n', 'subjectivity_list is:', subjectivity_list)"
   ]
  },
  {
   "cell_type": "code",
   "execution_count": null,
   "metadata": {},
   "outputs": [],
   "source": [
    "# Looking at a new comments csv from 16 May 2019\n",
    "\n",
    "comments1_df = pd.read_csv('new_comments1.csv')\n",
    "comments1_df.head()\n",
    "len(comments1_df.loc[comments1_df.comments == '[]'])"
   ]
  },
  {
   "cell_type": "code",
   "execution_count": null,
   "metadata": {},
   "outputs": [],
   "source": [
    "get_blob(comments_df.comments.values[0])"
   ]
  },
  {
   "cell_type": "code",
   "execution_count": null,
   "metadata": {},
   "outputs": [],
   "source": [
    "type(comments_df.comments[4])\n",
    "# get_blob(comments_df.comments[4])"
   ]
  },
  {
   "cell_type": "code",
   "execution_count": null,
   "metadata": {},
   "outputs": [],
   "source": [
    "get_blob(comments_df.comments[5])"
   ]
  },
  {
   "cell_type": "code",
   "execution_count": null,
   "metadata": {},
   "outputs": [],
   "source": [
    "'not' in stop_eng"
   ]
  },
  {
   "cell_type": "code",
   "execution_count": 31,
   "metadata": {},
   "outputs": [],
   "source": [
    "# Want to try an unsupervised approach to grouping the videos\n",
    "# Given: videos are in df with their associated comments, which have been processed,\n",
    "# and polarity, subjectivity, and tags features are also available\n",
    "\n",
    "import matplotlib.pyplot as plt\n",
    "from sklearn.cluster import KMeans"
   ]
  },
  {
   "cell_type": "code",
   "execution_count": 39,
   "metadata": {},
   "outputs": [],
   "source": [
    "kmc_df = analysis_df[['subjectivity_mean', 'top_tag_count']]"
   ]
  },
  {
   "cell_type": "code",
   "execution_count": 40,
   "metadata": {},
   "outputs": [],
   "source": [
    "kmeans = KMeans(n_clusters=6).fit(kmc_df)"
   ]
  },
  {
   "cell_type": "code",
   "execution_count": 41,
   "metadata": {},
   "outputs": [
    {
     "name": "stdout",
     "output_type": "stream",
     "text": [
      "centroids are:\n",
      " [[ 14.22828283  10.46666667]\n",
      " [ 59.86435437 181.53333333]\n",
      " [ 57.         833.        ]\n",
      " [ 73.23741848  23.82758621]\n",
      " [ 62.01157974  84.14285714]\n",
      " [ 41.59534043 365.2       ]]\n"
     ]
    }
   ],
   "source": [
    "centroids = kmeans.cluster_centers_\n",
    "print('centroids are:\\n', centroids)"
   ]
  },
  {
   "cell_type": "code",
   "execution_count": 43,
   "metadata": {},
   "outputs": [
    {
     "data": {
      "image/png": "[encoded data removed]",
      "text/plain": [
       "<Figure size 432x288 with 1 Axes>"
      ]
     },
     "metadata": {
      "needs_background": "light"
     },
     "output_type": "display_data"
    }
   ],
   "source": [
    "plt.scatter(kmc_df['subjectivity_mean'], kmc_df['top_tag_count'], c=kmeans.labels_.astype(float),\n",
    "            s=50, alpha=0.5)\n",
    "plt.scatter(centroids[:, 0], centroids[:, 1], c='red', s=50);"
   ]
  },
  {
   "cell_type": "code",
   "execution_count": 150,
   "metadata": {},
   "outputs": [],
   "source": [
    "# New data in - 20 May 2019, 1:40PM PST\n",
    "\n",
    "large_videos_df = pd.read_csv('new_videos_2.csv')\n",
    "lg_videos_comments_df = pd.read_csv('video_comments_2.csv')\n",
    "lg_videos_descrips_df = pd.read_csv('video_descriptions_2.csv')"
   ]
  },
  {
   "cell_type": "code",
   "execution_count": 152,
   "metadata": {},
   "outputs": [
    {
     "name": "stdout",
     "output_type": "stream",
     "text": [
      "(578, 4)\n",
      "(586, 3)\n"
     ]
    },
    {
     "data": {
      "text/plain": [
       "(595, 5)"
      ]
     },
     "execution_count": 152,
     "metadata": {},
     "output_type": "execute_result"
    }
   ],
   "source": [
    "print(large_videos_df.shape)\n",
    "print(lg_videos_comments_df.shape)\n",
    "lg_videos_descrips_df.shape"
   ]
  },
  {
   "cell_type": "code",
   "execution_count": 155,
   "metadata": {},
   "outputs": [],
   "source": [
    "comments_descrips_df = pd.merge(lg_videos_comments_df, lg_videos_descrips_df,\n",
    "                                how='inner', on=['video_id'])"
   ]
  },
  {
   "cell_type": "code",
   "execution_count": 156,
   "metadata": {},
   "outputs": [],
   "source": [
    "videos_all_df = pd.merge(large_videos_df, comments_descrips_df,\n",
    "                         how='inner', on=['video_id'])"
   ]
  },
  {
   "cell_type": "code",
   "execution_count": 159,
   "metadata": {},
   "outputs": [],
   "source": [
    "videos_all_df = videos_all_df.drop(['id_y', 'video_title_y'], axis=1)"
   ]
  },
  {
   "cell_type": "code",
   "execution_count": 161,
   "metadata": {},
   "outputs": [
    {
     "data": {
      "text/html": [
       "<div>\n",
       "<style scoped>\n",
       "    .dataframe tbody tr th:only-of-type {\n",
       "        vertical-align: middle;\n",
       "    }\n",
       "\n",
       "    .dataframe tbody tr th {\n",
       "        vertical-align: top;\n",
       "    }\n",
       "\n",
       "    .dataframe thead th {\n",
       "        text-align: right;\n",
       "    }\n",
       "</style>\n",
       "<table border=\"1\" class=\"dataframe\">\n",
       "  <thead>\n",
       "    <tr style=\"text-align: right;\">\n",
       "      <th></th>\n",
       "      <th>video_title</th>\n",
       "      <th>video_id</th>\n",
       "      <th>moods</th>\n",
       "      <th>labeled</th>\n",
       "      <th>id</th>\n",
       "      <th>comments</th>\n",
       "      <th>video_description</th>\n",
       "      <th>predicted_moods</th>\n",
       "    </tr>\n",
       "  </thead>\n",
       "  <tbody>\n",
       "    <tr>\n",
       "      <th>0</th>\n",
       "      <td>Disfigure - Hollah! FREE DUBSTEP Creative Comm...</td>\n",
       "      <td>ZzsWXK-MKME</td>\n",
       "      <td>HAPPY</td>\n",
       "      <td>t</td>\n",
       "      <td>524</td>\n",
       "      <td>[]</td>\n",
       "      <td>♫ Please Subscribe to Creative Commons Music F...</td>\n",
       "      <td>NaN</td>\n",
       "    </tr>\n",
       "    <tr>\n",
       "      <th>1</th>\n",
       "      <td>♩♫ Dramatic Apocalyptic Music ♪♬ - The Wastela...</td>\n",
       "      <td>5eAalHA1bAc</td>\n",
       "      <td>CHILL</td>\n",
       "      <td>t</td>\n",
       "      <td>56</td>\n",
       "      <td>['Linda composição!!!', 'Who is here from real...</td>\n",
       "      <td>INSTAGRAM! : https://instagram.com/rossbugden/...</td>\n",
       "      <td>NaN</td>\n",
       "    </tr>\n",
       "    <tr>\n",
       "      <th>2</th>\n",
       "      <td>Zend Music | Mendum - Elysium [NCS Release] | ...</td>\n",
       "      <td>sCfVL8mULEA</td>\n",
       "      <td>ANGRY</td>\n",
       "      <td>t</td>\n",
       "      <td>497</td>\n",
       "      <td>['Zend Music | Mendum - Elysium [NCS Release] ...</td>\n",
       "      <td>Zend Music | Mendum - Elysium [NCS Release] | ...</td>\n",
       "      <td>NaN</td>\n",
       "    </tr>\n",
       "    <tr>\n",
       "      <th>3</th>\n",
       "      <td>Zend Music | JPB - High [NCS Release] | Free M...</td>\n",
       "      <td>sCcGq9g5iA4</td>\n",
       "      <td>HAPPY</td>\n",
       "      <td>t</td>\n",
       "      <td>501</td>\n",
       "      <td>['Zend Music | JPB - High [NCS Release] | Free...</td>\n",
       "      <td>Zend Music | JPB - High [NCS Release] | Free M...</td>\n",
       "      <td>NaN</td>\n",
       "    </tr>\n",
       "    <tr>\n",
       "      <th>4</th>\n",
       "      <td>Nostalgy - (No Copyright Music) Sad Cinematic ...</td>\n",
       "      <td>zViXwVZpWqY</td>\n",
       "      <td>SAD</td>\n",
       "      <td>t</td>\n",
       "      <td>442</td>\n",
       "      <td>['Download this music track: http://bit.ly/2QC...</td>\n",
       "      <td>Download Music: http://bit.ly/2QC9e3K (No Copy...</td>\n",
       "      <td>NaN</td>\n",
       "    </tr>\n",
       "  </tbody>\n",
       "</table>\n",
       "</div>"
      ],
      "text/plain": [
       "                                         video_title     video_id  moods  \\\n",
       "0  Disfigure - Hollah! FREE DUBSTEP Creative Comm...  ZzsWXK-MKME  HAPPY   \n",
       "1  ♩♫ Dramatic Apocalyptic Music ♪♬ - The Wastela...  5eAalHA1bAc  CHILL   \n",
       "2  Zend Music | Mendum - Elysium [NCS Release] | ...  sCfVL8mULEA  ANGRY   \n",
       "3  Zend Music | JPB - High [NCS Release] | Free M...  sCcGq9g5iA4  HAPPY   \n",
       "4  Nostalgy - (No Copyright Music) Sad Cinematic ...  zViXwVZpWqY    SAD   \n",
       "\n",
       "  labeled   id                                           comments  \\\n",
       "0       t  524                                                 []   \n",
       "1       t   56  ['Linda composição!!!', 'Who is here from real...   \n",
       "2       t  497  ['Zend Music | Mendum - Elysium [NCS Release] ...   \n",
       "3       t  501  ['Zend Music | JPB - High [NCS Release] | Free...   \n",
       "4       t  442  ['Download this music track: http://bit.ly/2QC...   \n",
       "\n",
       "                                   video_description  predicted_moods  \n",
       "0  ♫ Please Subscribe to Creative Commons Music F...              NaN  \n",
       "1  INSTAGRAM! : https://instagram.com/rossbugden/...              NaN  \n",
       "2  Zend Music | Mendum - Elysium [NCS Release] | ...              NaN  \n",
       "3  Zend Music | JPB - High [NCS Release] | Free M...              NaN  \n",
       "4  Download Music: http://bit.ly/2QC9e3K (No Copy...              NaN  "
      ]
     },
     "execution_count": 161,
     "metadata": {},
     "output_type": "execute_result"
    }
   ],
   "source": [
    "videos_all_df = videos_all_df.rename(columns={'video_title_x': 'video_title',\n",
    "                                              'id_x': 'id'})\n",
    "videos_all_df.head()"
   ]
  },
  {
   "cell_type": "code",
   "execution_count": 162,
   "metadata": {},
   "outputs": [
    {
     "data": {
      "text/plain": [
       "(578, 8)"
      ]
     },
     "execution_count": 162,
     "metadata": {},
     "output_type": "execute_result"
    }
   ],
   "source": [
    "videos_all_df.shape"
   ]
  },
  {
   "cell_type": "code",
   "execution_count": 176,
   "metadata": {},
   "outputs": [
    {
     "data": {
      "text/plain": [
       "211"
      ]
     },
     "execution_count": 176,
     "metadata": {},
     "output_type": "execute_result"
    }
   ],
   "source": [
    "len(videos_all_df[videos_all_df.comments=='[]'])"
   ]
  },
  {
   "cell_type": "code",
   "execution_count": 170,
   "metadata": {},
   "outputs": [],
   "source": [
    "labeled_videos_df = videos_all_df[videos_all_df.labeled=='t']"
   ]
  },
  {
   "cell_type": "code",
   "execution_count": 177,
   "metadata": {},
   "outputs": [],
   "source": [
    "labeled_videos_df.to_csv('labeled_videos.csv')"
   ]
  },
  {
   "cell_type": "code",
   "execution_count": 171,
   "metadata": {},
   "outputs": [],
   "source": [
    "unlabeled_videos_df = videos_all_df[videos_all_df.labeled !='t']"
   ]
  },
  {
   "cell_type": "code",
   "execution_count": 175,
   "metadata": {},
   "outputs": [
    {
     "data": {
      "text/html": [
       "<div>\n",
       "<style scoped>\n",
       "    .dataframe tbody tr th:only-of-type {\n",
       "        vertical-align: middle;\n",
       "    }\n",
       "\n",
       "    .dataframe tbody tr th {\n",
       "        vertical-align: top;\n",
       "    }\n",
       "\n",
       "    .dataframe thead th {\n",
       "        text-align: right;\n",
       "    }\n",
       "</style>\n",
       "<table border=\"1\" class=\"dataframe\">\n",
       "  <thead>\n",
       "    <tr style=\"text-align: right;\">\n",
       "      <th></th>\n",
       "      <th>video_title</th>\n",
       "      <th>video_id</th>\n",
       "      <th>moods</th>\n",
       "      <th>labeled</th>\n",
       "      <th>id</th>\n",
       "      <th>comments</th>\n",
       "      <th>video_description</th>\n",
       "      <th>predicted_moods</th>\n",
       "    </tr>\n",
       "  </thead>\n",
       "  <tbody>\n",
       "    <tr>\n",
       "      <th>573</th>\n",
       "      <td>Jordan Schor  Marvin Divine - Want It All (Bas...</td>\n",
       "      <td>w2XlLDlge2c</td>\n",
       "      <td>HAPPY</td>\n",
       "      <td>NaN</td>\n",
       "      <td>1113</td>\n",
       "      <td>['Mantap gan music nya']</td>\n",
       "      <td>Jangan Lupa LIKE, SHARE &amp; SUBSCRIBE ^_^\\n\\n\\nN...</td>\n",
       "      <td>NaN</td>\n",
       "    </tr>\n",
       "    <tr>\n",
       "      <th>574</th>\n",
       "      <td>Cinematic Motivational - Telifsiz Müzik -  No ...</td>\n",
       "      <td>RpGcUrP6Qzs</td>\n",
       "      <td>HAPPY</td>\n",
       "      <td>NaN</td>\n",
       "      <td>1114</td>\n",
       "      <td>[]</td>\n",
       "      <td>Download Music: http://bit.ly/2Gsq6H3 (No Copy...</td>\n",
       "      <td>NaN</td>\n",
       "    </tr>\n",
       "    <tr>\n",
       "      <th>575</th>\n",
       "      <td>Snow Falling Animation | 4K |With Royalty Free...</td>\n",
       "      <td>2d3vBG8VfiM</td>\n",
       "      <td>HAPPY</td>\n",
       "      <td>NaN</td>\n",
       "      <td>1115</td>\n",
       "      <td>[]</td>\n",
       "      <td>Snow Falling Animation | 4K | With Royalty Fre...</td>\n",
       "      <td>NaN</td>\n",
       "    </tr>\n",
       "    <tr>\n",
       "      <th>576</th>\n",
       "      <td>DRW – Programmer [House] from Royalty Free Pla...</td>\n",
       "      <td>l3vEtwBRGPE</td>\n",
       "      <td>HAPPY</td>\n",
       "      <td>NaN</td>\n",
       "      <td>1116</td>\n",
       "      <td>['Fleeting tune, jams!!!', 'I am glad that I f...</td>\n",
       "      <td>Royalty Free Planet is home to the best qualit...</td>\n",
       "      <td>NaN</td>\n",
       "    </tr>\n",
       "    <tr>\n",
       "      <th>577</th>\n",
       "      <td>FUTURE SHOCK - No Copyright Music - Elelectro ...</td>\n",
       "      <td>RNd5JYLL-z0</td>\n",
       "      <td>HAPPY</td>\n",
       "      <td>NaN</td>\n",
       "      <td>1117</td>\n",
       "      <td>['Bella Brother!', 'Inquietantemente, ipnotica...</td>\n",
       "      <td>Elelectro dance music FREE DOWNLOAD\\nno copyri...</td>\n",
       "      <td>NaN</td>\n",
       "    </tr>\n",
       "  </tbody>\n",
       "</table>\n",
       "</div>"
      ],
      "text/plain": [
       "                                           video_title     video_id  moods  \\\n",
       "573  Jordan Schor  Marvin Divine - Want It All (Bas...  w2XlLDlge2c  HAPPY   \n",
       "574  Cinematic Motivational - Telifsiz Müzik -  No ...  RpGcUrP6Qzs  HAPPY   \n",
       "575  Snow Falling Animation | 4K |With Royalty Free...  2d3vBG8VfiM  HAPPY   \n",
       "576  DRW – Programmer [House] from Royalty Free Pla...  l3vEtwBRGPE  HAPPY   \n",
       "577  FUTURE SHOCK - No Copyright Music - Elelectro ...  RNd5JYLL-z0  HAPPY   \n",
       "\n",
       "    labeled    id                                           comments  \\\n",
       "573     NaN  1113                           ['Mantap gan music nya']   \n",
       "574     NaN  1114                                                 []   \n",
       "575     NaN  1115                                                 []   \n",
       "576     NaN  1116  ['Fleeting tune, jams!!!', 'I am glad that I f...   \n",
       "577     NaN  1117  ['Bella Brother!', 'Inquietantemente, ipnotica...   \n",
       "\n",
       "                                     video_description  predicted_moods  \n",
       "573  Jangan Lupa LIKE, SHARE & SUBSCRIBE ^_^\\n\\n\\nN...              NaN  \n",
       "574  Download Music: http://bit.ly/2Gsq6H3 (No Copy...              NaN  \n",
       "575  Snow Falling Animation | 4K | With Royalty Fre...              NaN  \n",
       "576  Royalty Free Planet is home to the best qualit...              NaN  \n",
       "577  Elelectro dance music FREE DOWNLOAD\\nno copyri...              NaN  "
      ]
     },
     "execution_count": 175,
     "metadata": {},
     "output_type": "execute_result"
    }
   ],
   "source": [
    "unlabeled_videos_df.tail()"
   ]
  },
  {
   "cell_type": "code",
   "execution_count": 178,
   "metadata": {},
   "outputs": [],
   "source": [
    "unlabeled_videos_df.to_csv('unlabeled_videos.csv')"
   ]
  },
  {
   "cell_type": "code",
   "execution_count": 103,
   "metadata": {},
   "outputs": [],
   "source": [
    "tags_columns = ['polarity_mean', 'subjectivity_mean', 'tags', 'tags_count', 'top_tag', 'top_tag_count',\n",
    "                'second_tag', 'second_tag_count', 'third_tag', 'third_tag_count']\n",
    "lg_videos_comments_df = pd.concat([lg_videos_comments_df, pd.DataFrame(columns=tags_columns)], axis=1)"
   ]
  },
  {
   "cell_type": "code",
   "execution_count": 104,
   "metadata": {},
   "outputs": [
    {
     "data": {
      "text/plain": [
       "(539, 14)"
      ]
     },
     "execution_count": 104,
     "metadata": {},
     "output_type": "execute_result"
    }
   ],
   "source": [
    "lg_videos_comments_df.shape"
   ]
  },
  {
   "cell_type": "code",
   "execution_count": 105,
   "metadata": {},
   "outputs": [],
   "source": [
    "lg_videos_comments_df = lg_videos_comments_df[lg_videos_comments_df.comments != '[]']"
   ]
  },
  {
   "cell_type": "code",
   "execution_count": 106,
   "metadata": {},
   "outputs": [
    {
     "data": {
      "text/plain": [
       "(337, 14)"
      ]
     },
     "execution_count": 106,
     "metadata": {},
     "output_type": "execute_result"
    }
   ],
   "source": [
    "lg_videos_comments_df.shape"
   ]
  },
  {
   "cell_type": "code",
   "execution_count": 107,
   "metadata": {},
   "outputs": [
    {
     "name": "stdout",
     "output_type": "stream",
     "text": [
      "[('NN', 43), ('JJ', 19), ('IN', 14)] len(c.most_common(3)) is: 3\n",
      "[('NN', 40), ('JJ', 10), ('FW', 5)] len(c.most_common(3)) is: 3\n",
      "[('NN', 180), ('JJ', 51), ('FW', 38)] len(c.most_common(3)) is: 3\n",
      "[('NN', 43), ('JJ', 16), ('DT', 9)] len(c.most_common(3)) is: 3\n",
      "[('NN', 65), ('JJ', 31), ('DT', 20)] len(c.most_common(3)) is: 3\n",
      "[('NN', 117), ('IN', 61), ('DT', 54)] len(c.most_common(3)) is: 3\n",
      "[('NN', 35), ('JJ', 9), ('VB', 6)] len(c.most_common(3)) is: 3\n",
      "[('NNP', 19), ('NN', 10), ('CD', 5)] len(c.most_common(3)) is: 3\n",
      "[('NN', 120), ('NNP', 37), ('IN', 27)] len(c.most_common(3)) is: 3\n",
      "[('NN', 168), ('IN', 83), ('VB', 83)] len(c.most_common(3)) is: 3\n",
      "[('NN', 187), ('JJ', 43), ('FW', 39)] len(c.most_common(3)) is: 3\n",
      "[('NN', 616), ('JJ', 177), ('FW', 109)] len(c.most_common(3)) is: 3\n",
      "[('NN', 11), ('PRP', 7), ('VB', 5)] len(c.most_common(3)) is: 3\n",
      "[('NN', 165), ('JJ', 52), ('FW', 49)] len(c.most_common(3)) is: 3\n",
      "[('NN', 84), ('FW', 20), ('JJ', 15)] len(c.most_common(3)) is: 3\n",
      "[('NN', 43), ('JJ', 23), ('IN', 21)] len(c.most_common(3)) is: 3\n",
      "[('NN', 452), ('JJ', 103), ('FW', 89)] len(c.most_common(3)) is: 3\n",
      "[('NN', 6), ('VBP', 3), ('DT', 3)] len(c.most_common(3)) is: 3\n",
      "[('NN', 208), ('IN', 87), ('JJ', 66)] len(c.most_common(3)) is: 3\n",
      "[('NN', 121), ('IN', 55), ('DT', 39)] len(c.most_common(3)) is: 3\n",
      "[('NN', 230), ('FW', 70), ('JJ', 63)] len(c.most_common(3)) is: 3\n",
      "[('NN', 11), ('NNS', 5), ('VBP', 4)] len(c.most_common(3)) is: 3\n",
      "[('NN', 80), ('JJ', 17), ('FW', 6)] len(c.most_common(3)) is: 3\n",
      "[('VBP', 2), ('NN', 1), ('PRP', 1)] len(c.most_common(3)) is: 3\n",
      "[('NN', 12), ('JJ', 5), ('IN', 3)] len(c.most_common(3)) is: 3\n",
      "[('NN', 4)] len(c.most_common(3)) is: 1\n",
      "[('NN', 53), ('DT', 16), ('JJ', 10)] len(c.most_common(3)) is: 3\n",
      "[('NN', 2), ('VB', 2), ('CD', 1)] len(c.most_common(3)) is: 3\n",
      "[('NN', 12), ('VBG', 3), ('JJ', 3)] len(c.most_common(3)) is: 3\n",
      "[('NN', 183), ('JJ', 83), ('FW', 44)] len(c.most_common(3)) is: 3\n",
      "[('NN', 12), ('JJ', 9), ('RB', 4)] len(c.most_common(3)) is: 3\n",
      "[('NN', 71), ('IN', 40), ('RB', 35)] len(c.most_common(3)) is: 3\n",
      "[('NN', 9), ('JJ', 6), ('IN', 4)] len(c.most_common(3)) is: 3\n",
      "[('NN', 5), ('JJ', 4), ('NNS', 1)] len(c.most_common(3)) is: 3\n",
      "[('NN', 27), ('FW', 6), ('JJ', 5)] len(c.most_common(3)) is: 3\n",
      "[('NN', 5), ('JJ', 2)] len(c.most_common(3)) is: 2\n",
      "[('NN', 7), ('JJ', 3), ('FW', 3)] len(c.most_common(3)) is: 3\n",
      "[('NN', 2), ('JJ', 2), ('NNS', 1)] len(c.most_common(3)) is: 3\n",
      "[('NN', 23), ('JJ', 6), ('VBP', 2)] len(c.most_common(3)) is: 3\n",
      "[('NN', 11), ('VB', 3), ('PRP$', 3)] len(c.most_common(3)) is: 3\n",
      "[('NN', 4), ('JJ', 2), ('UH', 1)] len(c.most_common(3)) is: 3\n",
      "[('NN', 337), ('JJ', 275), ('PRP', 17)] len(c.most_common(3)) is: 3\n",
      "[('NN', 51), ('JJ', 23), ('VB', 21)] len(c.most_common(3)) is: 3\n",
      "[('NN', 40), ('IN', 18), ('JJ', 18)] len(c.most_common(3)) is: 3\n",
      "[('NN', 92), ('IN', 70), ('PRP', 59)] len(c.most_common(3)) is: 3\n",
      "[('NN', 8), ('NNS', 1), ('JJ', 1)] len(c.most_common(3)) is: 3\n",
      "[('NN', 11), ('FW', 6), ('NNS', 4)] len(c.most_common(3)) is: 3\n",
      "[('NN', 75), ('JJ', 32), ('DT', 27)] len(c.most_common(3)) is: 3\n",
      "[('NN', 4), ('JJ', 2), ('JJS', 1)] len(c.most_common(3)) is: 3\n",
      "[('NN', 5), ('VBD', 1), ('PRP', 1)] len(c.most_common(3)) is: 3\n",
      "[('NN', 75), ('JJ', 27), ('DT', 23)] len(c.most_common(3)) is: 3\n",
      "[('NN', 81), ('JJ', 32), ('DT', 18)] len(c.most_common(3)) is: 3\n",
      "[('NN', 84), ('JJ', 46), ('IN', 29)] len(c.most_common(3)) is: 3\n",
      "[('VBP', 2), ('PDT', 1), ('DT', 1)] len(c.most_common(3)) is: 3\n",
      "[('NN', 179), ('RB', 63), ('VB', 63)] len(c.most_common(3)) is: 3\n",
      "[('NN', 11), ('RB', 4), ('DT', 3)] len(c.most_common(3)) is: 3\n",
      "[('JJ', 7), ('NN', 6), ('VB', 2)] len(c.most_common(3)) is: 3\n",
      "[('NN', 7), ('JJ', 5), ('DT', 3)] len(c.most_common(3)) is: 3\n",
      "[('DT', 2), ('PRP', 1), ('VBP', 1)] len(c.most_common(3)) is: 3\n",
      "[('NN', 9), ('RB', 4), ('IN', 3)] len(c.most_common(3)) is: 3\n",
      "[('JJ', 4), ('RB', 2), ('VBP', 1)] len(c.most_common(3)) is: 3\n",
      "[('NN', 1)] len(c.most_common(3)) is: 1\n",
      "[('NN', 57), ('JJ', 25), ('DT', 16)] len(c.most_common(3)) is: 3\n",
      "[('NN', 49), ('NNP', 32), ('JJ', 16)] len(c.most_common(3)) is: 3\n",
      "[('NN', 85), ('DT', 48), ('IN', 34)] len(c.most_common(3)) is: 3\n",
      "[('VB', 88), ('NN', 78), ('JJ', 44)] len(c.most_common(3)) is: 3\n",
      "[('NN', 82), ('DT', 37), ('IN', 36)] len(c.most_common(3)) is: 3\n",
      "[('NN', 240), ('JJ', 60), ('FW', 25)] len(c.most_common(3)) is: 3\n",
      "[('NN', 25), ('IN', 8), ('JJ', 8)] len(c.most_common(3)) is: 3\n",
      "[('NN', 109), ('JJ', 45), ('IN', 43)] len(c.most_common(3)) is: 3\n",
      "[('NN', 9), ('JJ', 3), ('VBP', 2)] len(c.most_common(3)) is: 3\n",
      "[('NN', 149), ('PRP', 122), ('JJ', 94)] len(c.most_common(3)) is: 3\n",
      "[('NN', 9), ('JJ', 4), ('IN', 2)] len(c.most_common(3)) is: 3\n",
      "[('NN', 40), ('JJ', 16), ('DT', 12)] len(c.most_common(3)) is: 3\n",
      "[('NN', 35), ('JJ', 15), ('VB', 15)] len(c.most_common(3)) is: 3\n",
      "[('NN', 152), ('IN', 61), ('DT', 55)] len(c.most_common(3)) is: 3\n",
      "[('VB', 5), ('NN', 1), ('MD', 1)] len(c.most_common(3)) is: 3\n",
      "[('NN', 19), ('DT', 16), ('JJ', 9)] len(c.most_common(3)) is: 3\n",
      "[('JJ', 4), ('NN', 4), ('DT', 3)] len(c.most_common(3)) is: 3\n",
      "[('NN', 58), ('IN', 12), ('DT', 12)] len(c.most_common(3)) is: 3\n",
      "[('NN', 8)] len(c.most_common(3)) is: 1\n",
      "[('NN', 36), ('NNP', 21), ('JJ', 12)] len(c.most_common(3)) is: 3\n",
      "[('NN', 347), ('JJ', 73), ('IN', 63)] len(c.most_common(3)) is: 3\n",
      "[('NN', 23), ('JJ', 9), ('PRP', 9)] len(c.most_common(3)) is: 3\n",
      "[('NN', 29), ('JJ', 21), ('IN', 21)] len(c.most_common(3)) is: 3\n",
      "[('JJ', 16), ('NN', 16), ('VB', 7)] len(c.most_common(3)) is: 3\n",
      "[('NN', 10), ('VBP', 6), ('JJ', 6)] len(c.most_common(3)) is: 3\n",
      "[('NN', 25), ('DT', 11), ('RB', 8)] len(c.most_common(3)) is: 3\n",
      "[('NN', 245), ('IN', 118), ('DT', 96)] len(c.most_common(3)) is: 3\n",
      "[('NN', 23), ('JJ', 11), ('IN', 6)] len(c.most_common(3)) is: 3\n",
      "[('NN', 57), ('JJ', 10), ('DT', 8)] len(c.most_common(3)) is: 3\n",
      "[('NN', 57), ('RB', 20), ('JJ', 17)] len(c.most_common(3)) is: 3\n",
      "[('NN', 55), ('FW', 11), ('NNP', 11)] len(c.most_common(3)) is: 3\n",
      "[('NN', 153), ('NNP', 100), ('JJ', 51)] len(c.most_common(3)) is: 3\n",
      "[('NN', 83), ('IN', 43), ('DT', 36)] len(c.most_common(3)) is: 3\n",
      "[('NN', 78), ('JJ', 24), ('DT', 13)] len(c.most_common(3)) is: 3\n",
      "[('IN', 18), ('NN', 18), ('DT', 9)] len(c.most_common(3)) is: 3\n",
      "[('NN', 9), ('DT', 6), ('MD', 3)] len(c.most_common(3)) is: 3\n",
      "[('NN', 304), ('DT', 120), ('JJ', 106)] len(c.most_common(3)) is: 3\n",
      "[('NN', 144), ('JJ', 73), ('IN', 53)] len(c.most_common(3)) is: 3\n",
      "[('NN', 106), ('PRP', 42), ('DT', 35)] len(c.most_common(3)) is: 3\n",
      "[('NN', 102), ('DT', 77), ('VB', 41)] len(c.most_common(3)) is: 3\n",
      "[('NN', 44), ('DT', 13), ('VB', 11)] len(c.most_common(3)) is: 3\n",
      "[('NN', 2), ('JJ', 1), ('CC', 1)] len(c.most_common(3)) is: 3\n",
      "[('NN', 93), ('IN', 26), ('JJ', 21)] len(c.most_common(3)) is: 3\n",
      "[('NN', 158), ('PRP', 130), ('RB', 100)] len(c.most_common(3)) is: 3\n",
      "[('NN', 186), ('VB', 81), ('JJ', 76)] len(c.most_common(3)) is: 3\n",
      "[('NN', 63), ('JJ', 14), ('IN', 12)] len(c.most_common(3)) is: 3\n",
      "[('NN', 491), ('DT', 207), ('IN', 174)] len(c.most_common(3)) is: 3\n",
      "[('NN', 157), ('JJ', 31), ('DT', 9)] len(c.most_common(3)) is: 3\n",
      "[('NN', 15), ('JJ', 6), ('PRP', 5)] len(c.most_common(3)) is: 3\n",
      "[('NN', 7), ('JJ', 3), ('PRP$', 2)] len(c.most_common(3)) is: 3\n",
      "[('NN', 23), ('JJ', 11), ('DT', 7)] len(c.most_common(3)) is: 3\n",
      "[('NN', 19), ('JJ', 11), ('VB', 2)] len(c.most_common(3)) is: 3\n",
      "[('NN', 21), ('JJ', 9), ('IN', 4)] len(c.most_common(3)) is: 3\n",
      "[('NN', 6), ('VBP', 2), ('DT', 2)] len(c.most_common(3)) is: 3\n",
      "[('NN', 27), ('JJ', 13), ('FW', 8)] len(c.most_common(3)) is: 3\n",
      "[('NN', 5), ('JJ', 4), ('DT', 1)] len(c.most_common(3)) is: 3\n",
      "[('NN', 35), ('JJ', 15), ('IN', 11)] len(c.most_common(3)) is: 3\n",
      "[('NN', 44), ('JJ', 15), ('PRP', 13)] len(c.most_common(3)) is: 3\n",
      "[('NN', 15), ('JJ', 7), ('DT', 2)] len(c.most_common(3)) is: 3\n",
      "[('JJ', 1), ('NNP', 1), ('NN', 1)] len(c.most_common(3)) is: 3\n",
      "[('JJ', 25), ('NN', 22), ('RB', 13)] len(c.most_common(3)) is: 3\n",
      "[('NN', 3), ('VBP', 1), ('DT', 1)] len(c.most_common(3)) is: 3\n",
      "[('NN', 69), ('JJ', 22), ('NNS', 14)] len(c.most_common(3)) is: 3\n",
      "[('NN', 26), ('NNP', 11), ('DT', 10)] len(c.most_common(3)) is: 3\n",
      "[('NN', 42), ('JJ', 3), ('RB', 2)] len(c.most_common(3)) is: 3\n",
      "[('NN', 15), ('JJ', 10), ('RB', 9)] len(c.most_common(3)) is: 3\n",
      "[('NN', 2), ('JJ', 2), ('DT', 1)] len(c.most_common(3)) is: 3\n",
      "[('NN', 16), ('JJ', 12), ('RB', 4)] len(c.most_common(3)) is: 3\n",
      "[('NN', 3), ('JJ', 2), ('UH', 1)] len(c.most_common(3)) is: 3\n"
     ]
    },
    {
     "name": "stdout",
     "output_type": "stream",
     "text": [
      "[('NN', 54), ('JJ', 17), ('DT', 7)] len(c.most_common(3)) is: 3\n",
      "[('NN', 5), ('JJ', 3), ('DT', 2)] len(c.most_common(3)) is: 3\n",
      "[('NN', 47), ('IN', 29), ('DT', 22)] len(c.most_common(3)) is: 3\n",
      "[('NN', 63), ('DT', 27), ('JJ', 26)] len(c.most_common(3)) is: 3\n",
      "[('NN', 7), ('JJ', 4), ('IN', 3)] len(c.most_common(3)) is: 3\n",
      "[('NN', 7), ('NNS', 3), ('IN', 3)] len(c.most_common(3)) is: 3\n",
      "[('NN', 11), ('JJ', 9), ('RB', 8)] len(c.most_common(3)) is: 3\n",
      "[('NN', 105), ('JJ', 50), ('IN', 42)] len(c.most_common(3)) is: 3\n",
      "[('JJ', 3), ('NN', 2), ('VB', 2)] len(c.most_common(3)) is: 3\n",
      "[('NN', 78), ('JJ', 25), ('NNS', 10)] len(c.most_common(3)) is: 3\n",
      "[('NN', 9), ('PRP$', 3), ('NNS', 2)] len(c.most_common(3)) is: 3\n",
      "[('NN', 5), ('VB', 3), ('JJ', 3)] len(c.most_common(3)) is: 3\n",
      "[('NN', 12)] len(c.most_common(3)) is: 1\n",
      "[('NN', 3), ('VB', 3), ('NNS', 2)] len(c.most_common(3)) is: 3\n",
      "[('NN', 217), ('JJ', 47), ('NNP', 41)] len(c.most_common(3)) is: 3\n",
      "[('NN', 16), ('JJ', 6), ('DT', 5)] len(c.most_common(3)) is: 3\n",
      "[('NN', 32), ('JJ', 22), ('DT', 7)] len(c.most_common(3)) is: 3\n",
      "[('NN', 15), ('DT', 4), ('IN', 4)] len(c.most_common(3)) is: 3\n",
      "[('NN', 2), ('VB', 1), ('PRP$', 1)] len(c.most_common(3)) is: 3\n",
      "[('NN', 20), ('JJ', 11), ('IN', 10)] len(c.most_common(3)) is: 3\n",
      "[('NN', 8), ('JJ', 3), ('IN', 3)] len(c.most_common(3)) is: 3\n",
      "[('NN', 73), ('IN', 25), ('DT', 25)] len(c.most_common(3)) is: 3\n",
      "[('NN', 25), ('JJ', 13), ('RB', 5)] len(c.most_common(3)) is: 3\n",
      "[('NN', 48), ('JJ', 22), ('RB', 9)] len(c.most_common(3)) is: 3\n",
      "[('NN', 2), ('JJ', 1)] len(c.most_common(3)) is: 2\n",
      "[('NN', 8), ('DT', 4), ('VBP', 3)] len(c.most_common(3)) is: 3\n",
      "[('NN', 78), ('JJ', 30), ('VB', 24)] len(c.most_common(3)) is: 3\n",
      "[('NN', 31), ('JJ', 21), ('FW', 8)] len(c.most_common(3)) is: 3\n",
      "[('NN', 85), ('IN', 34), ('JJ', 22)] len(c.most_common(3)) is: 3\n",
      "[('NN', 1), ('NNS', 1), ('VBP', 1)] len(c.most_common(3)) is: 3\n",
      "[('RB', 1)] len(c.most_common(3)) is: 1\n",
      "[('NN', 32), ('DT', 12), ('JJ', 11)] len(c.most_common(3)) is: 3\n",
      "[('NN', 5), ('IN', 3), ('JJ', 2)] len(c.most_common(3)) is: 3\n",
      "[('NN', 8), ('DT', 5), ('JJ', 5)] len(c.most_common(3)) is: 3\n",
      "[('NN', 8), ('NNS', 3), ('VBP', 2)] len(c.most_common(3)) is: 3\n",
      "[('PRP$', 1), ('RB', 1), ('JJ', 1)] len(c.most_common(3)) is: 3\n",
      "[('NN', 91), ('CD', 38), ('JJ', 36)] len(c.most_common(3)) is: 3\n",
      "[('NN', 20), ('JJ', 10), ('IN', 5)] len(c.most_common(3)) is: 3\n",
      "[('NN', 31), ('IN', 8), ('VB', 8)] len(c.most_common(3)) is: 3\n",
      "[('NN', 77), ('JJ', 37), ('IN', 31)] len(c.most_common(3)) is: 3\n",
      "[('NN', 2), ('NNP', 1)] len(c.most_common(3)) is: 2\n",
      "[('NN', 7), ('JJ', 3), ('FW', 1)] len(c.most_common(3)) is: 3\n",
      "[('NN', 66), ('JJ', 22), ('IN', 19)] len(c.most_common(3)) is: 3\n",
      "[('JJ', 1), ('VB', 1), ('PRP$', 1)] len(c.most_common(3)) is: 3\n",
      "[('NN', 146), ('PRP', 108), ('IN', 91)] len(c.most_common(3)) is: 3\n",
      "[('NN', 41), ('JJ', 21), ('IN', 6)] len(c.most_common(3)) is: 3\n",
      "[('NN', 3), ('DT', 1), ('JJS', 1)] len(c.most_common(3)) is: 3\n",
      "[('NN', 5), ('DT', 1), ('JJS', 1)] len(c.most_common(3)) is: 3\n",
      "[('NN', 4), ('VBP', 2), ('DT', 2)] len(c.most_common(3)) is: 3\n",
      "[('NN', 98), ('VB', 35), ('DT', 29)] len(c.most_common(3)) is: 3\n",
      "[('JJ', 1), ('NN', 1)] len(c.most_common(3)) is: 2\n",
      "[('NN', 833), ('JJ', 235), ('FW', 83)] len(c.most_common(3)) is: 3\n",
      "[('NN', 18), ('PRP', 6), ('IN', 5)] len(c.most_common(3)) is: 3\n",
      "[('NN', 125), ('IN', 71), ('DT', 59)] len(c.most_common(3)) is: 3\n",
      "[('NN', 23), ('IN', 7), ('RB', 6)] len(c.most_common(3)) is: 3\n",
      "[('IN', 1)] len(c.most_common(3)) is: 1\n",
      "[('NN', 18), ('VB', 11), ('JJ', 10)] len(c.most_common(3)) is: 3\n",
      "[('NN', 4), ('RB', 3), ('JJ', 3)] len(c.most_common(3)) is: 3\n",
      "[('NN', 8), ('PRP', 3), ('VBN', 3)] len(c.most_common(3)) is: 3\n",
      "[('NN', 2), ('JJ', 1)] len(c.most_common(3)) is: 2\n",
      "[('NN', 52), ('JJ', 19), ('IN', 16)] len(c.most_common(3)) is: 3\n",
      "[('NNP', 4), ('NN', 2), ('JJ', 1)] len(c.most_common(3)) is: 3\n",
      "[('NN', 10), ('JJ', 9), ('RB', 7)] len(c.most_common(3)) is: 3\n",
      "[('NN', 137), ('IN', 76), ('JJ', 67)] len(c.most_common(3)) is: 3\n",
      "[('NN', 62), ('JJ', 33), ('VB', 22)] len(c.most_common(3)) is: 3\n",
      "[('NN', 119), ('JJ', 64), ('IN', 48)] len(c.most_common(3)) is: 3\n",
      "[('NN', 107), ('JJ', 50), ('DT', 43)] len(c.most_common(3)) is: 3\n",
      "[('NN', 4), ('IN', 2), ('VBG', 2)] len(c.most_common(3)) is: 3\n",
      "[('NNP', 124), ('NN', 44), ('JJ', 6)] len(c.most_common(3)) is: 3\n",
      "[('NN', 14), ('DT', 4), ('IN', 4)] len(c.most_common(3)) is: 3\n",
      "[('NN', 164), ('IN', 74), ('DT', 60)] len(c.most_common(3)) is: 3\n",
      "[('JJ', 4), ('NN', 4), ('RB', 2)] len(c.most_common(3)) is: 3\n",
      "[('NN', 3)] len(c.most_common(3)) is: 1\n",
      "[('NN', 27), ('VB', 11), ('PRP', 8)] len(c.most_common(3)) is: 3\n",
      "[('RB', 1), ('JJ', 1), ('NNS', 1)] len(c.most_common(3)) is: 3\n",
      "[('NN', 1)] len(c.most_common(3)) is: 1\n",
      "[('NN', 1)] len(c.most_common(3)) is: 1\n",
      "[('NN', 3), ('PRP$', 2), ('CD', 1)] len(c.most_common(3)) is: 3\n",
      "[('NN', 30), ('JJ', 8), ('RB', 3)] len(c.most_common(3)) is: 3\n",
      "[('NN', 21), ('DT', 8), ('VB', 6)] len(c.most_common(3)) is: 3\n",
      "[('NN', 42), ('IN', 17), ('DT', 12)] len(c.most_common(3)) is: 3\n",
      "[('NN', 4), ('VB', 2), ('RP', 2)] len(c.most_common(3)) is: 3\n",
      "[('NN', 2), ('PRP', 1), ('JJ', 1)] len(c.most_common(3)) is: 3\n",
      "[('VB', 1), ('RP', 1), ('IN', 1)] len(c.most_common(3)) is: 3\n",
      "[('NN', 25), ('IN', 12), ('JJ', 10)] len(c.most_common(3)) is: 3\n",
      "[('NN', 49), ('JJ', 23), ('RB', 15)] len(c.most_common(3)) is: 3\n",
      "[('NN', 60), ('DT', 21), ('JJ', 21)] len(c.most_common(3)) is: 3\n",
      "[('NNP', 9), ('JJ', 2)] len(c.most_common(3)) is: 2\n",
      "[('NN', 57), ('JJ', 26), ('IN', 24)] len(c.most_common(3)) is: 3\n",
      "[('JJ', 1)] len(c.most_common(3)) is: 1\n",
      "[('NN', 150), ('FW', 64), ('JJ', 45)] len(c.most_common(3)) is: 3\n",
      "[('NN', 126), ('JJ', 43), ('CD', 16)] len(c.most_common(3)) is: 3\n",
      "[('NN', 7), ('JJ', 2), ('FW', 1)] len(c.most_common(3)) is: 3\n",
      "[('NN', 6), ('JJ', 5), ('VBP', 2)] len(c.most_common(3)) is: 3\n",
      "[('NN', 4), ('RB', 3), ('PRP', 2)] len(c.most_common(3)) is: 3\n",
      "[('RB', 5), ('IN', 4), ('DT', 3)] len(c.most_common(3)) is: 3\n",
      "[('NN', 4), ('JJ', 3), ('CD', 2)] len(c.most_common(3)) is: 3\n",
      "[('NN', 1)] len(c.most_common(3)) is: 1\n",
      "[('JJ', 1), ('NN', 1)] len(c.most_common(3)) is: 2\n",
      "[('PRP', 2), ('NN', 2), ('MD', 1)] len(c.most_common(3)) is: 3\n",
      "[('NN', 11), ('JJ', 5), ('IN', 3)] len(c.most_common(3)) is: 3\n",
      "[('NN', 29), ('IN', 9), ('JJ', 9)] len(c.most_common(3)) is: 3\n",
      "[('NN', 2), ('IN', 1), ('RBR', 1)] len(c.most_common(3)) is: 3\n",
      "[('NN', 13), ('PRP', 4), ('IN', 3)] len(c.most_common(3)) is: 3\n",
      "[('NN', 1)] len(c.most_common(3)) is: 1\n",
      "[('NN', 9), ('NNS', 1), ('IN', 1)] len(c.most_common(3)) is: 3\n",
      "[('NN', 17), ('VB', 5), ('IN', 4)] len(c.most_common(3)) is: 3\n",
      "[('IN', 4), ('NN', 2), ('PRP', 2)] len(c.most_common(3)) is: 3\n",
      "[('NN', 2), ('UH', 1), ('PRP$', 1)] len(c.most_common(3)) is: 3\n",
      "[('NN', 45), ('JJ', 23), ('VB', 11)] len(c.most_common(3)) is: 3\n",
      "[('NN', 50), ('IN', 18), ('JJ', 17)] len(c.most_common(3)) is: 3\n",
      "[('NNP', 25), ('NN', 8), ('JJ', 7)] len(c.most_common(3)) is: 3\n",
      "[('NN', 15), ('PRP', 4), ('IN', 3)] len(c.most_common(3)) is: 3\n",
      "[('NN', 9), ('JJ', 5), ('VBG', 3)] len(c.most_common(3)) is: 3\n",
      "[('NN', 196), ('CD', 101), ('JJ', 80)] len(c.most_common(3)) is: 3\n",
      "[('NN', 26), ('DT', 12), ('IN', 9)] len(c.most_common(3)) is: 3\n",
      "[('NN', 48), ('VB', 18), ('IN', 17)] len(c.most_common(3)) is: 3\n",
      "[('NN', 7), ('NNP', 7), ('JJ', 2)] len(c.most_common(3)) is: 3\n",
      "[('NN', 26), ('NNP', 12), ('PRP', 8)] len(c.most_common(3)) is: 3\n",
      "[('NN', 4), ('JJ', 2), ('IN', 2)] len(c.most_common(3)) is: 3\n",
      "[('NN', 58), ('JJ', 17), ('IN', 17)] len(c.most_common(3)) is: 3\n",
      "[('NN', 3), ('JJ', 1), ('CD', 1)] len(c.most_common(3)) is: 3\n",
      "[('NN', 43), ('JJ', 14), ('DT', 11)] len(c.most_common(3)) is: 3\n",
      "[('NN', 15), ('JJ', 8), ('VB', 5)] len(c.most_common(3)) is: 3\n",
      "[('NN', 15), ('IN', 10), ('JJ', 8)] len(c.most_common(3)) is: 3\n",
      "[('NN', 4), ('JJ', 4), ('NNS', 3)] len(c.most_common(3)) is: 3\n",
      "[('NN', 42), ('JJ', 13), ('PRP', 10)] len(c.most_common(3)) is: 3\n",
      "[('NN', 84), ('JJ', 29), ('IN', 25)] len(c.most_common(3)) is: 3\n",
      "[('VB', 9), ('VBP', 6), ('NN', 6)] len(c.most_common(3)) is: 3\n",
      "[('NN', 2), ('JJ', 1)] len(c.most_common(3)) is: 2\n",
      "[('NN', 18), ('NNP', 10), ('PRP', 6)] len(c.most_common(3)) is: 3\n",
      "[('NN', 99), ('IN', 31), ('DT', 28)] len(c.most_common(3)) is: 3\n",
      "[('NN', 60), ('IN', 18), ('JJ', 16)] len(c.most_common(3)) is: 3\n",
      "[('NN', 167), ('CD', 102), ('JJ', 59)] len(c.most_common(3)) is: 3\n",
      "[('NN', 15), ('IN', 8), ('JJ', 6)] len(c.most_common(3)) is: 3\n",
      "[('NN', 22), ('IN', 11), ('DT', 10)] len(c.most_common(3)) is: 3\n"
     ]
    },
    {
     "name": "stdout",
     "output_type": "stream",
     "text": [
      "[('NN', 47), ('DT', 20), ('IN', 17)] len(c.most_common(3)) is: 3\n",
      "[('NN', 42), ('JJ', 15), ('IN', 10)] len(c.most_common(3)) is: 3\n",
      "[('NN', 5), ('JJ', 4), ('DT', 2)] len(c.most_common(3)) is: 3\n",
      "[('NN', 4), ('PRP$', 2), ('JJ', 2)] len(c.most_common(3)) is: 3\n",
      "[('NN', 43), ('RB', 9), ('VB', 9)] len(c.most_common(3)) is: 3\n",
      "[('NN', 6), ('NNS', 2), ('VB', 2)] len(c.most_common(3)) is: 3\n",
      "[('NN', 7), ('VB', 3), ('MD', 2)] len(c.most_common(3)) is: 3\n",
      "[('JJ', 1)] len(c.most_common(3)) is: 1\n",
      "[('NN', 77), ('JJ', 20), ('VB', 20)] len(c.most_common(3)) is: 3\n",
      "[('NN', 7), ('IN', 4), ('DT', 2)] len(c.most_common(3)) is: 3\n",
      "[('NN', 9), ('NNP', 6), ('JJ', 4)] len(c.most_common(3)) is: 3\n",
      "[('NN', 117), ('IN', 33), ('VB', 27)] len(c.most_common(3)) is: 3\n",
      "[('NN', 60), ('DT', 14), ('IN', 13)] len(c.most_common(3)) is: 3\n",
      "[('NN', 61), ('DT', 27), ('IN', 22)] len(c.most_common(3)) is: 3\n",
      "[('NN', 79), ('IN', 18), ('VB', 15)] len(c.most_common(3)) is: 3\n",
      "[('NN', 81), ('IN', 25), ('PRP', 23)] len(c.most_common(3)) is: 3\n",
      "[('NN', 2), ('DT', 1), ('VBZ', 1)] len(c.most_common(3)) is: 3\n",
      "[('NN', 7), ('RB', 2), ('VB', 2)] len(c.most_common(3)) is: 3\n",
      "[('NN', 2)] len(c.most_common(3)) is: 1\n",
      "[('DT', 1), ('VBZ', 1), ('JJ', 1)] len(c.most_common(3)) is: 3\n",
      "[('NN', 4), ('JJ', 1)] len(c.most_common(3)) is: 2\n",
      "[('NN', 9), ('JJ', 7), ('RB', 3)] len(c.most_common(3)) is: 3\n",
      "[('JJ', 2), ('NN', 1)] len(c.most_common(3)) is: 2\n",
      "[('NN', 4), ('JJ', 2), ('RB', 1)] len(c.most_common(3)) is: 3\n",
      "[('NN', 2), ('JJS', 1)] len(c.most_common(3)) is: 2\n",
      "[('NN', 7), ('SYM', 1)] len(c.most_common(3)) is: 2\n",
      "[('NN', 3), ('NNS', 1), ('RB', 1)] len(c.most_common(3)) is: 3\n",
      "[('NN', 48), ('CD', 34), ('SYM', 11)] len(c.most_common(3)) is: 3\n",
      "[('NN', 24), ('FW', 13), ('CD', 11)] len(c.most_common(3)) is: 3\n",
      "[('VB', 2), ('NN', 2), ('MD', 1)] len(c.most_common(3)) is: 3\n",
      "[('NN', 4)] len(c.most_common(3)) is: 1\n",
      "[('NN', 6), ('VBD', 1)] len(c.most_common(3)) is: 2\n",
      "[('NN', 6), ('JJ', 3), ('NNP', 1)] len(c.most_common(3)) is: 3\n",
      "[('RB', 1), ('JJ', 1), ('NN', 1)] len(c.most_common(3)) is: 3\n",
      "[('NN', 6), ('JJ', 2), ('NNP', 2)] len(c.most_common(3)) is: 3\n",
      "[('NN', 3)] len(c.most_common(3)) is: 1\n",
      "[('NN', 9), ('JJ', 3), ('NNP', 2)] len(c.most_common(3)) is: 3\n",
      "[('NN', 9), ('IN', 3), ('JJ', 2)] len(c.most_common(3)) is: 3\n",
      "[('NN', 3)] len(c.most_common(3)) is: 1\n",
      "[('NN', 5), ('RB', 2), ('JJ', 2)] len(c.most_common(3)) is: 3\n",
      "[('NN', 8), ('JJ', 6), ('VBD', 2)] len(c.most_common(3)) is: 3\n",
      "[('NN', 7), ('NNP', 3), ('JJ', 2)] len(c.most_common(3)) is: 3\n",
      "[('NN', 7), ('NNP', 2), ('JJ', 2)] len(c.most_common(3)) is: 3\n",
      "[('NN', 7), ('NNP', 2), ('JJ', 2)] len(c.most_common(3)) is: 3\n",
      "[('NN', 6), ('NNP', 2), ('VBZ', 2)] len(c.most_common(3)) is: 3\n",
      "[('NN', 7), ('NNP', 2), ('VBZ', 2)] len(c.most_common(3)) is: 3\n",
      "[('NN', 7), ('NNP', 3), ('JJ', 2)] len(c.most_common(3)) is: 3\n",
      "[('NN', 7), ('NNP', 2), ('JJ', 2)] len(c.most_common(3)) is: 3\n",
      "[('NN', 7), ('JJ', 3), ('VBZ', 2)] len(c.most_common(3)) is: 3\n",
      "[('NN', 41), ('JJ', 28), ('NNP', 9)] len(c.most_common(3)) is: 3\n",
      "[('NN', 1)] len(c.most_common(3)) is: 1\n",
      "[('NN', 7), ('JJ', 3), ('NNP', 2)] len(c.most_common(3)) is: 3\n",
      "[('NN', 6), ('JJ', 3), ('NNP', 2)] len(c.most_common(3)) is: 3\n",
      "[('NN', 8), ('JJ', 2), ('JJS', 1)] len(c.most_common(3)) is: 3\n",
      "[('NN', 8), ('NNP', 2), ('JJ', 2)] len(c.most_common(3)) is: 3\n",
      "[('NN', 8), ('NNP', 2), ('VBZ', 2)] len(c.most_common(3)) is: 3\n",
      "[('NN', 8), ('NNP', 2), ('JJ', 2)] len(c.most_common(3)) is: 3\n",
      "[('NN', 8), ('NNP', 2), ('JJ', 2)] len(c.most_common(3)) is: 3\n",
      "[('NN', 8), ('NNP', 2), ('VBZ', 2)] len(c.most_common(3)) is: 3\n",
      "[('NN', 8), ('JJ', 3), ('NNP', 2)] len(c.most_common(3)) is: 3\n",
      "[('NN', 8), ('NNS', 2), ('JJ', 2)] len(c.most_common(3)) is: 3\n",
      "[('NN', 5), ('VB', 3), ('NNP', 2)] len(c.most_common(3)) is: 3\n",
      "[('NN', 8), ('NNP', 2), ('DT', 2)] len(c.most_common(3)) is: 3\n",
      "[('NN', 12), ('NNP', 2), ('JJ', 1)] len(c.most_common(3)) is: 3\n",
      "[('NN', 8), ('NNP', 3), ('SYM', 1)] len(c.most_common(3)) is: 3\n",
      "[('NN', 1)] len(c.most_common(3)) is: 1\n",
      "[('IN', 1)] len(c.most_common(3)) is: 1\n",
      "[('NN', 3), ('FW', 2), ('VBP', 1)] len(c.most_common(3)) is: 3\n",
      "[('NN', 16), ('JJ', 4), ('NNS', 3)] len(c.most_common(3)) is: 3\n",
      "[('NN', 6), ('SYM', 1), ('NNS', 1)] len(c.most_common(3)) is: 3\n"
     ]
    }
   ],
   "source": [
    "for comments in lg_videos_comments_df.comments.values:\n",
    "    populate_blob_columns(lg_videos_comments_df, comments)"
   ]
  },
  {
   "cell_type": "code",
   "execution_count": 125,
   "metadata": {},
   "outputs": [
    {
     "name": "stdout",
     "output_type": "stream",
     "text": [
      "(337, 14)\n"
     ]
    },
    {
     "data": {
      "text/plain": [
       "count     337\n",
       "unique    182\n",
       "top        14\n",
       "freq       13\n",
       "Name: tags_count, dtype: int64"
      ]
     },
     "execution_count": 125,
     "metadata": {},
     "output_type": "execute_result"
    }
   ],
   "source": [
    "print(lg_videos_comments_df.shape)\n",
    "lg_videos_comments_df.head()\n",
    "lg_videos_comments_df.tags_count.describe()"
   ]
  },
  {
   "cell_type": "markdown",
   "metadata": {},
   "source": [
    "#### End Sandbox"
   ]
  },
  {
   "cell_type": "markdown",
   "metadata": {},
   "source": [
    "### Creating a Doc2Vec NLP model"
   ]
  },
  {
   "cell_type": "markdown",
   "metadata": {},
   "source": [
    "As mentioned at the beginning, this was considered but ultimately set aside in favor of TextBlob."
   ]
  },
  {
   "cell_type": "code",
   "execution_count": null,
   "metadata": {},
   "outputs": [],
   "source": [
    "# make a Doc2Vec TaggedDocument for each video's comments;\n",
    "# append each of those Doc2Vec TaggedDocuments to a \"sentences\" list;\n",
    "# create: model = models.Doc2Vec(alpha=.025, min_alpha=.025, min_count=1);\n",
    "# call: model.build_vocab(sentences);\n",
    "# train model: for epoch in range(int):... model.train, model.alpha, model.min_alpha"
   ]
  },
  {
   "cell_type": "code",
   "execution_count": null,
   "metadata": {},
   "outputs": [],
   "source": [
    "sentences = []\n",
    "sentences_ordered_dict = OrderedDict()\n",
    "sent_count = 0\n",
    "raw_comments = list(comments_df.comments.values)  # this is all of the comments for all videos\n",
    "for comment_group in raw_comments:\n",
    "    sent_key = 'sentence' + str(sent_count)\n",
    "    sentences_ordered_dict[sent_key] = doc2vec.TaggedDocument(\n",
    "        words=comment_group, tags=[\"SENT_\" + str(sent_count)])\n",
    "    sentences.append(sentences_ordered_dict[sent_key])\n",
    "    sent_count += 1\n",
    "print('TaggedDocument count in sentences is:', len(sentences), '\\n')\n",
    "print(sentences[0])"
   ]
  },
  {
   "cell_type": "code",
   "execution_count": null,
   "metadata": {},
   "outputs": [],
   "source": [
    "# Create doc2vec model and build its vocabulary\n",
    "model = Doc2Vec(alpha=.025, min_alpha=.025, min_count=2)\n",
    "model.build_vocab(sentences)"
   ]
  },
  {
   "cell_type": "code",
   "execution_count": null,
   "metadata": {},
   "outputs": [],
   "source": [
    "# Get more info about the model\n",
    "print(model)"
   ]
  },
  {
   "cell_type": "code",
   "execution_count": null,
   "metadata": {},
   "outputs": [],
   "source": [
    "# Find out which objects related to vocabulary are available in the Doc2Vec namespace\n",
    "[x for x in dir(model) if 'vocab' in x]"
   ]
  },
  {
   "cell_type": "code",
   "execution_count": null,
   "metadata": {},
   "outputs": [],
   "source": [
    "# Look closer at 'vocabulary'\n",
    "help(model.vocabulary)"
   ]
  },
  {
   "cell_type": "code",
   "execution_count": null,
   "metadata": {},
   "outputs": [],
   "source": [
    "# infer new tokens on new comments documents"
   ]
  }
 ],
 "metadata": {
  "kernelspec": {
   "display_name": "Python 3",
   "language": "python",
   "name": "python3"
  },
  "language_info": {
   "codemirror_mode": {
    "name": "ipython",
    "version": 3
   },
   "file_extension": ".py",
   "mimetype": "text/x-python",
   "name": "python",
   "nbconvert_exporter": "python",
   "pygments_lexer": "ipython3",
   "version": "3.7.3"
  }
 },
 "nbformat": 4,
 "nbformat_minor": 2
}
