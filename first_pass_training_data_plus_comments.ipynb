{
 "cells": [
  {
   "cell_type": "code",
   "execution_count": 1,
   "metadata": {
    "colab": {},
    "colab_type": "code",
    "id": "IIvNugRISg_u"
   },
   "outputs": [],
   "source": [
    "import pandas as pd\n",
    "import numpy as np\n",
    "import matplotlib.pyplot as plt\n",
    "%matplotlib inline"
   ]
  },
  {
   "cell_type": "code",
   "execution_count": 20,
   "metadata": {},
   "outputs": [
    {
     "name": "stdout",
     "output_type": "stream",
     "text": [
      "(1102, 3)\n",
      "number of videos without comments is: 309\n"
     ]
    },
    {
     "data": {
      "text/html": [
       "<div>\n",
       "<style scoped>\n",
       "    .dataframe tbody tr th:only-of-type {\n",
       "        vertical-align: middle;\n",
       "    }\n",
       "\n",
       "    .dataframe tbody tr th {\n",
       "        vertical-align: top;\n",
       "    }\n",
       "\n",
       "    .dataframe thead th {\n",
       "        text-align: right;\n",
       "    }\n",
       "</style>\n",
       "<table border=\"1\" class=\"dataframe\">\n",
       "  <thead>\n",
       "    <tr style=\"text-align: right;\">\n",
       "      <th></th>\n",
       "      <th>id</th>\n",
       "      <th>video_id</th>\n",
       "      <th>comments</th>\n",
       "    </tr>\n",
       "  </thead>\n",
       "  <tbody>\n",
       "    <tr>\n",
       "      <th>0</th>\n",
       "      <td>1</td>\n",
       "      <td>GuOnsNSd-Ic</td>\n",
       "      <td>['Simple but touching', 'Nice', 'https://youtu...</td>\n",
       "    </tr>\n",
       "    <tr>\n",
       "      <th>1</th>\n",
       "      <td>2</td>\n",
       "      <td>APlQECiPoPw</td>\n",
       "      <td>['api te amoo \\n\\nok no', 'How?', 'buenísima l...</td>\n",
       "    </tr>\n",
       "    <tr>\n",
       "      <th>2</th>\n",
       "      <td>3</td>\n",
       "      <td>9akplkxevi0</td>\n",
       "      <td>['Ellos me quieren parar pero yo me voy a logr...</td>\n",
       "    </tr>\n",
       "    <tr>\n",
       "      <th>3</th>\n",
       "      <td>4</td>\n",
       "      <td>1QejWtVKE8s</td>\n",
       "      <td>['L O V E I T', '歌いたくなっても神曲を汚しそうになる...( ´•̥ н ...</td>\n",
       "    </tr>\n",
       "    <tr>\n",
       "      <th>4</th>\n",
       "      <td>5</td>\n",
       "      <td>4zrLieLZ_i8</td>\n",
       "      <td>['My mighty lord shiva. You are above everythi...</td>\n",
       "    </tr>\n",
       "  </tbody>\n",
       "</table>\n",
       "</div>"
      ],
      "text/plain": [
       "   id     video_id                                           comments\n",
       "0   1  GuOnsNSd-Ic  ['Simple but touching', 'Nice', 'https://youtu...\n",
       "1   2  APlQECiPoPw  ['api te amoo \\n\\nok no', 'How?', 'buenísima l...\n",
       "2   3  9akplkxevi0  ['Ellos me quieren parar pero yo me voy a logr...\n",
       "3   4  1QejWtVKE8s  ['L O V E I T', '歌いたくなっても神曲を汚しそうになる...( ´•̥ н ...\n",
       "4   5  4zrLieLZ_i8  ['My mighty lord shiva. You are above everythi..."
      ]
     },
     "execution_count": 20,
     "metadata": {},
     "output_type": "execute_result"
    }
   ],
   "source": [
    "video_comments = pd.read_csv('video_comments.csv', encoding='utf-8')\n",
    "print(video_comments.shape)\n",
    "print('number of videos without comments is:', len(video_comments[video_comments['comments']=='[]']))\n",
    "video_comments.head()"
   ]
  },
  {
   "cell_type": "code",
   "execution_count": 24,
   "metadata": {},
   "outputs": [
    {
     "name": "stdout",
     "output_type": "stream",
     "text": [
      "new shape is: (793, 3)\n"
     ]
    }
   ],
   "source": [
    "video_comments = video_comments[video_comments['comments'] != '[]']\n",
    "print('new shape is:', video_comments.shape)"
   ]
  },
  {
   "cell_type": "code",
   "execution_count": 4,
   "metadata": {
    "colab": {},
    "colab_type": "code",
    "id": "6angsqDESg__",
    "outputId": "5ee522f8-73ab-4f49-e1f3-9aba41ea7cee"
   },
   "outputs": [
    {
     "name": "stdout",
     "output_type": "stream",
     "text": [
      "(1044, 4)\n",
      "number of labeled videos is: 643\n"
     ]
    },
    {
     "data": {
      "text/html": [
       "<div>\n",
       "<style scoped>\n",
       "    .dataframe tbody tr th:only-of-type {\n",
       "        vertical-align: middle;\n",
       "    }\n",
       "\n",
       "    .dataframe tbody tr th {\n",
       "        vertical-align: top;\n",
       "    }\n",
       "\n",
       "    .dataframe thead th {\n",
       "        text-align: right;\n",
       "    }\n",
       "</style>\n",
       "<table border=\"1\" class=\"dataframe\">\n",
       "  <thead>\n",
       "    <tr style=\"text-align: right;\">\n",
       "      <th></th>\n",
       "      <th>video_title</th>\n",
       "      <th>video_id</th>\n",
       "      <th>moods</th>\n",
       "      <th>labeled</th>\n",
       "    </tr>\n",
       "  </thead>\n",
       "  <tbody>\n",
       "    <tr>\n",
       "      <th>0</th>\n",
       "      <td>♩♫ Dramatic Apocalyptic Music ♪♬ - The Wastela...</td>\n",
       "      <td>5eAalHA1bAc</td>\n",
       "      <td>CHILL</td>\n",
       "      <td>t</td>\n",
       "    </tr>\n",
       "    <tr>\n",
       "      <th>1</th>\n",
       "      <td>Nostalgy - (No Copyright Music) Sad Cinematic ...</td>\n",
       "      <td>zViXwVZpWqY</td>\n",
       "      <td>SAD</td>\n",
       "      <td>t</td>\n",
       "    </tr>\n",
       "    <tr>\n",
       "      <th>2</th>\n",
       "      <td>Under The Radar Copyright Free music for youtu...</td>\n",
       "      <td>ZTgvcaVdw5I</td>\n",
       "      <td>CHILL</td>\n",
       "      <td>t</td>\n",
       "    </tr>\n",
       "    <tr>\n",
       "      <th>3</th>\n",
       "      <td>🔥Best of NCS 2017 Mix ♫ Gaming Music Mix ♫ No ...</td>\n",
       "      <td>8ZbrPz_fnXs</td>\n",
       "      <td>CONFIDENT-SASSY</td>\n",
       "      <td>t</td>\n",
       "    </tr>\n",
       "    <tr>\n",
       "      <th>4</th>\n",
       "      <td>[FREE] Lil Baby x Gunna Type Beat 2018 \"Situat...</td>\n",
       "      <td>5vSJTGpG5YM</td>\n",
       "      <td>CHILL</td>\n",
       "      <td>t</td>\n",
       "    </tr>\n",
       "  </tbody>\n",
       "</table>\n",
       "</div>"
      ],
      "text/plain": [
       "                                         video_title     video_id  \\\n",
       "0  ♩♫ Dramatic Apocalyptic Music ♪♬ - The Wastela...  5eAalHA1bAc   \n",
       "1  Nostalgy - (No Copyright Music) Sad Cinematic ...  zViXwVZpWqY   \n",
       "2  Under The Radar Copyright Free music for youtu...  ZTgvcaVdw5I   \n",
       "3  🔥Best of NCS 2017 Mix ♫ Gaming Music Mix ♫ No ...  8ZbrPz_fnXs   \n",
       "4  [FREE] Lil Baby x Gunna Type Beat 2018 \"Situat...  5vSJTGpG5YM   \n",
       "\n",
       "             moods labeled  \n",
       "0            CHILL       t  \n",
       "1              SAD       t  \n",
       "2            CHILL       t  \n",
       "3  CONFIDENT-SASSY       t  \n",
       "4            CHILL       t  "
      ]
     },
     "execution_count": 4,
     "metadata": {},
     "output_type": "execute_result"
    }
   ],
   "source": [
    "new_videos = pd.read_csv('new_videos.csv', encoding='utf-8')\n",
    "print(new_videos.shape)\n",
    "print('number of labeled videos is:', len(new_videos[new_videos['labeled']=='t']))\n",
    "new_videos.head()"
   ]
  },
  {
   "cell_type": "code",
   "execution_count": 26,
   "metadata": {
    "colab": {},
    "colab_type": "code",
    "id": "wju87qzVShAN",
    "outputId": "65f54823-39c1-4255-ba07-aaa6b3399e86"
   },
   "outputs": [
    {
     "name": "stdout",
     "output_type": "stream",
     "text": [
      "(1044, 5)\n"
     ]
    },
    {
     "data": {
      "text/html": [
       "<div>\n",
       "<style scoped>\n",
       "    .dataframe tbody tr th:only-of-type {\n",
       "        vertical-align: middle;\n",
       "    }\n",
       "\n",
       "    .dataframe tbody tr th {\n",
       "        vertical-align: top;\n",
       "    }\n",
       "\n",
       "    .dataframe thead th {\n",
       "        text-align: right;\n",
       "    }\n",
       "</style>\n",
       "<table border=\"1\" class=\"dataframe\">\n",
       "  <thead>\n",
       "    <tr style=\"text-align: right;\">\n",
       "      <th></th>\n",
       "      <th>id</th>\n",
       "      <th>video_id</th>\n",
       "      <th>video_title</th>\n",
       "      <th>video_description</th>\n",
       "      <th>predicted_moods</th>\n",
       "    </tr>\n",
       "  </thead>\n",
       "  <tbody>\n",
       "    <tr>\n",
       "      <th>0</th>\n",
       "      <td>1157</td>\n",
       "      <td>pFPUeoU418k</td>\n",
       "      <td>\"Dios esta aqui\" Musica Instrumental para orar...</td>\n",
       "      <td>Un mensaje de Dios para ti, escúchalo aquí: ht...</td>\n",
       "      <td>NaN</td>\n",
       "    </tr>\n",
       "    <tr>\n",
       "      <th>1</th>\n",
       "      <td>1138</td>\n",
       "      <td>5eAalHA1bAc</td>\n",
       "      <td>♩♫ Dramatic Apocalyptic Music ♪♬ - The Wastela...</td>\n",
       "      <td>INSTAGRAM! : https://instagram.com/rossbugden/...</td>\n",
       "      <td>NaN</td>\n",
       "    </tr>\n",
       "    <tr>\n",
       "      <th>2</th>\n",
       "      <td>1139</td>\n",
       "      <td>zViXwVZpWqY</td>\n",
       "      <td>Nostalgy - (No Copyright Music) Sad Cinematic ...</td>\n",
       "      <td>Download Music: http://bit.ly/2QC9e3K (No Copy...</td>\n",
       "      <td>NaN</td>\n",
       "    </tr>\n",
       "    <tr>\n",
       "      <th>3</th>\n",
       "      <td>1140</td>\n",
       "      <td>ZTgvcaVdw5I</td>\n",
       "      <td>Under The Radar Copyright Free music for youtu...</td>\n",
       "      <td>Under The Radar Copyright Free music for youtu...</td>\n",
       "      <td>NaN</td>\n",
       "    </tr>\n",
       "    <tr>\n",
       "      <th>4</th>\n",
       "      <td>1141</td>\n",
       "      <td>8ZbrPz_fnXs</td>\n",
       "      <td>🔥Best of NCS 2017 Mix ♫ Gaming Music Mix ♫ No ...</td>\n",
       "      <td>🔥Song 🔥\\n↪︎ 🔹 BEST OF ALL NOCOPYRIGHT SONGS  🔹...</td>\n",
       "      <td>NaN</td>\n",
       "    </tr>\n",
       "  </tbody>\n",
       "</table>\n",
       "</div>"
      ],
      "text/plain": [
       "     id     video_id                                        video_title  \\\n",
       "0  1157  pFPUeoU418k  \"Dios esta aqui\" Musica Instrumental para orar...   \n",
       "1  1138  5eAalHA1bAc  ♩♫ Dramatic Apocalyptic Music ♪♬ - The Wastela...   \n",
       "2  1139  zViXwVZpWqY  Nostalgy - (No Copyright Music) Sad Cinematic ...   \n",
       "3  1140  ZTgvcaVdw5I  Under The Radar Copyright Free music for youtu...   \n",
       "4  1141  8ZbrPz_fnXs  🔥Best of NCS 2017 Mix ♫ Gaming Music Mix ♫ No ...   \n",
       "\n",
       "                                   video_description  predicted_moods  \n",
       "0  Un mensaje de Dios para ti, escúchalo aquí: ht...              NaN  \n",
       "1  INSTAGRAM! : https://instagram.com/rossbugden/...              NaN  \n",
       "2  Download Music: http://bit.ly/2QC9e3K (No Copy...              NaN  \n",
       "3  Under The Radar Copyright Free music for youtu...              NaN  \n",
       "4  🔥Song 🔥\\n↪︎ 🔹 BEST OF ALL NOCOPYRIGHT SONGS  🔹...              NaN  "
      ]
     },
     "execution_count": 26,
     "metadata": {},
     "output_type": "execute_result"
    }
   ],
   "source": [
    "video_descriptions = pd.read_csv('video_descriptions.csv', encoding='utf-8')\n",
    "print(video_descriptions.shape)\n",
    "video_descriptions.head()"
   ]
  },
  {
   "cell_type": "code",
   "execution_count": 28,
   "metadata": {
    "colab": {},
    "colab_type": "code",
    "id": "Nfctwcu6ShAa",
    "outputId": "d06ab3d8-8e46-4699-86e2-12331d628a46"
   },
   "outputs": [
    {
     "data": {
      "text/html": [
       "<div>\n",
       "<style scoped>\n",
       "    .dataframe tbody tr th:only-of-type {\n",
       "        vertical-align: middle;\n",
       "    }\n",
       "\n",
       "    .dataframe tbody tr th {\n",
       "        vertical-align: top;\n",
       "    }\n",
       "\n",
       "    .dataframe thead th {\n",
       "        text-align: right;\n",
       "    }\n",
       "</style>\n",
       "<table border=\"1\" class=\"dataframe\">\n",
       "  <thead>\n",
       "    <tr style=\"text-align: right;\">\n",
       "      <th></th>\n",
       "      <th>video_title_x</th>\n",
       "      <th>video_id</th>\n",
       "      <th>moods</th>\n",
       "      <th>labeled</th>\n",
       "      <th>id</th>\n",
       "      <th>video_title_y</th>\n",
       "      <th>video_description</th>\n",
       "      <th>predicted_moods</th>\n",
       "    </tr>\n",
       "  </thead>\n",
       "  <tbody>\n",
       "    <tr>\n",
       "      <th>0</th>\n",
       "      <td>♩♫ Dramatic Apocalyptic Music ♪♬ - The Wastela...</td>\n",
       "      <td>5eAalHA1bAc</td>\n",
       "      <td>CHILL</td>\n",
       "      <td>t</td>\n",
       "      <td>1138</td>\n",
       "      <td>♩♫ Dramatic Apocalyptic Music ♪♬ - The Wastela...</td>\n",
       "      <td>INSTAGRAM! : https://instagram.com/rossbugden/...</td>\n",
       "      <td>NaN</td>\n",
       "    </tr>\n",
       "    <tr>\n",
       "      <th>1</th>\n",
       "      <td>Nostalgy - (No Copyright Music) Sad Cinematic ...</td>\n",
       "      <td>zViXwVZpWqY</td>\n",
       "      <td>SAD</td>\n",
       "      <td>t</td>\n",
       "      <td>1139</td>\n",
       "      <td>Nostalgy - (No Copyright Music) Sad Cinematic ...</td>\n",
       "      <td>Download Music: http://bit.ly/2QC9e3K (No Copy...</td>\n",
       "      <td>NaN</td>\n",
       "    </tr>\n",
       "    <tr>\n",
       "      <th>2</th>\n",
       "      <td>Under The Radar Copyright Free music for youtu...</td>\n",
       "      <td>ZTgvcaVdw5I</td>\n",
       "      <td>CHILL</td>\n",
       "      <td>t</td>\n",
       "      <td>1140</td>\n",
       "      <td>Under The Radar Copyright Free music for youtu...</td>\n",
       "      <td>Under The Radar Copyright Free music for youtu...</td>\n",
       "      <td>NaN</td>\n",
       "    </tr>\n",
       "    <tr>\n",
       "      <th>3</th>\n",
       "      <td>🔥Best of NCS 2017 Mix ♫ Gaming Music Mix ♫ No ...</td>\n",
       "      <td>8ZbrPz_fnXs</td>\n",
       "      <td>CONFIDENT-SASSY</td>\n",
       "      <td>t</td>\n",
       "      <td>1141</td>\n",
       "      <td>🔥Best of NCS 2017 Mix ♫ Gaming Music Mix ♫ No ...</td>\n",
       "      <td>🔥Song 🔥\\n↪︎ 🔹 BEST OF ALL NOCOPYRIGHT SONGS  🔹...</td>\n",
       "      <td>NaN</td>\n",
       "    </tr>\n",
       "    <tr>\n",
       "      <th>4</th>\n",
       "      <td>[FREE] Lil Baby x Gunna Type Beat 2018 \"Situat...</td>\n",
       "      <td>5vSJTGpG5YM</td>\n",
       "      <td>CHILL</td>\n",
       "      <td>t</td>\n",
       "      <td>1142</td>\n",
       "      <td>[FREE] Lil Baby x Gunna Type Beat 2018 \"Situat...</td>\n",
       "      <td>●💰 Purchase Link | FREE Download Link : https:...</td>\n",
       "      <td>NaN</td>\n",
       "    </tr>\n",
       "  </tbody>\n",
       "</table>\n",
       "</div>"
      ],
      "text/plain": [
       "                                       video_title_x     video_id  \\\n",
       "0  ♩♫ Dramatic Apocalyptic Music ♪♬ - The Wastela...  5eAalHA1bAc   \n",
       "1  Nostalgy - (No Copyright Music) Sad Cinematic ...  zViXwVZpWqY   \n",
       "2  Under The Radar Copyright Free music for youtu...  ZTgvcaVdw5I   \n",
       "3  🔥Best of NCS 2017 Mix ♫ Gaming Music Mix ♫ No ...  8ZbrPz_fnXs   \n",
       "4  [FREE] Lil Baby x Gunna Type Beat 2018 \"Situat...  5vSJTGpG5YM   \n",
       "\n",
       "             moods labeled    id  \\\n",
       "0            CHILL       t  1138   \n",
       "1              SAD       t  1139   \n",
       "2            CHILL       t  1140   \n",
       "3  CONFIDENT-SASSY       t  1141   \n",
       "4            CHILL       t  1142   \n",
       "\n",
       "                                       video_title_y  \\\n",
       "0  ♩♫ Dramatic Apocalyptic Music ♪♬ - The Wastela...   \n",
       "1  Nostalgy - (No Copyright Music) Sad Cinematic ...   \n",
       "2  Under The Radar Copyright Free music for youtu...   \n",
       "3  🔥Best of NCS 2017 Mix ♫ Gaming Music Mix ♫ No ...   \n",
       "4  [FREE] Lil Baby x Gunna Type Beat 2018 \"Situat...   \n",
       "\n",
       "                                   video_description  predicted_moods  \n",
       "0  INSTAGRAM! : https://instagram.com/rossbugden/...              NaN  \n",
       "1  Download Music: http://bit.ly/2QC9e3K (No Copy...              NaN  \n",
       "2  Under The Radar Copyright Free music for youtu...              NaN  \n",
       "3  🔥Song 🔥\\n↪︎ 🔹 BEST OF ALL NOCOPYRIGHT SONGS  🔹...              NaN  \n",
       "4  ●💰 Purchase Link | FREE Download Link : https:...              NaN  "
      ]
     },
     "execution_count": 28,
     "metadata": {},
     "output_type": "execute_result"
    }
   ],
   "source": [
    "df = new_videos.merge(video_descriptions, on='video_id')\n",
    "df.head()"
   ]
  },
  {
   "cell_type": "code",
   "execution_count": 29,
   "metadata": {
    "colab": {},
    "colab_type": "code",
    "id": "D33okKpFShAj",
    "outputId": "cb83d057-60c4-411e-9b47-a4f688ef6811"
   },
   "outputs": [
    {
     "name": "stdout",
     "output_type": "stream",
     "text": [
      "(1044, 6)\n"
     ]
    },
    {
     "data": {
      "text/html": [
       "<div>\n",
       "<style scoped>\n",
       "    .dataframe tbody tr th:only-of-type {\n",
       "        vertical-align: middle;\n",
       "    }\n",
       "\n",
       "    .dataframe tbody tr th {\n",
       "        vertical-align: top;\n",
       "    }\n",
       "\n",
       "    .dataframe thead th {\n",
       "        text-align: right;\n",
       "    }\n",
       "</style>\n",
       "<table border=\"1\" class=\"dataframe\">\n",
       "  <thead>\n",
       "    <tr style=\"text-align: right;\">\n",
       "      <th></th>\n",
       "      <th>video_title_x</th>\n",
       "      <th>video_id</th>\n",
       "      <th>moods</th>\n",
       "      <th>labeled</th>\n",
       "      <th>id</th>\n",
       "      <th>video_description</th>\n",
       "    </tr>\n",
       "  </thead>\n",
       "  <tbody>\n",
       "    <tr>\n",
       "      <th>0</th>\n",
       "      <td>♩♫ Dramatic Apocalyptic Music ♪♬ - The Wastela...</td>\n",
       "      <td>5eAalHA1bAc</td>\n",
       "      <td>CHILL</td>\n",
       "      <td>t</td>\n",
       "      <td>1138</td>\n",
       "      <td>INSTAGRAM! : https://instagram.com/rossbugden/...</td>\n",
       "    </tr>\n",
       "    <tr>\n",
       "      <th>1</th>\n",
       "      <td>Nostalgy - (No Copyright Music) Sad Cinematic ...</td>\n",
       "      <td>zViXwVZpWqY</td>\n",
       "      <td>SAD</td>\n",
       "      <td>t</td>\n",
       "      <td>1139</td>\n",
       "      <td>Download Music: http://bit.ly/2QC9e3K (No Copy...</td>\n",
       "    </tr>\n",
       "    <tr>\n",
       "      <th>2</th>\n",
       "      <td>Under The Radar Copyright Free music for youtu...</td>\n",
       "      <td>ZTgvcaVdw5I</td>\n",
       "      <td>CHILL</td>\n",
       "      <td>t</td>\n",
       "      <td>1140</td>\n",
       "      <td>Under The Radar Copyright Free music for youtu...</td>\n",
       "    </tr>\n",
       "    <tr>\n",
       "      <th>3</th>\n",
       "      <td>🔥Best of NCS 2017 Mix ♫ Gaming Music Mix ♫ No ...</td>\n",
       "      <td>8ZbrPz_fnXs</td>\n",
       "      <td>CONFIDENT-SASSY</td>\n",
       "      <td>t</td>\n",
       "      <td>1141</td>\n",
       "      <td>🔥Song 🔥\\n↪︎ 🔹 BEST OF ALL NOCOPYRIGHT SONGS  🔹...</td>\n",
       "    </tr>\n",
       "    <tr>\n",
       "      <th>4</th>\n",
       "      <td>[FREE] Lil Baby x Gunna Type Beat 2018 \"Situat...</td>\n",
       "      <td>5vSJTGpG5YM</td>\n",
       "      <td>CHILL</td>\n",
       "      <td>t</td>\n",
       "      <td>1142</td>\n",
       "      <td>●💰 Purchase Link | FREE Download Link : https:...</td>\n",
       "    </tr>\n",
       "  </tbody>\n",
       "</table>\n",
       "</div>"
      ],
      "text/plain": [
       "                                       video_title_x     video_id  \\\n",
       "0  ♩♫ Dramatic Apocalyptic Music ♪♬ - The Wastela...  5eAalHA1bAc   \n",
       "1  Nostalgy - (No Copyright Music) Sad Cinematic ...  zViXwVZpWqY   \n",
       "2  Under The Radar Copyright Free music for youtu...  ZTgvcaVdw5I   \n",
       "3  🔥Best of NCS 2017 Mix ♫ Gaming Music Mix ♫ No ...  8ZbrPz_fnXs   \n",
       "4  [FREE] Lil Baby x Gunna Type Beat 2018 \"Situat...  5vSJTGpG5YM   \n",
       "\n",
       "             moods labeled    id  \\\n",
       "0            CHILL       t  1138   \n",
       "1              SAD       t  1139   \n",
       "2            CHILL       t  1140   \n",
       "3  CONFIDENT-SASSY       t  1141   \n",
       "4            CHILL       t  1142   \n",
       "\n",
       "                                   video_description  \n",
       "0  INSTAGRAM! : https://instagram.com/rossbugden/...  \n",
       "1  Download Music: http://bit.ly/2QC9e3K (No Copy...  \n",
       "2  Under The Radar Copyright Free music for youtu...  \n",
       "3  🔥Song 🔥\\n↪︎ 🔹 BEST OF ALL NOCOPYRIGHT SONGS  🔹...  \n",
       "4  ●💰 Purchase Link | FREE Download Link : https:...  "
      ]
     },
     "execution_count": 29,
     "metadata": {},
     "output_type": "execute_result"
    }
   ],
   "source": [
    "df = df.drop(['video_title_y', 'predicted_moods'], axis=1)\n",
    "print(df.shape)\n",
    "df.head()"
   ]
  },
  {
   "cell_type": "code",
   "execution_count": 45,
   "metadata": {},
   "outputs": [
    {
     "name": "stdout",
     "output_type": "stream",
     "text": [
      "(746, 8)\n"
     ]
    },
    {
     "data": {
      "text/html": [
       "<div>\n",
       "<style scoped>\n",
       "    .dataframe tbody tr th:only-of-type {\n",
       "        vertical-align: middle;\n",
       "    }\n",
       "\n",
       "    .dataframe tbody tr th {\n",
       "        vertical-align: top;\n",
       "    }\n",
       "\n",
       "    .dataframe thead th {\n",
       "        text-align: right;\n",
       "    }\n",
       "</style>\n",
       "<table border=\"1\" class=\"dataframe\">\n",
       "  <thead>\n",
       "    <tr style=\"text-align: right;\">\n",
       "      <th></th>\n",
       "      <th>video_title_x</th>\n",
       "      <th>video_id</th>\n",
       "      <th>moods</th>\n",
       "      <th>labeled</th>\n",
       "      <th>id_x</th>\n",
       "      <th>video_description</th>\n",
       "      <th>id_y</th>\n",
       "      <th>comments</th>\n",
       "    </tr>\n",
       "  </thead>\n",
       "  <tbody>\n",
       "    <tr>\n",
       "      <th>0</th>\n",
       "      <td>♩♫ Dramatic Apocalyptic Music ♪♬ - The Wastela...</td>\n",
       "      <td>5eAalHA1bAc</td>\n",
       "      <td>CHILL</td>\n",
       "      <td>t</td>\n",
       "      <td>1138</td>\n",
       "      <td>INSTAGRAM! : https://instagram.com/rossbugden/...</td>\n",
       "      <td>56</td>\n",
       "      <td>['Linda composição!!!', 'Who is here from real...</td>\n",
       "    </tr>\n",
       "    <tr>\n",
       "      <th>1</th>\n",
       "      <td>Nostalgy - (No Copyright Music) Sad Cinematic ...</td>\n",
       "      <td>zViXwVZpWqY</td>\n",
       "      <td>SAD</td>\n",
       "      <td>t</td>\n",
       "      <td>1139</td>\n",
       "      <td>Download Music: http://bit.ly/2QC9e3K (No Copy...</td>\n",
       "      <td>442</td>\n",
       "      <td>['Download this music track: http://bit.ly/2QC...</td>\n",
       "    </tr>\n",
       "    <tr>\n",
       "      <th>2</th>\n",
       "      <td>🔥Best of NCS 2017 Mix ♫ Gaming Music Mix ♫ No ...</td>\n",
       "      <td>8ZbrPz_fnXs</td>\n",
       "      <td>CONFIDENT-SASSY</td>\n",
       "      <td>t</td>\n",
       "      <td>1141</td>\n",
       "      <td>🔥Song 🔥\\n↪︎ 🔹 BEST OF ALL NOCOPYRIGHT SONGS  🔹...</td>\n",
       "      <td>465</td>\n",
       "      <td>['Cuule muckkkke ❤❤❤\\nLG Das baum', 'Was für L...</td>\n",
       "    </tr>\n",
       "    <tr>\n",
       "      <th>3</th>\n",
       "      <td>[FREE] Lil Baby x Gunna Type Beat 2018 \"Situat...</td>\n",
       "      <td>5vSJTGpG5YM</td>\n",
       "      <td>CHILL</td>\n",
       "      <td>t</td>\n",
       "      <td>1142</td>\n",
       "      <td>●💰 Purchase Link | FREE Download Link : https:...</td>\n",
       "      <td>59</td>\n",
       "      <td>['Collab with my brotha illwill 🔥🔥 Going crazy...</td>\n",
       "    </tr>\n",
       "    <tr>\n",
       "      <th>4</th>\n",
       "      <td>Alternative/Punk Music [No Copyright &amp; Royalty...</td>\n",
       "      <td>-Xp0wlc95o0</td>\n",
       "      <td>CHILL</td>\n",
       "      <td>t</td>\n",
       "      <td>1143</td>\n",
       "      <td>This Alternative/Punk music is royalty free co...</td>\n",
       "      <td>65</td>\n",
       "      <td>['I’m planning to use this to opening credit m...</td>\n",
       "    </tr>\n",
       "  </tbody>\n",
       "</table>\n",
       "</div>"
      ],
      "text/plain": [
       "                                       video_title_x     video_id  \\\n",
       "0  ♩♫ Dramatic Apocalyptic Music ♪♬ - The Wastela...  5eAalHA1bAc   \n",
       "1  Nostalgy - (No Copyright Music) Sad Cinematic ...  zViXwVZpWqY   \n",
       "2  🔥Best of NCS 2017 Mix ♫ Gaming Music Mix ♫ No ...  8ZbrPz_fnXs   \n",
       "3  [FREE] Lil Baby x Gunna Type Beat 2018 \"Situat...  5vSJTGpG5YM   \n",
       "4  Alternative/Punk Music [No Copyright & Royalty...  -Xp0wlc95o0   \n",
       "\n",
       "             moods labeled  id_x  \\\n",
       "0            CHILL       t  1138   \n",
       "1              SAD       t  1139   \n",
       "2  CONFIDENT-SASSY       t  1141   \n",
       "3            CHILL       t  1142   \n",
       "4            CHILL       t  1143   \n",
       "\n",
       "                                   video_description  id_y  \\\n",
       "0  INSTAGRAM! : https://instagram.com/rossbugden/...    56   \n",
       "1  Download Music: http://bit.ly/2QC9e3K (No Copy...   442   \n",
       "2  🔥Song 🔥\\n↪︎ 🔹 BEST OF ALL NOCOPYRIGHT SONGS  🔹...   465   \n",
       "3  ●💰 Purchase Link | FREE Download Link : https:...    59   \n",
       "4  This Alternative/Punk music is royalty free co...    65   \n",
       "\n",
       "                                            comments  \n",
       "0  ['Linda composição!!!', 'Who is here from real...  \n",
       "1  ['Download this music track: http://bit.ly/2QC...  \n",
       "2  ['Cuule muckkkke ❤❤❤\\nLG Das baum', 'Was für L...  \n",
       "3  ['Collab with my brotha illwill 🔥🔥 Going crazy...  \n",
       "4  ['I’m planning to use this to opening credit m...  "
      ]
     },
     "execution_count": 45,
     "metadata": {},
     "output_type": "execute_result"
    }
   ],
   "source": [
    "df1 = df.merge(video_comments, on='video_id')\n",
    "'''All 3 csv's are merged. All video rows have comments.'''\n",
    "print(df1.shape)\n",
    "df1.head()"
   ]
  },
  {
   "cell_type": "code",
   "execution_count": 48,
   "metadata": {},
   "outputs": [
    {
     "data": {
      "text/html": [
       "<div>\n",
       "<style scoped>\n",
       "    .dataframe tbody tr th:only-of-type {\n",
       "        vertical-align: middle;\n",
       "    }\n",
       "\n",
       "    .dataframe tbody tr th {\n",
       "        vertical-align: top;\n",
       "    }\n",
       "\n",
       "    .dataframe thead th {\n",
       "        text-align: right;\n",
       "    }\n",
       "</style>\n",
       "<table border=\"1\" class=\"dataframe\">\n",
       "  <thead>\n",
       "    <tr style=\"text-align: right;\">\n",
       "      <th></th>\n",
       "      <th>video_title</th>\n",
       "      <th>video_id</th>\n",
       "      <th>moods</th>\n",
       "      <th>labeled</th>\n",
       "      <th>id</th>\n",
       "      <th>video_description</th>\n",
       "      <th>comments</th>\n",
       "    </tr>\n",
       "  </thead>\n",
       "  <tbody>\n",
       "    <tr>\n",
       "      <th>0</th>\n",
       "      <td>♩♫ Dramatic Apocalyptic Music ♪♬ - The Wastela...</td>\n",
       "      <td>5eAalHA1bAc</td>\n",
       "      <td>CHILL</td>\n",
       "      <td>t</td>\n",
       "      <td>1138</td>\n",
       "      <td>INSTAGRAM! : https://instagram.com/rossbugden/...</td>\n",
       "      <td>['Linda composição!!!', 'Who is here from real...</td>\n",
       "    </tr>\n",
       "    <tr>\n",
       "      <th>1</th>\n",
       "      <td>Nostalgy - (No Copyright Music) Sad Cinematic ...</td>\n",
       "      <td>zViXwVZpWqY</td>\n",
       "      <td>SAD</td>\n",
       "      <td>t</td>\n",
       "      <td>1139</td>\n",
       "      <td>Download Music: http://bit.ly/2QC9e3K (No Copy...</td>\n",
       "      <td>['Download this music track: http://bit.ly/2QC...</td>\n",
       "    </tr>\n",
       "    <tr>\n",
       "      <th>2</th>\n",
       "      <td>🔥Best of NCS 2017 Mix ♫ Gaming Music Mix ♫ No ...</td>\n",
       "      <td>8ZbrPz_fnXs</td>\n",
       "      <td>CONFIDENT-SASSY</td>\n",
       "      <td>t</td>\n",
       "      <td>1141</td>\n",
       "      <td>🔥Song 🔥\\n↪︎ 🔹 BEST OF ALL NOCOPYRIGHT SONGS  🔹...</td>\n",
       "      <td>['Cuule muckkkke ❤❤❤\\nLG Das baum', 'Was für L...</td>\n",
       "    </tr>\n",
       "    <tr>\n",
       "      <th>3</th>\n",
       "      <td>[FREE] Lil Baby x Gunna Type Beat 2018 \"Situat...</td>\n",
       "      <td>5vSJTGpG5YM</td>\n",
       "      <td>CHILL</td>\n",
       "      <td>t</td>\n",
       "      <td>1142</td>\n",
       "      <td>●💰 Purchase Link | FREE Download Link : https:...</td>\n",
       "      <td>['Collab with my brotha illwill 🔥🔥 Going crazy...</td>\n",
       "    </tr>\n",
       "    <tr>\n",
       "      <th>4</th>\n",
       "      <td>Alternative/Punk Music [No Copyright &amp; Royalty...</td>\n",
       "      <td>-Xp0wlc95o0</td>\n",
       "      <td>CHILL</td>\n",
       "      <td>t</td>\n",
       "      <td>1143</td>\n",
       "      <td>This Alternative/Punk music is royalty free co...</td>\n",
       "      <td>['I’m planning to use this to opening credit m...</td>\n",
       "    </tr>\n",
       "  </tbody>\n",
       "</table>\n",
       "</div>"
      ],
      "text/plain": [
       "                                         video_title     video_id  \\\n",
       "0  ♩♫ Dramatic Apocalyptic Music ♪♬ - The Wastela...  5eAalHA1bAc   \n",
       "1  Nostalgy - (No Copyright Music) Sad Cinematic ...  zViXwVZpWqY   \n",
       "2  🔥Best of NCS 2017 Mix ♫ Gaming Music Mix ♫ No ...  8ZbrPz_fnXs   \n",
       "3  [FREE] Lil Baby x Gunna Type Beat 2018 \"Situat...  5vSJTGpG5YM   \n",
       "4  Alternative/Punk Music [No Copyright & Royalty...  -Xp0wlc95o0   \n",
       "\n",
       "             moods labeled    id  \\\n",
       "0            CHILL       t  1138   \n",
       "1              SAD       t  1139   \n",
       "2  CONFIDENT-SASSY       t  1141   \n",
       "3            CHILL       t  1142   \n",
       "4            CHILL       t  1143   \n",
       "\n",
       "                                   video_description  \\\n",
       "0  INSTAGRAM! : https://instagram.com/rossbugden/...   \n",
       "1  Download Music: http://bit.ly/2QC9e3K (No Copy...   \n",
       "2  🔥Song 🔥\\n↪︎ 🔹 BEST OF ALL NOCOPYRIGHT SONGS  🔹...   \n",
       "3  ●💰 Purchase Link | FREE Download Link : https:...   \n",
       "4  This Alternative/Punk music is royalty free co...   \n",
       "\n",
       "                                            comments  \n",
       "0  ['Linda composição!!!', 'Who is here from real...  \n",
       "1  ['Download this music track: http://bit.ly/2QC...  \n",
       "2  ['Cuule muckkkke ❤❤❤\\nLG Das baum', 'Was für L...  \n",
       "3  ['Collab with my brotha illwill 🔥🔥 Going crazy...  \n",
       "4  ['I’m planning to use this to opening credit m...  "
      ]
     },
     "execution_count": 48,
     "metadata": {},
     "output_type": "execute_result"
    }
   ],
   "source": [
    "# df1 = df1.drop('id_y', axis=1)\n",
    "df1 = df1.rename(columns={'video_title_x': 'video_title', 'id_x': 'id'})\n",
    "df1.head()"
   ]
  },
  {
   "cell_type": "code",
   "execution_count": 50,
   "metadata": {},
   "outputs": [],
   "source": [
    "df1['video_description'] = df1[df1['video_description'] != np.nan]"
   ]
  },
  {
   "cell_type": "code",
   "execution_count": 63,
   "metadata": {},
   "outputs": [
    {
     "name": "stdout",
     "output_type": "stream",
     "text": [
      "(746, 7)\n"
     ]
    },
    {
     "data": {
      "text/plain": [
       "427"
      ]
     },
     "execution_count": 63,
     "metadata": {},
     "output_type": "execute_result"
    }
   ],
   "source": [
    "'''df1 is the df for the 3 merged csv\\'s. All videos have comments and a description.'''\n",
    "'''Of the 746 videos, 427 have labeled==\"t\", 28 for labeled==\"f\", and 291 are NULL.'''\n",
    "print(df1.shape)\n",
    "len(df1[df1['labeled']=='t'])"
   ]
  },
  {
   "cell_type": "code",
   "execution_count": 62,
   "metadata": {
    "colab": {},
    "colab_type": "code",
    "id": "QdKUTa71ShA0",
    "outputId": "3a22717a-efc9-4f07-9c9d-ecbafa849772"
   },
   "outputs": [
    {
     "data": {
      "text/plain": [
       "video_title            0\n",
       "video_id               0\n",
       "moods                  0\n",
       "labeled              291\n",
       "id                     0\n",
       "video_description      0\n",
       "comments               0\n",
       "dtype: int64"
      ]
     },
     "execution_count": 62,
     "metadata": {},
     "output_type": "execute_result"
    }
   ],
   "source": [
    "df1.isna().sum()"
   ]
  },
  {
   "cell_type": "code",
   "execution_count": 64,
   "metadata": {
    "colab": {},
    "colab_type": "code",
    "id": "us5ndKa-ShA-",
    "outputId": "3df65fb5-d43a-403c-ea9a-45cad256c9ef"
   },
   "outputs": [
    {
     "data": {
      "text/plain": [
       "t    427\n",
       "f     28\n",
       "Name: labeled, dtype: int64"
      ]
     },
     "execution_count": 64,
     "metadata": {},
     "output_type": "execute_result"
    }
   ],
   "source": [
    "df1['labeled'].value_counts()"
   ]
  },
  {
   "cell_type": "code",
   "execution_count": null,
   "metadata": {
    "colab": {},
    "colab_type": "code",
    "id": "WnYF0umUShBS",
    "outputId": "2aec888b-ab60-4182-b691-01702e71a315"
   },
   "outputs": [],
   "source": [
    "\"\"\"\n",
    "df['labeled'] = df['labeled'].fillna('f')\n",
    "df.isna().sum()\n",
    "\"\"\""
   ]
  },
  {
   "cell_type": "code",
   "execution_count": 66,
   "metadata": {
    "colab": {},
    "colab_type": "code",
    "id": "-rlIaWnTShBa",
    "outputId": "ca1345d3-c6a5-414a-bd79-d8354b10775b"
   },
   "outputs": [],
   "source": [
    "# df[\"Active\"] = np.where(df[\"Active\"] == \"Y\", True, False)\n",
    "\n",
    "df1['training_set'] = np.where(df1['labeled'] == 't', True, False)\n",
    "# df.tail(100)"
   ]
  },
  {
   "cell_type": "code",
   "execution_count": 67,
   "metadata": {
    "colab": {},
    "colab_type": "code",
    "id": "2883WGDlShBk",
    "outputId": "9e5c756b-be4d-4d3c-af50-6656ef21a627"
   },
   "outputs": [
    {
     "data": {
      "text/plain": [
       "(746, 8)"
      ]
     },
     "execution_count": 67,
     "metadata": {},
     "output_type": "execute_result"
    }
   ],
   "source": [
    "df1.shape"
   ]
  },
  {
   "cell_type": "code",
   "execution_count": 69,
   "metadata": {
    "colab": {},
    "colab_type": "code",
    "id": "RFsGNAAQShBt",
    "outputId": "c879317c-e75a-4fc6-c93e-0207be642332"
   },
   "outputs": [
    {
     "data": {
      "text/plain": [
       "video_title            0\n",
       "video_id               0\n",
       "moods                  0\n",
       "labeled              291\n",
       "id                     0\n",
       "video_description      0\n",
       "comments               0\n",
       "training_set           0\n",
       "dtype: int64"
      ]
     },
     "execution_count": 69,
     "metadata": {},
     "output_type": "execute_result"
    }
   ],
   "source": [
    "df1.isna().sum()"
   ]
  },
  {
   "cell_type": "code",
   "execution_count": null,
   "metadata": {
    "colab": {},
    "colab_type": "code",
    "id": "djWpgIkoShB0"
   },
   "outputs": [],
   "source": [
    "# make a CSV file out of training + testing set\n",
    "df1.to_csv('df_training_testing.csv', index=False)"
   ]
  },
  {
   "cell_type": "code",
   "execution_count": null,
   "metadata": {
    "colab": {},
    "colab_type": "code",
    "id": "lEaQdyifShB5",
    "outputId": "73ed1a18-3391-4fe1-ae8a-753faa70cf1b"
   },
   "outputs": [],
   "source": [
    "df1 = df1.dropna()\n",
    "df1.shape"
   ]
  },
  {
   "cell_type": "code",
   "execution_count": null,
   "metadata": {
    "colab": {},
    "colab_type": "code",
    "id": "hOtoLdsFShCE",
    "outputId": "944c9a7a-ee96-4683-e741-8391a9934d7e"
   },
   "outputs": [],
   "source": [
    "df1.head()"
   ]
  },
  {
   "cell_type": "code",
   "execution_count": null,
   "metadata": {
    "colab": {},
    "colab_type": "code",
    "id": "1ua2M8wbShCO",
    "outputId": "f58616b9-2cc1-4603-d320-cf85ce5b3493"
   },
   "outputs": [],
   "source": [
    "df1.dtypes"
   ]
  },
  {
   "cell_type": "code",
   "execution_count": 70,
   "metadata": {
    "colab": {},
    "colab_type": "code",
    "id": "6qbms52-ShCj",
    "outputId": "c0d979fa-7459-4760-aa70-9bf642120359"
   },
   "outputs": [
    {
     "data": {
      "text/html": [
       "<div>\n",
       "<style scoped>\n",
       "    .dataframe tbody tr th:only-of-type {\n",
       "        vertical-align: middle;\n",
       "    }\n",
       "\n",
       "    .dataframe tbody tr th {\n",
       "        vertical-align: top;\n",
       "    }\n",
       "\n",
       "    .dataframe thead th {\n",
       "        text-align: right;\n",
       "    }\n",
       "</style>\n",
       "<table border=\"1\" class=\"dataframe\">\n",
       "  <thead>\n",
       "    <tr style=\"text-align: right;\">\n",
       "      <th></th>\n",
       "      <th>video_title</th>\n",
       "      <th>video_id</th>\n",
       "      <th>moods</th>\n",
       "      <th>labeled</th>\n",
       "      <th>id</th>\n",
       "      <th>video_description</th>\n",
       "      <th>comments</th>\n",
       "      <th>training_set</th>\n",
       "      <th>moods_enc</th>\n",
       "    </tr>\n",
       "  </thead>\n",
       "  <tbody>\n",
       "    <tr>\n",
       "      <th>0</th>\n",
       "      <td>♩♫ Dramatic Apocalyptic Music ♪♬ - The Wastela...</td>\n",
       "      <td>5eAalHA1bAc</td>\n",
       "      <td>CHILL</td>\n",
       "      <td>t</td>\n",
       "      <td>1138</td>\n",
       "      <td>♩♫ Dramatic Apocalyptic Music ♪♬ - The Wastela...</td>\n",
       "      <td>['Linda composição!!!', 'Who is here from real...</td>\n",
       "      <td>True</td>\n",
       "      <td>1</td>\n",
       "    </tr>\n",
       "    <tr>\n",
       "      <th>1</th>\n",
       "      <td>Nostalgy - (No Copyright Music) Sad Cinematic ...</td>\n",
       "      <td>zViXwVZpWqY</td>\n",
       "      <td>SAD</td>\n",
       "      <td>t</td>\n",
       "      <td>1139</td>\n",
       "      <td>Nostalgy - (No Copyright Music) Sad Cinematic ...</td>\n",
       "      <td>['Download this music track: http://bit.ly/2QC...</td>\n",
       "      <td>True</td>\n",
       "      <td>5</td>\n",
       "    </tr>\n",
       "    <tr>\n",
       "      <th>2</th>\n",
       "      <td>🔥Best of NCS 2017 Mix ♫ Gaming Music Mix ♫ No ...</td>\n",
       "      <td>8ZbrPz_fnXs</td>\n",
       "      <td>CONFIDENT-SASSY</td>\n",
       "      <td>t</td>\n",
       "      <td>1141</td>\n",
       "      <td>🔥Best of NCS 2017 Mix ♫ Gaming Music Mix ♫ No ...</td>\n",
       "      <td>['Cuule muckkkke ❤❤❤\\nLG Das baum', 'Was für L...</td>\n",
       "      <td>True</td>\n",
       "      <td>2</td>\n",
       "    </tr>\n",
       "    <tr>\n",
       "      <th>3</th>\n",
       "      <td>[FREE] Lil Baby x Gunna Type Beat 2018 \"Situat...</td>\n",
       "      <td>5vSJTGpG5YM</td>\n",
       "      <td>CHILL</td>\n",
       "      <td>t</td>\n",
       "      <td>1142</td>\n",
       "      <td>[FREE] Lil Baby x Gunna Type Beat 2018 \"Situat...</td>\n",
       "      <td>['Collab with my brotha illwill 🔥🔥 Going crazy...</td>\n",
       "      <td>True</td>\n",
       "      <td>1</td>\n",
       "    </tr>\n",
       "    <tr>\n",
       "      <th>4</th>\n",
       "      <td>Alternative/Punk Music [No Copyright &amp; Royalty...</td>\n",
       "      <td>-Xp0wlc95o0</td>\n",
       "      <td>CHILL</td>\n",
       "      <td>t</td>\n",
       "      <td>1143</td>\n",
       "      <td>Alternative/Punk Music [No Copyright &amp; Royalty...</td>\n",
       "      <td>['I’m planning to use this to opening credit m...</td>\n",
       "      <td>True</td>\n",
       "      <td>1</td>\n",
       "    </tr>\n",
       "  </tbody>\n",
       "</table>\n",
       "</div>"
      ],
      "text/plain": [
       "                                         video_title     video_id  \\\n",
       "0  ♩♫ Dramatic Apocalyptic Music ♪♬ - The Wastela...  5eAalHA1bAc   \n",
       "1  Nostalgy - (No Copyright Music) Sad Cinematic ...  zViXwVZpWqY   \n",
       "2  🔥Best of NCS 2017 Mix ♫ Gaming Music Mix ♫ No ...  8ZbrPz_fnXs   \n",
       "3  [FREE] Lil Baby x Gunna Type Beat 2018 \"Situat...  5vSJTGpG5YM   \n",
       "4  Alternative/Punk Music [No Copyright & Royalty...  -Xp0wlc95o0   \n",
       "\n",
       "             moods labeled    id  \\\n",
       "0            CHILL       t  1138   \n",
       "1              SAD       t  1139   \n",
       "2  CONFIDENT-SASSY       t  1141   \n",
       "3            CHILL       t  1142   \n",
       "4            CHILL       t  1143   \n",
       "\n",
       "                                   video_description  \\\n",
       "0  ♩♫ Dramatic Apocalyptic Music ♪♬ - The Wastela...   \n",
       "1  Nostalgy - (No Copyright Music) Sad Cinematic ...   \n",
       "2  🔥Best of NCS 2017 Mix ♫ Gaming Music Mix ♫ No ...   \n",
       "3  [FREE] Lil Baby x Gunna Type Beat 2018 \"Situat...   \n",
       "4  Alternative/Punk Music [No Copyright & Royalty...   \n",
       "\n",
       "                                            comments  training_set  moods_enc  \n",
       "0  ['Linda composição!!!', 'Who is here from real...          True          1  \n",
       "1  ['Download this music track: http://bit.ly/2QC...          True          5  \n",
       "2  ['Cuule muckkkke ❤❤❤\\nLG Das baum', 'Was für L...          True          2  \n",
       "3  ['Collab with my brotha illwill 🔥🔥 Going crazy...          True          1  \n",
       "4  ['I’m planning to use this to opening credit m...          True          1  "
      ]
     },
     "execution_count": 70,
     "metadata": {},
     "output_type": "execute_result"
    }
   ],
   "source": [
    "from sklearn import preprocessing\n",
    "\n",
    "le = preprocessing.LabelEncoder()\n",
    "\n",
    "df1['moods_enc'] = le.fit_transform(df1['moods'])\n",
    "df1.head()"
   ]
  },
  {
   "cell_type": "code",
   "execution_count": 71,
   "metadata": {
    "colab": {},
    "colab_type": "code",
    "id": "4X4fvTwHShCq",
    "outputId": "03e47374-1624-4af9-ed52-688257343f2d"
   },
   "outputs": [
    {
     "data": {
      "text/plain": [
       "['ANGRY', 'CHILL', 'CONFIDENT-SASSY', 'HAPPY', 'IN-LOVE', 'SAD']"
      ]
     },
     "execution_count": 71,
     "metadata": {},
     "output_type": "execute_result"
    }
   ],
   "source": [
    "list(le.classes_)"
   ]
  },
  {
   "cell_type": "code",
   "execution_count": null,
   "metadata": {
    "colab": {},
    "colab_type": "code",
    "id": "aMbOcvJrShCz"
   },
   "outputs": [],
   "source": [
    "df1.to_csv('df_training_testing.csv', index=False, encoding='utf-8')"
   ]
  },
  {
   "cell_type": "code",
   "execution_count": 72,
   "metadata": {},
   "outputs": [],
   "source": [
    "'''Function for processing comments only. Source: John Humphreys'''\n",
    "def normalize_text(comment_group):\n",
    "    norm_comment_group = comment_group.lower()\n",
    "    norm_comment_group = re.sub(r\"([\\.\\\",\\(\\)!\\?;:])\", \" \\\\1 \", norm_comment_group)\n",
    "    norm_comment_group = norm_comment_group.replace('\\\\n', ', ')\n",
    "    norm_comment_group = norm_comment_group.replace('\"', \"\\'\")\n",
    "    while \"\\'\" in norm_comment_group:\n",
    "        norm_comment_group = norm_comment_group.replace(\"\\'\", '')\n",
    "    norm_comment_group = norm_comment_group.replace('[', '')\n",
    "    norm_comment_group = norm_comment_group.replace(']', '')\n",
    "    return norm_comment_group\n"
   ]
  },
  {
   "cell_type": "code",
   "execution_count": 73,
   "metadata": {
    "colab": {},
    "colab_type": "code",
    "id": "rtY59wVOShC4"
   },
   "outputs": [],
   "source": [
    "import re\n",
    "def preprocessor(text):\n",
    "    text = re.sub('<[^>]*>', '', text)\n",
    "    emoticons = re.findall('(?::|;|=)(?:-)?(?:\\)|\\(|D|P)', text)\n",
    "    text = re.sub('[\\W]+', ' ', text.lower()) +\\\n",
    "        ' '.join(emoticons).replace('-', '')\n",
    "    return text\n"
   ]
  },
  {
   "cell_type": "code",
   "execution_count": 74,
   "metadata": {
    "colab": {},
    "colab_type": "code",
    "id": "bwytKR3YShC9",
    "outputId": "0291606a-87c4-42fb-9012-045dd54be489"
   },
   "outputs": [
    {
     "data": {
      "text/plain": [
       "' dramatic apocalyptic music the wasteland copyright and royalty free '"
      ]
     },
     "execution_count": 74,
     "metadata": {},
     "output_type": "execute_result"
    }
   ],
   "source": [
    "# Test our the preprocessor\n",
    "preprocessor(df1.loc[0, 'video_description'])"
   ]
  },
  {
   "cell_type": "code",
   "execution_count": 75,
   "metadata": {
    "colab": {},
    "colab_type": "code",
    "id": "qB4_xbpwShDG",
    "outputId": "e41cc824-a809-4ca7-db08-7fa7e57c32b8"
   },
   "outputs": [
    {
     "data": {
      "text/plain": [
       "'this is test :) :( :)'"
      ]
     },
     "execution_count": 75,
     "metadata": {},
     "output_type": "execute_result"
    }
   ],
   "source": [
    "# Test out the preprocessor\n",
    "preprocessor(\"</a>This :) is :( test :-)!\")"
   ]
  },
  {
   "cell_type": "code",
   "execution_count": 76,
   "metadata": {
    "colab": {},
    "colab_type": "code",
    "id": "9l3gEhoSShDK",
    "outputId": "6faf1a89-f6e4-4d18-c31e-fe7658475b77"
   },
   "outputs": [
    {
     "data": {
      "text/html": [
       "<div>\n",
       "<style scoped>\n",
       "    .dataframe tbody tr th:only-of-type {\n",
       "        vertical-align: middle;\n",
       "    }\n",
       "\n",
       "    .dataframe tbody tr th {\n",
       "        vertical-align: top;\n",
       "    }\n",
       "\n",
       "    .dataframe thead th {\n",
       "        text-align: right;\n",
       "    }\n",
       "</style>\n",
       "<table border=\"1\" class=\"dataframe\">\n",
       "  <thead>\n",
       "    <tr style=\"text-align: right;\">\n",
       "      <th></th>\n",
       "      <th>video_title</th>\n",
       "      <th>video_id</th>\n",
       "      <th>moods</th>\n",
       "      <th>labeled</th>\n",
       "      <th>id</th>\n",
       "      <th>video_description</th>\n",
       "      <th>comments</th>\n",
       "      <th>training_set</th>\n",
       "      <th>moods_enc</th>\n",
       "    </tr>\n",
       "  </thead>\n",
       "  <tbody>\n",
       "    <tr>\n",
       "      <th>0</th>\n",
       "      <td>♩♫ Dramatic Apocalyptic Music ♪♬ - The Wastela...</td>\n",
       "      <td>5eAalHA1bAc</td>\n",
       "      <td>CHILL</td>\n",
       "      <td>t</td>\n",
       "      <td>1138</td>\n",
       "      <td>♩♫ Dramatic Apocalyptic Music ♪♬ - The Wastela...</td>\n",
       "      <td>['Linda composição!!!', 'Who is here from real...</td>\n",
       "      <td>True</td>\n",
       "      <td>1</td>\n",
       "    </tr>\n",
       "    <tr>\n",
       "      <th>1</th>\n",
       "      <td>Nostalgy - (No Copyright Music) Sad Cinematic ...</td>\n",
       "      <td>zViXwVZpWqY</td>\n",
       "      <td>SAD</td>\n",
       "      <td>t</td>\n",
       "      <td>1139</td>\n",
       "      <td>Nostalgy - (No Copyright Music) Sad Cinematic ...</td>\n",
       "      <td>['Download this music track: http://bit.ly/2QC...</td>\n",
       "      <td>True</td>\n",
       "      <td>5</td>\n",
       "    </tr>\n",
       "    <tr>\n",
       "      <th>2</th>\n",
       "      <td>🔥Best of NCS 2017 Mix ♫ Gaming Music Mix ♫ No ...</td>\n",
       "      <td>8ZbrPz_fnXs</td>\n",
       "      <td>CONFIDENT-SASSY</td>\n",
       "      <td>t</td>\n",
       "      <td>1141</td>\n",
       "      <td>🔥Best of NCS 2017 Mix ♫ Gaming Music Mix ♫ No ...</td>\n",
       "      <td>['Cuule muckkkke ❤❤❤\\nLG Das baum', 'Was für L...</td>\n",
       "      <td>True</td>\n",
       "      <td>2</td>\n",
       "    </tr>\n",
       "    <tr>\n",
       "      <th>3</th>\n",
       "      <td>[FREE] Lil Baby x Gunna Type Beat 2018 \"Situat...</td>\n",
       "      <td>5vSJTGpG5YM</td>\n",
       "      <td>CHILL</td>\n",
       "      <td>t</td>\n",
       "      <td>1142</td>\n",
       "      <td>[FREE] Lil Baby x Gunna Type Beat 2018 \"Situat...</td>\n",
       "      <td>['Collab with my brotha illwill 🔥🔥 Going crazy...</td>\n",
       "      <td>True</td>\n",
       "      <td>1</td>\n",
       "    </tr>\n",
       "    <tr>\n",
       "      <th>4</th>\n",
       "      <td>Alternative/Punk Music [No Copyright &amp; Royalty...</td>\n",
       "      <td>-Xp0wlc95o0</td>\n",
       "      <td>CHILL</td>\n",
       "      <td>t</td>\n",
       "      <td>1143</td>\n",
       "      <td>Alternative/Punk Music [No Copyright &amp; Royalty...</td>\n",
       "      <td>['I’m planning to use this to opening credit m...</td>\n",
       "      <td>True</td>\n",
       "      <td>1</td>\n",
       "    </tr>\n",
       "  </tbody>\n",
       "</table>\n",
       "</div>"
      ],
      "text/plain": [
       "                                         video_title     video_id  \\\n",
       "0  ♩♫ Dramatic Apocalyptic Music ♪♬ - The Wastela...  5eAalHA1bAc   \n",
       "1  Nostalgy - (No Copyright Music) Sad Cinematic ...  zViXwVZpWqY   \n",
       "2  🔥Best of NCS 2017 Mix ♫ Gaming Music Mix ♫ No ...  8ZbrPz_fnXs   \n",
       "3  [FREE] Lil Baby x Gunna Type Beat 2018 \"Situat...  5vSJTGpG5YM   \n",
       "4  Alternative/Punk Music [No Copyright & Royalty...  -Xp0wlc95o0   \n",
       "\n",
       "             moods labeled    id  \\\n",
       "0            CHILL       t  1138   \n",
       "1              SAD       t  1139   \n",
       "2  CONFIDENT-SASSY       t  1141   \n",
       "3            CHILL       t  1142   \n",
       "4            CHILL       t  1143   \n",
       "\n",
       "                                   video_description  \\\n",
       "0  ♩♫ Dramatic Apocalyptic Music ♪♬ - The Wastela...   \n",
       "1  Nostalgy - (No Copyright Music) Sad Cinematic ...   \n",
       "2  🔥Best of NCS 2017 Mix ♫ Gaming Music Mix ♫ No ...   \n",
       "3  [FREE] Lil Baby x Gunna Type Beat 2018 \"Situat...   \n",
       "4  Alternative/Punk Music [No Copyright & Royalty...   \n",
       "\n",
       "                                            comments  training_set  moods_enc  \n",
       "0  ['Linda composição!!!', 'Who is here from real...          True          1  \n",
       "1  ['Download this music track: http://bit.ly/2QC...          True          5  \n",
       "2  ['Cuule muckkkke ❤❤❤\\nLG Das baum', 'Was für L...          True          2  \n",
       "3  ['Collab with my brotha illwill 🔥🔥 Going crazy...          True          1  \n",
       "4  ['I’m planning to use this to opening credit m...          True          1  "
      ]
     },
     "execution_count": 76,
     "metadata": {},
     "output_type": "execute_result"
    }
   ],
   "source": [
    "df1.head()"
   ]
  },
  {
   "cell_type": "code",
   "execution_count": 77,
   "metadata": {
    "colab": {},
    "colab_type": "code",
    "id": "XQpRDXtuShDQ",
    "outputId": "158732b8-30b1-4626-f7e1-f12e23efacbc"
   },
   "outputs": [
    {
     "data": {
      "text/html": [
       "<div>\n",
       "<style scoped>\n",
       "    .dataframe tbody tr th:only-of-type {\n",
       "        vertical-align: middle;\n",
       "    }\n",
       "\n",
       "    .dataframe tbody tr th {\n",
       "        vertical-align: top;\n",
       "    }\n",
       "\n",
       "    .dataframe thead th {\n",
       "        text-align: right;\n",
       "    }\n",
       "</style>\n",
       "<table border=\"1\" class=\"dataframe\">\n",
       "  <thead>\n",
       "    <tr style=\"text-align: right;\">\n",
       "      <th></th>\n",
       "      <th>video_title</th>\n",
       "      <th>video_id</th>\n",
       "      <th>moods</th>\n",
       "      <th>labeled</th>\n",
       "      <th>video_description</th>\n",
       "      <th>comments</th>\n",
       "      <th>training_set</th>\n",
       "      <th>moods_enc</th>\n",
       "    </tr>\n",
       "  </thead>\n",
       "  <tbody>\n",
       "    <tr>\n",
       "      <th>0</th>\n",
       "      <td>♩♫ Dramatic Apocalyptic Music ♪♬ - The Wastela...</td>\n",
       "      <td>5eAalHA1bAc</td>\n",
       "      <td>CHILL</td>\n",
       "      <td>t</td>\n",
       "      <td>♩♫ Dramatic Apocalyptic Music ♪♬ - The Wastela...</td>\n",
       "      <td>['Linda composição!!!', 'Who is here from real...</td>\n",
       "      <td>True</td>\n",
       "      <td>1</td>\n",
       "    </tr>\n",
       "    <tr>\n",
       "      <th>1</th>\n",
       "      <td>Nostalgy - (No Copyright Music) Sad Cinematic ...</td>\n",
       "      <td>zViXwVZpWqY</td>\n",
       "      <td>SAD</td>\n",
       "      <td>t</td>\n",
       "      <td>Nostalgy - (No Copyright Music) Sad Cinematic ...</td>\n",
       "      <td>['Download this music track: http://bit.ly/2QC...</td>\n",
       "      <td>True</td>\n",
       "      <td>5</td>\n",
       "    </tr>\n",
       "    <tr>\n",
       "      <th>2</th>\n",
       "      <td>🔥Best of NCS 2017 Mix ♫ Gaming Music Mix ♫ No ...</td>\n",
       "      <td>8ZbrPz_fnXs</td>\n",
       "      <td>CONFIDENT-SASSY</td>\n",
       "      <td>t</td>\n",
       "      <td>🔥Best of NCS 2017 Mix ♫ Gaming Music Mix ♫ No ...</td>\n",
       "      <td>['Cuule muckkkke ❤❤❤\\nLG Das baum', 'Was für L...</td>\n",
       "      <td>True</td>\n",
       "      <td>2</td>\n",
       "    </tr>\n",
       "    <tr>\n",
       "      <th>3</th>\n",
       "      <td>[FREE] Lil Baby x Gunna Type Beat 2018 \"Situat...</td>\n",
       "      <td>5vSJTGpG5YM</td>\n",
       "      <td>CHILL</td>\n",
       "      <td>t</td>\n",
       "      <td>[FREE] Lil Baby x Gunna Type Beat 2018 \"Situat...</td>\n",
       "      <td>['Collab with my brotha illwill 🔥🔥 Going crazy...</td>\n",
       "      <td>True</td>\n",
       "      <td>1</td>\n",
       "    </tr>\n",
       "    <tr>\n",
       "      <th>4</th>\n",
       "      <td>Alternative/Punk Music [No Copyright &amp; Royalty...</td>\n",
       "      <td>-Xp0wlc95o0</td>\n",
       "      <td>CHILL</td>\n",
       "      <td>t</td>\n",
       "      <td>Alternative/Punk Music [No Copyright &amp; Royalty...</td>\n",
       "      <td>['I’m planning to use this to opening credit m...</td>\n",
       "      <td>True</td>\n",
       "      <td>1</td>\n",
       "    </tr>\n",
       "  </tbody>\n",
       "</table>\n",
       "</div>"
      ],
      "text/plain": [
       "                                         video_title     video_id  \\\n",
       "0  ♩♫ Dramatic Apocalyptic Music ♪♬ - The Wastela...  5eAalHA1bAc   \n",
       "1  Nostalgy - (No Copyright Music) Sad Cinematic ...  zViXwVZpWqY   \n",
       "2  🔥Best of NCS 2017 Mix ♫ Gaming Music Mix ♫ No ...  8ZbrPz_fnXs   \n",
       "3  [FREE] Lil Baby x Gunna Type Beat 2018 \"Situat...  5vSJTGpG5YM   \n",
       "4  Alternative/Punk Music [No Copyright & Royalty...  -Xp0wlc95o0   \n",
       "\n",
       "             moods labeled                                  video_description  \\\n",
       "0            CHILL       t  ♩♫ Dramatic Apocalyptic Music ♪♬ - The Wastela...   \n",
       "1              SAD       t  Nostalgy - (No Copyright Music) Sad Cinematic ...   \n",
       "2  CONFIDENT-SASSY       t  🔥Best of NCS 2017 Mix ♫ Gaming Music Mix ♫ No ...   \n",
       "3            CHILL       t  [FREE] Lil Baby x Gunna Type Beat 2018 \"Situat...   \n",
       "4            CHILL       t  Alternative/Punk Music [No Copyright & Royalty...   \n",
       "\n",
       "                                            comments  training_set  moods_enc  \n",
       "0  ['Linda composição!!!', 'Who is here from real...          True          1  \n",
       "1  ['Download this music track: http://bit.ly/2QC...          True          5  \n",
       "2  ['Cuule muckkkke ❤❤❤\\nLG Das baum', 'Was für L...          True          2  \n",
       "3  ['Collab with my brotha illwill 🔥🔥 Going crazy...          True          1  \n",
       "4  ['I’m planning to use this to opening credit m...          True          1  "
      ]
     },
     "execution_count": 77,
     "metadata": {},
     "output_type": "execute_result"
    }
   ],
   "source": [
    "df1 = df1.drop('id', axis=1)\n",
    "df1.head()"
   ]
  },
  {
   "cell_type": "code",
   "execution_count": 78,
   "metadata": {
    "colab": {},
    "colab_type": "code",
    "id": "wk7pJJVoShDw",
    "outputId": "1ed2c8cd-c255-431a-9a6d-f76724a44dec"
   },
   "outputs": [
    {
     "data": {
      "text/plain": [
       "(746, 8)"
      ]
     },
     "execution_count": 78,
     "metadata": {},
     "output_type": "execute_result"
    }
   ],
   "source": [
    "df1.shape"
   ]
  },
  {
   "cell_type": "code",
   "execution_count": 79,
   "metadata": {
    "colab": {},
    "colab_type": "code",
    "id": "aadEwS_MShD6",
    "outputId": "4b238519-6b33-47cb-d36b-82b770c41256"
   },
   "outputs": [
    {
     "data": {
      "text/html": [
       "<div>\n",
       "<style scoped>\n",
       "    .dataframe tbody tr th:only-of-type {\n",
       "        vertical-align: middle;\n",
       "    }\n",
       "\n",
       "    .dataframe tbody tr th {\n",
       "        vertical-align: top;\n",
       "    }\n",
       "\n",
       "    .dataframe thead th {\n",
       "        text-align: right;\n",
       "    }\n",
       "</style>\n",
       "<table border=\"1\" class=\"dataframe\">\n",
       "  <thead>\n",
       "    <tr style=\"text-align: right;\">\n",
       "      <th></th>\n",
       "      <th>video_title</th>\n",
       "      <th>video_id</th>\n",
       "      <th>moods</th>\n",
       "      <th>labeled</th>\n",
       "      <th>video_description</th>\n",
       "      <th>comments</th>\n",
       "      <th>training_set</th>\n",
       "      <th>moods_enc</th>\n",
       "    </tr>\n",
       "  </thead>\n",
       "  <tbody>\n",
       "    <tr>\n",
       "      <th>0</th>\n",
       "      <td>♩♫ Dramatic Apocalyptic Music ♪♬ - The Wastela...</td>\n",
       "      <td>5eAalHA1bAc</td>\n",
       "      <td>CHILL</td>\n",
       "      <td>t</td>\n",
       "      <td>dramatic apocalyptic music the wasteland copy...</td>\n",
       "      <td>['Linda composição!!!', 'Who is here from real...</td>\n",
       "      <td>True</td>\n",
       "      <td>1</td>\n",
       "    </tr>\n",
       "    <tr>\n",
       "      <th>1</th>\n",
       "      <td>Nostalgy - (No Copyright Music) Sad Cinematic ...</td>\n",
       "      <td>zViXwVZpWqY</td>\n",
       "      <td>SAD</td>\n",
       "      <td>t</td>\n",
       "      <td>nostalgy no copyright music sad cinematic back...</td>\n",
       "      <td>['Download this music track: http://bit.ly/2QC...</td>\n",
       "      <td>True</td>\n",
       "      <td>5</td>\n",
       "    </tr>\n",
       "    <tr>\n",
       "      <th>2</th>\n",
       "      <td>🔥Best of NCS 2017 Mix ♫ Gaming Music Mix ♫ No ...</td>\n",
       "      <td>8ZbrPz_fnXs</td>\n",
       "      <td>CONFIDENT-SASSY</td>\n",
       "      <td>t</td>\n",
       "      <td>best of ncs 2017 mix gaming music mix no copy...</td>\n",
       "      <td>['Cuule muckkkke ❤❤❤\\nLG Das baum', 'Was für L...</td>\n",
       "      <td>True</td>\n",
       "      <td>2</td>\n",
       "    </tr>\n",
       "    <tr>\n",
       "      <th>3</th>\n",
       "      <td>[FREE] Lil Baby x Gunna Type Beat 2018 \"Situat...</td>\n",
       "      <td>5vSJTGpG5YM</td>\n",
       "      <td>CHILL</td>\n",
       "      <td>t</td>\n",
       "      <td>free lil baby x gunna type beat 2018 situatio...</td>\n",
       "      <td>['Collab with my brotha illwill 🔥🔥 Going crazy...</td>\n",
       "      <td>True</td>\n",
       "      <td>1</td>\n",
       "    </tr>\n",
       "    <tr>\n",
       "      <th>4</th>\n",
       "      <td>Alternative/Punk Music [No Copyright &amp; Royalty...</td>\n",
       "      <td>-Xp0wlc95o0</td>\n",
       "      <td>CHILL</td>\n",
       "      <td>t</td>\n",
       "      <td>alternative punk music no copyright royalty fr...</td>\n",
       "      <td>['I’m planning to use this to opening credit m...</td>\n",
       "      <td>True</td>\n",
       "      <td>1</td>\n",
       "    </tr>\n",
       "  </tbody>\n",
       "</table>\n",
       "</div>"
      ],
      "text/plain": [
       "                                         video_title     video_id  \\\n",
       "0  ♩♫ Dramatic Apocalyptic Music ♪♬ - The Wastela...  5eAalHA1bAc   \n",
       "1  Nostalgy - (No Copyright Music) Sad Cinematic ...  zViXwVZpWqY   \n",
       "2  🔥Best of NCS 2017 Mix ♫ Gaming Music Mix ♫ No ...  8ZbrPz_fnXs   \n",
       "3  [FREE] Lil Baby x Gunna Type Beat 2018 \"Situat...  5vSJTGpG5YM   \n",
       "4  Alternative/Punk Music [No Copyright & Royalty...  -Xp0wlc95o0   \n",
       "\n",
       "             moods labeled                                  video_description  \\\n",
       "0            CHILL       t   dramatic apocalyptic music the wasteland copy...   \n",
       "1              SAD       t  nostalgy no copyright music sad cinematic back...   \n",
       "2  CONFIDENT-SASSY       t   best of ncs 2017 mix gaming music mix no copy...   \n",
       "3            CHILL       t   free lil baby x gunna type beat 2018 situatio...   \n",
       "4            CHILL       t  alternative punk music no copyright royalty fr...   \n",
       "\n",
       "                                            comments  training_set  moods_enc  \n",
       "0  ['Linda composição!!!', 'Who is here from real...          True          1  \n",
       "1  ['Download this music track: http://bit.ly/2QC...          True          5  \n",
       "2  ['Cuule muckkkke ❤❤❤\\nLG Das baum', 'Was für L...          True          2  \n",
       "3  ['Collab with my brotha illwill 🔥🔥 Going crazy...          True          1  \n",
       "4  ['I’m planning to use this to opening credit m...          True          1  "
      ]
     },
     "execution_count": 79,
     "metadata": {},
     "output_type": "execute_result"
    }
   ],
   "source": [
    "df1['video_description'] = df1['video_description'].apply(preprocessor)\n",
    "df1.head()"
   ]
  },
  {
   "cell_type": "code",
   "execution_count": 80,
   "metadata": {},
   "outputs": [],
   "source": [
    "df1['comments'] = df1['comments'].apply(normalize_text)"
   ]
  },
  {
   "cell_type": "code",
   "execution_count": 109,
   "metadata": {},
   "outputs": [],
   "source": [
    "df1['comments'] = df1['comments'].apply(preprocessor)"
   ]
  },
  {
   "cell_type": "code",
   "execution_count": 81,
   "metadata": {},
   "outputs": [
    {
     "data": {
      "text/html": [
       "<div>\n",
       "<style scoped>\n",
       "    .dataframe tbody tr th:only-of-type {\n",
       "        vertical-align: middle;\n",
       "    }\n",
       "\n",
       "    .dataframe tbody tr th {\n",
       "        vertical-align: top;\n",
       "    }\n",
       "\n",
       "    .dataframe thead th {\n",
       "        text-align: right;\n",
       "    }\n",
       "</style>\n",
       "<table border=\"1\" class=\"dataframe\">\n",
       "  <thead>\n",
       "    <tr style=\"text-align: right;\">\n",
       "      <th></th>\n",
       "      <th>video_title</th>\n",
       "      <th>video_id</th>\n",
       "      <th>moods</th>\n",
       "      <th>labeled</th>\n",
       "      <th>video_description</th>\n",
       "      <th>comments</th>\n",
       "      <th>training_set</th>\n",
       "      <th>moods_enc</th>\n",
       "    </tr>\n",
       "  </thead>\n",
       "  <tbody>\n",
       "    <tr>\n",
       "      <th>0</th>\n",
       "      <td>♩♫ Dramatic Apocalyptic Music ♪♬ - The Wastela...</td>\n",
       "      <td>5eAalHA1bAc</td>\n",
       "      <td>CHILL</td>\n",
       "      <td>t</td>\n",
       "      <td>dramatic apocalyptic music the wasteland copy...</td>\n",
       "      <td>linda composição !  !  !  ,  who is here from ...</td>\n",
       "      <td>True</td>\n",
       "      <td>1</td>\n",
       "    </tr>\n",
       "    <tr>\n",
       "      <th>1</th>\n",
       "      <td>Nostalgy - (No Copyright Music) Sad Cinematic ...</td>\n",
       "      <td>zViXwVZpWqY</td>\n",
       "      <td>SAD</td>\n",
       "      <td>t</td>\n",
       "      <td>nostalgy no copyright music sad cinematic back...</td>\n",
       "      <td>download this music track :  http : //bit . ly...</td>\n",
       "      <td>True</td>\n",
       "      <td>5</td>\n",
       "    </tr>\n",
       "    <tr>\n",
       "      <th>2</th>\n",
       "      <td>🔥Best of NCS 2017 Mix ♫ Gaming Music Mix ♫ No ...</td>\n",
       "      <td>8ZbrPz_fnXs</td>\n",
       "      <td>CONFIDENT-SASSY</td>\n",
       "      <td>t</td>\n",
       "      <td>best of ncs 2017 mix gaming music mix no copy...</td>\n",
       "      <td>cuule muckkkke ❤❤❤, lg das baum ,  was für lie...</td>\n",
       "      <td>True</td>\n",
       "      <td>2</td>\n",
       "    </tr>\n",
       "    <tr>\n",
       "      <th>3</th>\n",
       "      <td>[FREE] Lil Baby x Gunna Type Beat 2018 \"Situat...</td>\n",
       "      <td>5vSJTGpG5YM</td>\n",
       "      <td>CHILL</td>\n",
       "      <td>t</td>\n",
       "      <td>free lil baby x gunna type beat 2018 situatio...</td>\n",
       "      <td>collab with my brotha illwill 🔥🔥 going crazy❗️...</td>\n",
       "      <td>True</td>\n",
       "      <td>1</td>\n",
       "    </tr>\n",
       "    <tr>\n",
       "      <th>4</th>\n",
       "      <td>Alternative/Punk Music [No Copyright &amp; Royalty...</td>\n",
       "      <td>-Xp0wlc95o0</td>\n",
       "      <td>CHILL</td>\n",
       "      <td>t</td>\n",
       "      <td>alternative punk music no copyright royalty fr...</td>\n",
       "      <td>i’m planning to use this to opening credit mon...</td>\n",
       "      <td>True</td>\n",
       "      <td>1</td>\n",
       "    </tr>\n",
       "  </tbody>\n",
       "</table>\n",
       "</div>"
      ],
      "text/plain": [
       "                                         video_title     video_id  \\\n",
       "0  ♩♫ Dramatic Apocalyptic Music ♪♬ - The Wastela...  5eAalHA1bAc   \n",
       "1  Nostalgy - (No Copyright Music) Sad Cinematic ...  zViXwVZpWqY   \n",
       "2  🔥Best of NCS 2017 Mix ♫ Gaming Music Mix ♫ No ...  8ZbrPz_fnXs   \n",
       "3  [FREE] Lil Baby x Gunna Type Beat 2018 \"Situat...  5vSJTGpG5YM   \n",
       "4  Alternative/Punk Music [No Copyright & Royalty...  -Xp0wlc95o0   \n",
       "\n",
       "             moods labeled                                  video_description  \\\n",
       "0            CHILL       t   dramatic apocalyptic music the wasteland copy...   \n",
       "1              SAD       t  nostalgy no copyright music sad cinematic back...   \n",
       "2  CONFIDENT-SASSY       t   best of ncs 2017 mix gaming music mix no copy...   \n",
       "3            CHILL       t   free lil baby x gunna type beat 2018 situatio...   \n",
       "4            CHILL       t  alternative punk music no copyright royalty fr...   \n",
       "\n",
       "                                            comments  training_set  moods_enc  \n",
       "0  linda composição !  !  !  ,  who is here from ...          True          1  \n",
       "1  download this music track :  http : //bit . ly...          True          5  \n",
       "2  cuule muckkkke ❤❤❤, lg das baum ,  was für lie...          True          2  \n",
       "3  collab with my brotha illwill 🔥🔥 going crazy❗️...          True          1  \n",
       "4  i’m planning to use this to opening credit mon...          True          1  "
      ]
     },
     "execution_count": 81,
     "metadata": {},
     "output_type": "execute_result"
    }
   ],
   "source": [
    "df1.head()"
   ]
  },
  {
   "cell_type": "code",
   "execution_count": null,
   "metadata": {
    "colab": {},
    "colab_type": "code",
    "id": "mFbXUIHkShEA"
   },
   "outputs": [],
   "source": [
    "df1.to_csv('df_training_testing.csv', index=False)"
   ]
  },
  {
   "cell_type": "code",
   "execution_count": 83,
   "metadata": {},
   "outputs": [
    {
     "data": {
      "text/plain": [
       "HAPPY              422\n",
       "CHILL              120\n",
       "CONFIDENT-SASSY     91\n",
       "IN-LOVE             41\n",
       "ANGRY               36\n",
       "SAD                 36\n",
       "Name: moods, dtype: int64"
      ]
     },
     "execution_count": 83,
     "metadata": {},
     "output_type": "execute_result"
    }
   ],
   "source": [
    "df1['moods'].value_counts()"
   ]
  },
  {
   "cell_type": "code",
   "execution_count": 84,
   "metadata": {},
   "outputs": [],
   "source": [
    "df1_train = df1[df1['labeled']=='t']"
   ]
  },
  {
   "cell_type": "code",
   "execution_count": 85,
   "metadata": {},
   "outputs": [
    {
     "data": {
      "text/plain": [
       "CHILL              120\n",
       "HAPPY              103\n",
       "CONFIDENT-SASSY     91\n",
       "IN-LOVE             41\n",
       "ANGRY               36\n",
       "SAD                 36\n",
       "Name: moods, dtype: int64"
      ]
     },
     "execution_count": 85,
     "metadata": {},
     "output_type": "execute_result"
    }
   ],
   "source": [
    "df1_train['moods'].value_counts()  # values sum to 427, which matches count of 't' values in 'labeled'"
   ]
  },
  {
   "cell_type": "code",
   "execution_count": 86,
   "metadata": {},
   "outputs": [],
   "source": [
    "df1_train = df1_train.drop('training_set', axis=1)"
   ]
  },
  {
   "cell_type": "code",
   "execution_count": 87,
   "metadata": {},
   "outputs": [
    {
     "data": {
      "text/html": [
       "<div>\n",
       "<style scoped>\n",
       "    .dataframe tbody tr th:only-of-type {\n",
       "        vertical-align: middle;\n",
       "    }\n",
       "\n",
       "    .dataframe tbody tr th {\n",
       "        vertical-align: top;\n",
       "    }\n",
       "\n",
       "    .dataframe thead th {\n",
       "        text-align: right;\n",
       "    }\n",
       "</style>\n",
       "<table border=\"1\" class=\"dataframe\">\n",
       "  <thead>\n",
       "    <tr style=\"text-align: right;\">\n",
       "      <th></th>\n",
       "      <th>video_title</th>\n",
       "      <th>video_id</th>\n",
       "      <th>moods</th>\n",
       "      <th>video_description</th>\n",
       "      <th>comments</th>\n",
       "      <th>moods_enc</th>\n",
       "    </tr>\n",
       "  </thead>\n",
       "  <tbody>\n",
       "    <tr>\n",
       "      <th>0</th>\n",
       "      <td>♩♫ Dramatic Apocalyptic Music ♪♬ - The Wastela...</td>\n",
       "      <td>5eAalHA1bAc</td>\n",
       "      <td>CHILL</td>\n",
       "      <td>dramatic apocalyptic music the wasteland copy...</td>\n",
       "      <td>linda composição !  !  !  ,  who is here from ...</td>\n",
       "      <td>1</td>\n",
       "    </tr>\n",
       "    <tr>\n",
       "      <th>1</th>\n",
       "      <td>Nostalgy - (No Copyright Music) Sad Cinematic ...</td>\n",
       "      <td>zViXwVZpWqY</td>\n",
       "      <td>SAD</td>\n",
       "      <td>nostalgy no copyright music sad cinematic back...</td>\n",
       "      <td>download this music track :  http : //bit . ly...</td>\n",
       "      <td>5</td>\n",
       "    </tr>\n",
       "    <tr>\n",
       "      <th>2</th>\n",
       "      <td>🔥Best of NCS 2017 Mix ♫ Gaming Music Mix ♫ No ...</td>\n",
       "      <td>8ZbrPz_fnXs</td>\n",
       "      <td>CONFIDENT-SASSY</td>\n",
       "      <td>best of ncs 2017 mix gaming music mix no copy...</td>\n",
       "      <td>cuule muckkkke ❤❤❤, lg das baum ,  was für lie...</td>\n",
       "      <td>2</td>\n",
       "    </tr>\n",
       "    <tr>\n",
       "      <th>3</th>\n",
       "      <td>[FREE] Lil Baby x Gunna Type Beat 2018 \"Situat...</td>\n",
       "      <td>5vSJTGpG5YM</td>\n",
       "      <td>CHILL</td>\n",
       "      <td>free lil baby x gunna type beat 2018 situatio...</td>\n",
       "      <td>collab with my brotha illwill 🔥🔥 going crazy❗️...</td>\n",
       "      <td>1</td>\n",
       "    </tr>\n",
       "    <tr>\n",
       "      <th>4</th>\n",
       "      <td>Alternative/Punk Music [No Copyright &amp; Royalty...</td>\n",
       "      <td>-Xp0wlc95o0</td>\n",
       "      <td>CHILL</td>\n",
       "      <td>alternative punk music no copyright royalty fr...</td>\n",
       "      <td>i’m planning to use this to opening credit mon...</td>\n",
       "      <td>1</td>\n",
       "    </tr>\n",
       "  </tbody>\n",
       "</table>\n",
       "</div>"
      ],
      "text/plain": [
       "                                         video_title     video_id  \\\n",
       "0  ♩♫ Dramatic Apocalyptic Music ♪♬ - The Wastela...  5eAalHA1bAc   \n",
       "1  Nostalgy - (No Copyright Music) Sad Cinematic ...  zViXwVZpWqY   \n",
       "2  🔥Best of NCS 2017 Mix ♫ Gaming Music Mix ♫ No ...  8ZbrPz_fnXs   \n",
       "3  [FREE] Lil Baby x Gunna Type Beat 2018 \"Situat...  5vSJTGpG5YM   \n",
       "4  Alternative/Punk Music [No Copyright & Royalty...  -Xp0wlc95o0   \n",
       "\n",
       "             moods                                  video_description  \\\n",
       "0            CHILL   dramatic apocalyptic music the wasteland copy...   \n",
       "1              SAD  nostalgy no copyright music sad cinematic back...   \n",
       "2  CONFIDENT-SASSY   best of ncs 2017 mix gaming music mix no copy...   \n",
       "3            CHILL   free lil baby x gunna type beat 2018 situatio...   \n",
       "4            CHILL  alternative punk music no copyright royalty fr...   \n",
       "\n",
       "                                            comments  moods_enc  \n",
       "0  linda composição !  !  !  ,  who is here from ...          1  \n",
       "1  download this music track :  http : //bit . ly...          5  \n",
       "2  cuule muckkkke ❤❤❤, lg das baum ,  was für lie...          2  \n",
       "3  collab with my brotha illwill 🔥🔥 going crazy❗️...          1  \n",
       "4  i’m planning to use this to opening credit mon...          1  "
      ]
     },
     "execution_count": 87,
     "metadata": {},
     "output_type": "execute_result"
    }
   ],
   "source": [
    "df1_train = df1_train.drop('labeled', axis=1)\n",
    "df1_train.head()"
   ]
  },
  {
   "cell_type": "code",
   "execution_count": 123,
   "metadata": {},
   "outputs": [
    {
     "data": {
      "text/plain": [
       "(427, 6)"
      ]
     },
     "execution_count": 123,
     "metadata": {},
     "output_type": "execute_result"
    }
   ],
   "source": [
    "df1_train.shape"
   ]
  },
  {
   "cell_type": "code",
   "execution_count": null,
   "metadata": {
    "colab": {},
    "colab_type": "code",
    "id": "8FOEy8pKShEE"
   },
   "outputs": [],
   "source": [
    "df_train = df[df['training_set'] == True]\n",
    "df_train = df_train.drop('training_set', axis=1)\n",
    "\n",
    "df_test = df[df['training_set'] == False]\n",
    "df_test = df_test.drop('training_set', axis=1)"
   ]
  },
  {
   "cell_type": "code",
   "execution_count": null,
   "metadata": {
    "colab": {},
    "colab_type": "code",
    "id": "CH5MW5v_ShER",
    "outputId": "8a876774-038a-4d6b-8410-ed58c46326cb"
   },
   "outputs": [],
   "source": [
    "df_train.head()"
   ]
  },
  {
   "cell_type": "code",
   "execution_count": null,
   "metadata": {
    "colab": {},
    "colab_type": "code",
    "id": "tv0AO_LXShEX",
    "outputId": "939f8e69-9104-4d13-d8f3-8bc2f18aa5ce"
   },
   "outputs": [],
   "source": [
    "df_test.head()"
   ]
  },
  {
   "cell_type": "code",
   "execution_count": null,
   "metadata": {
    "colab": {},
    "colab_type": "code",
    "id": "uJRKH0JTShEg"
   },
   "outputs": [],
   "source": [
    "X_train = df_train['video_description'].values\n",
    "y_train = df_train['moods_enc'].values\n",
    "\n",
    "X_test = df_test['video_description'].values\n",
    "y_test = df_test['moods_enc'].values"
   ]
  },
  {
   "cell_type": "code",
   "execution_count": 88,
   "metadata": {},
   "outputs": [],
   "source": [
    "from sklearn.model_selection import train_test_split"
   ]
  },
  {
   "cell_type": "code",
   "execution_count": 89,
   "metadata": {},
   "outputs": [],
   "source": [
    "X_train, X_test, y_train, y_test = train_test_split(df1_train[['video_description', 'comments']].values,\n",
    "                                                    df1_train['moods_enc'].values, random_state=0)"
   ]
  },
  {
   "cell_type": "code",
   "execution_count": 129,
   "metadata": {
    "colab": {},
    "colab_type": "code",
    "id": "X8gEy4gEShEl"
   },
   "outputs": [],
   "source": [
    "def tokenizer(text):\n",
    "    try:\n",
    "        return text.split()\n",
    "    except AttributeError:\n",
    "        # print('text that caused error is:', text)\n",
    "        return text"
   ]
  },
  {
   "cell_type": "code",
   "execution_count": 130,
   "metadata": {
    "colab": {},
    "colab_type": "code",
    "id": "BDLvETYyShEp"
   },
   "outputs": [],
   "source": [
    "from nltk.stem.porter import PorterStemmer\n",
    "\n",
    "porter = PorterStemmer()\n",
    "\n",
    "def tokenizer_porter(text):\n",
    "    try:\n",
    "        return [porter.stem(word) for word in text.split()]\n",
    "    except AttributeError:\n",
    "        return [porter.stem(word) for word in text]"
   ]
  },
  {
   "cell_type": "code",
   "execution_count": 92,
   "metadata": {
    "colab": {},
    "colab_type": "code",
    "id": "TrK2lkpxShEw"
   },
   "outputs": [],
   "source": [
    "from nltk.corpus import stopwords\n",
    "\n",
    "stop = stopwords.words('english')"
   ]
  },
  {
   "cell_type": "code",
   "execution_count": 131,
   "metadata": {
    "colab": {},
    "colab_type": "code",
    "id": "M1Kkuv8xShEz"
   },
   "outputs": [],
   "source": [
    "from sklearn.model_selection import GridSearchCV\n",
    "from sklearn.pipeline import Pipeline\n",
    "from sklearn.linear_model import LogisticRegression\n",
    "from sklearn.feature_extraction.text import TfidfVectorizer\n",
    "\n",
    "tfidf = TfidfVectorizer(strip_accents=None,\n",
    "                       lowercase=False,\n",
    "                       preprocessor=None)\n",
    "param_grid = [{'vect__ngram_range': [(1,1)],\n",
    "              'vect__stop_words': [stop, None],\n",
    "              'vect__tokenizer': [tokenizer, tokenizer_porter],\n",
    "              'clf__penalty': ['l1', 'l2'],\n",
    "              'clf__C': [1.0, 10.0, 100.0]},\n",
    "             {'vect__ngram_range':[(1,1)],\n",
    "             'vect__stop_words': [stop, None],\n",
    "             'vect__tokenizer': [tokenizer, tokenizer_porter],\n",
    "             'vect__use_idf': [False],\n",
    "             'vect__norm': [None],\n",
    "             'clf__penalty': ['l1', 'l2'],\n",
    "             'clf__C': [1.0, 10.0, 100.0]}\n",
    "             ]\n"
   ]
  },
  {
   "cell_type": "code",
   "execution_count": 132,
   "metadata": {
    "colab": {},
    "colab_type": "code",
    "id": "ubBN0YT6ShE1"
   },
   "outputs": [],
   "source": [
    "lr_tfidf = Pipeline([('vect', tfidf),\n",
    "                    ('clf', LogisticRegression(random_state=0))])"
   ]
  },
  {
   "cell_type": "code",
   "execution_count": 133,
   "metadata": {
    "colab": {},
    "colab_type": "code",
    "id": "9wpznfCjShFH"
   },
   "outputs": [],
   "source": [
    "gs_lr_tfidf = GridSearchCV(lr_tfidf,\n",
    "                          param_grid,\n",
    "                          scoring='accuracy',\n",
    "                          cv=5, verbose=1,\n",
    "                          n_jobs=1)"
   ]
  },
  {
   "cell_type": "code",
   "execution_count": 134,
   "metadata": {
    "colab": {},
    "colab_type": "code",
    "id": "ytbTJD-cShFL",
    "outputId": "9f88979d-7ef7-4788-fb55-fdad8193e854"
   },
   "outputs": [
    {
     "name": "stdout",
     "output_type": "stream",
     "text": [
      "Fitting 5 folds for each of 48 candidates, totalling 240 fits\n"
     ]
    },
    {
     "name": "stderr",
     "output_type": "stream",
     "text": [
      "[Parallel(n_jobs=1)]: Using backend SequentialBackend with 1 concurrent workers.\n",
      "C:\\ProgramData\\Anaconda3\\lib\\site-packages\\sklearn\\linear_model\\logistic.py:433: FutureWarning: Default solver will be changed to 'lbfgs' in 0.22. Specify a solver to silence this warning.\n",
      "  FutureWarning)\n",
      "C:\\ProgramData\\Anaconda3\\lib\\site-packages\\sklearn\\linear_model\\logistic.py:460: FutureWarning: Default multi_class will be changed to 'auto' in 0.22. Specify the multi_class option to silence this warning.\n",
      "  \"this warning.\", FutureWarning)\n",
      "C:\\ProgramData\\Anaconda3\\lib\\site-packages\\sklearn\\feature_extraction\\text.py:301: UserWarning: Your stop_words may be inconsistent with your preprocessing. Tokenizing the stop words generated tokens ['abov', 'ani', 'becaus', 'befor', 'doe', 'dure', 'ha', 'hi', \"it'\", 'onc', 'onli', 'ourselv', \"she'\", \"should'v\", 'themselv', 'thi', 'veri', 'wa', 'whi', \"you'r\", \"you'v\", 'yourselv'] not in stop_words.\n",
      "  'stop_words.' % sorted(inconsistent))\n",
      "C:\\ProgramData\\Anaconda3\\lib\\site-packages\\sklearn\\svm\\base.py:931: ConvergenceWarning: Liblinear failed to converge, increase the number of iterations.\n",
      "  \"the number of iterations.\", ConvergenceWarning)\n",
      "[Parallel(n_jobs=1)]: Done 240 out of 240 | elapsed:   21.3s finished\n"
     ]
    },
    {
     "data": {
      "text/plain": [
       "GridSearchCV(cv=5, error_score='raise-deprecating',\n",
       "       estimator=Pipeline(memory=None,\n",
       "     steps=[('vect', TfidfVectorizer(analyzer='word', binary=False, decode_error='strict',\n",
       "        dtype=<class 'numpy.float64'>, encoding='utf-8', input='content',\n",
       "        lowercase=False, max_df=1.0, max_features=None, min_df=1,\n",
       "        ngram_range=(1, 1), norm='l2', preprocessor=None, smooth_idf=True,...e, penalty='l2', random_state=0, solver='warn',\n",
       "          tol=0.0001, verbose=0, warm_start=False))]),\n",
       "       fit_params=None, iid='warn', n_jobs=1,\n",
       "       param_grid=[{'vect__ngram_range': [(1, 1)], 'vect__stop_words': [['i', 'me', 'my', 'myself', 'we', 'our', 'ours', 'ourselves', 'you', \"you're\", \"you've\", \"you'll\", \"you'd\", 'your', 'yours', 'yourself', 'yourselves', 'he', 'him', 'his', 'himself', 'she', \"she's\", 'her', 'hers', 'herself', 'it', \"it's...se_idf': [False], 'vect__norm': [None], 'clf__penalty': ['l1', 'l2'], 'clf__C': [1.0, 10.0, 100.0]}],\n",
       "       pre_dispatch='2*n_jobs', refit=True, return_train_score='warn',\n",
       "       scoring='accuracy', verbose=1)"
      ]
     },
     "execution_count": 134,
     "metadata": {},
     "output_type": "execute_result"
    }
   ],
   "source": [
    "gs_lr_tfidf.fit(X_train, y_train)"
   ]
  },
  {
   "cell_type": "code",
   "execution_count": 135,
   "metadata": {
    "colab": {},
    "colab_type": "code",
    "id": "Emcsp1eEShFO",
    "outputId": "d4128138-3b85-4d8d-fb29-84e763bfa2a0"
   },
   "outputs": [
    {
     "name": "stdout",
     "output_type": "stream",
     "text": [
      "Best parameter set: {'clf__C': 1.0, 'clf__penalty': 'l1', 'vect__ngram_range': (1, 1), 'vect__stop_words': ['i', 'me', 'my', 'myself', 'we', 'our', 'ours', 'ourselves', 'you', \"you're\", \"you've\", \"you'll\", \"you'd\", 'your', 'yours', 'yourself', 'yourselves', 'he', 'him', 'his', 'himself', 'she', \"she's\", 'her', 'hers', 'herself', 'it', \"it's\", 'its', 'itself', 'they', 'them', 'their', 'theirs', 'themselves', 'what', 'which', 'who', 'whom', 'this', 'that', \"that'll\", 'these', 'those', 'am', 'is', 'are', 'was', 'were', 'be', 'been', 'being', 'have', 'has', 'had', 'having', 'do', 'does', 'did', 'doing', 'a', 'an', 'the', 'and', 'but', 'if', 'or', 'because', 'as', 'until', 'while', 'of', 'at', 'by', 'for', 'with', 'about', 'against', 'between', 'into', 'through', 'during', 'before', 'after', 'above', 'below', 'to', 'from', 'up', 'down', 'in', 'out', 'on', 'off', 'over', 'under', 'again', 'further', 'then', 'once', 'here', 'there', 'when', 'where', 'why', 'how', 'all', 'any', 'both', 'each', 'few', 'more', 'most', 'other', 'some', 'such', 'no', 'nor', 'not', 'only', 'own', 'same', 'so', 'than', 'too', 'very', 's', 't', 'can', 'will', 'just', 'don', \"don't\", 'should', \"should've\", 'now', 'd', 'll', 'm', 'o', 're', 've', 'y', 'ain', 'aren', \"aren't\", 'couldn', \"couldn't\", 'didn', \"didn't\", 'doesn', \"doesn't\", 'hadn', \"hadn't\", 'hasn', \"hasn't\", 'haven', \"haven't\", 'isn', \"isn't\", 'ma', 'mightn', \"mightn't\", 'mustn', \"mustn't\", 'needn', \"needn't\", 'shan', \"shan't\", 'shouldn', \"shouldn't\", 'wasn', \"wasn't\", 'weren', \"weren't\", 'won', \"won't\", 'wouldn', \"wouldn't\"], 'vect__tokenizer': <function tokenizer at 0x00000188C5DB1D08>}\n"
     ]
    }
   ],
   "source": [
    "print('Best parameter set: {}'.format(gs_lr_tfidf.best_params_))"
   ]
  },
  {
   "cell_type": "code",
   "execution_count": 136,
   "metadata": {
    "colab": {},
    "colab_type": "code",
    "id": "gJKZRRtmShFW",
    "outputId": "ac2932f3-cd01-4791-de5b-8fb838d2149d"
   },
   "outputs": [
    {
     "name": "stdout",
     "output_type": "stream",
     "text": [
      "CV Accuracy: 0.300\n"
     ]
    }
   ],
   "source": [
    "print('CV Accuracy: {:.3f}'.format(gs_lr_tfidf.best_score_))"
   ]
  },
  {
   "cell_type": "code",
   "execution_count": 137,
   "metadata": {
    "colab": {},
    "colab_type": "code",
    "id": "0cOmd7xsShFY",
    "outputId": "326b66c3-b62c-4d37-dd44-64dba9537ba7"
   },
   "outputs": [
    {
     "name": "stdout",
     "output_type": "stream",
     "text": [
      "Test Accuracy: 0.224\n"
     ]
    }
   ],
   "source": [
    "clf = gs_lr_tfidf.best_estimator_\n",
    "\n",
    "print('Test Accuracy: {:.3f}'.format(clf.score(X_test, y_test)))"
   ]
  },
  {
   "cell_type": "code",
   "execution_count": null,
   "metadata": {
    "colab": {},
    "colab_type": "code",
    "id": "-Tq9QSuRShFc",
    "outputId": "b9468e2f-c11f-4139-f5c5-f3d9ba84e5c4"
   },
   "outputs": [],
   "source": [
    "y_pred = gs_lr_tfidf.predict(X_test)\n",
    "y_pred"
   ]
  },
  {
   "cell_type": "code",
   "execution_count": null,
   "metadata": {
    "colab": {},
    "colab_type": "code",
    "id": "QOdE4xioShFg",
    "outputId": "f7d9f9c2-fe6e-4c0f-c6c5-6ee0d8706ad1"
   },
   "outputs": [],
   "source": [
    "['ANGRY', 'CHILL', 'CONFIDENT-SASSY', 'HAPPY', 'IN-LOVE', 'SAD']"
   ]
  },
  {
   "cell_type": "code",
   "execution_count": null,
   "metadata": {
    "colab": {},
    "colab_type": "code",
    "id": "Rf4AY7rMShFj",
    "outputId": "a701b039-732f-4df6-f37f-b91f4aebd86e"
   },
   "outputs": [],
   "source": [
    "df_test.head(100)"
   ]
  },
  {
   "cell_type": "code",
   "execution_count": null,
   "metadata": {
    "colab": {},
    "colab_type": "code",
    "id": "1joKK62mShFr",
    "outputId": "0e1da861-4eef-4f5a-c35d-865cfd2afff7",
    "scrolled": true
   },
   "outputs": [],
   "source": [
    "df_train.head()"
   ]
  },
  {
   "cell_type": "code",
   "execution_count": null,
   "metadata": {
    "colab": {},
    "colab_type": "code",
    "id": "Hr80m5VvShFu"
   },
   "outputs": [],
   "source": [
    "# This part is pratice for Out-of-Core Learning. Ignore for now:"
   ]
  },
  {
   "cell_type": "code",
   "execution_count": null,
   "metadata": {
    "colab": {},
    "colab_type": "code",
    "id": "tb6RGSgDShF4",
    "outputId": "9ede5a55-f45b-4c80-f250-a402a59b3f68"
   },
   "outputs": [],
   "source": [
    "# Using data from training_set\n",
    "video_description_moods = df_train[['video_description', 'moods_enc']]\n",
    "video_description_moods.head()"
   ]
  },
  {
   "cell_type": "code",
   "execution_count": null,
   "metadata": {
    "colab": {},
    "colab_type": "code",
    "id": "It92crkPShGA"
   },
   "outputs": [],
   "source": [
    "video_description_moods.to_csv('video_description_moods.csv', index=False)"
   ]
  },
  {
   "cell_type": "code",
   "execution_count": null,
   "metadata": {
    "colab": {},
    "colab_type": "code",
    "id": "-6U-4GjCShGC"
   },
   "outputs": [],
   "source": [
    "# A tokenizer function that also preprocesses the documents\n",
    "import numpy as np\n",
    "import re\n",
    "from nltk.corpus import stopwords\n",
    "\n",
    "def tokenizer(text):\n",
    "    text = re.sub('<[^>]*>', '', text)\n",
    "    emoticons = re.findall('(?::|;|=)(?:-)?(?:\\)|\\(|D|P)', text.lower())\n",
    "    text = re.sub('[\\W]+', ' ', text.lower()) +\\\n",
    "        ' '.join(emoticons).replace('-', '')\n",
    "    tokenized = [w for w in text.split() if w not in stop]\n",
    "    return tokenized\n"
   ]
  },
  {
   "cell_type": "code",
   "execution_count": null,
   "metadata": {
    "colab": {},
    "colab_type": "code",
    "id": "AyuTU3dHShGD"
   },
   "outputs": [],
   "source": [
    "# We need a generator function `stream_docs` that reads in & return one document at a time\n",
    "\n",
    "def stream_docs(path):\n",
    "    with open(path, 'r', encoding='utf-8') as csv:\n",
    "        next(csv) # skip the header\n",
    "        for line in csv:\n",
    "            text, label = line[:-3], int(line[-2])\n",
    "            yield text, label\n"
   ]
  },
  {
   "cell_type": "code",
   "execution_count": null,
   "metadata": {
    "colab": {},
    "colab_type": "code",
    "id": "6d2_QsSTShGG",
    "outputId": "ef808ab6-4822-44de-a2ce-6fbe00d8045c"
   },
   "outputs": [],
   "source": [
    "next(stream_docs(path='video_description_moods.csv'))"
   ]
  },
  {
   "cell_type": "code",
   "execution_count": null,
   "metadata": {
    "colab": {},
    "colab_type": "code",
    "id": "sENXBScvShGN",
    "outputId": "597cf309-4d1b-4668-8ede-a13c0c444af2"
   },
   "outputs": [],
   "source": [
    "# You have to call it with next() to get one document at a time\n",
    "stream_docs(path='video_description_moods.csv')"
   ]
  },
  {
   "cell_type": "code",
   "execution_count": null,
   "metadata": {
    "colab": {},
    "colab_type": "code",
    "id": "kVOBoJ8PShGX",
    "outputId": "b54baec7-8e6c-48ef-d3a0-3dd5941bf3f1"
   },
   "outputs": [],
   "source": [
    "video_description_moods.shape"
   ]
  },
  {
   "cell_type": "code",
   "execution_count": null,
   "metadata": {
    "colab": {},
    "colab_type": "code",
    "id": "kSqr0bnIShGo"
   },
   "outputs": [],
   "source": [
    "def get_minibatch(doc_stream, size):\n",
    "    docs, y = [], []\n",
    "    try:\n",
    "        for _ in range(size):\n",
    "            text, label = next(doc_stream)\n",
    "            docs.append(text)\n",
    "            y.append(label)\n",
    "    except StopIteration:\n",
    "        return None, None\n",
    "    return docs, y\n"
   ]
  },
  {
   "cell_type": "code",
   "execution_count": null,
   "metadata": {
    "colab": {},
    "colab_type": "code",
    "id": "68uBVa9MShGs"
   },
   "outputs": [],
   "source": [
    "from sklearn.feature_extraction.text import HashingVectorizer\n",
    "from sklearn.linear_model import SGDClassifier\n",
    "vect = HashingVectorizer(decode_error='ignore',\n",
    "                        n_features=2**21,\n",
    "                        preprocessor=None,\n",
    "                        tokenizer=tokenizer)\n",
    "clf = SGDClassifier(loss='log', random_state=1, max_iter=1)\n",
    "doc_stream = stream_docs(path='video_description_moods.csv')"
   ]
  },
  {
   "cell_type": "code",
   "execution_count": null,
   "metadata": {
    "colab": {},
    "colab_type": "code",
    "id": "0E5AlstpShGw"
   },
   "outputs": [],
   "source": [
    "import pyprind"
   ]
  },
  {
   "cell_type": "code",
   "execution_count": null,
   "metadata": {
    "colab": {},
    "colab_type": "code",
    "id": "hA892ztCShGy",
    "outputId": "f11b546f-8e7d-4a1a-abc6-6989453f62f0"
   },
   "outputs": [],
   "source": [
    "df_train['moods_enc'].value_counts()"
   ]
  },
  {
   "cell_type": "code",
   "execution_count": null,
   "metadata": {
    "colab": {},
    "colab_type": "code",
    "id": "UzYRPLxCShG4",
    "outputId": "d1fa61ac-c5ac-47cb-d583-fe8ad3dfb04d"
   },
   "outputs": [],
   "source": [
    "pbar = pyprind.ProgBar(1)\n",
    "classes = np.array([0, 1, 2, 3, 4, 5])\n",
    "\n",
    "# get_minibatch return docs, y and they map to X_train, y_train \n",
    "# 'video_description_moods.csv' was made from labeled training_set\n",
    "# We Use 400 here to make a little training set and then use 89 as the test_set\n",
    "#X_train, y_train = get_minibatch(doc_stream, size=400)\n",
    "from sklearn.model_selection import train_test_split\n",
    "\n",
    "X_train, X_test, y_train, y_test = train_test_split(video_description_moods['video_description'],\n",
    "                                                   video_description_moods['moods_enc'], random_state=42)\n",
    "X_train = vect.transform(X_train)\n",
    "clf.fit(X_train, y_train)"
   ]
  },
  {
   "cell_type": "code",
   "execution_count": null,
   "metadata": {
    "colab": {},
    "colab_type": "code",
    "id": "hxlgA4qbShG7",
    "outputId": "c69806cb-7cd1-44aa-9f4d-e3c051a917c4"
   },
   "outputs": [],
   "source": [
    "X_test = vect.transform(X_test)\n",
    "print('Test set accuracy: {:.3f}'.format(clf.score(X_test, y_test)))"
   ]
  },
  {
   "cell_type": "code",
   "execution_count": null,
   "metadata": {
    "colab": {},
    "colab_type": "code",
    "id": "vUY3d3SiShHA",
    "outputId": "697b083f-1e01-4a0c-e89b-670602988d33"
   },
   "outputs": [],
   "source": [
    "pwd"
   ]
  },
  {
   "cell_type": "code",
   "execution_count": null,
   "metadata": {
    "colab": {},
    "colab_type": "code",
    "id": "dr5zBa25ShHR",
    "outputId": "bb2b2626-fabe-4b41-f2e8-e5fa392ac845"
   },
   "outputs": [],
   "source": [
    "from sklearn.linear_model import LogisticRegression\n",
    "\n",
    "lr = LogisticRegression()\n",
    "\n",
    "lr.fit(X_train, y_train)\n"
   ]
  },
  {
   "cell_type": "code",
   "execution_count": null,
   "metadata": {
    "colab": {},
    "colab_type": "code",
    "id": "6DfZzgJNShHT",
    "outputId": "1e755bdc-c9fa-43fa-946c-b1a5882cde89"
   },
   "outputs": [],
   "source": [
    "print('Test set accuracy: {:.3f}'.format(lr.score(X_test, y_test)))"
   ]
  },
  {
   "cell_type": "code",
   "execution_count": null,
   "metadata": {
    "colab": {},
    "colab_type": "code",
    "id": "lv45oMw_ShHW",
    "outputId": "6c7fb1d5-95d0-41d8-a1f6-b66b066925ac"
   },
   "outputs": [],
   "source": [
    "# SGGClassifier\n",
    "clf.partial_fit(X_test, y_test)"
   ]
  },
  {
   "cell_type": "code",
   "execution_count": null,
   "metadata": {
    "colab": {},
    "colab_type": "code",
    "id": "x0DtEJQpShHa"
   },
   "outputs": [],
   "source": [
    "# This SGDClassifier is going to be our pickled model"
   ]
  },
  {
   "cell_type": "code",
   "execution_count": null,
   "metadata": {
    "colab": {},
    "colab_type": "code",
    "id": "ZQKcJ3WxShHd",
    "outputId": "101054a6-b5dc-4c01-bc8e-aaffe442f3d1"
   },
   "outputs": [],
   "source": [
    "type(clf)"
   ]
  },
  {
   "cell_type": "code",
   "execution_count": null,
   "metadata": {
    "colab": {},
    "colab_type": "code",
    "id": "t0_AfG61ShHg"
   },
   "outputs": [],
   "source": [
    "import pickle\n",
    "import os\n",
    "dest = os.path.join('mood_classifier', 'pkl_objects')\n",
    "if not os.path.exists(dest):\n",
    "    os.makedirs(dest)\n",
    "    \n",
    "pickle.dump(stop,\n",
    "           open(os.path.join(dest, 'stopwords.pkl'), 'wb'),\n",
    "           protocol=4)\n",
    "pickle.dump(clf,\n",
    "           open(os.path.join(dest, 'classifier.pkl'), 'wb'),\n",
    "           protocol=4)"
   ]
  },
  {
   "cell_type": "code",
   "execution_count": null,
   "metadata": {
    "colab": {},
    "colab_type": "code",
    "id": "muuz1diMShHj"
   },
   "outputs": [],
   "source": []
  }
 ],
 "metadata": {
  "colab": {
   "name": "first_pass_training_data.ipynb",
   "provenance": [],
   "version": "0.3.2"
  },
  "kernelspec": {
   "display_name": "Python 3",
   "language": "python",
   "name": "python3"
  },
  "language_info": {
   "codemirror_mode": {
    "name": "ipython",
    "version": 3
   },
   "file_extension": ".py",
   "mimetype": "text/x-python",
   "name": "python",
   "nbconvert_exporter": "python",
   "pygments_lexer": "ipython3",
   "version": "3.7.3"
  }
 },
 "nbformat": 4,
 "nbformat_minor": 1
}
